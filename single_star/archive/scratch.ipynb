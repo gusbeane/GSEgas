{
 "cells": [
  {
   "cell_type": "code",
   "execution_count": 2,
   "metadata": {},
   "outputs": [],
   "source": [
    "import numpy as np\n",
    "import importlib\n",
    "import GFM"
   ]
  },
  {
   "cell_type": "code",
   "execution_count": 4,
   "metadata": {},
   "outputs": [],
   "source": [
    "basepath = '/Users/abeane/Projects/GSEgas/box/'\n",
    "yieldpath = basepath + '/tables/Arepo_GFM_Tables_TNG/Yields/'"
   ]
  },
  {
   "cell_type": "code",
   "execution_count": 5,
   "metadata": {},
   "outputs": [],
   "source": [
    "param = GFM.TNGParameters()\n",
    "IMF = GFM.ChabrierIMF(param)\n",
    "LT = GFM.LifeTimes(yieldpath, param)\n",
    "gfm = GFM.GFM(yieldpath, param)"
   ]
  },
  {
   "cell_type": "code",
   "execution_count": 11,
   "metadata": {},
   "outputs": [],
   "source": [
    "Tmax = 10.0\n",
    "dt = 0.01\n",
    "SFR = 2.0\n",
    "Zinit = np.array([   0.76,    0.24, 1.0e-10, 1.0e-10, 1.0e-10,\n",
    "                  1.0e-10, 1.0e-10, 1.0e-10, 1.0e-10, 1.0e-10])\n",
    "\n",
    "tlist = np.arange(0.0, Tmax+dt, dt)\n",
    "sfrlist = np.full_like(tlist, SFR)\n",
    "Zlist = np.zeros((len(tlist), len(Zinit)))\n",
    "Mstar_at_t = np.zeros_like(tlist)\n",
    "FeH_at_t = np.zeros_like(tlist)\n",
    "MgFe_at_t = np.zeros_like(tlist)"
   ]
  },
  {
   "cell_type": "code",
   "execution_count": null,
   "metadata": {},
   "outputs": [],
   "source": [
    "Mgas = 1.0e10\n",
    "\n",
    "for i in range(len(tlist)):\n",
    "    Zlist[i] = Zinit\n",
    "    Zinit = gfm.evolve(t, dt, Zinit, SFR)"
   ]
  },
  {
   "cell_type": "code",
   "execution_count": 13,
   "metadata": {},
   "outputs": [
    {
     "data": {
      "text/plain": [
       "(0.0020393115236338093, 5.010823267711263e-05)"
      ]
     },
     "execution_count": 13,
     "metadata": {},
     "output_type": "execute_result"
    }
   ],
   "source": [
    "gfm.get_total_mass_ejected(0.2, 0.01, 1e-2)"
   ]
  },
  {
   "cell_type": "code",
   "execution_count": 20,
   "metadata": {},
   "outputs": [
    {
     "data": {
      "text/plain": [
       "(4, 11, 13)"
      ]
     },
     "execution_count": 20,
     "metadata": {},
     "output_type": "execute_result"
    }
   ],
   "source": [
    "gfm.SNII.Yield.shape"
   ]
  }
 ],
 "metadata": {
  "kernelspec": {
   "display_name": "Python 3",
   "language": "python",
   "name": "python3"
  },
  "language_info": {
   "codemirror_mode": {
    "name": "ipython",
    "version": 3
   },
   "file_extension": ".py",
   "mimetype": "text/x-python",
   "name": "python",
   "nbconvert_exporter": "python",
   "pygments_lexer": "ipython3",
   "version": "3.11.6"
  }
 },
 "nbformat": 4,
 "nbformat_minor": 2
}
