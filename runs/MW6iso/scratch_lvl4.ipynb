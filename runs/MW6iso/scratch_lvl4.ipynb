{
 "cells": [
  {
   "cell_type": "code",
   "execution_count": 2,
   "id": "efef34b2-6686-4705-96e2-2bcaf82187ad",
   "metadata": {},
   "outputs": [],
   "source": [
    "import h5py as h5\n",
    "import arepo\n",
    "import numpy as np\n",
    "import matplotlib.pyplot as plt\n",
    "import matplotlib as mpl\n",
    "from tqdm import tqdm\n",
    "from scipy.interpolate import interp1d\n",
    "from scipy.stats import binned_statistic_2d"
   ]
  },
  {
   "cell_type": "markdown",
   "id": "fbb5dd03-0696-4b5d-956d-3409277df8d9",
   "metadata": {},
   "source": [
    "this is all for lvl4 runs"
   ]
  },
  {
   "cell_type": "code",
   "execution_count": 84,
   "id": "f878de8a-8f08-42a9-b63a-57653ec537f9",
   "metadata": {},
   "outputs": [
    {
     "name": "stdout",
     "output_type": "stream",
     "text": [
      "loading fbar= 5\n"
     ]
    },
    {
     "name": "stderr",
     "output_type": "stream",
     "text": [
      "100%|██████████| 41/41 [00:06<00:00,  6.61it/s]\n"
     ]
    },
    {
     "name": "stdout",
     "output_type": "stream",
     "text": [
      "loading fbar= 4\n"
     ]
    },
    {
     "name": "stderr",
     "output_type": "stream",
     "text": [
      "100%|██████████| 41/41 [00:48<00:00,  1.18s/it]\n"
     ]
    },
    {
     "name": "stdout",
     "output_type": "stream",
     "text": [
      "loading fbar= 3\n"
     ]
    },
    {
     "name": "stderr",
     "output_type": "stream",
     "text": [
      " 12%|█▏        | 5/41 [00:29<03:34,  5.96s/it]\n"
     ]
    }
   ],
   "source": [
    "fbar_prefix_list = [\n",
    "                    (5, 'lvl5-beta08-fbar008-dens-Z0'),\n",
    "                    (4, 'lvl4-beta08-fbar008-dens-Z0'),\n",
    "                    (3, 'lvl3-beta08-fbar008-dens-Z0'),\n",
    "                    ]\n",
    "\n",
    "fbar_list = [l[0] for l in fbar_prefix_list]\n",
    "prefix_list = [l[1] for l in fbar_prefix_list]\n",
    "\n",
    "idx_list = np.arange(0, 2000+1, 50)\n",
    "\n",
    "sn_fbar = {}\n",
    "for fbar,prefix in zip(fbar_list, prefix_list):\n",
    "    print('loading fbar=', fbar)\n",
    "    sn_fbar[fbar] = {}\n",
    "    sn_fbar[fbar]['idx_list'] = []\n",
    "    \n",
    "    outbase = prefix + '/output'\n",
    "    \n",
    "    for idx in tqdm(idx_list):\n",
    "        try:\n",
    "            sn_fbar[fbar][idx] = arepo.Snapshot(outbase, idx, combineFiles=True)\n",
    "            sn_fbar[fbar]['idx_list'].append(idx)\n",
    "        except:\n",
    "            break\n",
    "    \n",
    "    sn_fbar[fbar]['idx_list'] = np.array(sn_fbar[fbar]['idx_list'])"
   ]
  },
  {
   "cell_type": "code",
   "execution_count": 4,
   "id": "d959fa1c-b420-45ab-8926-15c901bbfd2c",
   "metadata": {},
   "outputs": [],
   "source": [
    "def get_stellar_mass(sn):\n",
    "    if sn.NumPart_Total[4] == 0:\n",
    "        return 0.0\n",
    "    \n",
    "    is_star = sn.GFM_StellarFormationTime > 0\n",
    "    if np.sum(is_star) == 0:\n",
    "        return 0.0\n",
    "    \n",
    "    return np.sum(sn.part4.mass.value[is_star])\n",
    "\n",
    "def weighted_median(values, weights):\n",
    "    i = np.argsort(values)\n",
    "    c = np.cumsum(weights[i])\n",
    "    return values[i[np.searchsorted(c, 0.5 * c[-1])]]\n",
    "\n",
    "def get_halfmass_radius(sn):\n",
    "    pot_min = 0\n",
    "    for pt in [0, 1, 4]:\n",
    "        if sn.NumPart_Total[pt] == 0:\n",
    "            continue\n",
    "        part = getattr(sn, 'part'+str(pt))\n",
    "        if np.min(part.pot.value) < pot_min:\n",
    "            center = part.pos.value[np.argmin(part.pot.value)]\n",
    "            pot_min = np.min(part.pot.value)\n",
    "    \n",
    "    if sn.NumPart_Total[4] == 0:\n",
    "        return np.nan\n",
    "    \n",
    "    pos = sn.part4.pos.value - center\n",
    "    mass = sn.part4.mass.value\n",
    "    r = np.linalg.norm(pos, axis=1)\n",
    "    \n",
    "    is_star = sn.part4.GFM_StellarFormationTime > 0\n",
    "    \n",
    "    rhalf = weighted_median(r[is_star], mass[is_star])\n",
    "    return rhalf"
   ]
  },
  {
   "cell_type": "code",
   "execution_count": 86,
   "id": "b9c9b4e6-9429-44d6-b823-e7338f7e937b",
   "metadata": {},
   "outputs": [],
   "source": [
    "stmass = {}\n",
    "for fbar in fbar_list:\n",
    "    stmass[fbar] = {}\n",
    "    stmass[fbar]['Time'] = []\n",
    "    stmass[fbar]['StellarMass'] = []\n",
    "    stmass[fbar]['HalfMassRadius'] = []\n",
    "    for idx in sn_fbar[fbar]['idx_list']:\n",
    "        stmass[fbar]['Time'].append(sn_fbar[fbar][idx].Time.value)\n",
    "        stmass[fbar]['StellarMass'].append(get_stellar_mass(sn_fbar[fbar][idx]))\n",
    "        stmass[fbar]['HalfMassRadius'].append(get_halfmass_radius(sn_fbar[fbar][idx]))\n",
    "    \n",
    "    for k in stmass[fbar].keys():\n",
    "        stmass[fbar][k] = np.array(stmass[fbar][k])"
   ]
  },
  {
   "cell_type": "code",
   "execution_count": 6,
   "id": "2fa05cfb-cb4d-413a-bc82-e64d177330bf",
   "metadata": {},
   "outputs": [
    {
     "data": {
      "text/plain": [
       "3.75e-06"
      ]
     },
     "execution_count": 6,
     "metadata": {},
     "output_type": "execute_result"
    }
   ],
   "source": [
    "3e-5/8"
   ]
  },
  {
   "cell_type": "code",
   "execution_count": 87,
   "id": "f88fef21-65fc-43f4-a75f-87f8cb47f5aa",
   "metadata": {},
   "outputs": [
    {
     "data": {
      "image/png": "[encoded data removed]",
      "text/plain": [
       "<Figure size 640x480 with 2 Axes>"
      ]
     },
     "metadata": {},
     "output_type": "display_data"
    }
   ],
   "source": [
    "fig, ax = plt.subplots(1, 2, sharex=True)\n",
    "\n",
    "fbar_plot = [5, 4, 3]\n",
    "\n",
    "for fbar in fbar_plot:\n",
    "    ax[0].plot(stmass[fbar]['Time'], stmass[fbar]['StellarMass'], label=fbar)\n",
    "    ax[1].plot(stmass[fbar]['Time'], stmass[fbar]['HalfMassRadius'], label=fbar)\n",
    "\n",
    "ax[0].set(xlim=(0, 10), ylim=(0, 2))\n",
    "ax[0].set(xlabel='T [Gyr]', ylabel='Stellar Mass [1E10 Msun]')\n",
    "\n",
    "ax[0].axhline(0.6, c='k', ls='dashed')\n",
    "ax[0].axvline(3, c='k', ls='dashed')\n",
    "\n",
    "ax[1].set(ylim=(0, 5))\n",
    "ax[1].set(xlabel='T [Gyr]', ylabel='Half Mass Radius [kpc]')\n",
    "\n",
    "asp=1.6\n",
    "ax[0].set_aspect(2.5*asp)\n",
    "ax[1].set_aspect(asp)\n",
    "\n",
    "ax[1].legend(frameon=False)\n",
    "\n",
    "fig.tight_layout()"
   ]
  },
  {
   "cell_type": "code",
   "execution_count": 75,
   "id": "6569174f-162b-4af2-95e9-79f80d8df101",
   "metadata": {},
   "outputs": [],
   "source": [
    "ics3 = arepo.Snapshot('lvl3-beta08-fbar008-dens-Z0/ICs/MW_ICs-beta08-fbar008.dat')\n",
    "# ics3 = arepo.Snapshot('lvl3-beta08-fbar008-dens-Z0/ICs/MW-beta08-fbar008.hdf5')"
   ]
  },
  {
   "cell_type": "code",
   "execution_count": 70,
   "id": "b3152e1b-aae0-4208-9fe1-42a2dd230a8a",
   "metadata": {},
   "outputs": [
    {
     "name": "stdout",
     "output_type": "stream",
     "text": [
      "[ 8.41458298  8.91464836  9.16754828 10.36863276 11.11719521 11.30259449\n",
      " 11.76818258 13.13139233 13.52312076 13.64921859]\n"
     ]
    }
   ],
   "source": [
    "pos0 = np.array([0, 608.839, 561.009])\n",
    "# pos0 -= np.array([1290/2]*3)\n",
    "\n",
    "rdiff = np.linalg.norm(ics3.part0.pos - pos0, axis=1)\n",
    "print(np.sort(rdiff)[:10])"
   ]
  },
  {
   "cell_type": "code",
   "execution_count": 71,
   "id": "b4d8a94d-98fa-4f12-841c-c983c1fe90f7",
   "metadata": {},
   "outputs": [
    {
     "name": "stdout",
     "output_type": "stream",
     "text": [
      "8561996\n",
      "[1290.       608.83905  561.00854]\n"
     ]
    }
   ],
   "source": [
    "k = np.where(ics3.part0.id == 8561997)[0][0]\n",
    "print(k)\n",
    "print(ics3.part0.pos[k])"
   ]
  },
  {
   "cell_type": "code",
   "execution_count": 74,
   "id": "13bd4153-beb2-4f34-bbc4-a5b221235773",
   "metadata": {},
   "outputs": [
    {
     "data": {
      "text/plain": [
       "array([1289.9987 ,  608.83905,  561.00854], dtype=float32)"
      ]
     },
     "execution_count": 74,
     "metadata": {},
     "output_type": "execute_result"
    }
   ],
   "source": [
    "np.clip(ics3.part0.pos, 1e-6, 1290*(1-1e-6))[k]"
   ]
  },
  {
   "cell_type": "code",
   "execution_count": 55,
   "id": "771a822b-ae51-4ac4-a33c-b3eed047987c",
   "metadata": {},
   "outputs": [
    {
     "data": {
      "text/plain": [
       "(array([], dtype=int64),)"
      ]
     },
     "execution_count": 55,
     "metadata": {},
     "output_type": "execute_result"
    }
   ],
   "source": [
    "np.where(ics3.part0.pos[:,0] == 0)"
   ]
  },
  {
   "cell_type": "code",
   "execution_count": 60,
   "id": "14d4c64f-4ce1-46e5-9cb7-d63383675821",
   "metadata": {},
   "outputs": [
    {
     "data": {
      "text/plain": [
       "(array([8561996]),)"
      ]
     },
     "execution_count": 60,
     "metadata": {},
     "output_type": "execute_result"
    }
   ],
   "source": [
    "np.where(ics3.part0.pos[:,0] == 1290)"
   ]
  },
  {
   "cell_type": "code",
   "execution_count": 61,
   "id": "4070b911-47f3-4b6a-88ea-d572a64b5c8c",
   "metadata": {},
   "outputs": [
    {
     "data": {
      "text/plain": [
       "(array([5307261]),)"
      ]
     },
     "execution_count": 61,
     "metadata": {},
     "output_type": "execute_result"
    }
   ],
   "source": [
    "np.where(ics3.part0.pos[:,1] == 0)"
   ]
  },
  {
   "cell_type": "code",
   "execution_count": 62,
   "id": "bdfcc73b-6a54-40d1-a990-214bf87af1b9",
   "metadata": {},
   "outputs": [
    {
     "data": {
      "text/plain": [
       "(array([], dtype=int64),)"
      ]
     },
     "execution_count": 62,
     "metadata": {},
     "output_type": "execute_result"
    }
   ],
   "source": [
    "np.where(ics3.part0.pos[:,1] == 1290)"
   ]
  },
  {
   "cell_type": "code",
   "execution_count": 63,
   "id": "e94c9067-cf4b-4afd-b8c5-b9ddebf36d26",
   "metadata": {},
   "outputs": [
    {
     "data": {
      "text/plain": [
       "(array([], dtype=int64),)"
      ]
     },
     "execution_count": 63,
     "metadata": {},
     "output_type": "execute_result"
    }
   ],
   "source": [
    "np.where(ics3.part0.pos[:,2] == 0)"
   ]
  },
  {
   "cell_type": "code",
   "execution_count": 64,
   "id": "0c03fe86-ce3d-430e-9d4b-66e5a430cddc",
   "metadata": {},
   "outputs": [
    {
     "data": {
      "text/plain": [
       "(array([], dtype=int64),)"
      ]
     },
     "execution_count": 64,
     "metadata": {},
     "output_type": "execute_result"
    }
   ],
   "source": [
    "np.where(ics3.part0.pos[:,2] == 1290)"
   ]
  },
  {
   "cell_type": "code",
   "execution_count": 52,
   "id": "a7c938ed-1003-4aeb-a7b7-c0579cbb05dc",
   "metadata": {},
   "outputs": [
    {
     "data": {
      "text/plain": [
       "0.768748762634595"
      ]
     },
     "execution_count": 52,
     "metadata": {},
     "output_type": "execute_result"
    }
   ],
   "source": [
    "8561997/ics3.NumPart_Total[0]"
   ]
  },
  {
   "cell_type": "code",
   "execution_count": 78,
   "id": "8a9994a3-eb77-48b2-a43d-28de2271e05c",
   "metadata": {},
   "outputs": [
    {
     "data": {
      "text/plain": [
       "0.0"
      ]
     },
     "execution_count": 78,
     "metadata": {},
     "output_type": "execute_result"
    }
   ],
   "source": [
    "ics3.BoxSize"
   ]
  },
  {
   "cell_type": "code",
   "execution_count": null,
   "id": "37d48c11-5e2a-4ab6-94f7-527624773267",
   "metadata": {},
   "outputs": [],
   "source": []
  }
 ],
 "metadata": {
  "kernelspec": {
   "display_name": "Python [conda env:.conda-note]",
   "language": "python",
   "name": "conda-env-.conda-note-py"
  },
  "language_info": {
   "codemirror_mode": {
    "name": "ipython",
    "version": 3
   },
   "file_extension": ".py",
   "mimetype": "text/x-python",
   "name": "python",
   "nbconvert_exporter": "python",
   "pygments_lexer": "ipython3",
   "version": "3.10.12"
  }
 },
 "nbformat": 4,
 "nbformat_minor": 5
}
