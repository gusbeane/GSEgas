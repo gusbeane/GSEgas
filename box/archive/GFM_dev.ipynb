{
 "cells": [
  {
   "cell_type": "code",
   "execution_count": 1,
   "metadata": {},
   "outputs": [],
   "source": [
    "import numpy as np\n",
    "from numpy.lib import recfunctions as rfn\n",
    "import matplotlib.pyplot as plt\n",
    "from numba import njit\n",
    "from tqdm.notebook import tqdm\n",
    "import h5py as h5\n",
    "\n",
    "import importlib\n",
    "import GFM\n",
    "from pygsl import spline\n",
    "import warnings"
   ]
  },
  {
   "cell_type": "code",
   "execution_count": 186,
   "metadata": {},
   "outputs": [],
   "source": [
    "from sys import platform\n",
    "if platform == 'darwin':\n",
    "    basepath = '/Users/abeane/Projects/nft/'\n",
    "else:\n",
    "    pass\n",
    "\n",
    "yieldpath = basepath + '/tables/Arepo_GFM_Tables_TNG/Yields/'"
   ]
  },
  {
   "cell_type": "code",
   "execution_count": 51,
   "metadata": {},
   "outputs": [],
   "source": [
    "importlib.reload(GFM)\n",
    "importlib.reload(GFM.util)\n",
    "param = GFM.TNGParameters()\n",
    "IMF = GFM.ChabrierIMF(param)\n",
    "LT = GFM.LifeTimes(yieldpath, param)\n",
    "\n",
    "# SNII = GFM.yieldSNII_AGB(yieldpath, param, IMF, SNII=True)\n",
    "# AGB = GFM.yieldSNII_AGB(yieldpath, param, IMF, AGB=True)\n",
    "# SNIa = GFM.yieldSNIa(yieldpath, param)\n",
    "gfm = GFM.GFM(yieldpath, param)"
   ]
  },
  {
   "cell_type": "code",
   "execution_count": 52,
   "metadata": {},
   "outputs": [
    {
     "data": {
      "text/plain": [
       "(0.021424748612776223, 0.0022612173985372868)"
      ]
     },
     "execution_count": 52,
     "metadata": {},
     "output_type": "execute_result"
    }
   ],
   "source": [
    "gfm.get_total_mass_ejected(0.01, 0.005, 0.0127)"
   ]
  },
  {
   "cell_type": "code",
   "execution_count": 42,
   "metadata": {},
   "outputs": [
    {
     "name": "stdout",
     "output_type": "stream",
     "text": [
      "x = [[ 0.   2.5  5.   7.5 10. ]\n",
      " [ 1.   3.5  6.   8.5 11. ]]\n",
      "y = [[2. 2. 2. 2. 2.]\n",
      " [2. 2. 2. 2. 2.]]\n",
      "xmin = [0.2 5.2]\n",
      "xmax = [8. 7.]\n",
      "[15.6  3.6]\n"
     ]
    }
   ],
   "source": [
    "importlib.reload(GFM)\n",
    "importlib.reload(GFM.util)\n",
    "x = np.vstack((np.linspace(0, 10, 5), np.linspace(1, 11, 5)))\n",
    "y = np.full(x.shape, 2.0)\n",
    "# x0 = np.array([0.2, 5.2, -0.5, 11])\n",
    "xmin = np.array([0.2, 5.2])\n",
    "xmax = np.array([8., 7.])\n",
    "print('x =', x)\n",
    "print('y =', y)\n",
    "print('xmin =', xmin)\n",
    "print('xmax =', xmax)\n",
    "\n",
    "result = GFM.util.trap_integrate(x, y, xmin, xmax, 2.5)\n",
    "\n",
    "print(result)\n",
    "\n",
    "\n"
   ]
  },
  {
   "cell_type": "code",
   "execution_count": 178,
   "metadata": {},
   "outputs": [
    {
     "name": "stderr",
     "output_type": "stream",
     "text": [
      "100%|██████████| 1584/1584 [00:25<00:00, 62.81it/s]\n",
      "100%|██████████| 1/1 [00:00<00:00, 42.66it/s]\n"
     ]
    },
    {
     "name": "stdout",
     "output_type": "stream",
     "text": [
      "0.0034420701054220905\n",
      "call with frac time\n",
      "0.0009949999589881793 0.00019735560716066012 0.19834735205552378\n",
      "call on frac\n"
     ]
    },
    {
     "name": "stderr",
     "output_type": "stream",
     "text": [
      "100%|██████████| 1/1 [00:00<00:00, 38.16it/s]\n",
      "100%|██████████| 1/1 [00:00<00:00, 37.16it/s]"
     ]
    },
    {
     "name": "stdout",
     "output_type": "stream",
     "text": [
      "1.0000023809820178e-05 1.9728397292967953e-06 0.197283503201206\n",
      "call on time\n",
      "1.2998768424959394e-06 2.564442572176504e-07 0.1972835032011515\n"
     ]
    },
    {
     "name": "stderr",
     "output_type": "stream",
     "text": [
      "\n"
     ]
    }
   ],
   "source": [
    "importlib.reload(GFM)\n",
    "gfm = GFM.GFM(yieldpath, param)\n",
    "\n",
    "# frac = np.linspace(0, 0.2, 4)\n",
    "# z = np.full(frac.shape, 0.0127)\n",
    "\n",
    "frac = 0\n",
    "z = 0.03\n",
    "\n",
    "frac = 0.001\n",
    "df = 0.01 * frac\n",
    "z = 0.01583419\n",
    "\n",
    "tau = gfm.get_time_of_frac(frac-df/2., z)\n",
    "print(tau)\n",
    "print('call with frac time')\n",
    "mej, met = gfm.get_total_mass_ejected(0, tau, z)\n",
    "# print(mej)\n",
    "print(mej, met, met/mej)\n",
    "# gfm.get_total_mass_ejected_at_frac(0.01, 0.051, 0.0127)\n",
    "\n",
    "print('call on frac')\n",
    "mej, met = gfm.get_total_mass_ejected_at_frac(frac-df/2., frac+df/2., z)\n",
    "print(mej, met, met/mej)\n",
    "\n",
    "print('call on time')\n",
    "mej, met = gfm.get_total_mass_ejected(tau, 4.9e-8, z)\n",
    "print(mej, met, met/mej)\n",
    "\n",
    "# gfm._z_bins[7]\n",
    "\n",
    "# print(gfm._cum_eject[6])\n",
    "# print(gfm._z_bins[6])\n",
    "# print(gfm._logtau_bins)\n",
    "\n",
    "# print(np.min(gfm._cum_eject))"
   ]
  },
  {
   "cell_type": "code",
   "execution_count": 180,
   "metadata": {},
   "outputs": [
    {
     "data": {
      "text/plain": [
       "array([[0.11894957]])"
      ]
     },
     "execution_count": 180,
     "metadata": {},
     "output_type": "execute_result"
    }
   ],
   "source": [
    "gfm.get_tracer_metallicity(0.1, 0.0127)"
   ]
  },
  {
   "cell_type": "code",
   "execution_count": null,
   "metadata": {},
   "outputs": [],
   "source": [
    "arr = np.array([1, 2, 3])\n",
    "\n",
    "val = 'arr'"
   ]
  },
  {
   "cell_type": "code",
   "execution_count": 184,
   "metadata": {},
   "outputs": [
    {
     "ename": "TypeError",
     "evalue": "int() argument must be a string, a bytes-like object or a real number, not 'dict'",
     "output_type": "error",
     "traceback": [
      "\u001b[0;31m---------------------------------------------------------------------------\u001b[0m",
      "\u001b[0;31mTypeError\u001b[0m                                 Traceback (most recent call last)",
      "Cell \u001b[0;32mIn[184], line 9\u001b[0m\n\u001b[1;32m      4\u001b[0m arrays \u001b[38;5;241m=\u001b[39m {\u001b[38;5;124m'\u001b[39m\u001b[38;5;124ma\u001b[39m\u001b[38;5;124m'\u001b[39m: a, \u001b[38;5;124m'\u001b[39m\u001b[38;5;124mb\u001b[39m\u001b[38;5;124m'\u001b[39m: b, \u001b[38;5;124m'\u001b[39m\u001b[38;5;124mc\u001b[39m\u001b[38;5;124m'\u001b[39m: c}\n\u001b[1;32m      6\u001b[0m dtypes \u001b[38;5;241m=\u001b[39m {\u001b[38;5;124m'\u001b[39m\u001b[38;5;124mnames\u001b[39m\u001b[38;5;124m'\u001b[39m: \u001b[38;5;28mlist\u001b[39m(arrays\u001b[38;5;241m.\u001b[39mkeys()),\n\u001b[1;32m      7\u001b[0m           \u001b[38;5;124m'\u001b[39m\u001b[38;5;124mformats\u001b[39m\u001b[38;5;124m'\u001b[39m: ([arrays[key]\u001b[38;5;241m.\u001b[39mdtype \u001b[38;5;28;01mfor\u001b[39;00m key \u001b[38;5;129;01min\u001b[39;00m arrays\u001b[38;5;241m.\u001b[39mkeys()])}\n\u001b[0;32m----> 9\u001b[0m tot \u001b[38;5;241m=\u001b[39m \u001b[43mnp\u001b[49m\u001b[38;5;241;43m.\u001b[39;49m\u001b[43marray\u001b[49m\u001b[43m(\u001b[49m\u001b[43marrays\u001b[49m\u001b[43m,\u001b[49m\u001b[43m \u001b[49m\u001b[43mdtype\u001b[49m\u001b[38;5;241;43m=\u001b[39;49m\u001b[43mdtypes\u001b[49m\u001b[43m)\u001b[49m\n",
      "\u001b[0;31mTypeError\u001b[0m: int() argument must be a string, a bytes-like object or a real number, not 'dict'"
     ]
    }
   ],
   "source": [
    "a = np.array([1, 2, 3])\n",
    "b = np.array([1., 2., 3.])\n",
    "c = np.array(['a', 'b', 'c'])\n",
    "arrays = {'a': a, 'b': b, 'c': c}\n",
    "\n",
    "dtypes = {'names': list(arrays.keys()),\n",
    "          'formats': ([arrays[key].dtype for key in arrays.keys()])}\n",
    "\n",
    "tot = np.array(arrays, dtype=dtypes)"
   ]
  },
  {
   "cell_type": "code",
   "execution_count": 144,
   "metadata": {},
   "outputs": [
    {
     "data": {
      "text/plain": [
       "[<matplotlib.lines.Line2D at 0x13fa54d50>]"
      ]
     },
     "execution_count": 144,
     "metadata": {},
     "output_type": "execute_result"
    },
    {
     "data": {
      "image/png": "[encoded data removed]",
      "text/plain": [
       "<Figure size 640x480 with 1 Axes>"
      ]
     },
     "metadata": {},
     "output_type": "display_data"
    }
   ],
   "source": [
    "tau = np.linspace(0.003, 0.1, 1000)\n",
    "tau0 = np.full_like(tau, 1e-12)\n",
    "z = np.full(tau.shape, 0.0127)\n",
    "mej, met = gfm.get_total_mass_ejected(tau0, tau, z)\n",
    "\n",
    "plt.plot(tau, mej)"
   ]
  },
  {
   "cell_type": "code",
   "execution_count": null,
   "metadata": {},
   "outputs": [],
   "source": []
  },
  {
   "cell_type": "code",
   "execution_count": 63,
   "metadata": {},
   "outputs": [
    {
     "data": {
      "text/plain": [
       "1e+99"
      ]
     },
     "execution_count": 63,
     "metadata": {},
     "output_type": "execute_result"
    }
   ],
   "source": [
    "np.clip(1e99, 10, None)"
   ]
  },
  {
   "cell_type": "code",
   "execution_count": 38,
   "metadata": {},
   "outputs": [
    {
     "name": "stdout",
     "output_type": "stream",
     "text": [
      "Amesh:\n",
      "[[1 1 1]\n",
      " [2 2 2]\n",
      " [3 3 3]]\n",
      "\n",
      "Bmesh:\n",
      "[[44 12 17]\n",
      " [44 12 17]\n",
      " [44 12 17]]\n",
      "\n",
      "C:\n",
      "[[45 13 18]\n",
      " [46 14 19]\n",
      " [47 15 20]]\n",
      "19 19\n"
     ]
    }
   ],
   "source": [
    "import numpy as np\n",
    "\n",
    "# Example function\n",
    "def func(a, b):\n",
    "    return a + b  # Replace with your actual function\n",
    "\n",
    "# Example arrays A and B\n",
    "A = np.array([1, 2, 3])\n",
    "B = np.array([44, 12, 17])\n",
    "\n",
    "# Create mesh grids for A and B\n",
    "Amesh, Bmesh = np.meshgrid(A, B, indexing='ij')\n",
    "\n",
    "# Flatten the mesh grids to obtain 1D arrays\n",
    "Amesh_flat = Amesh.flatten()\n",
    "Bmesh_flat = Bmesh.flatten()\n",
    "\n",
    "# Apply the function to obtain Cmesh\n",
    "Cmesh = func(Amesh_flat, Bmesh_flat)\n",
    "\n",
    "# Reshape Cmesh into C with shape (len(A), len(B))\n",
    "C = Cmesh.reshape(len(A), len(B))\n",
    "\n",
    "# Print the results\n",
    "print(\"Amesh:\")\n",
    "print(Amesh)\n",
    "print(\"\\nBmesh:\")\n",
    "print(Bmesh)\n",
    "print(\"\\nC:\")\n",
    "print(C)\n",
    "\n",
    "print(A[1]+B[2], C[1,2])\n"
   ]
  },
  {
   "cell_type": "code",
   "execution_count": 187,
   "metadata": {},
   "outputs": [],
   "source": [
    "gfm_test = np.genfromtxt(basepath + 'iso/runs/dev/lvl6-MCnft/output-test/stellar_evolution_3.dat')"
   ]
  },
  {
   "cell_type": "code",
   "execution_count": 193,
   "metadata": {},
   "outputs": [
    {
     "name": "stderr",
     "output_type": "stream",
     "text": [
      "/var/folders/6p/hll0pcr53rx1zjv426_y3zyr0000gn/T/ipykernel_22113/3289013275.py:8: RuntimeWarning: invalid value encountered in divide\n",
      "  plt.plot(age_in_Gyr, tot_metal/tot_metal_from_metals)\n"
     ]
    },
    {
     "data": {
      "text/plain": [
       "[<matplotlib.lines.Line2D at 0x28cee9c10>]"
      ]
     },
     "execution_count": 193,
     "metadata": {},
     "output_type": "execute_result"
    },
    {
     "data": {
      "image/png": "[encoded data removed]",
      "text/plain": [
       "<Figure size 640x480 with 1 Axes>"
      ]
     },
     "metadata": {},
     "output_type": "display_data"
    }
   ],
   "source": [
    "age_in_Gyr = gfm_test[:,0]\n",
    "tot_metal = gfm_test[:,3]\n",
    "metals = gfm_test[:,6:]\n",
    "tot_metal_from_metals = np.sum(metals, axis=1)\n",
    "\n",
    "# plt.plot(age_in_Gyr, tot_metal)\n",
    "# plt.plot(age_in_Gyr, tot_metal_from_metals)\n",
    "plt.plot(age_in_Gyr, tot_metal/tot_metal_from_metals)"
   ]
  },
  {
   "cell_type": "code",
   "execution_count": 195,
   "metadata": {},
   "outputs": [],
   "source": [
    "importlib.reload(GFM)\n",
    "importlib.reload(GFM.util)\n",
    "param = GFM.TNGParameters()\n",
    "IMF = GFM.ChabrierIMF(param)\n",
    "LT = GFM.LifeTimes(yieldpath, param)\n",
    "\n",
    "SNII = GFM.yieldSNII_AGB(yieldpath, param, IMF, SNII=True)\n",
    "# AGB = GFM.yieldSNII_AGB(yieldpath, param, IMF, AGB=True)\n",
    "# SNIa = GFM.yieldSNIa(yieldpath, param)\n",
    "# gfm = GFM.GFM(yieldpath, param)"
   ]
  },
  {
   "cell_type": "code",
   "execution_count": 238,
   "metadata": {},
   "outputs": [
    {
     "data": {
      "text/plain": [
       "array([0.00538209, 0.00613783, 0.00818757, 0.00584478, 0.00891745,\n",
       "       0.0612704 , 0.01276346, 0.02327336, 0.0125585 , 0.01655388,\n",
       "       0.05249057, 0.09673889, 0.18132713], dtype=float32)"
      ]
     },
     "execution_count": 238,
     "metadata": {},
     "output_type": "execute_result"
    }
   ],
   "source": [
    "data = h5.File(yieldpath + 'SNII.hdf5', mode='r')\n",
    "data['Yields']['Z_0.004']['Yield'][3]"
   ]
  },
  {
   "cell_type": "code",
   "execution_count": 249,
   "metadata": {},
   "outputs": [
    {
     "name": "stdout",
     "output_type": "stream",
     "text": [
      "5.3476934\n",
      "5.482602\n",
      "5.608000709533691\n"
     ]
    }
   ],
   "source": [
    "# print(np.sum(data['Yields']['Z_0.004']['Yield'][2:], axis=0))\n",
    "print(np.sum(data['Yields']['Z_0.004']['Yield'][2:,10]))\n",
    "# print(np.sum(data['Yields']['Z_0.004']['Yield'], axis=0)) # equals 0\n",
    "print(data['Yields']['Z_0.004']['Total_Metals'][10])\n",
    "print(0.004 * data['Yields']['Z_0.004']['Ejected_mass'][10] + data['Yields']['Z_0.004']['Total_Metals'][10])"
   ]
  },
  {
   "cell_type": "code",
   "execution_count": 247,
   "metadata": {},
   "outputs": [
    {
     "data": {
      "text/plain": [
       "31.349648"
      ]
     },
     "execution_count": 247,
     "metadata": {},
     "output_type": "execute_result"
    }
   ],
   "source": [
    "# data['Yields']['Z_0.004']['Total_Metals'].shape\n",
    "data['Yields']['Z_0.004']['Ejected_mass'][10]"
   ]
  },
  {
   "cell_type": "code",
   "execution_count": 246,
   "metadata": {},
   "outputs": [
    {
     "data": {
      "text/plain": [
       "<KeysViewHDF5 ['Ejected_mass', 'Total_Metals', 'Yield']>"
      ]
     },
     "execution_count": 246,
     "metadata": {},
     "output_type": "execute_result"
    }
   ],
   "source": [
    "data['Yields']['Z_0.004'].keys()"
   ]
  }
 ],
 "metadata": {
  "kernelspec": {
   "display_name": "Python 3",
   "language": "python",
   "name": "python3"
  },
  "language_info": {
   "codemirror_mode": {
    "name": "ipython",
    "version": 3
   },
   "file_extension": ".py",
   "mimetype": "text/x-python",
   "name": "python",
   "nbconvert_exporter": "python",
   "pygments_lexer": "ipython3",
   "version": "3.11.6"
  }
 },
 "nbformat": 4,
 "nbformat_minor": 2
}
