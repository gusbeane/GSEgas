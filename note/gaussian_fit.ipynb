{
 "cells": [
  {
   "cell_type": "code",
   "execution_count": 9,
   "id": "644c063d-99b9-4366-a8f5-304eecb93df4",
   "metadata": {},
   "outputs": [],
   "source": [
    "import numpy as np\n",
    "from sklearn.mixture import GaussianMixture\n",
    "from scipy.stats import norm\n",
    "from scipy.integrate import quad\n",
    "\n",
    "import h5py as h5\n",
    "import arepo\n",
    "import matplotlib.pyplot as plt\n",
    "import matplotlib as mpl\n",
    "from tqdm import tqdm\n",
    "from scipy.interpolate import interp1d\n",
    "from scipy.stats import binned_statistic_2d\n",
    "from numba import njit\n",
    "import os\n",
    "from joblib import Parallel, delayed\n",
    "import warnings\n",
    "from scipy.interpolate import CubicSpline\n",
    "from scipy.stats import norm\n",
    "\n",
    "from astropy.io import fits\n",
    "import astropy.coordinates as coord\n",
    "import astropy.units as u\n",
    "\n",
    "basepath = '/n/holylfs05/LABS/hernquist_lab/Users/abeane/GSEgas/'\n",
    "\n",
    "import sys\n",
    "sys.path.append(basepath+'note/')\n",
    "import galaxy\n",
    "\n",
    "from scipy.ndimage import gaussian_filter\n",
    "\n",
    "import illustris_python as il\n",
    "TNGbase = '/n/holylfs05/LABS/hernquist_lab/IllustrisTNG/Runs/L35n2160TNG/output/'"
   ]
  },
  {
   "cell_type": "code",
   "execution_count": 2,
   "id": "659b7abe-8f83-4066-bd6e-31a555d865e9",
   "metadata": {},
   "outputs": [],
   "source": [
    "mpl.rc('text', usetex=True)\n",
    "mpl.rc('text.latex', preamble=r\"\"\"\n",
    "\\usepackage{amsmath}\n",
    "\"\"\")\n",
    "# mpl.rcParams.update({'font.size': 22})\n",
    "# mpl.rcParams['text.latex.preamble'] = [r'\\usepackage{amsmath}']\n",
    "# color palette\n",
    "tb_c = ['#4e79a7', '#f28e2b', '#e15759', '#76b7b2', '#59a14f',\n",
    "        '#edc948', '#b07aa1', '#ff9da7', '#9c755f', '#bab0ac']\n",
    "\n",
    "columnwidth = 242.26653 / 72.27 # converts pts to inches\n",
    "textwidth = 513.11743 / 72.27\n",
    "\n",
    "mpl.rcParams.update({'font.size': 8})"
   ]
  },
  {
   "cell_type": "code",
   "execution_count": 3,
   "id": "bf673ad4-83b0-40b5-9ff5-c1570c3d0d31",
   "metadata": {},
   "outputs": [],
   "source": [
    "GFM_SOLAR_ABUNDANCE_HYDROGEN = 0.7388\n",
    "GFM_SOLAR_ABUNDANCE_MAGNESIUM = 0.0007\n",
    "GFM_SOLAR_ABUNDANCE_IRON   =   0.0013"
   ]
  },
  {
   "cell_type": "code",
   "execution_count": 4,
   "id": "e81a65b8-a602-48e9-ad47-fbe770f06190",
   "metadata": {},
   "outputs": [],
   "source": [
    "def load_galaxy(sim, sd=None, idx=320):\n",
    "    if sim=='iso':\n",
    "        key = 'lvl4-Ngb64'\n",
    "        output_dir = basepath + 'runs/MW7iso/'+ key + '/output'\n",
    "    elif sd is not None:\n",
    "        key = 'lvl4-sd'+str(sd)\n",
    "        output_dir = basepath + 'runs/MW7_GSE4-Rs'+sim[0]+'-Vv'+sim[1]+'-ecc'+sim[2]+'-lvl4/' + key + '/output'\n",
    "    else:\n",
    "        key = 'lvl4-'+'Rs'+sim[0]+'-Vv'+sim[1]+'-e'+sim[2]\n",
    "        output_dir = basepath + 'runs/MW7_GSE4-eRVgrid-lvl4/' + key + '/output'\n",
    "    return galaxy.Galaxy(output_dir, idx, orient=True)"
   ]
  },
  {
   "cell_type": "code",
   "execution_count": 5,
   "id": "82504ff0-9713-4309-b1bf-e3f4d292cb81",
   "metadata": {},
   "outputs": [
    {
     "name": "stderr",
     "output_type": "stream",
     "text": [
      "100%|██████████| 3/3 [00:53<00:00, 17.90s/it]\n"
     ]
    }
   ],
   "source": [
    "allgal = {}\n",
    "for Rs in tqdm(['116', '129', '142'], leave=True, position=0):\n",
    "    allgal[Rs] = {}\n",
    "    for Vv in ['116', '129', '142']:\n",
    "        allgal[Rs][Vv] = {}\n",
    "        for ecc in ['04', '05', '06']:\n",
    "            sim = (Rs, Vv, ecc)\n",
    "            allgal[Rs][Vv][ecc] = load_galaxy(sim)\n",
    "            \n",
    "allgal['iso'] = load_galaxy('iso')"
   ]
  },
  {
   "cell_type": "code",
   "execution_count": 6,
   "id": "3af8b627-978e-44dc-a02d-ffa63402b6f6",
   "metadata": {},
   "outputs": [],
   "source": [
    "def extract_sim_data(gal, no_SN=False):\n",
    "    sn = gal.sn\n",
    "    \n",
    "    ### get logFeH and logMgFe ###\n",
    "    FeH = sn.part4.GFM_Metals[:,8] / GFM_SOLAR_ABUNDANCE_IRON\n",
    "    MgH = sn.part4.GFM_Metals[:,6] / GFM_SOLAR_ABUNDANCE_MAGNESIUM\n",
    "    \n",
    "    logFeH = np.log10(FeH)\n",
    "    logMgH = np.log10(MgH)\n",
    "    logMgFe = logMgH - logFeH\n",
    "\n",
    "    ### get in_SN ###\n",
    "    Lzsun = 8 * 220 * 0.2\n",
    "    zmax = 3\n",
    "    dLz = 0.3\n",
    "    \n",
    "    Lz = np.cross(sn.part4.rotpos, sn.part4.rotvel)[:,2]\n",
    "    in_SN = np.logical_and(np.abs((Lz/Lzsun)-1) < dLz, np.abs(sn.part4.rotpos[:,2]) < zmax)\n",
    "    \n",
    "    if no_SN:\n",
    "        mask = np.full_like(in_SN, True)\n",
    "    else:\n",
    "        mask = in_SN\n",
    "    \n",
    "    ### get tform ###\n",
    "    tform = sn.part4.GFM_StellarFormationTime\n",
    "    keybool = np.logical_and(mask, tform > 0)\n",
    "    \n",
    "    out = {}\n",
    "    out['logFeH'] = logFeH[mask]\n",
    "    out['logMgFe'] = logMgFe[mask]\n",
    "    out['GFM_StellarFormationTime'] = sn.part4.GFM_StellarFormationTime[mask]\n",
    "    out['BirthMass'] = sn.part4.GFM_InitialMass[mask]\n",
    "    # out['Pos'] = sn.part4.Coordinates[mask]\n",
    "    # out['BirthPos'] = sn.part4.BirthPos[mask]\n",
    "    out['in_SN'] = in_SN\n",
    "    \n",
    "    # load com as fn of time\n",
    "    # time, com0, com1 = find_com(sd)\n",
    "    # com = np.load('centering/sim_'+sim[0]+'_'+sim[1]+'_'+sim[2]+'_seed'+str(sd)+'.npy', allow_pickle=True).item()\n",
    "    # out['COM'] = {}\n",
    "    # for k in com.keys():\n",
    "        # out['COM'][k] = com[k]\n",
    "    \n",
    "    return out"
   ]
  },
  {
   "cell_type": "code",
   "execution_count": 7,
   "id": "6d8e9d0d-8091-4630-8825-db3b6b1756e5",
   "metadata": {},
   "outputs": [
    {
     "name": "stderr",
     "output_type": "stream",
     "text": [
      "100%|██████████| 3/3 [00:00<00:00,  5.27it/s]\n"
     ]
    }
   ],
   "source": [
    "allsimdat = {}\n",
    "for Rs in tqdm(['116', '129', '142'], leave=True, position=0):\n",
    "    allsimdat[Rs] = {}\n",
    "    for Vv in ['116', '129', '142']:\n",
    "        allsimdat[Rs][Vv] = {}\n",
    "        for ecc in ['04', '05', '06']:\n",
    "            sim = (Rs, Vv, ecc)\n",
    "            allsimdat[Rs][Vv][ecc] = extract_sim_data(allgal[Rs][Vv][ecc], no_SN=True)\n",
    "\n",
    "allsimdat['iso'] = extract_sim_data(allgal['iso'], no_SN=True)"
   ]
  },
  {
   "cell_type": "code",
   "execution_count": 13,
   "id": "d226f455-8f85-4c24-ad2e-412af12324b4",
   "metadata": {},
   "outputs": [],
   "source": [
    "def get_gaussian_fit(simdat, dt=0.2, logFeH0 = 0, dlogFeH = 0.1):\n",
    "    tform   = simdat['GFM_StellarFormationTime']\n",
    "    logMgFe = simdat['logMgFe']\n",
    "    logFeH  = simdat['logFeH']\n",
    "    \n",
    "    mask = np.logical_and(logFeH > logFeH0 - dlogFeH/2., logFeH < logFeH0 + dlogFeH/2.)\n",
    "    mask = np.logical_and(mask, simdat['in_SN'])\n",
    "    \n",
    "    tbins = np.arange(0, 8+dt, dt)\n",
    "    tcen = 0.5 * (tbins[1:] + tbins[:-1])\n",
    "    \n",
    "    mu_list = []\n",
    "    sigma_list = []\n",
    "    amp_list = []\n",
    "    \n",
    "    for t0 in tbins[:-1]:\n",
    "        mask_att0 = np.logical_and(tform > t0, tform < t0 + dt)\n",
    "        mask_att0 = np.logical_and(mask, mask_att0)\n",
    "        \n",
    "        amp = np.sum(mask_att0)\n",
    "        if amp > 10:\n",
    "            mu, sigma = norm.fit(logMgFe[mask_att0])\n",
    "        else:\n",
    "            mu, sigma = np.nan, np.nan\n",
    "        \n",
    "        mu_list.append(mu)\n",
    "        sigma_list.append(sigma)\n",
    "        amp_list.append(amp)\n",
    "    \n",
    "    out = {}\n",
    "    out['tcen'] = np.array(tcen)\n",
    "    out['mu'] = np.array(mu_list)\n",
    "    out['sigma'] = np.array(sigma_list)\n",
    "    out['amp'] = np.array(amp_list)\n",
    "    \n",
    "    return out\n",
    "    "
   ]
  },
  {
   "cell_type": "code",
   "execution_count": 19,
   "id": "53dbd034-dfd0-45b0-b3ea-c7f75a853c40",
   "metadata": {},
   "outputs": [
    {
     "name": "stderr",
     "output_type": "stream",
     "text": [
      "100%|██████████| 3/3 [00:00<00:00,  5.05it/s]\n"
     ]
    }
   ],
   "source": [
    "allgaussfit = {}\n",
    "for Rs in tqdm(['116', '129', '142'], leave=True, position=0):\n",
    "    allgaussfit[Rs] = {}\n",
    "    for Vv in ['116', '129', '142']:\n",
    "        allgaussfit[Rs][Vv] = {}\n",
    "        for ecc in ['04', '05', '06']:\n",
    "            sim = (Rs, Vv, ecc)\n",
    "            allgaussfit[Rs][Vv][ecc] = get_gaussian_fit(allsimdat[Rs][Vv][ecc])\n",
    "\n",
    "allgaussfit['iso'] = get_gaussian_fit(allsimdat['iso'])"
   ]
  },
  {
   "cell_type": "code",
   "execution_count": null,
   "id": "ff4c2f70-dbdb-4819-9886-5e8b2a0a96ec",
   "metadata": {},
   "outputs": [],
   "source": []
  },
  {
   "cell_type": "code",
   "execution_count": 39,
   "id": "42061bf2-5bde-4e78-9936-bacd03df1315",
   "metadata": {},
   "outputs": [
    {
     "data": {
      "text/plain": [
       "[(0.0, 817.95)]"
      ]
     },
     "execution_count": 39,
     "metadata": {},
     "output_type": "execute_result"
    },
    {
     "data": {
      "image/png": "[encoded data removed]",
      "text/plain": [
       "<Figure size 710.001x568 with 1 Axes>"
      ]
     },
     "metadata": {},
     "output_type": "display_data"
    }
   ],
   "source": [
    "sim_uni = ('129', '116', '05')\n",
    "sim_bi  = ('116', '142', '05')\n",
    "\n",
    "gfit_uni = allgaussfit[sim_uni[0]][sim_uni[1]][sim_uni[2]]\n",
    "gfit_bi  = allgaussfit[sim_bi[0]][sim_bi[1]][sim_bi[2]]\n",
    "\n",
    "fig, ax = plt.subplots(1, 1, figsize=(textwidth, 0.8*textwidth))\n",
    "\n",
    "# ax.plot(gfit_uni['tcen'], gfit_uni['mu']/gfit_uni['sigma'], c=tb_c[0])\n",
    "# ax.plot(gfit_uni['tcen'], gfit_bi['mu']/gfit_bi['sigma'], c=tb_c[0], ls='dashed')\n",
    "\n",
    "for gfit,c in zip([gfit_uni, gfit_bi], [tb_c[0], tb_c[1]]):\n",
    "    ax.plot(gfit['tcen'], gfit['mu'], c=c)\n",
    "\n",
    "    amp_norm = gfit['amp'] / np.max(gfit['amp'])\n",
    "    mu_plus_sigma  = gfit['mu'] + gfit['sigma']\n",
    "    mu_minus_sigma = gfit['mu'] - gfit['sigma']\n",
    "    time = gfit['tcen']\n",
    "\n",
    "    for i in range(len(time) - 1):\n",
    "        ax.fill_between(\n",
    "            time[i:i+2], \n",
    "            mu_minus_sigma[i:i+2], \n",
    "            mu_plus_sigma[i:i+2], \n",
    "            color=c, \n",
    "            alpha=amp_norm[i]\n",
    "        )\n",
    "\n",
    "# ax.fill_between(gfit_uni['tcen'], gfit_uni['mu']-gfit_uni['sigma'], \n",
    "                                  # gfit_uni['mu']+gfit_uni['sigma'], color=tb_c[0], alpha=0.5)\n",
    "\n",
    "\n",
    "# ax.fill_between(gfit_bi['tcen'], gfit_bi['mu']-gfit_bi['sigma'], \n",
    "                                  # gfit_bi['mu']+gfit_bi['sigma'], color=tb_c[1], alpha=0.5)\n",
    "\n",
    "# ax2 = ax.twinx()\n",
    "# ax2.plot(gfit_uni['tcen'], gfit_uni['amp'], c=tb_c[1])\n",
    "# ax2.plot(gfit_bi['tcen'],  gfit_bi['amp'],  c=tb_c[1], ls='dashed')\n",
    "\n",
    "ax.set(xlim=(0, 5))\n",
    "ax2.set(ylim=(0, None))"
   ]
  },
  {
   "cell_type": "code",
   "execution_count": 17,
   "id": "0520a6d6-bb8c-4e7c-b103-b73bea22451f",
   "metadata": {},
   "outputs": [
    {
     "data": {
      "text/plain": [
       "[<matplotlib.lines.Line2D at 0x14dcc5900ee0>]"
      ]
     },
     "execution_count": 17,
     "metadata": {},
     "output_type": "execute_result"
    },
    {
     "data": {
      "image/png": "[encoded data removed]",
      "text/plain": [
       "<Figure size 640x480 with 1 Axes>"
      ]
     },
     "metadata": {},
     "output_type": "display_data"
    }
   ],
   "source": [
    "fig, ax = plt.subplots(\n",
    "\n",
    "plt.plot(gauss_fit['tcen'], gauss_fit['mu'])\n",
    "plt.plot(gauss_fit['tcen'], gauss_fit['sigma'])\n",
    "plt.plot(gauss_fit"
   ]
  },
  {
   "cell_type": "code",
   "execution_count": 8,
   "id": "a39f02de-fb0a-4baa-9fd7-31fe91089846",
   "metadata": {},
   "outputs": [
    {
     "data": {
      "text/plain": [
       "{'logFeH': array([ 0.5233251 , -0.51129   , -0.2047634 , ...,  0.12079941,\n",
       "        -0.23195575, -0.16677916], dtype=float32),\n",
       " 'logMgFe': array([0.21712601, 0.4261589 , 0.40587714, ..., 0.14581329, 0.25872904,\n",
       "        0.24423589], dtype=float32),\n",
       " 'GFM_StellarFormationTime': array([ 4.8701477,  1.1248779,  1.0647583, ..., -0.0087793,  6.395874 ,\n",
       "         7.1339417], dtype=float32),\n",
       " 'BirthMass': Quantity([7.97001286e-06, 6.49682711e-06, 5.78722588e-06, ...,\n",
       "           6.65792726e-06, 4.46682662e-06, 8.87952271e-06], unit=[1e+10 Msol]),\n",
       " 'in_SN': array([False, False, False, ...,  True, False, False])}"
      ]
     },
     "execution_count": 8,
     "metadata": {},
     "output_type": "execute_result"
    }
   ],
   "source": [
    "allsimdat['iso']"
   ]
  },
  {
   "cell_type": "code",
   "execution_count": 10,
   "id": "4d237eb3-1bd6-4ea5-9adf-b947269764d9",
   "metadata": {},
   "outputs": [
    {
     "data": {
      "text/plain": [
       "(0.3127923, 0.09756109)"
      ]
     },
     "execution_count": 10,
     "metadata": {},
     "output_type": "execute_result"
    }
   ],
   "source": [
    "norm.fit(allsimdat['iso']['logMgFe'])"
   ]
  },
  {
   "cell_type": "code",
   "execution_count": null,
   "id": "bd3ecfb4-b82e-4593-976a-61ad5eaf9e2b",
   "metadata": {},
   "outputs": [],
   "source": []
  }
 ],
 "metadata": {
  "kernelspec": {
   "display_name": "note",
   "language": "python",
   "name": "note"
  },
  "language_info": {
   "codemirror_mode": {
    "name": "ipython",
    "version": 3
   },
   "file_extension": ".py",
   "mimetype": "text/x-python",
   "name": "python",
   "nbconvert_exporter": "python",
   "pygments_lexer": "ipython3",
   "version": "3.10.13"
  }
 },
 "nbformat": 4,
 "nbformat_minor": 5
}
