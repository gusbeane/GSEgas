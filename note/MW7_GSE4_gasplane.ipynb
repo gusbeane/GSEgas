{
 "cells": [
  {
   "cell_type": "code",
   "execution_count": 1,
   "id": "0723b08c-e162-4eab-a0e9-8b28b9d863c2",
   "metadata": {},
   "outputs": [],
   "source": [
    "import h5py as h5\n",
    "import arepo\n",
    "import numpy as np\n",
    "import matplotlib.pyplot as plt\n",
    "import matplotlib as mpl\n",
    "from tqdm import tqdm\n",
    "from scipy.interpolate import interp1d\n",
    "from scipy.stats import binned_statistic_2d\n",
    "from numba import njit\n",
    "import importlib\n",
    "import galaxy\n",
    "from scipy.spatial import KDTree\n",
    "from scipy.stats import gaussian_kde\n",
    "\n",
    "basepath = '/n/holylfs05/LABS/hernquist_lab/Users/abeane/GSEgas/'"
   ]
  },
  {
   "cell_type": "code",
   "execution_count": 10,
   "id": "dcca3417-c82d-429e-9e7e-a90409420ebc",
   "metadata": {},
   "outputs": [
    {
     "data": {
      "text/plain": [
       "<module 'galaxy' from '/n/holylfs05/LABS/hernquist_lab/Users/abeane/GSEgas/note/galaxy.py'>"
      ]
     },
     "execution_count": 10,
     "metadata": {},
     "output_type": "execute_result"
    }
   ],
   "source": [
    "importlib.reload(galaxy)"
   ]
  },
  {
   "cell_type": "code",
   "execution_count": 3,
   "id": "edbfb718-835a-4aae-a249-0330c5edf234",
   "metadata": {},
   "outputs": [],
   "source": [
    "# idx = 320\n",
    "\n",
    "# gals = {}\n",
    "# Rs_list = ['116', '129', '142']\n",
    "# Vv_list = ['116', '129', '142']\n",
    "# ecc_list = ['04', '05', '06']\n",
    "# for Rs in tqdm(Rs_list):\n",
    "#     gals[Rs] = {}\n",
    "#     for Vv in Vv_list:\n",
    "#         gals[Rs][Vv] = {}\n",
    "#         for ecc in ecc_list:\n",
    "#             key = 'lvl4-Rs'+Rs+'-Vv'+Vv+'-e'+ecc\n",
    "#             gals[Rs][Vv][ecc] = galaxy.Galaxy(basepath + 'runs/MW7_GSE4-eRVgrid-lvl4/' + key + '/output',\n",
    "#                                               idx, orient=True)"
   ]
  },
  {
   "cell_type": "code",
   "execution_count": null,
   "id": "55fdefea-47ae-47c9-a06c-7ef3e39a5943",
   "metadata": {},
   "outputs": [
    {
     "name": "stderr",
     "output_type": "stream",
     "text": [
      " 77%|███████▋  | 50/65 [02:28<00:50,  3.36s/it]"
     ]
    }
   ],
   "source": [
    "idx_list = np.arange(0, 320+1, 5)\n",
    "gals_idx = {}\n",
    "Rs = '142'\n",
    "Vv = '142'\n",
    "ecc = '04'\n",
    "\n",
    "key = 'lvl4-Rs'+Rs+'-Vv'+Vv+'-e'+ecc\n",
    "for idx in tqdm(idx_list):\n",
    "    gals_idx[idx] = galaxy.Galaxy(basepath+'runs/MW7_GSE4-eRVgrid-lvl4/' + key + '/output',\n",
    "                                  idx, orient=True)"
   ]
  },
  {
   "cell_type": "code",
   "execution_count": null,
   "id": "21c02e42-4a0f-4d11-a98b-ebf8d56f7fe2",
   "metadata": {},
   "outputs": [],
   "source": [
    "def get_logFeH_logMgFe(gal, ptype=4):\n",
    "    GFM_SOLAR_ABUNDANCE_HYDROGEN = 0.7388\n",
    "    GFM_SOLAR_ABUNDANCE_MAGNESIUM = 0.0007\n",
    "    GFM_SOLAR_ABUNDANCE_IRON   =   0.0013\n",
    "    \n",
    "    part = getattr(gal.sn, 'part'+str(ptype))\n",
    "    \n",
    "    FeH = part.GFM_Metals[:,8] / GFM_SOLAR_ABUNDANCE_IRON\n",
    "    logFeH = np.log10(FeH)\n",
    "\n",
    "    MgH = part.GFM_Metals[:,6] / GFM_SOLAR_ABUNDANCE_MAGNESIUM\n",
    "    MgFe = MgH/FeH\n",
    "    logMgH = np.log10(MgH)\n",
    "    logMgFe = np.log10(MgFe)\n",
    "    \n",
    "    return logFeH, logMgH, logMgFe\n",
    "\n",
    "def in_SN(gal, ptype, Rmin=4, Rmax=16, zmin=0, zmax=3, dLz=0.1):\n",
    "    part = getattr(gal.sn, 'part'+str(ptype))\n",
    "    \n",
    "    pos = part.rotpos\n",
    "    vel = part.rotvel\n",
    "    Lz = np.cross(pos, vel)[:,2]\n",
    "    \n",
    "    Lzsun = 8*220\n",
    "    key = np.logical_and((Lz/Lzsun)-1 < dLz, np.abs(pos[:,2]) < zmax)\n",
    "    \n",
    "    return key"
   ]
  },
  {
   "cell_type": "code",
   "execution_count": null,
   "id": "5af6b21b-82b1-4297-990a-f63b90bda899",
   "metadata": {},
   "outputs": [],
   "source": [
    "def get_kd_density(gal, logFeH_min=-1.1, logFeH_max=0.6, logMgFe_min=0.1, logMgFe_max=0.65, \n",
    "                   nres=1024, K=256):\n",
    "    key = in_SN(gal, 4)\n",
    "    logFeH, logMgH, logMgFe = get_logFeH_logMgFe(gal)\n",
    "    data = np.vstack((logFeH[key], logMgFe[key])).T\n",
    "    N = len(data)\n",
    "    tree = KDTree(data)\n",
    "        \n",
    "    dlogFeH = (logFeH_max - logFeH_min)/nres\n",
    "    dlogMgFe = (logMgFe_max - logMgFe_min)/nres\n",
    "        \n",
    "    logFeH_lin = np.linspace(logFeH_min + dlogFeH, logFeH_max-dlogFeH, nres)\n",
    "    logMgFe_lin = np.linspace(logMgFe_min + dlogMgFe, logMgFe_max-dlogMgFe, nres)\n",
    "    \n",
    "    logFeH_grid, logMgFe_grid = np.meshgrid(logFeH_lin, logMgFe_lin)\n",
    "    grid = np.vstack([logFeH_grid.ravel(), logMgFe_grid.ravel()]).T\n",
    "\n",
    "    distances, indices = tree.query(grid, k=K)\n",
    "    kth_distances = distances[:, -1]\n",
    "    \n",
    "    # Calculate the density: Inverse of the area of the circle surrounding the Kth neighbor\n",
    "    density = K / (N * np.pi * kth_distances**2)\n",
    "    density = np.reshape(density, logFeH_grid.shape).T\n",
    "    \n",
    "    extent = [logFeH_min, logFeH_max, logMgFe_min, logMgFe_max]\n",
    "    \n",
    "    return density, logFeH_grid, logMgFe_grid"
   ]
  },
  {
   "cell_type": "code",
   "execution_count": null,
   "id": "49d130da-a929-4c6e-8560-805cf814a1a6",
   "metadata": {},
   "outputs": [],
   "source": [
    "%%time\n",
    "gal_end = gals_idx[320]\n",
    "density, logFeH_grid, logMgFe_grid = get_kd_density(gal_end)"
   ]
  },
  {
   "cell_type": "code",
   "execution_count": null,
   "id": "7d186604-1e4a-4818-87a3-18f6fd420c05",
   "metadata": {},
   "outputs": [],
   "source": [
    "cont.levels"
   ]
  },
  {
   "cell_type": "code",
   "execution_count": null,
   "id": "39d56440-18b9-4ffe-ae2a-15eaab512f91",
   "metadata": {},
   "outputs": [],
   "source": [
    "fig, axs = plt.subplots(22, 3, figsize=(11, 60), sharex=True, sharey=True)\n",
    "\n",
    "logFeH_min=-1.1\n",
    "logFeH_max=0.6\n",
    "logMgFe_min=0.1\n",
    "logMgFe_max=0.65\n",
    "\n",
    "subsamp = 5000\n",
    "\n",
    "for i,idx in tqdm(enumerate(idx_list)):\n",
    "    gal = gals_idx[idx]\n",
    "    ax = axs.ravel()[i]\n",
    "    \n",
    "    # lay down contour of stars\n",
    "    levels = [0, 3, 6, 9, 15, 21]\n",
    "    cont = ax.contour(logFeH_grid, logMgFe_grid, density.T, levels, colors='k')\n",
    "    \n",
    "    is_in_SN = in_SN(gal, 0)\n",
    "    logFeH, logMgH, logMgFe = get_logFeH_logMgFe(gal, ptype=0)\n",
    "    \n",
    "    # print(np.sum(is_in_SN))\n",
    "    key = np.random.choice(np.where(is_in_SN)[0], subsamp, replace=False)\n",
    "    ax.scatter(logFeH[key], logMgFe[key], s=1, alpha=0.5)\n",
    "    \n",
    "    is_sf_in_SN = np.logical_and(is_in_SN, gal.sn.part0.sfr > 0)\n",
    "    sfkey = np.where(is_sf_in_SN)[0]\n",
    "    sfkey = sfkey[np.isin(sfkey, key)]\n",
    "    ax.scatter(logFeH[sfkey], logMgFe[sfkey], s=0.1, alpha=0.3)\n",
    "    \n",
    "    ax.set_title(str(round(gal.sn.Time.value, 2)))\n",
    "    \n",
    "    # break\n",
    "    \n",
    "    \n",
    "axs[0][0].set(xlim=(logFeH_min, logFeH_max), ylim=(logMgFe_min, logMgFe_max))\n",
    "fig.tight_layout()"
   ]
  },
  {
   "cell_type": "code",
   "execution_count": null,
   "id": "7b29859b-5397-4e99-a8f2-2d7e34eb1484",
   "metadata": {},
   "outputs": [],
   "source": []
  }
 ],
 "metadata": {
  "kernelspec": {
   "display_name": "note",
   "language": "python",
   "name": "note"
  },
  "language_info": {
   "codemirror_mode": {
    "name": "ipython",
    "version": 3
   },
   "file_extension": ".py",
   "mimetype": "text/x-python",
   "name": "python",
   "nbconvert_exporter": "python",
   "pygments_lexer": "ipython3",
   "version": "3.10.13"
  }
 },
 "nbformat": 4,
 "nbformat_minor": 5
}
