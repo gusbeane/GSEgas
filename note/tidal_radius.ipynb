{
 "cells": [
  {
   "cell_type": "code",
   "execution_count": 1,
   "id": "666d34d6-f124-40e6-a282-6111e4e1af89",
   "metadata": {},
   "outputs": [],
   "source": [
    "import arepo\n",
    "import h5py as h5\n",
    "import numpy as np\n",
    "import matplotlib.pyplot as plt\n",
    "from tqdm import tqdm_notebook as tqdm\n",
    "import matplotlib as mpl\n",
    "\n",
    "from numba import njit\n",
    "\n",
    "from joblib import Parallel, delayed"
   ]
  },
  {
   "cell_type": "code",
   "execution_count": 2,
   "id": "6dba7e05-ac82-498e-a037-de07ad76ad97",
   "metadata": {},
   "outputs": [],
   "source": [
    "basepath = '/n/holylfs05/LABS/hernquist_lab/Users/abeane/GSEgas/'"
   ]
  },
  {
   "cell_type": "code",
   "execution_count": 3,
   "id": "dae7f641-134f-4aed-932f-33845b8453c6",
   "metadata": {},
   "outputs": [],
   "source": [
    "sn_MW = arepo.Snapshot(basepath + '/ics/MW3iso_fg0.7_MHG0.25_RC9/lvl4/MW_ICs.dat')\n",
    "sn_GSE = arepo.Snapshot(basepath + '/ics/GSE2iso_fg0.7/lvl4/GSE_ICs.dat')"
   ]
  },
  {
   "cell_type": "code",
   "execution_count": 5,
   "id": "19b03fc1-88f4-44e9-bee8-44771c4d2b03",
   "metadata": {},
   "outputs": [],
   "source": [
    "def rt_eq2(R_GSE=80.):\n",
    "    M_GSE = 0.0\n",
    "    M_MW = 0.0\n",
    "    \n",
    "    for i in range(6):\n",
    "        M_MW += sn_MW.MassTable[i] * sn_MW.NumPart_Total[i]\n",
    "        M_GSE += sn_GSE.MassTable[i] * sn_GSE.NumPart_Total[i]\n",
    "    \n",
    "    rt = R_GSE * (M_GSE / (3*M_MW))**(1./3.)\n",
    "    \n",
    "    return rt"
   ]
  },
  {
   "cell_type": "code",
   "execution_count": 6,
   "id": "099a1aa9-0fa2-4689-8f73-3509c9a95813",
   "metadata": {},
   "outputs": [],
   "source": [
    "def Menc(Rcut, sn, center=np.array([0., 0., 0.])):\n",
    "    ans = 0.0\n",
    "    for i in range(6):\n",
    "        if sn.NumPart_Total[i] > 0:\n",
    "            part = getattr(sn, 'part'+str(i))\n",
    "            r = np.linalg.norm(part.pos-center, axis=1)\n",
    "            key = np.where(r < Rcut)[0]\n",
    "            if sn.MassTable[i] > 0.0:\n",
    "                ans += sn.MassTable[i] * len(key)\n",
    "            else:\n",
    "                ans += np.sum(part.mass[key])\n",
    "    \n",
    "    return ans\n",
    "            \n",
    "def rt_eq6(R_GSE=80.):\n",
    "    M_MW = Menc(R_GSE, sn_MW)\n",
    "    # print(M_MW)\n",
    "    \n",
    "    # print(M_MW)\n",
    "    # for a hernquist halo (the only material at R_Sgr)\n",
    "    rt_guess = rt_eq2(R_GSE)\n",
    "\n",
    "    # print(R_GSE)\n",
    "    # print(Menc(rt_guess, sn_GSE))\n",
    "    \n",
    "    for _ in range(10):\n",
    "        rt = R_GSE * ((0.3*Menc(rt_guess, sn_GSE)/M_MW))**(1./3.)\n",
    "        rt_guess = rt\n",
    "    \n",
    "    return rt"
   ]
  },
  {
   "cell_type": "code",
   "execution_count": 7,
   "id": "8c8188d1-78a1-43af-b6fc-af87dc844c53",
   "metadata": {},
   "outputs": [
    {
     "name": "stdout",
     "output_type": "stream",
     "text": [
      "eq2:,  18.589714945052695\n",
      "eq6:,  12.634034266980727\n"
     ]
    }
   ],
   "source": [
    "print('eq2:, ', rt_eq2(31.2))\n",
    "print('eq6:, ', rt_eq6(31.2))"
   ]
  },
  {
   "cell_type": "code",
   "execution_count": 7,
   "id": "552af930-5cb9-4131-bffd-bbc9bc691a30",
   "metadata": {},
   "outputs": [
    {
     "data": {
      "text/plain": [
       "18.930778216615444"
      ]
     },
     "execution_count": 7,
     "metadata": {},
     "output_type": "execute_result"
    }
   ],
   "source": [
    "rt_eq6(25)"
   ]
  },
  {
   "cell_type": "code",
   "execution_count": 8,
   "id": "9a9516f9-afb5-43a4-94df-19f29d5fd3c4",
   "metadata": {},
   "outputs": [
    {
     "data": {
      "text/plain": [
       "32.5677794107439"
      ]
     },
     "execution_count": 8,
     "metadata": {},
     "output_type": "execute_result"
    }
   ],
   "source": [
    "sn_MW.MassTable[1] * sn_MW.NumPart_Total[1]"
   ]
  },
  {
   "cell_type": "code",
   "execution_count": 9,
   "id": "32df465b-3f8a-4bf6-bbfc-60700a2eebe8",
   "metadata": {},
   "outputs": [
    {
     "data": {
      "text/plain": [
       "0.11687058729418208"
      ]
     },
     "execution_count": 9,
     "metadata": {},
     "output_type": "execute_result"
    }
   ],
   "source": [
    "sn_GSE.MassTable[0] * sn_GSE.NumPart_Total[0]"
   ]
  },
  {
   "cell_type": "code",
   "execution_count": 22,
   "id": "d3145437-538a-4e64-ae9f-6f2fbb6429bf",
   "metadata": {},
   "outputs": [
    {
     "name": "stdout",
     "output_type": "stream",
     "text": [
      "0.16695798184883154 0.05008739455464947\n",
      "0.30000000000000004\n"
     ]
    }
   ],
   "source": [
    "m2 = sn_GSE.MassTable[2] * sn_GSE.NumPart_Total[2]\n",
    "m0 = sn_GSE.MassTable[0] * sn_GSE.NumPart_Total[0]\n",
    "print(m0+m2, m2)\n",
    "print(m2/(m0+m2))"
   ]
  },
  {
   "cell_type": "code",
   "execution_count": 18,
   "id": "ed174374-2c84-4dcf-a9ae-a529062c9cbc",
   "metadata": {},
   "outputs": [],
   "source": [
    "sn_GSE1 = arepo.Snapshot('/n/holylfs05/LABS/hernquist_lab/Users/abeane/GSEgas/ics/GSEiso_fg0.5/lvl4/GSE_ICs.dat')"
   ]
  },
  {
   "cell_type": "code",
   "execution_count": 19,
   "id": "1d6c4944-8590-4c1c-a4af-cf516a9dfd37",
   "metadata": {},
   "outputs": [
    {
     "data": {
      "text/plain": [
       "array([ 0.02504262, 21.5012226 ,  0.02504262,  0.        ,  0.        ,\n",
       "        0.        ])"
      ]
     },
     "execution_count": 19,
     "metadata": {},
     "output_type": "execute_result"
    }
   ],
   "source": [
    "sn_GSE1.NumPart_Total * sn_GSE1.MassTable"
   ]
  },
  {
   "cell_type": "code",
   "execution_count": null,
   "id": "0fa78399-e6e4-4a1d-bbd0-b259181a2adf",
   "metadata": {},
   "outputs": [],
   "source": []
  }
 ],
 "metadata": {
  "kernelspec": {
   "display_name": "Python 3",
   "language": "python",
   "name": "python3"
  },
  "language_info": {
   "codemirror_mode": {
    "name": "ipython",
    "version": 3
   },
   "file_extension": ".py",
   "mimetype": "text/x-python",
   "name": "python",
   "nbconvert_exporter": "python",
   "pygments_lexer": "ipython3",
   "version": "3.8.8"
  }
 },
 "nbformat": 4,
 "nbformat_minor": 5
}
