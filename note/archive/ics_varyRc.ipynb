{
 "cells": [
  {
   "cell_type": "code",
   "execution_count": 16,
   "id": "af9e18d4-047a-466b-b4a8-737e7a707f48",
   "metadata": {},
   "outputs": [],
   "source": [
    "import numpy as np\n",
    "import matplotlib.pyplot as plt\n",
    "import arepo"
   ]
  },
  {
   "cell_type": "code",
   "execution_count": 10,
   "id": "ee2d1434-e1bd-4e34-b4f3-6b01b734f8f4",
   "metadata": {},
   "outputs": [],
   "source": [
    "def profile(r, rc, MHG=0.25):\n",
    "    R200 = 129\n",
    "    rho0 = MHG / ( 4 * np.pi * rc * rc * rc * (10*R200/rc - np.arctan(10*R200/rc) ) )\n",
    "    return rho0*(1 + (r/rc)**2)**(-1)"
   ]
  },
  {
   "cell_type": "code",
   "execution_count": 12,
   "id": "e23f09d0-3bed-4913-9a30-291db578f4ff",
   "metadata": {},
   "outputs": [
    {
     "data": {
      "text/plain": [
       "[<matplotlib.lines.Line2D at 0x150008cbc070>]"
      ]
     },
     "execution_count": 12,
     "metadata": {},
     "output_type": "execute_result"
    },
    {
     "data": {
      "image/png": "[encoded data removed]",
      "text/plain": [
       "<Figure size 640x480 with 1 Axes>"
      ]
     },
     "metadata": {},
     "output_type": "display_data"
    }
   ],
   "source": [
    "rlist = np.linspace(0, 100, 1000)\n",
    "\n",
    "plt.plot(rlist, profile(rlist, 9))\n",
    "plt.plot(rlist, profile(rlist, 9, MHG=0.35))\n"
   ]
  },
  {
   "cell_type": "code",
   "execution_count": 14,
   "id": "9391072f-7690-4709-82fd-109b525996ef",
   "metadata": {},
   "outputs": [
    {
     "data": {
      "text/plain": [
       "1383927.1333333335"
      ]
     },
     "execution_count": 14,
     "metadata": {},
     "output_type": "execute_result"
    }
   ],
   "source": [
    "1596839*(1-0.35)/(1-0.25)"
   ]
  },
  {
   "cell_type": "code",
   "execution_count": 31,
   "id": "3359f4ec-98eb-4cfe-be36-deaee33042b0",
   "metadata": {},
   "outputs": [],
   "source": [
    "fname = '/n/holylfs05/LABS/hernquist_lab/Users/abeane/GSEgas/ics/MW3iso_fg0.7_MHG0.25_RCX/lvl4/MW_ICs.dat'\n",
    "sn = arepo.Snapshot(fname)"
   ]
  },
  {
   "cell_type": "code",
   "execution_count": 33,
   "id": "60eb7e48-8199-4a9a-b1ac-a5a3cbeb1358",
   "metadata": {},
   "outputs": [
    {
     "data": {
      "text/plain": [
       "array([0.00000000e+00, 3.00000074e-05, 6.00165347e-06, 5.97844860e-06,\n",
       "       0.00000000e+00, 0.00000000e+00])"
      ]
     },
     "execution_count": 33,
     "metadata": {},
     "output_type": "execute_result"
    }
   ],
   "source": [
    "sn.MassTable"
   ]
  },
  {
   "cell_type": "code",
   "execution_count": 24,
   "id": "c5f1f022-9bd7-4e3c-9793-e7c7435ef48b",
   "metadata": {},
   "outputs": [],
   "source": [
    "mdm = 3.75E4*8/1E10"
   ]
  },
  {
   "cell_type": "code",
   "execution_count": 30,
   "id": "821bc3a1-65b2-4e91-825d-daf4926a44f4",
   "metadata": {},
   "outputs": [
    {
     "name": "stdout",
     "output_type": "stream",
     "text": [
      "988313.04\n"
     ]
    }
   ],
   "source": [
    "M200 = 49.9148\n",
    "MD = 0.04\n",
    "MB = 0.016\n",
    "MHG = 0.35\n",
    "\n",
    "MHALO = (1 - MD - MB - MHG) * M200\n",
    "NHALO = MHALO / mdm\n",
    "print(NHALO)"
   ]
  },
  {
   "cell_type": "code",
   "execution_count": 27,
   "id": "452932a2-6414-437f-866f-ffcf060beb65",
   "metadata": {},
   "outputs": [
    {
     "name": "stdout",
     "output_type": "stream",
     "text": [
      "29.6493912\n"
     ]
    }
   ],
   "source": [
    "print(NHALO*mdm)"
   ]
  },
  {
   "cell_type": "code",
   "execution_count": 28,
   "id": "bb749620-8794-4a5c-9649-323ab80df8cd",
   "metadata": {},
   "outputs": [
    {
     "name": "stdout",
     "output_type": "stream",
     "text": [
      "27.875016903332554\n"
     ]
    }
   ],
   "source": [
    "print(sn.NumPart_Total[1] * sn.MassTable[1])"
   ]
  },
  {
   "cell_type": "code",
   "execution_count": 29,
   "id": "42e43dfd-eaa8-4129-81e0-2971e0afc0fb",
   "metadata": {},
   "outputs": [
    {
     "data": {
      "text/plain": [
       "929167.2301110851"
      ]
     },
     "execution_count": 29,
     "metadata": {},
     "output_type": "execute_result"
    }
   ],
   "source": [
    "27.875016903332554/mdm"
   ]
  },
  {
   "cell_type": "code",
   "execution_count": null,
   "id": "06f11428-5961-4fe9-8e6a-28aacae74f71",
   "metadata": {},
   "outputs": [],
   "source": []
  }
 ],
 "metadata": {
  "kernelspec": {
   "display_name": "Python [conda env:.conda-note]",
   "language": "python",
   "name": "conda-env-.conda-note-py"
  },
  "language_info": {
   "codemirror_mode": {
    "name": "ipython",
    "version": 3
   },
   "file_extension": ".py",
   "mimetype": "text/x-python",
   "name": "python",
   "nbconvert_exporter": "python",
   "pygments_lexer": "ipython3",
   "version": "3.10.12"
  }
 },
 "nbformat": 4,
 "nbformat_minor": 5
}
