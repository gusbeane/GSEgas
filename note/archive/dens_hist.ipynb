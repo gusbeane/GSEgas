{
 "cells": [
  {
   "cell_type": "code",
   "execution_count": 1,
   "id": "90e6e507-2916-4665-86b2-73576f27b72d",
   "metadata": {},
   "outputs": [],
   "source": [
    "import numpy as np\n",
    "import arepo\n",
    "import matplotlib.pyplot as plt"
   ]
  },
  {
   "cell_type": "code",
   "execution_count": 2,
   "id": "3b209d5e-beab-4040-99db-5ed6c3c7df4b",
   "metadata": {},
   "outputs": [],
   "source": [
    "basepath = '/n/holylfs05/LABS/hernquist_lab/Users/abeane/GSEgas/'"
   ]
  },
  {
   "cell_type": "code",
   "execution_count": 3,
   "id": "fc9f1c63-f518-4eb1-9f3d-06fcbe7f24bd",
   "metadata": {},
   "outputs": [],
   "source": [
    "sn000 = arepo.Snapshot(basepath + 'runs/MWiso_fg0.5_Z0/lvl4/output', 0, combineFiles=True)\n",
    "sn050 = arepo.Snapshot(basepath + 'runs/MWiso_fg0.5_Z0/lvl4/output', 50, combineFiles=True)\n",
    "sn100 = arepo.Snapshot(basepath + 'runs/MWiso_fg0.5_Z0/lvl4/output', 100, combineFiles=True)\n",
    "sn150 = arepo.Snapshot(basepath + 'runs/MWiso_fg0.5_Z0/lvl4/output', 150, combineFiles=True)\n",
    "sn200 = arepo.Snapshot(basepath + 'runs/MWiso_fg0.5_Z0/lvl4/output', 200, combineFiles=True)"
   ]
  },
  {
   "cell_type": "code",
   "execution_count": 12,
   "id": "2522a178-a74a-4881-88d0-ea04fde6f2a7",
   "metadata": {},
   "outputs": [
    {
     "data": {
      "image/png": "[encoded data removed]",
      "text/plain": [
       "<Figure size 432x288 with 1 Axes>"
      ]
     },
     "metadata": {
      "needs_background": "light"
     },
     "output_type": "display_data"
    }
   ],
   "source": [
    "dens = sn100.part0.rho.value\n",
    "plt.hist(dens, bins=np.linspace(0, 80, 100))\n",
    "plt.yscale('log')\n",
    "plt.show()"
   ]
  },
  {
   "cell_type": "code",
   "execution_count": 11,
   "id": "673e5a4a-cbf2-4fe4-9e1b-053e32e67cf7",
   "metadata": {},
   "outputs": [
    {
     "data": {
      "image/png": "[encoded data removed]",
      "text/plain": [
       "<Figure size 432x288 with 1 Axes>"
      ]
     },
     "metadata": {
      "needs_background": "light"
     },
     "output_type": "display_data"
    }
   ],
   "source": [
    "dens = sn200.part0.rho.value\n",
    "plt.hist(dens, bins=np.linspace(0, 80, 100))\n",
    "plt.yscale('log')\n",
    "plt.show()"
   ]
  },
  {
   "cell_type": "code",
   "execution_count": null,
   "id": "76545883-0963-44d0-8b04-c691d48849f1",
   "metadata": {},
   "outputs": [],
   "source": []
  }
 ],
 "metadata": {
  "kernelspec": {
   "display_name": "Python 3",
   "language": "python",
   "name": "python3"
  },
  "language_info": {
   "codemirror_mode": {
    "name": "ipython",
    "version": 3
   },
   "file_extension": ".py",
   "mimetype": "text/x-python",
   "name": "python",
   "nbconvert_exporter": "python",
   "pygments_lexer": "ipython3",
   "version": "3.8.8"
  }
 },
 "nbformat": 4,
 "nbformat_minor": 5
}
