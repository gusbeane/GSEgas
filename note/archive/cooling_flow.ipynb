{
 "cells": [
  {
   "cell_type": "code",
   "execution_count": 44,
   "id": "7ed39656-bcbc-4281-8343-51554c888d44",
   "metadata": {},
   "outputs": [],
   "source": [
    "import numpy as np\n",
    "import arepo\n",
    "import matplotlib.pyplot as plt\n",
    "from scipy.signal import savgol_filter\n",
    "from tqdm import tqdm\n",
    "import matplotlib as mpl\n",
    "from scipy.stats import binned_statistic_2d\n",
    "from numba import njit\n",
    "import h5py as h5\n",
    "\n",
    "import astropy.units as u"
   ]
  },
  {
   "cell_type": "code",
   "execution_count": 3,
   "id": "7cfd17a8-c056-494f-ac84-0ddae4816a9f",
   "metadata": {},
   "outputs": [],
   "source": [
    "basepath = '/n/holylfs05/LABS/hernquist_lab/Users/abeane/GSEgas/'"
   ]
  },
  {
   "cell_type": "code",
   "execution_count": 72,
   "id": "2ecef868-60a8-471e-962e-8b02636f499b",
   "metadata": {},
   "outputs": [
    {
     "name": "stderr",
     "output_type": "stream",
     "text": [
      "100%|██████████| 9/9 [00:36<00:00,  4.07s/it]\n"
     ]
    }
   ],
   "source": [
    "sn_iso = {}\n",
    "sn = {}\n",
    "for num in tqdm([0, 50, 100, 150, 200, 250, 300, 350, 400]):\n",
    "    sn_iso[num] = arepo.Snapshot(basepath + '/runs/MW4iso_fg0.2_MHG0.15_RC9/lvl4/output/', num, combineFiles=True)\n",
    "    sn[num] = arepo.Snapshot(basepath + '/runs/MW4_MHG0.15_GSE6_kick/lvl4/output/', num, combineFiles=True)    "
   ]
  },
  {
   "cell_type": "code",
   "execution_count": 41,
   "id": "0c5da592-cc83-4706-9579-8e39183439fc",
   "metadata": {},
   "outputs": [
    {
     "name": "stdout",
     "output_type": "stream",
     "text": [
      "116.67324015329243\n"
     ]
    }
   ],
   "source": [
    "center = np.array([200, 200, 200])\n",
    "\n",
    "PROTONMASS = 1.67262178e-24\n",
    "HYDROGEN_MASSFRAC = 0.76\n",
    "G = 43018.7\n",
    "\n",
    "def get_Menc(sn, renc, center = np.array([200, 200, 200])):\n",
    "    Menc = 0.0\n",
    "    for i in range(5):\n",
    "        if sn.NumPart_Total[i] > 0:\n",
    "            part = getattr(sn, 'part'+str(i))\n",
    "            \n",
    "            pos = part.pos.value - center\n",
    "            r = np.linalg.norm(pos, axis=1)\n",
    "            \n",
    "            enc = r < renc\n",
    "            if sn.MassTable[i] > 0.0:\n",
    "                Menc += sn.MassTable[i].value * len(np.where(enc)[0])\n",
    "            else:\n",
    "                Menc += np.sum(part.mass.value[enc])\n",
    "    \n",
    "    return Menc\n",
    "            \n",
    "if True:\n",
    "    snap = 200\n",
    "    \n",
    "    UnitLength = sn[snap].parameters.UnitLength_in_cm\n",
    "    UnitMass = sn[snap].parameters.UnitMass_in_g\n",
    "    UnitVelocity = sn[snap].parameters.UnitVelocity_in_cm_per_s\n",
    "\n",
    "    r0 = 40\n",
    "    dr = 1\n",
    "\n",
    "    pos = sn[snap].part0.pos.value - center\n",
    "    r = np.linalg.norm(pos, axis=1)\n",
    "    \n",
    "    in_shell = np.logical_and(r > r0 - dr/2., r < r0 + dr/2.)\n",
    "    \n",
    "    Lambda = np.mean(sn[snap].part0.GFM_CoolingRate.value[in_shell])\n",
    "    Menc = get_Menc(sn[snap], r0)\n",
    "    vcsq = G * Menc / r0\n",
    "    print(np.sqrt(vcsq))\n",
    "    \n",
    "    # convert to cgs\n",
    "    # vcsq_cgs = vcsq * UnitVelocity**2\n",
    "    # r0_cgs = r0 * UnitLength\n",
    "    \n",
    "    vcsq *= (u.km/u.s)**2\n",
    "    r0 *= u.kpc\n",
    "    mp = PROTONMASS * u.g\n",
    "    Lambda *= u.cm**3 * u.erg / u.s\n",
    "    \n",
    "    Mdotmax = (4 * np.pi * mp**2 * vcsq**2 * r0)/(HYDROGEN_MASSFRAC**2 * Lambda)\n"
   ]
  },
  {
   "cell_type": "code",
   "execution_count": 45,
   "id": "0b9ce0eb-a7bd-487c-ab1f-38992456af1b",
   "metadata": {},
   "outputs": [
    {
     "data": {
      "text/latex": [
       "$-2.1830186 \\times 10^{-23} \\; \\mathrm{\\frac{cm^{3}\\,erg}{s}}$"
      ],
      "text/plain": [
       "<Quantity -2.1830186e-23 cm3 erg / s>"
      ]
     },
     "execution_count": 45,
     "metadata": {},
     "output_type": "execute_result"
    }
   ],
   "source": [
    "Lambda"
   ]
  },
  {
   "cell_type": "code",
   "execution_count": 46,
   "id": "fe325c96-70e4-4ad0-8b6b-aa08496dd11e",
   "metadata": {},
   "outputs": [],
   "source": [
    "def get_n_T(sn):\n",
    "    UnitLength = sn.parameters.UnitLength_in_cm\n",
    "    UnitMass = sn.parameters.UnitMass_in_g\n",
    "    UnitVelocity = sn.parameters.UnitVelocity_in_cm_per_s\n",
    "\n",
    "    UnitTime = UnitLength / UnitVelocity\n",
    "    UnitEnergy = UnitMass * UnitVelocity**2\n",
    "\n",
    "    HYDROGEN_MASSFRAC = 0.76\n",
    "    GAMMA = 5./3.\n",
    "    PROTONMASS = 1.67262178e-24\n",
    "    BOLTZMANN = 1.38065e-16\n",
    "\n",
    "    InternalEnergy = sn.part0.InternalEnergy.value\n",
    "    ElectronAbundance = sn.part0.ElectronAbundance\n",
    "    Density = sn.part0.Density.value\n",
    "    \n",
    "    mu = 4 * PROTONMASS / (1 + 3 * HYDROGEN_MASSFRAC + 4 * HYDROGEN_MASSFRAC * ElectronAbundance)\n",
    "    T = (GAMMA - 1.) * (InternalEnergy / BOLTZMANN) * (UnitEnergy / UnitMass) * mu\n",
    "\n",
    "    n = Density / mu\n",
    "    n *= UnitMass/UnitLength**3\n",
    "    \n",
    "    return n, T"
   ]
  },
  {
   "cell_type": "code",
   "execution_count": 66,
   "id": "33f0b7e7-11a2-4354-b9d0-c182e81789a1",
   "metadata": {},
   "outputs": [],
   "source": [
    "COM = np.load(basepath + 'anlys/COM/COM_MW4_MHG0.15_GSE6_kick-lvl4.npy', allow_pickle=True).item()"
   ]
  },
  {
   "cell_type": "code",
   "execution_count": 74,
   "id": "33f0040c-25f5-453a-ab50-a59e482d64aa",
   "metadata": {},
   "outputs": [],
   "source": [
    "n = {}\n",
    "T = {}\n",
    "r = {}\n",
    "m = {}\n",
    "\n",
    "for snap in sn.keys():\n",
    "    n[snap], T[snap] = get_n_T(sn[snap])\n",
    "    center = COM['MW_COM'][snap]\n",
    "    r[snap] = np.linalg.norm(sn[snap].part0.pos.value - center, axis=1)\n",
    "    m[snap] = sn[snap].part0.mass.value\n",
    "\n",
    "n_iso = {}\n",
    "T_iso = {}\n",
    "r_iso = {}\n",
    "m_iso = {}\n",
    "    \n",
    "for snap in sn_iso.keys():\n",
    "    n_iso[snap], T_iso[snap] = get_n_T(sn_iso[snap])\n",
    "    center = np.array([200, 200, 200])\n",
    "    r_iso[snap] = np.linalg.norm(sn_iso[snap].part0.pos.value - center, axis=1)\n",
    "    m_iso[snap] = sn_iso[snap].part0.mass.value\n",
    "    "
   ]
  },
  {
   "cell_type": "code",
   "execution_count": 80,
   "id": "2fba2c09-6e51-4beb-8106-9a3c2d6b3d34",
   "metadata": {},
   "outputs": [],
   "source": [
    "Mcold = []\n",
    "Mcold_iso = []\n",
    "for snap in sn.keys():\n",
    "    key = np.logical_and(r[snap] > 20, T[snap] < 3E4)\n",
    "    Mcold.append(np.sum(m[snap][key]))\n",
    "    \n",
    "    key = np.logical_and(r_iso[snap] > 20, T_iso[snap] < 3E4)\n",
    "    Mcold_iso.append(np.sum(m_iso[snap][key]))"
   ]
  },
  {
   "cell_type": "code",
   "execution_count": 81,
   "id": "89a6f6a0-96fc-4b55-8342-371648ddd0e4",
   "metadata": {},
   "outputs": [
    {
     "name": "stdout",
     "output_type": "stream",
     "text": [
      "[0.11687059, 0.11257508, 0.110427484, 0.10886775, 0.10577996, 0.11157553, 0.11715969, 0.1225837, 0.12006478] [0.0, 8.324337e-06, 1.6607206e-05, 3.244619e-05, 0.00025723933, 0.00078457245, 0.0021742384, 0.004605259, 0.006705475]\n"
     ]
    }
   ],
   "source": [
    "print(Mcold, Mcold_iso)"
   ]
  },
  {
   "cell_type": "code",
   "execution_count": 95,
   "id": "df776125-cb02-4cf7-a062-1a4bca1d07d0",
   "metadata": {},
   "outputs": [
    {
     "name": "stderr",
     "output_type": "stream",
     "text": [
      "100%|██████████| 9/9 [00:00<00:00, 73.32it/s]\n"
     ]
    }
   ],
   "source": [
    "MC = {}\n",
    "MC_iso = {}\n",
    "for num in tqdm([0, 50, 100, 150, 200, 250, 300, 350, 400]):\n",
    "    MC[num] = h5.File(basepath + 'anlys/MC/MW4_MHG0.15_GSE6_kick-lvl4/MC_Prop_'+str(num).zfill(3)+'.h5', mode='r')\n",
    "    MC_iso[num] = h5.File(basepath + 'anlys/MC/MW4iso_fg0.2_MHG0.15_RC9-lvl4/MC_Prop_'+str(num).zfill(3)+'.h5', mode='r')    "
   ]
  },
  {
   "cell_type": "code",
   "execution_count": null,
   "id": "ed204afd-ec2c-49de-89b8-e5440c2a4abd",
   "metadata": {},
   "outputs": [],
   "source": []
  },
  {
   "cell_type": "code",
   "execution_count": 89,
   "id": "53ca0b93-5afa-4960-b8d2-c2115a791d69",
   "metadata": {},
   "outputs": [
    {
     "name": "stdout",
     "output_type": "stream",
     "text": [
      "0.0\n",
      "0.0005596363661551987\n",
      "0.0031732732290033383\n",
      "0.009380285686869444\n",
      "0.01558279704795682\n",
      "0.023915827550975516\n",
      "0.030490429579104417\n",
      "0.03578822048766744\n",
      "0.03585723730494127\n"
     ]
    }
   ],
   "source": [
    "for num in MC.keys():\n",
    "    r = np.linalg.norm(MC[num]['PartType5/RotatedCoordinates'][:], axis=1)\n",
    "    is_CGM = MC[num]['PartType5/Membership'][:] == 1\n",
    "    is_cold = MC[num]['PartType5/Temperature'][:] < 3E4\n",
    "\n",
    "    key = np.logical_and(np.logical_and(is_CGM, is_cold), r > 20)\n",
    "    mass = MC[num]['Header'].attrs['TracerMass']\n",
    "    \n",
    "    print(mass * len(np.where(key)[0]))\n"
   ]
  },
  {
   "cell_type": "code",
   "execution_count": 99,
   "id": "4061ac28-6de0-4f4d-8011-8be824148bbf",
   "metadata": {},
   "outputs": [],
   "source": [
    "def accretion_rate(MC, rmin=20):\n",
    "    \n",
    "    pos = MC['PartType5/RotatedCoordinates']\n",
    "    vel = MC['PartType5/RotatedVelocities']\n",
    "    mass = MC['Header'].attrs['TracerMass']\n",
    "    \n",
    "    r = np.linalg.norm(pos, axis=1)\n",
    "    R = np.linalg.norm(pos[:,:2], axis=1)\n",
    "    cphi = pos[:,0]/R\n",
    "    sphi = pos[:,1]/R\n",
    "    ctheta = pos[:,2]/r\n",
    "    stheta = np.sqrt(1 - ctheta**2)\n",
    "    \n",
    "    vr = stheta * cphi * vel[:,0] + stheta * sphi * vel[:,1] + ctheta * vel[:,2]\n",
    "    \n",
    "    key = r > 20\n",
    "    keyin = np.logical_and(key, vr < 0)\n",
    "    keyout = np.logical_and(key, vr > 0)\n",
    "    \n",
    "    Mdotin = np.sum(mass * vr[keyin] / r[keyin])\n",
    "    Mdotout = np.sum(mass * vr[keyout] / r[keyout])\n",
    "    \n",
    "    return MC['Header'].attrs['Time'], Mdotin, Mdotout\n",
    "    "
   ]
  },
  {
   "cell_type": "code",
   "execution_count": 100,
   "id": "4cd4b347-0e2f-4c08-88e5-b039e203c91f",
   "metadata": {},
   "outputs": [],
   "source": [
    "net = []\n",
    "net_iso = []\n",
    "time = []\n",
    "\n",
    "for num in MC.keys():\n",
    "    t, Min, Mout = accretion_rate(MC[num])\n",
    "    net.append(Min + Mout)\n",
    "    \n",
    "    t, Min, Mout = accretion_rate(MC_iso[num])\n",
    "    net_iso.append(Min + Mout)\n",
    "    \n",
    "    time.append(t)\n",
    "    "
   ]
  },
  {
   "cell_type": "code",
   "execution_count": 102,
   "id": "75ce0d8b-1b78-439e-8f33-61f10ffb9fee",
   "metadata": {},
   "outputs": [
    {
     "data": {
      "text/plain": [
       "[<matplotlib.lines.Line2D at 0x14ee900ed5d0>]"
      ]
     },
     "execution_count": 102,
     "metadata": {},
     "output_type": "execute_result"
    },
    {
     "data": {
      "image/png": "[encoded data removed]",
      "text/plain": [
       "<Figure size 640x480 with 1 Axes>"
      ]
     },
     "metadata": {},
     "output_type": "display_data"
    }
   ],
   "source": [
    "plt.plot(time, net_iso)\n",
    "plt.plot(time, net)"
   ]
  },
  {
   "cell_type": "code",
   "execution_count": 104,
   "id": "d510df90-6e0a-4af2-bcfa-f8b516c19e5d",
   "metadata": {},
   "outputs": [
    {
     "name": "stdout",
     "output_type": "stream",
     "text": [
      "-0.3634147246062862\n",
      "-0.613860871295642\n"
     ]
    }
   ],
   "source": [
    "print(np.trapz(net_iso, time))\n",
    "print(np.trapz(net, time))"
   ]
  },
  {
   "cell_type": "code",
   "execution_count": null,
   "id": "05ec0040-d4b9-43f8-8a4f-c14de74d0a11",
   "metadata": {},
   "outputs": [],
   "source": []
  }
 ],
 "metadata": {
  "kernelspec": {
   "display_name": "Python [conda env:.conda-note]",
   "language": "python",
   "name": "conda-env-.conda-note-py"
  },
  "language_info": {
   "codemirror_mode": {
    "name": "ipython",
    "version": 3
   },
   "file_extension": ".py",
   "mimetype": "text/x-python",
   "name": "python",
   "nbconvert_exporter": "python",
   "pygments_lexer": "ipython3",
   "version": "3.10.12"
  }
 },
 "nbformat": 4,
 "nbformat_minor": 5
}
