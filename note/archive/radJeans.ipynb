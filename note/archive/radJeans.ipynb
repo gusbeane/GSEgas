{
 "cells": [
  {
   "cell_type": "code",
   "execution_count": 71,
   "id": "42ca1831",
   "metadata": {},
   "outputs": [],
   "source": [
    "import numpy as np\n",
    "import arepo\n",
    "import astropy.units as u\n",
    "import matplotlib.pyplot as plt\n",
    "from astropy.constants import c"
   ]
  },
  {
   "cell_type": "code",
   "execution_count": 2,
   "id": "f576a46e",
   "metadata": {},
   "outputs": [],
   "source": [
    "basepath = '/Users/abeane/Projects/GSEgas'"
   ]
  },
  {
   "cell_type": "code",
   "execution_count": 3,
   "id": "9dfc8855",
   "metadata": {},
   "outputs": [],
   "source": [
    "sn = arepo.Snapshot(basepath + '/runs/MW3iso_fg0.5/lvl3/output/', 50, combineFiles=True)"
   ]
  },
  {
   "cell_type": "code",
   "execution_count": 8,
   "id": "1b83fe33",
   "metadata": {},
   "outputs": [],
   "source": [
    "rhocrit = 0.301302"
   ]
  },
  {
   "cell_type": "code",
   "execution_count": 9,
   "id": "90e813a2",
   "metadata": {},
   "outputs": [],
   "source": [
    "E = 1E50 * u.erg"
   ]
  },
  {
   "cell_type": "code",
   "execution_count": 15,
   "id": "96329cb8",
   "metadata": {},
   "outputs": [
    {
     "data": {
      "text/plain": [
       "(array([ 27.,  81., 133., 137., 135.,  88.,  78.,  34.,   9.,   1.]),\n",
       " array([1.0117722e-06, 1.5136333e-06, 2.0154944e-06, 2.5173554e-06,\n",
       "        3.0192164e-06, 3.5210774e-06, 4.0229384e-06, 4.5247998e-06,\n",
       "        5.0266608e-06, 5.5285218e-06, 6.0303828e-06], dtype=float32),\n",
       " <BarContainer object of 10 artists>)"
      ]
     },
     "execution_count": 15,
     "metadata": {},
     "output_type": "execute_result"
    },
    {
     "data": {
      "image/png": "[encoded data removed]",
      "text/plain": [
       "<Figure size 640x480 with 1 Axes>"
      ]
     },
     "metadata": {},
     "output_type": "display_data"
    }
   ],
   "source": [
    "Vcell = sn.part0.mass.value / sn.part0.rho.value\n",
    "key = np.logical_and(sn.part0.rho.value > rhocrit*0.99, sn.part0.rho.value < rhocrit * 1.01)\n",
    "plt.hist(Vcell[key])"
   ]
  },
  {
   "cell_type": "code",
   "execution_count": 18,
   "id": "4c32f424",
   "metadata": {},
   "outputs": [],
   "source": [
    "V = 3E-6 * u.kpc**3"
   ]
  },
  {
   "cell_type": "code",
   "execution_count": 24,
   "id": "101c6953",
   "metadata": {},
   "outputs": [
    {
     "data": {
      "text/plain": [
       "(array([  7.,  34.,  48., 110., 124., 123., 139.,  95.,  39.,   4.]),\n",
       " array([0.01335871, 0.0144449 , 0.01553109, 0.01661729, 0.01770348,\n",
       "        0.01878967, 0.01987586, 0.02096205, 0.02204824, 0.02313443,\n",
       "        0.02422062], dtype=float32),\n",
       " <BarContainer object of 10 artists>)"
      ]
     },
     "execution_count": 24,
     "metadata": {},
     "output_type": "execute_result"
    },
    {
     "data": {
      "image/png": "[encoded data removed]",
      "text/plain": [
       "<Figure size 640x480 with 1 Axes>"
      ]
     },
     "metadata": {},
     "output_type": "display_data"
    }
   ],
   "source": [
    "Vcell = sn.part0.mass.value / sn.part0.rho.value\n",
    "rcell = ((3*np.pi/4.) * Vcell)**(1/3.)\n",
    "key = np.logical_and(sn.part0.rho.value > rhocrit*0.99, sn.part0.rho.value < rhocrit * 1.01)\n",
    "plt.hist(rcell[key])"
   ]
  },
  {
   "cell_type": "code",
   "execution_count": 27,
   "id": "f898eb37",
   "metadata": {},
   "outputs": [],
   "source": [
    "E = 1E50 * u.erg\n",
    "E = E.to(1E10*u.Msun * (u.km/u.s)**2).value"
   ]
  },
  {
   "cell_type": "code",
   "execution_count": 29,
   "id": "46aecf38",
   "metadata": {},
   "outputs": [
    {
     "name": "stdout",
     "output_type": "stream",
     "text": [
      "0.02674731157384392\n"
     ]
    }
   ],
   "source": [
    "V = 3E-6\n",
    "r = 0.02\n",
    "\n",
    "P = E/V\n",
    "rho = rhocrit\n",
    "\n",
    "GAMMA = 5./3.\n",
    "G = 43018.7\n",
    "\n",
    "h = np.sqrt(GAMMA * P/G) * 1 / (10*rho)\n",
    "print(h)"
   ]
  },
  {
   "cell_type": "code",
   "execution_count": 32,
   "id": "b47f6a94",
   "metadata": {},
   "outputs": [],
   "source": [
    "tau = 10\n",
    "L1 = 10.**(36.2) * u.erg/u.s/u.Msun\n",
    "L = 7.5E3 * u.Msun * L1\n",
    "pdot = tau * L / c"
   ]
  },
  {
   "cell_type": "code",
   "execution_count": 44,
   "id": "bcd209cd",
   "metadata": {},
   "outputs": [],
   "source": [
    "pdot\n",
    "pdot = pdot.to_value(1E10*u.Msun*(u.km/u.s)**2/u.kpc)"
   ]
  },
  {
   "cell_type": "code",
   "execution_count": 45,
   "id": "72ad5adb",
   "metadata": {},
   "outputs": [
    {
     "name": "stdout",
     "output_type": "stream",
     "text": [
      "12.240956087495464\n"
     ]
    }
   ],
   "source": [
    "A = 4*np.pi*r**2\n",
    "\n",
    "Press = pdot/A\n",
    "print(Press)"
   ]
  },
  {
   "cell_type": "code",
   "execution_count": 46,
   "id": "52324104",
   "metadata": {},
   "outputs": [
    {
     "name": "stdout",
     "output_type": "stream",
     "text": [
      "0.00722772115675774\n"
     ]
    }
   ],
   "source": [
    "h = np.sqrt(GAMMA * Press/G) * 1 / (10*rho)\n",
    "print(h)"
   ]
  },
  {
   "cell_type": "code",
   "execution_count": 54,
   "id": "73d1ea56",
   "metadata": {},
   "outputs": [
    {
     "name": "stdout",
     "output_type": "stream",
     "text": [
      "0.0190929\n",
      "0.007571108527150973\n"
     ]
    }
   ],
   "source": [
    "rho = rhocrit * 1\n",
    "Vcell = sn.part0.mass.value / sn.part0.rho.value\n",
    "rcell = ((3*np.pi/4.) * Vcell)**(1/3.)\n",
    "rhocell = sn.part0.rho.value\n",
    "key = np.logical_and(sn.part0.rho.value > rho*0.99, sn.part0.rho.value < rho * 1.01)\n",
    "\n",
    "V = np.median(Vcell[key])\n",
    "r = np.median(rcell[key])\n",
    "\n",
    "tau = 10\n",
    "L1 = 10.**(36.2) * u.erg/u.s/u.Msun\n",
    "L = 7.5E3 * u.Msun * L1\n",
    "pdot = tau * L / c\n",
    "pdot = pdot.to_value(1E10*u.Msun*(u.km/u.s)**2/u.kpc)\n",
    "A = 4*np.pi*r**2\n",
    "Press = pdot/A\n",
    "h = np.sqrt(GAMMA * Press/G) * 1 / (10*rho)\n",
    "\n",
    "print(r)\n",
    "print(h)"
   ]
  },
  {
   "cell_type": "code",
   "execution_count": 69,
   "id": "5ab533cc",
   "metadata": {},
   "outputs": [
    {
     "name": "stdout",
     "output_type": "stream",
     "text": [
      "0.030160494\n",
      "0.029794691161756693\n"
     ]
    }
   ],
   "source": [
    "rho = rhocrit * 0.25\n",
    "Vcell = sn.part0.mass.value / sn.part0.rho.value\n",
    "rcell = ((3*np.pi/4.) * Vcell)**(1/3.)\n",
    "rhocell = sn.part0.rho.value\n",
    "key = np.logical_and(sn.part0.rho.value > rho*0.99, sn.part0.rho.value < rho * 1.01)\n",
    "\n",
    "V = np.median(Vcell[key])\n",
    "r = np.median(rcell[key])\n",
    "\n",
    "tau = 10\n",
    "\n",
    "# L1 = 10.**(36.2) * u.erg/u.s/u.Msun\n",
    "# L = 7.5E3 * u.Msun * L1\n",
    "\n",
    "L = 1E3 * 7.5E3 * u.Lsun\n",
    "\n",
    "pdot = tau * L / c\n",
    "pdot = pdot.to_value(1E10*u.Msun*(u.km/u.s)**2/u.kpc)\n",
    "A = 4*np.pi*r**2\n",
    "Press = pdot/A\n",
    "h = np.sqrt(GAMMA * Press/G) * 1 / (10*rho)\n",
    "\n",
    "print(r)\n",
    "print(h)"
   ]
  },
  {
   "cell_type": "code",
   "execution_count": 135,
   "id": "61eb5125",
   "metadata": {},
   "outputs": [
    {
     "name": "stdout",
     "output_type": "stream",
     "text": [
      "0.006989457602273129\n",
      "9.35009740556717 1.4406670814932794\n",
      "0.1540804356364766\n"
     ]
    }
   ],
   "source": [
    "rho = rhocrit*10\n",
    "Vcell = sn.part0.mass.value / sn.part0.rho.value\n",
    "rcell = ((3*np.pi/4.) * Vcell)**(1/3.)\n",
    "ucell = sn.part0.u.value\n",
    "rhocell = sn.part0.rho.value\n",
    "key = np.logical_and(sn.part0.rho.value > rho*0.99, sn.part0.rho.value < rho * 1.01)\n",
    "\n",
    "V = np.median(Vcell[key])\n",
    "r = np.median(rcell[key])\n",
    "u_ = np.median(ucell[key])\n",
    "\n",
    "P = (GAMMA-1) * rho * u_\n",
    "\n",
    "kappaIR = 10 * u.cm**2/u.g\n",
    "rhodust = rho * 0.0127\n",
    "rhodust *= 1E10 * u.Msun / u.kpc**3\n",
    "\n",
    "tau = kappaIR * rhodust * r * u.kpc\n",
    "print(tau.to(u.dimensionless_unscaled))\n",
    "\n",
    "# L1 = 10.**(36.2) * u.erg/u.s/u.Msun\n",
    "# L = 7.5E3 * u.Msun * L1\n",
    "\n",
    "L = 1E3 * 1E5 * u.Lsun\n",
    "# L = 7E7 * u.Lsun\n",
    "\n",
    "pdot = tau * L / c\n",
    "pdot = pdot.to_value(1E10*u.Msun*(u.km/u.s)**2/u.kpc)\n",
    "A = 4*np.pi*r**2\n",
    "Press = pdot/A\n",
    "# h = np.sqrt(GAMMA * Press/G) * 1 / (10*rho)\n",
    "print(P, Press)\n",
    "print(Press/P)\n",
    "# print(r)\n",
    "# print(h)\n",
    "\n",
    "\n"
   ]
  },
  {
   "cell_type": "code",
   "execution_count": 103,
   "id": "9c62b34c",
   "metadata": {},
   "outputs": [
    {
     "data": {
      "text/plain": [
       "70000.0"
      ]
     },
     "execution_count": 103,
     "metadata": {},
     "output_type": "execute_result"
    }
   ],
   "source": [
    "7E7 / 1E3"
   ]
  },
  {
   "cell_type": "code",
   "execution_count": 131,
   "id": "74cc2b77",
   "metadata": {},
   "outputs": [
    {
     "name": "stdout",
     "output_type": "stream",
     "text": [
      "[49.25920095 47.32916416 49.94177092]\n",
      "1\n"
     ]
    }
   ],
   "source": [
    "key = np.argmin(np.abs(sn.part0.rho.value - rhocrit*1000))\n",
    "pos = sn.part0.pos.value[key]\n",
    "print(pos)\n",
    "\n",
    "rdiff = np.linalg.norm(sn.part4.pos.value - pos, axis=1)\n",
    "in_sc = rdiff < 0.01\n",
    "print(len(np.where(in_sc)[0]))"
   ]
  },
  {
   "cell_type": "code",
   "execution_count": 133,
   "id": "fa544fbf",
   "metadata": {},
   "outputs": [
    {
     "data": {
      "text/plain": [
       "0.15"
      ]
     },
     "execution_count": 133,
     "metadata": {},
     "output_type": "execute_result"
    }
   ],
   "source": [
    "20 * 7.5E3/1E6"
   ]
  },
  {
   "cell_type": "code",
   "execution_count": 136,
   "id": "128097bf",
   "metadata": {},
   "outputs": [
    {
     "data": {
      "text/latex": [
       "$1.405441 \\times 10^{47} \\; \\mathrm{\\frac{1}{s}}$"
      ],
      "text/plain": [
       "<Quantity 1.40544098e+47 1 / s>"
      ]
     },
     "execution_count": 136,
     "metadata": {},
     "output_type": "execute_result"
    }
   ],
   "source": [
    "(1E3 * u.Lsun / (17 * u.eV)).to(1/u.s)"
   ]
  },
  {
   "cell_type": "code",
   "execution_count": 140,
   "id": "64a2c082",
   "metadata": {},
   "outputs": [
    {
     "data": {
      "text/plain": [
       "0.0"
      ]
     },
     "execution_count": 140,
     "metadata": {},
     "output_type": "execute_result"
    }
   ],
   "source": [
    "np.max(sn.part4.RadFeedTau[sn.part4.RadFeedTau > -999])"
   ]
  },
  {
   "cell_type": "markdown",
   "id": "47c786b3",
   "metadata": {},
   "source": [
    "### notes\n",
    "\n",
    "check IR optical depths\n",
    "\n",
    "compute surface densities by hand, compute optical depth by hand\n",
    "\n",
    "Arp 220 - \n",
    "\n",
    "check turbulent velocities, if higher than sound speed photoionization will not work\n",
    "\n"
   ]
  },
  {
   "cell_type": "code",
   "execution_count": 1,
   "id": "2e98339a",
   "metadata": {},
   "outputs": [
    {
     "data": {
      "text/plain": [
       "256"
      ]
     },
     "execution_count": 1,
     "metadata": {},
     "output_type": "execute_result"
    }
   ],
   "source": [
    "2**8"
   ]
  },
  {
   "cell_type": "code",
   "execution_count": 2,
   "id": "49f36f0f",
   "metadata": {},
   "outputs": [
    {
     "data": {
      "text/plain": [
       "0.029116720942944443"
      ]
     },
     "execution_count": 2,
     "metadata": {},
     "output_type": "execute_result"
    }
   ],
   "source": [
    "(129.891-126.109)/129.891"
   ]
  },
  {
   "cell_type": "code",
   "execution_count": 4,
   "id": "29230660",
   "metadata": {},
   "outputs": [
    {
     "data": {
      "text/plain": [
       "8589934592"
      ]
     },
     "execution_count": 4,
     "metadata": {},
     "output_type": "execute_result"
    }
   ],
   "source": [
    "2**33"
   ]
  },
  {
   "cell_type": "code",
   "execution_count": null,
   "id": "7e2c7501",
   "metadata": {},
   "outputs": [],
   "source": []
  }
 ],
 "metadata": {
  "kernelspec": {
   "display_name": "Python 3 (ipykernel)",
   "language": "python",
   "name": "python3"
  },
  "language_info": {
   "codemirror_mode": {
    "name": "ipython",
    "version": 3
   },
   "file_extension": ".py",
   "mimetype": "text/x-python",
   "name": "python",
   "nbconvert_exporter": "python",
   "pygments_lexer": "ipython3",
   "version": "3.10.11"
  }
 },
 "nbformat": 4,
 "nbformat_minor": 5
}
