{
 "cells": [
  {
   "cell_type": "code",
   "execution_count": 2,
   "id": "6cfe854b-5831-472d-819e-c5d1d4808b8a",
   "metadata": {},
   "outputs": [],
   "source": [
    "import numpy as np\n",
    "import arepo\n",
    "import matplotlib.pyplot as plt\n",
    "from scipy.stats import binned_statistic_2d\n",
    "import matplotlib as mpl"
   ]
  },
  {
   "cell_type": "code",
   "execution_count": 3,
   "id": "f481c1ff-41f2-471e-bdb0-86c10b842df0",
   "metadata": {},
   "outputs": [],
   "source": [
    "basepath = '/n/holylfs05/LABS/hernquist_lab/Users/abeane/GSEgas/'"
   ]
  },
  {
   "cell_type": "code",
   "execution_count": 4,
   "id": "bb23870d-6fb5-4ae1-9ec0-4f5f39a9d91f",
   "metadata": {},
   "outputs": [],
   "source": [
    "sn = arepo.Snapshot(basepath + 'runs/MWiso_fg0.5_BS0.4/lvl4/output', 50, combineFiles=True)\n",
    "sn0 = arepo.Snapshot(basepath + 'runs/MWiso_fg0.5_Z0-newSMUGGLE/lvl4/output', 0, combineFiles=True)"
   ]
  },
  {
   "cell_type": "code",
   "execution_count": 7,
   "id": "379f9e9a-1ff9-4aa0-bdd8-f08cddeec62b",
   "metadata": {},
   "outputs": [],
   "source": [
    "center = sn.part1.pos.value[np.argmin(sn.part1.pot.value)]"
   ]
  },
  {
   "cell_type": "code",
   "execution_count": 11,
   "id": "bc5dbb46-49f2-4f22-8d99-440dbfa33f2e",
   "metadata": {},
   "outputs": [],
   "source": [
    "pos = sn.part2.pos.value - center\n",
    "vel = sn.part2.vel.value\n",
    "acc = sn.part2.acce\n",
    "\n",
    "R = np.linalg.norm(pos[:,:2], axis=1)\n",
    "phi = np.arctan2(pos[:,1], pos[:,0])"
   ]
  },
  {
   "cell_type": "code",
   "execution_count": 15,
   "id": "73028533-85df-4c09-99f1-6ea82211bdee",
   "metadata": {},
   "outputs": [
    {
     "name": "stderr",
     "output_type": "stream",
     "text": [
      "<ipython-input-15-b5e439746ef6>:3: RuntimeWarning: invalid value encountered in sqrt\n",
      "  vc = np.sqrt(vcsq)\n"
     ]
    }
   ],
   "source": [
    "accR = np.cos(phi) * acc[:,0] + np.sin(phi) * acc[:,1]\n",
    "vcsq = - R * accR\n",
    "vc = np.sqrt(vcsq)"
   ]
  },
  {
   "cell_type": "code",
   "execution_count": 19,
   "id": "285655af-5f52-43e5-9f58-92d1694e67cd",
   "metadata": {},
   "outputs": [],
   "source": [
    "Rmax = 2.\n",
    "Rmin = 0.0\n",
    "dR = 0.02\n",
    "\n",
    "Rlist = []\n",
    "vclist = []\n",
    "\n",
    "while Rmin < Rmax:\n",
    "    key = np.logical_and(R>Rmin, R<Rmin+dR)\n",
    "    Rlist.append(np.mean(R[key]))\n",
    "    vclist.append(np.mean(vc[key]))\n",
    "\n",
    "    Rmin += dR\n",
    "\n",
    "Rlist = np.array(Rlist)\n",
    "vclist = np.array(vclist)\n",
    "    "
   ]
  },
  {
   "cell_type": "code",
   "execution_count": 20,
   "id": "f7faea7c-4f56-406c-be07-b5b324d0f9b7",
   "metadata": {},
   "outputs": [
    {
     "data": {
      "text/plain": [
       "Text(0, 0.5, '<vc> [km/s]')"
      ]
     },
     "execution_count": 20,
     "metadata": {},
     "output_type": "execute_result"
    },
    {
     "data": {
      "image/png": "[encoded data removed]",
      "text/plain": [
       "<Figure size 432x288 with 1 Axes>"
      ]
     },
     "metadata": {
      "needs_background": "light"
     },
     "output_type": "display_data"
    }
   ],
   "source": [
    "plt.plot(Rlist, vclist)\n",
    "plt.xlabel('R [kpc]')\n",
    "plt.ylabel('<vc> [km/s]')"
   ]
  },
  {
   "cell_type": "code",
   "execution_count": 28,
   "id": "616c5d9d-ffd9-4bb4-95f9-03b7b3d2eefe",
   "metadata": {},
   "outputs": [
    {
     "data": {
      "text/plain": [
       "Text(0, 0.5, 'vc [km/s]')"
      ]
     },
     "execution_count": 28,
     "metadata": {},
     "output_type": "execute_result"
    },
    {
     "data": {
      "image/png": "[encoded data removed]",
      "text/plain": [
       "<Figure size 432x288 with 1 Axes>"
      ]
     },
     "metadata": {
      "needs_background": "light"
     },
     "output_type": "display_data"
    }
   ],
   "source": [
    "Rmin = 0.2\n",
    "Rmax = Rmin + 0.02\n",
    "\n",
    "key = np.logical_and(R > Rmin, R<Rmax)\n",
    "key = np.logical_and(key, np.abs(pos[:,2]) < 0.1)\n",
    "plt.scatter(phi[key], vc[key])\n",
    "plt.xlabel('phi')\n",
    "plt.ylabel('vc [km/s]')\n"
   ]
  },
  {
   "cell_type": "code",
   "execution_count": null,
   "id": "71f23cea-2a91-42ea-be0e-e24eda168af4",
   "metadata": {},
   "outputs": [],
   "source": []
  },
  {
   "cell_type": "code",
   "execution_count": 42,
   "id": "993a3ad8-7bcf-4e4d-9cd3-14a73c375e4c",
   "metadata": {},
   "outputs": [],
   "source": [
    "pos = sn.part0.pos.value - center\n",
    "vel = sn.part0.vel.value\n",
    "acc = sn.part0.acce\n",
    "mass = sn.part0.mass.value\n",
    "\n",
    "r = np.linalg.norm(pos, axis=1)\n",
    "R = np.linalg.norm(pos[:,:2], axis=1)\n",
    "phi = np.arctan2(pos[:,1], pos[:,0])"
   ]
  },
  {
   "cell_type": "code",
   "execution_count": 35,
   "id": "9c89fd68-6a89-4fca-93d3-bd31a9e16a31",
   "metadata": {},
   "outputs": [
    {
     "name": "stdout",
     "output_type": "stream",
     "text": [
      "0.46480025333885266\n",
      "0.15463537978940164\n",
      "0.0959834663641808\n"
     ]
    }
   ],
   "source": [
    "key = R < 0.15\n",
    "A6r = np.sum(mass[key] * np.cos(6*phi[key]))\n",
    "A6i = np.sum(mass[key] * np.sin(6*phi[key]))\n",
    "A6 = np.sqrt(A6r**2 + A6i**2)\n",
    "A4r = np.sum(mass[key] * np.cos(4*phi[key]))\n",
    "A4i = np.sum(mass[key] * np.sin(4*phi[key]))\n",
    "A4 = np.sqrt(A4r**2 + A4i**2)\n",
    "A2r = np.sum(mass[key] * np.cos(2*phi[key]))\n",
    "A2i = np.sum(mass[key] * np.sin(2*phi[key]))\n",
    "A2 = np.sqrt(A2r**2 + A2i**2)\n",
    "A0 = np.sum(mass[key])\n",
    "print(A2/A0)\n",
    "print(A4/A0)\n",
    "print(A6/A0)"
   ]
  },
  {
   "cell_type": "code",
   "execution_count": 46,
   "id": "296d3c14-b0aa-4ad6-ab32-cfb38a9acc16",
   "metadata": {},
   "outputs": [],
   "source": [
    "key = r < 0.1\n",
    "Lang = np.cross(pos, vel)\n",
    "Ltot = np.sum(Lang[key], axis=0)"
   ]
  },
  {
   "cell_type": "code",
   "execution_count": 47,
   "id": "682229cb-33d8-4969-b409-8cf1a5593546",
   "metadata": {},
   "outputs": [
    {
     "name": "stdout",
     "output_type": "stream",
     "text": [
      "[ 9763.46793257 23238.29699033 -4087.16236393]\n"
     ]
    }
   ],
   "source": [
    "print(Ltot)"
   ]
  },
  {
   "cell_type": "markdown",
   "id": "1ecb78b0-0348-4cab-9749-35e6e837a18f",
   "metadata": {},
   "source": [
    "### Jeans mass"
   ]
  },
  {
   "cell_type": "code",
   "execution_count": 7,
   "id": "27298a9a-6dc4-4cca-8652-640f49552509",
   "metadata": {},
   "outputs": [],
   "source": [
    "def compute_T(sn):\n",
    "    u = sn.part0.InternalEnergy.value\n",
    "    xe = sn.part0.ElectronAbundance\n",
    "    \n",
    "    gamma=5/3\n",
    "    \n",
    "    XH = 0.76\n",
    "    mp = 1.672621911E-24\n",
    "    mu = 4 * mp / (1 + 3*XH + 4*XH*xe)\n",
    "    \n",
    "    kB = 1.381E-16\n",
    "    \n",
    "    T = (gamma - 1.) * (u/kB) * 1E10 * mu\n",
    "    return T"
   ]
  },
  {
   "cell_type": "code",
   "execution_count": 61,
   "id": "2508cb7f-1cd5-4221-b796-0674f13ef3ca",
   "metadata": {},
   "outputs": [],
   "source": [
    "import astropy.units as u\n",
    "from astropy.constants import k_B"
   ]
  },
  {
   "cell_type": "code",
   "execution_count": 71,
   "id": "8fdda5f4-1200-49bf-bd03-77ae967ec6ee",
   "metadata": {},
   "outputs": [
    {
     "data": {
      "text/latex": [
       "$1.380649 \\times 10^{-16} \\; \\mathrm{\\frac{erg}{K}}$"
      ],
      "text/plain": [
       "<Quantity 1.380649e-16 erg / K>"
      ]
     },
     "execution_count": 71,
     "metadata": {},
     "output_type": "execute_result"
    }
   ],
   "source": [
    "k_B.cgs"
   ]
  },
  {
   "cell_type": "code",
   "execution_count": 6,
   "id": "1728e70f-5049-4f84-aaaa-0b74133cab4b",
   "metadata": {},
   "outputs": [],
   "source": [
    "def Jeans(rho, T):\n",
    "    gamma = 5./3.\n",
    "    \n",
    "    XH = 0.76\n",
    "    mp = 1.672621911E-24\n",
    "    xe = 0\n",
    "    mu = 4 * mp / (1 + 3*XH + 4*XH*xe)\n",
    "    UnitEnergy_in_cgs         = 1.989e+53\n",
    "    UnitMass_in_g             = 1.989e+43\n",
    "    \n",
    "    kB = 1.381E-16\n",
    "    G = 43018.7\n",
    "    \n",
    "    Jeans_length = np.sqrt((5*  kB*T)/(2*np.pi*(gamma-1)*mu*rho*G) / (UnitEnergy_in_cgs/UnitMass_in_g))\n",
    "    Jeans_mass = (4*np.pi/3.) * rho * Jeans_length**3\n",
    "    \n",
    "    return Jeans_length, Jeans_mass"
   ]
  },
  {
   "cell_type": "code",
   "execution_count": 89,
   "id": "6ccbc39a-e764-4477-ac09-c2fe764268a7",
   "metadata": {},
   "outputs": [],
   "source": [
    "L, M = Jeans(sn0.part0.rho.value, 1E4)"
   ]
  },
  {
   "cell_type": "code",
   "execution_count": null,
   "id": "ae0b0a14-e3ad-4e76-8b1c-5a52b8a16496",
   "metadata": {},
   "outputs": [],
   "source": []
  },
  {
   "cell_type": "code",
   "execution_count": 91,
   "id": "2b089af0-7a5b-41fb-b8dc-b603aceb166b",
   "metadata": {},
   "outputs": [
    {
     "data": {
      "text/plain": [
       "array([2.0947350e-04, 1.4402052e-04, 9.4666299e-05, ..., 7.0223794e-04,\n",
       "       5.5922900e-04, 4.0404350e-03], dtype=float32)"
      ]
     },
     "execution_count": 91,
     "metadata": {},
     "output_type": "execute_result"
    }
   ],
   "source": [
    "M[key0]"
   ]
  },
  {
   "cell_type": "code",
   "execution_count": 92,
   "id": "225f3312-e3d6-467d-aae5-547bc9823b36",
   "metadata": {},
   "outputs": [
    {
     "name": "stdout",
     "output_type": "stream",
     "text": [
      "0.019752463\n",
      "0.08319405\n"
     ]
    }
   ],
   "source": [
    "print(np.median(6E4/M[key0]/1E10))\n",
    "print(np.max(6E4/M[key0]/1E10))"
   ]
  },
  {
   "cell_type": "code",
   "execution_count": 88,
   "id": "c7a38a92-d443-4eff-a8e8-b9e77632b852",
   "metadata": {},
   "outputs": [],
   "source": [
    "pos0 = sn0.part0.pos.value - center\n",
    "vel0 = sn0.part0.vel.value\n",
    "acc0 = sn0.part0.acce\n",
    "mass0 = sn0.part0.mass.value\n",
    "\n",
    "r = np.linalg.norm(pos0, axis=1)\n",
    "R = np.linalg.norm(pos0[:,:2], axis=1)\n",
    "phi = np.arctan2(pos0[:,1], pos0[:,0])\n",
    "\n",
    "key0 = r < 0.1"
   ]
  },
  {
   "cell_type": "code",
   "execution_count": 93,
   "id": "a28ffcb7-be37-4f80-8704-a524a9edbf21",
   "metadata": {},
   "outputs": [],
   "source": [
    "def compute_T(sn):\n",
    "    u = sn.part0.InternalEnergy.value\n",
    "    xe = sn.part0.ElectronAbundance\n",
    "    \n",
    "    gamma=5/3\n",
    "    \n",
    "    XH = 0.76\n",
    "    mp = 1.672621911E-24\n",
    "    mu = 4 * mp / (1 + 3*XH + 4*XH*xe)\n",
    "    \n",
    "    kB = 1.381E-16\n",
    "    \n",
    "    T = (gamma - 1.) * (u/kB) * 1E10 * mu\n",
    "    return T"
   ]
  },
  {
   "cell_type": "code",
   "execution_count": 125,
   "id": "bbfb3a95-9c1a-4cf4-ac76-219432bc3f03",
   "metadata": {},
   "outputs": [
    {
     "data": {
      "text/plain": [
       "Text(0.5, 1.0, '0 Myr')"
      ]
     },
     "execution_count": 125,
     "metadata": {},
     "output_type": "execute_result"
    },
    {
     "data": {
      "image/png": "[encoded data removed]",
      "text/plain": [
       "<Figure size 432x288 with 1 Axes>"
      ]
     },
     "metadata": {
      "needs_background": "light"
     },
     "output_type": "display_data"
    }
   ],
   "source": [
    "sn = arepo.Snapshot(basepath + 'runs/MWiso_fg0.5_Z0-newSMUGGLE/lvl4/output', 0, combineFiles=True)\n",
    "center = sn.part1.pos.value[np.argmin(sn.part1.pot)]\n",
    "\n",
    "pos = sn.part0.pos.value - center\n",
    "vel = sn.part0.vel.value\n",
    "acc = sn.part0.acce\n",
    "mass = sn.part0.mass.value\n",
    "\n",
    "r = np.linalg.norm(pos, axis=1)\n",
    "R = np.linalg.norm(pos[:,:2], axis=1)\n",
    "phi = np.arctan2(pos[:,1], pos[:,0])\n",
    "\n",
    "key = r < 0.1\n",
    "\n",
    "T = compute_T(sn)\n",
    "L, M = Jeans(sn.part0.rho.value, T)\n",
    "plt.hist(np.log10(mass[key]/M[key]), bins=np.linspace(-2, 2, 64));\n",
    "# plt.yscale('log')\n",
    "plt.xlabel('log10(M_cell/M_J)')\n",
    "plt.title('0 Myr')"
   ]
  },
  {
   "cell_type": "code",
   "execution_count": 12,
   "id": "f2daac8d-b843-4162-ab7f-4f419b560de4",
   "metadata": {},
   "outputs": [
    {
     "data": {
      "text/plain": [
       "Text(0.5, 1.0, 't=250 Myr')"
      ]
     },
     "execution_count": 12,
     "metadata": {},
     "output_type": "execute_result"
    },
    {
     "data": {
      "image/png": "[encoded data removed]",
      "text/plain": [
       "<Figure size 432x288 with 1 Axes>"
      ]
     },
     "metadata": {
      "needs_background": "light"
     },
     "output_type": "display_data"
    }
   ],
   "source": [
    "sn = arepo.Snapshot(basepath + 'runs/MWiso_fg0.5_Z0-newSMUGGLE/lvl4-SFE/output', 50, combineFiles=True)\n",
    "center = sn.part1.pos.value[np.argmin(sn.part1.pot)]\n",
    "\n",
    "pos = sn.part0.pos.value - center\n",
    "vel = sn.part0.vel.value\n",
    "acc = sn.part0.acce\n",
    "mass = sn.part0.mass.value\n",
    "\n",
    "r = np.linalg.norm(pos, axis=1)\n",
    "R = np.linalg.norm(pos[:,:2], axis=1)\n",
    "phi = np.arctan2(pos[:,1], pos[:,0])\n",
    "\n",
    "key = r < 0.1\n",
    "\n",
    "T = compute_T(sn)\n",
    "L, M = Jeans(sn.part0.rho.value, T)\n",
    "plt.hist(np.log10(mass[key]/M[key]), bins=np.linspace(-2, 2, 64));\n",
    "# plt.yscale('log')\n",
    "plt.xlabel('log10(M_cell/M_J)')\n",
    "plt.title('t=250 Myr')"
   ]
  },
  {
   "cell_type": "code",
   "execution_count": 127,
   "id": "e2fe8e39-2457-4eb3-9c89-309b62125fe5",
   "metadata": {},
   "outputs": [
    {
     "data": {
      "text/plain": [
       "Text(0.5, 1.0, 't=10 Myr')"
      ]
     },
     "execution_count": 127,
     "metadata": {},
     "output_type": "execute_result"
    },
    {
     "data": {
      "image/png": "[encoded data removed]",
      "text/plain": [
       "<Figure size 432x288 with 1 Axes>"
      ]
     },
     "metadata": {
      "needs_background": "light"
     },
     "output_type": "display_data"
    }
   ],
   "source": [
    "sn = arepo.Snapshot(basepath + 'runs/MWiso_fg0.5_Z0-newSMUGGLE/lvl4/output', 2, combineFiles=True)\n",
    "center = sn.part1.pos.value[np.argmin(sn.part1.pot)]\n",
    "\n",
    "pos = sn.part0.pos.value - center\n",
    "vel = sn.part0.vel.value\n",
    "acc = sn.part0.acce\n",
    "mass = sn.part0.mass.value\n",
    "\n",
    "r = np.linalg.norm(pos, axis=1)\n",
    "R = np.linalg.norm(pos[:,:2], axis=1)\n",
    "phi = np.arctan2(pos[:,1], pos[:,0])\n",
    "\n",
    "key = r < 0.1\n",
    "\n",
    "T = compute_T(sn)\n",
    "L, M = Jeans(sn.part0.rho.value, T)\n",
    "plt.hist(np.log10(mass[key]/M[key]), bins=np.linspace(-2, 2, 64));\n",
    "# plt.yscale('log')\n",
    "plt.xlabel('log10(M_cell/M_J)')\n",
    "plt.title('t=10 Myr')"
   ]
  },
  {
   "cell_type": "code",
   "execution_count": 128,
   "id": "bdd57a36-c284-4692-b6b6-7e2962b98d7f",
   "metadata": {},
   "outputs": [
    {
     "data": {
      "text/plain": [
       "Text(0.5, 1.0, 't=15 Myr')"
      ]
     },
     "execution_count": 128,
     "metadata": {},
     "output_type": "execute_result"
    },
    {
     "data": {
      "image/png": "[encoded data removed]",
      "text/plain": [
       "<Figure size 432x288 with 1 Axes>"
      ]
     },
     "metadata": {
      "needs_background": "light"
     },
     "output_type": "display_data"
    }
   ],
   "source": [
    "sn = arepo.Snapshot(basepath + 'runs/MWiso_fg0.5_Z0-newSMUGGLE/lvl4/output', 3, combineFiles=True)\n",
    "center = sn.part1.pos.value[np.argmin(sn.part1.pot)]\n",
    "\n",
    "pos = sn.part0.pos.value - center\n",
    "vel = sn.part0.vel.value\n",
    "acc = sn.part0.acce\n",
    "mass = sn.part0.mass.value\n",
    "\n",
    "r = np.linalg.norm(pos, axis=1)\n",
    "R = np.linalg.norm(pos[:,:2], axis=1)\n",
    "phi = np.arctan2(pos[:,1], pos[:,0])\n",
    "\n",
    "key = r < 0.1\n",
    "\n",
    "T = compute_T(sn)\n",
    "L, M = Jeans(sn.part0.rho.value, T)\n",
    "plt.hist(np.log10(mass[key]/M[key]), bins=np.linspace(-2, 2, 64));\n",
    "# plt.yscale('log')\n",
    "plt.xlabel('log10(M_cell/M_J)')\n",
    "plt.title('t=15 Myr')"
   ]
  },
  {
   "cell_type": "code",
   "execution_count": 130,
   "id": "79db41c5-351c-40ee-8fc5-15f78ce8a5ca",
   "metadata": {},
   "outputs": [
    {
     "data": {
      "text/plain": [
       "Text(0.5, 1.0, 't=20 Myr')"
      ]
     },
     "execution_count": 130,
     "metadata": {},
     "output_type": "execute_result"
    },
    {
     "data": {
      "image/png": "[encoded data removed]",
      "text/plain": [
       "<Figure size 432x288 with 1 Axes>"
      ]
     },
     "metadata": {
      "needs_background": "light"
     },
     "output_type": "display_data"
    }
   ],
   "source": [
    "sn = arepo.Snapshot(basepath + 'runs/MWiso_fg0.5_Z0-newSMUGGLE/lvl4/output', 4, combineFiles=True)\n",
    "center = sn.part1.pos.value[np.argmin(sn.part1.pot)]\n",
    "\n",
    "pos = sn.part0.pos.value - center\n",
    "vel = sn.part0.vel.value\n",
    "acc = sn.part0.acce\n",
    "mass = sn.part0.mass.value\n",
    "\n",
    "r = np.linalg.norm(pos, axis=1)\n",
    "R = np.linalg.norm(pos[:,:2], axis=1)\n",
    "phi = np.arctan2(pos[:,1], pos[:,0])\n",
    "\n",
    "key = r < 0.1\n",
    "\n",
    "T = compute_T(sn)\n",
    "L, M = Jeans(sn.part0.rho.value, T)\n",
    "plt.hist(np.log10(mass[key]/M[key]), bins=np.linspace(-2, 2, 64));\n",
    "# plt.yscale('log')\n",
    "plt.xlabel('log10(M_cell/M_J)')\n",
    "# plt.yscale('log')\n",
    "plt.title('t=20 Myr')"
   ]
  },
  {
   "cell_type": "code",
   "execution_count": 132,
   "id": "92b1d581-200b-485f-aa4a-1af05ccf4f65",
   "metadata": {},
   "outputs": [
    {
     "data": {
      "text/plain": [
       "Text(0.5, 1.0, 't=25 Myr')"
      ]
     },
     "execution_count": 132,
     "metadata": {},
     "output_type": "execute_result"
    },
    {
     "data": {
      "image/png": "[encoded data removed]",
      "text/plain": [
       "<Figure size 432x288 with 1 Axes>"
      ]
     },
     "metadata": {
      "needs_background": "light"
     },
     "output_type": "display_data"
    }
   ],
   "source": [
    "sn = arepo.Snapshot(basepath + 'runs/MWiso_fg0.5_Z0-newSMUGGLE/lvl4/output', 5, combineFiles=True)\n",
    "center = sn.part1.pos.value[np.argmin(sn.part1.pot)]\n",
    "\n",
    "pos = sn.part0.pos.value - center\n",
    "vel = sn.part0.vel.value\n",
    "acc = sn.part0.acce\n",
    "mass = sn.part0.mass.value\n",
    "\n",
    "r = np.linalg.norm(pos, axis=1)\n",
    "R = np.linalg.norm(pos[:,:2], axis=1)\n",
    "phi = np.arctan2(pos[:,1], pos[:,0])\n",
    "\n",
    "key = r < 0.1\n",
    "\n",
    "T = compute_T(sn)\n",
    "L, M = Jeans(sn.part0.rho.value, T)\n",
    "plt.hist(np.log10(mass[key]/M[key]), bins=np.linspace(-2, 2, 64));\n",
    "# plt.yscale('log')\n",
    "plt.xlabel('log10(M_cell/M_J)')\n",
    "# plt.yscale('log')\n",
    "plt.title('t=25 Myr')"
   ]
  },
  {
   "cell_type": "code",
   "execution_count": 121,
   "id": "48e09b49-e440-4834-a5e9-99b3c8e639ab",
   "metadata": {},
   "outputs": [
    {
     "data": {
      "text/plain": [
       "Text(0.5, 1.0, 't=250 Myr')"
      ]
     },
     "execution_count": 121,
     "metadata": {},
     "output_type": "execute_result"
    },
    {
     "data": {
      "image/png": "[encoded data removed]",
      "text/plain": [
       "<Figure size 432x288 with 1 Axes>"
      ]
     },
     "metadata": {
      "needs_background": "light"
     },
     "output_type": "display_data"
    }
   ],
   "source": [
    "sn = arepo.Snapshot(basepath + 'runs/MWiso_fg0.5_Z0-newSMUGGLE/lvl4/output', 50, combineFiles=True)\n",
    "center = sn.part1.pos.value[np.argmin(sn.part1.pot)]\n",
    "\n",
    "pos = sn.part0.pos.value - center\n",
    "vel = sn.part0.vel.value\n",
    "acc = sn.part0.acce\n",
    "mass = sn.part0.mass.value\n",
    "\n",
    "r = np.linalg.norm(pos, axis=1)\n",
    "R = np.linalg.norm(pos[:,:2], axis=1)\n",
    "phi = np.arctan2(pos[:,1], pos[:,0])\n",
    "\n",
    "key = r < 0.1\n",
    "\n",
    "T = compute_T(sn)\n",
    "L, M = Jeans(sn.part0.rho.value, T)\n",
    "plt.hist(np.log10(mass[key]/M[key]), bins=np.linspace(-2, 2, 64));\n",
    "# plt.yscale('log')\n",
    "plt.xlabel('log10(M_cell/M_J)')\n",
    "plt.title('t=250 Myr')"
   ]
  },
  {
   "cell_type": "code",
   "execution_count": 9,
   "id": "a22125b3-3733-4292-b7df-6d4830afc8ca",
   "metadata": {},
   "outputs": [
    {
     "data": {
      "text/plain": [
       "Text(0.5, 1.0, 't=250 Myr')"
      ]
     },
     "execution_count": 9,
     "metadata": {},
     "output_type": "execute_result"
    },
    {
     "data": {
      "image/png": "[encoded data removed]",
      "text/plain": [
       "<Figure size 432x288 with 1 Axes>"
      ]
     },
     "metadata": {
      "needs_background": "light"
     },
     "output_type": "display_data"
    }
   ],
   "source": [
    "sn = arepo.Snapshot(basepath + 'runs/MWiso_fg0.5_Z0-newSMUGGLE/lvl4/output', 50, combineFiles=True)\n",
    "center = sn.part1.pos.value[np.argmin(sn.part1.pot)]\n",
    "\n",
    "pos = sn.part0.pos.value - center\n",
    "vel = sn.part0.vel.value\n",
    "acc = sn.part0.acce\n",
    "mass = sn.part0.mass.value\n",
    "sfr = sn.part0.sfr.value\n",
    "\n",
    "r = np.linalg.norm(pos, axis=1)\n",
    "R = np.linalg.norm(pos[:,:2], axis=1)\n",
    "phi = np.arctan2(pos[:,1], pos[:,0])\n",
    "\n",
    "key = np.logical_and(r < 0.1, sfr == 0)\n",
    "\n",
    "T = compute_T(sn)\n",
    "L, M = Jeans(sn.part0.rho.value, T)\n",
    "plt.hist(np.log10(mass[key]/M[key]), bins=np.linspace(-2, 2, 64));\n",
    "# plt.yscale('log')\n",
    "plt.xlabel('log10(M_cell/M_J)')\n",
    "plt.title('t=250 Myr')"
   ]
  },
  {
   "cell_type": "code",
   "execution_count": 124,
   "id": "3c5ca1ee-c801-48d3-ad52-3dfab7388e84",
   "metadata": {},
   "outputs": [
    {
     "name": "stdout",
     "output_type": "stream",
     "text": [
      "0.5414928140936486 0.4585071859063514\n"
     ]
    }
   ],
   "source": [
    "rat = mass[key]/M[key]\n",
    "print(len(rat[rat > 1])/len(rat), len(rat[rat<1])/len(rat))"
   ]
  },
  {
   "cell_type": "markdown",
   "id": "a6c7bf4f-d7c7-4b69-a626-a1dd5fe01c6d",
   "metadata": {},
   "source": [
    "### phase diagram"
   ]
  },
  {
   "cell_type": "code",
   "execution_count": 1,
   "id": "f947f54a-361a-4a46-95ab-f03e0dffc556",
   "metadata": {},
   "outputs": [],
   "source": [
    "def compute_T(sn):\n",
    "    u = sn.part0.InternalEnergy.value\n",
    "    xe = sn.part0.ElectronAbundance\n",
    "    \n",
    "    gamma=5/3\n",
    "    \n",
    "    XH = 0.76\n",
    "    mp = 1.672621911E-24\n",
    "    mu = 4 * mp / (1 + 3*XH + 4*XH*xe)\n",
    "    \n",
    "    kB = 1.381E-16\n",
    "    \n",
    "    T = (gamma - 1.) * (u/kB) * 1E10 * mu\n",
    "    return T\n",
    "\n",
    "def compute_n(sn):\n",
    "    rho = np.copy(sn.part0.Density.value)\n",
    "    xe  = sn.part0.ElectronAbundance\n",
    "    # print(rho[rho>0])\n",
    "    \n",
    "    #convert rho to cgs\n",
    "    UnitMass   = sn.parameters.UnitMass_in_g\n",
    "    UnitLength = sn.parameters.UnitLength_in_cm\n",
    "    rho *= UnitMass/UnitLength**3\n",
    "    # print(UnitMass/UnitLength**3)\n",
    "    \n",
    "    XH = 0.76\n",
    "    mp = 1.672621911E-24\n",
    "    mu = 4 * mp / (1 + 3*XH + 4*XH*xe)\n",
    "    \n",
    "    # print(np.median(mu))\n",
    "    # print(np.where(np.isnan(rho[rho>0]))[0])\n",
    "    # print(rho[:10])\n",
    "    \n",
    "    n = rho / mu\n",
    "    \n",
    "    return n\n",
    "    "
   ]
  },
  {
   "cell_type": "code",
   "execution_count": 5,
   "id": "3ce4aaa6-e5c7-4ab2-b98d-cea38126f034",
   "metadata": {},
   "outputs": [],
   "source": [
    "sn050 = arepo.Snapshot(basepath + 'runs/MWiso_fg0.5_Z0-newSMUGGLE/lvl4/output', 50, combineFiles=True)"
   ]
  },
  {
   "cell_type": "code",
   "execution_count": 54,
   "id": "b333908f-df4e-4b4b-a5f8-0f2201af13d5",
   "metadata": {},
   "outputs": [],
   "source": [
    "sn = sn050\n",
    "center = sn.part1.pos.value[np.argmin(sn.part1.pot.value)]\n",
    "pos = sn.part0.pos.value - center\n",
    "vel = sn.part0.vel.value\n",
    "acc = sn.part0.acce\n",
    "mass = sn.part0.mass.value\n",
    "\n",
    "r = np.linalg.norm(pos, axis=1)\n",
    "R = np.linalg.norm(pos[:,:2], axis=1)\n",
    "phi = np.arctan2(pos[:,1], pos[:,0])\n",
    "\n",
    "key = r < 0.15"
   ]
  },
  {
   "cell_type": "code",
   "execution_count": 40,
   "id": "e96a128b-5d73-44e3-bc68-e362a1cd703c",
   "metadata": {},
   "outputs": [],
   "source": [
    "n050 = compute_n(sn050)\n",
    "T050 = compute_T(sn050)\n",
    "m050 = sn050.part0.mass.value\n",
    "rho050 = sn050.part0.rho.value"
   ]
  },
  {
   "cell_type": "code",
   "execution_count": 19,
   "id": "f7b77af8-1034-45e3-b703-10bf06343295",
   "metadata": {},
   "outputs": [
    {
     "name": "stdout",
     "output_type": "stream",
     "text": [
      "(34609,) (34609,)\n"
     ]
    }
   ],
   "source": [
    "print(n050.shape, key.shape)"
   ]
  },
  {
   "cell_type": "code",
   "execution_count": 38,
   "id": "fe22ac18-70dc-4da4-954d-f904404563f0",
   "metadata": {},
   "outputs": [
    {
     "name": "stdout",
     "output_type": "stream",
     "text": [
      "[-6.0, 5.0, 1.0, 7.0]\n"
     ]
    },
    {
     "data": {
      "text/plain": [
       "[Text(0.5, 0, 'log n (cc)'), Text(0, 0.5, 'logT (K)')]"
      ]
     },
     "execution_count": 38,
     "metadata": {},
     "output_type": "execute_result"
    },
    {
     "data": {
      "image/png": "[encoded data removed]",
      "text/plain": [
       "<Figure size 576x576 with 1 Axes>"
      ]
     },
     "metadata": {
      "needs_background": "light"
     },
     "output_type": "display_data"
    }
   ],
   "source": [
    "n = n050\n",
    "T = T050\n",
    "m = m050\n",
    "\n",
    "rng = [[-6, 5], [1, 7]]\n",
    "\n",
    "m_in_bin, x_edge, y_edge, _ = binned_statistic_2d(np.log10(n[key]), \n",
    "                                                  np.log10(T[key]), \n",
    "                                                  m[key], \n",
    "                                                  range = rng,\n",
    "                                                  statistic='sum', bins=128)\n",
    "\n",
    "extent = [x_edge[0], x_edge[-1], y_edge[0], y_edge[-1]]\n",
    "print(extent)\n",
    "\n",
    "fig, ax = plt.subplots(1, 1, figsize=(8, 8))\n",
    "# cmap=mpl.colormaps['viridis']\n",
    "# cmap.set_bad(\n",
    "\n",
    "ax.imshow(m_in_bin.T, origin='lower', norm=mpl.colors.LogNorm(), extent=extent)\n",
    "ax.set(xlim=rng[0], ylim=rng[1])\n",
    "ax.set(xlabel='log n (cc)', ylabel='logT (K)')\n"
   ]
  },
  {
   "cell_type": "code",
   "execution_count": 42,
   "id": "e48556f6-7acc-48cd-8013-6fa6289e52dd",
   "metadata": {},
   "outputs": [],
   "source": [
    "Jeans_L, Jeans_m = Jeans(rho050, T050)"
   ]
  },
  {
   "cell_type": "code",
   "execution_count": 51,
   "id": "a7bbc609-7678-421b-a087-b44c96706d64",
   "metadata": {},
   "outputs": [
    {
     "name": "stdout",
     "output_type": "stream",
     "text": [
      "[-6.0, 5.0, 1.0, 7.0]\n"
     ]
    },
    {
     "data": {
      "text/plain": [
       "<matplotlib.colorbar.Colorbar at 0x2b18cf1e7130>"
      ]
     },
     "execution_count": 51,
     "metadata": {},
     "output_type": "execute_result"
    },
    {
     "data": {
      "image/png": "[encoded data removed]",
      "text/plain": [
       "<Figure size 576x576 with 2 Axes>"
      ]
     },
     "metadata": {
      "needs_background": "light"
     },
     "output_type": "display_data"
    }
   ],
   "source": [
    "n = n050\n",
    "T = T050\n",
    "m = m050\n",
    "\n",
    "rng = [[-6, 5], [1, 7]]\n",
    "\n",
    "m_in_bin, x_edge, y_edge, _ = binned_statistic_2d(np.log10(n[key]), \n",
    "                                                  np.log10(T[key]), \n",
    "                                                  np.log10(m[key]/Jeans_m[key]), \n",
    "                                                  range = rng,\n",
    "                                                  statistic='median', bins=128)\n",
    "\n",
    "extent = [x_edge[0], x_edge[-1], y_edge[0], y_edge[-1]]\n",
    "print(extent)\n",
    "\n",
    "fig, ax = plt.subplots(1, 1, figsize=(8, 8))\n",
    "# cmap=mpl.colormaps['viridis']\n",
    "# cmap.set_bad(\n",
    "\n",
    "im = ax.imshow(m_in_bin.T, origin='lower', extent=extent, vmin=-3, vmax=3, cmap='bwr')\n",
    "ax.set(xlim=rng[0], ylim=rng[1])\n",
    "ax.set(xlabel='log n (cc)', ylabel='logT (K)')\n",
    "fig.colorbar(im, ax=ax, label='log10(M/M_Jeans)')\n"
   ]
  },
  {
   "cell_type": "markdown",
   "id": "fd40be52-ba65-4be3-b3b6-aa96ae3a5a20",
   "metadata": {},
   "source": [
    "### oriented disk"
   ]
  },
  {
   "cell_type": "code",
   "execution_count": 52,
   "id": "e40651e6-5284-4c0a-9f05-174525de9981",
   "metadata": {},
   "outputs": [],
   "source": [
    "def compute_A2_angle(pos, mass):\n",
    "    R = np.linalg.norm(pos[:,:2], axis=1)\n",
    "    phi = np.arctan2(pos[:,1], pos[:,0])\n",
    "    \n",
    "    A2r = np.sum(mass * np.cos(2*phi))\n",
    "    A2i = np.sum(mass * np.sin(2*phi))\n",
    "    A2 = np.sqrt(A2r**2 + A2i**2)\n",
    "    \n",
    "    phi2 = 0.5 * np.arctan2(A2i, A2r)\n",
    "    \n",
    "    return A2, phi2"
   ]
  },
  {
   "cell_type": "code",
   "execution_count": 56,
   "id": "f59df6ea-6c66-47c1-998a-0344bfcee029",
   "metadata": {},
   "outputs": [],
   "source": [
    "def rotate_pos(pos, ang):\n",
    "\n",
    "    Rmat = np.array([[np.cos(ang), -np.sin(ang), 0.0],\n",
    "                     [np.sin(ang),  np.cos(ang), 0.0],\n",
    "                     [0.0,         0.0,          1.0]])\n",
    "    \n",
    "    pos = np.swapaxes(pos, 0, 1)\n",
    "    pos = np.matmul(Rmat, pos)\n",
    "    pos = np.swapaxes(pos, 0, 1)\n",
    "    \n",
    "\n",
    "    return pos"
   ]
  },
  {
   "cell_type": "code",
   "execution_count": 67,
   "id": "449f92c3-73a2-417b-8a82-b26cb4f5a9d1",
   "metadata": {},
   "outputs": [],
   "source": [
    "posc = pos + np.array([0., 0.05, 0])"
   ]
  },
  {
   "cell_type": "code",
   "execution_count": 71,
   "id": "b09924b7-80c6-4d25-af2e-53faa8bb4cfe",
   "metadata": {},
   "outputs": [],
   "source": [
    "\n",
    "A2, phi2 = compute_A2_angle(posc[key], mass[key])"
   ]
  },
  {
   "cell_type": "code",
   "execution_count": 72,
   "id": "57e21214-8c54-4b10-bca4-d9875b78bec1",
   "metadata": {},
   "outputs": [],
   "source": [
    "pos_rot = rotate_pos(posc, -phi2)"
   ]
  },
  {
   "cell_type": "code",
   "execution_count": 78,
   "id": "cb46bd55-1ef8-4841-be70-3091ea10da69",
   "metadata": {},
   "outputs": [
    {
     "data": {
      "text/plain": [
       "<matplotlib.image.AxesImage at 0x2b18d02216a0>"
      ]
     },
     "execution_count": 78,
     "metadata": {},
     "output_type": "execute_result"
    },
    {
     "data": {
      "image/png": "[encoded data removed]",
      "text/plain": [
       "<Figure size 432x432 with 1 Axes>"
      ]
     },
     "metadata": {
      "needs_background": "light"
     },
     "output_type": "display_data"
    }
   ],
   "source": [
    "rng = [[-0.15, 0.15], [-0.15, 0.15]]\n",
    "nres = 64\n",
    "\n",
    "dx = (rng[0][1] - rng[0][0])/nres\n",
    "dy = (rng[1][1] - rng[1][0])/nres\n",
    "surf = dx * dy\n",
    "    \n",
    "heatmap, _, _ = np.histogram2d(pos_rot[key][:,0], pos_rot[key][:,2], \n",
    "                                   bins=(nres, nres), range=rng, weights=mass[key]/surf)\n",
    "extent = [rng[0][0], rng[0][1], rng[1][0], rng[1][1]]\n",
    "\n",
    "fig, ax = plt.subplots(1,1, figsize=(6, 6))\n",
    "ax.imshow(heatmap.T, origin='lower', extent=extent)\n"
   ]
  },
  {
   "cell_type": "code",
   "execution_count": 85,
   "id": "1d66054f-ae0a-4fc4-bc55-02f2ec308fa7",
   "metadata": {},
   "outputs": [
    {
     "name": "stdout",
     "output_type": "stream",
     "text": [
      "[-0.15, 0.15, -0.15, 0.15]\n"
     ]
    },
    {
     "data": {
      "text/plain": [
       "<matplotlib.colorbar.Colorbar at 0x2b18d130da60>"
      ]
     },
     "execution_count": 85,
     "metadata": {},
     "output_type": "execute_result"
    },
    {
     "data": {
      "image/png": "[encoded data removed]",
      "text/plain": [
       "<Figure size 576x576 with 2 Axes>"
      ]
     },
     "metadata": {
      "needs_background": "light"
     },
     "output_type": "display_data"
    }
   ],
   "source": [
    "n = n050\n",
    "T = T050\n",
    "m = m050\n",
    "\n",
    "rng = [[-0.15, 0.15], [-0.15, 0.15]]\n",
    "\n",
    "m_in_bin, x_edge, y_edge, _ = binned_statistic_2d(pos_rot[key][:,0], \n",
    "                                                  pos_rot[key][:,2], \n",
    "                                                  np.log10(mass[key]/Jeans_m[key]), \n",
    "                                                  range = rng,\n",
    "                                                  statistic='median', bins=128)\n",
    "\n",
    "extent = [x_edge[0], x_edge[-1], y_edge[0], y_edge[-1]]\n",
    "print(extent)\n",
    "\n",
    "fig, ax = plt.subplots(1, 1, figsize=(8, 8))\n",
    "# cmap=mpl.colormaps['viridis']\n",
    "# cmap.set_bad(\n",
    "\n",
    "im = ax.imshow(m_in_bin.T, origin='lower', extent=extent, vmin=-3, vmax=3, cmap='bwr')\n",
    "ax.set(xlim=rng[0], ylim=rng[1])\n",
    "# ax.set(xlabel='log n (cc)', ylabel='logT (K)')\n",
    "fig.colorbar(im, ax=ax, label='log10(M/M_Jeans)')\n"
   ]
  },
  {
   "cell_type": "code",
   "execution_count": 94,
   "id": "e8823bf0-d5c4-4913-b17f-0b57545550b6",
   "metadata": {},
   "outputs": [
    {
     "name": "stdout",
     "output_type": "stream",
     "text": [
      "[-0.15, 0.15, -0.15, 0.15]\n"
     ]
    },
    {
     "data": {
      "text/plain": [
       "<matplotlib.colorbar.Colorbar at 0x2b18d16ad6a0>"
      ]
     },
     "execution_count": 94,
     "metadata": {},
     "output_type": "execute_result"
    },
    {
     "data": {
      "image/png": "[encoded data removed]",
      "text/plain": [
       "<Figure size 576x576 with 2 Axes>"
      ]
     },
     "metadata": {
      "needs_background": "light"
     },
     "output_type": "display_data"
    }
   ],
   "source": [
    "n = n050\n",
    "T = T050\n",
    "m = m050\n",
    "\n",
    "rng = [[-0.15, 0.15], [-0.15, 0.15]]\n",
    "vmin=2\n",
    "vmax = 5\n",
    "\n",
    "m_in_bin, x_edge, y_edge, _ = binned_statistic_2d(pos_rot[key][:,0], \n",
    "                                                  pos_rot[key][:,2], \n",
    "                                                  np.log10(T[key]), \n",
    "                                                  range = rng,\n",
    "                                                  statistic='median', bins=96)\n",
    "\n",
    "extent = [x_edge[0], x_edge[-1], y_edge[0], y_edge[-1]]\n",
    "print(extent)\n",
    "\n",
    "fig, ax = plt.subplots(1, 1, figsize=(8, 8))\n",
    "# cmap=mpl.colormaps['viridis']\n",
    "# cmap.set_bad(\n",
    "\n",
    "im = ax.imshow(m_in_bin.T, origin='lower', extent=extent, vmin=vmin, vmax=vmax)#, cmap='bwr')\n",
    "ax.set(xlim=rng[0], ylim=rng[1])\n",
    "# ax.set(xlabel='log n (cc)', ylabel='logT (K)')\n",
    "fig.colorbar(im, ax=ax, label='log10(T)')\n"
   ]
  },
  {
   "cell_type": "code",
   "execution_count": 95,
   "id": "8e43f8de-3538-4d92-ba26-338f350c7295",
   "metadata": {},
   "outputs": [],
   "source": [
    "cell_volume = sn.part0.mass.value / sn.part0.rho.value\n",
    "cell_size = (cell_volume * (3/(4*np.pi)))**(1/3.)"
   ]
  },
  {
   "cell_type": "code",
   "execution_count": 96,
   "id": "9ca98e58-d40e-4e78-b78d-2701a979b5f2",
   "metadata": {},
   "outputs": [
    {
     "data": {
      "image/png": "[encoded data removed]",
      "text/plain": [
       "<Figure size 432x288 with 1 Axes>"
      ]
     },
     "metadata": {
      "needs_background": "light"
     },
     "output_type": "display_data"
    }
   ],
   "source": [
    "plt.hist(cell_size[key]/Jeans_L[key], bins=100);"
   ]
  },
  {
   "cell_type": "markdown",
   "id": "9f1161ab-0ad8-42fc-b906-86986e026ecb",
   "metadata": {},
   "source": [
    "### lvl3 jeans length"
   ]
  },
  {
   "cell_type": "code",
   "execution_count": 111,
   "id": "2ed44b54-6b18-45a8-aadf-08fa2781e062",
   "metadata": {},
   "outputs": [
    {
     "data": {
      "text/plain": [
       "Text(0.5, 1.0, '125 Myr')"
      ]
     },
     "execution_count": 111,
     "metadata": {},
     "output_type": "execute_result"
    },
    {
     "data": {
      "image/png": "[encoded data removed]",
      "text/plain": [
       "<Figure size 432x288 with 1 Axes>"
      ]
     },
     "metadata": {
      "needs_background": "light"
     },
     "output_type": "display_data"
    }
   ],
   "source": [
    "sn = arepo.Snapshot(basepath + 'runs/MWiso_fg0.5_Z0-newSMUGGLE/lvl3/output', 25, combineFiles=True)\n",
    "center = sn.part1.pos.value[np.argmin(sn.part1.pot)]\n",
    "\n",
    "pos = sn.part0.pos.value - center\n",
    "vel = sn.part0.vel.value\n",
    "acc = sn.part0.acce\n",
    "mass = sn.part0.mass.value\n",
    "rho = sn.part0.rho.value\n",
    "\n",
    "r = np.linalg.norm(pos, axis=1)\n",
    "R = np.linalg.norm(pos[:,:2], axis=1)\n",
    "phi = np.arctan2(pos[:,1], pos[:,0])\n",
    "\n",
    "key = r < 0.15\n",
    "\n",
    "T = compute_T(sn)\n",
    "L, M = Jeans(sn.part0.rho.value, T)\n",
    "plt.hist(np.log10(mass[key]/M[key]), bins=np.linspace(-3, 3, 64));\n",
    "# plt.yscale('log')\n",
    "plt.xlabel('log10(M_cell/M_J)')\n",
    "plt.title('125 Myr')"
   ]
  },
  {
   "cell_type": "code",
   "execution_count": 104,
   "id": "88bb15f1-1974-4a92-a8aa-bbe1a888a807",
   "metadata": {},
   "outputs": [],
   "source": [
    "cell_volume = sn.part0.mass.value / sn.part0.rho.value\n",
    "cell_size = (cell_volume * (3/(4*np.pi)))**(1/3.)"
   ]
  },
  {
   "cell_type": "code",
   "execution_count": 109,
   "id": "85e0ffcd-0524-45b6-aada-510f5dbf66da",
   "metadata": {},
   "outputs": [
    {
     "data": {
      "text/plain": [
       "Text(0.5, 0, 'cell size / Jeans length')"
      ]
     },
     "execution_count": 109,
     "metadata": {},
     "output_type": "execute_result"
    },
    {
     "data": {
      "image/png": "[encoded data removed]",
      "text/plain": [
       "<Figure size 432x288 with 1 Axes>"
      ]
     },
     "metadata": {
      "needs_background": "light"
     },
     "output_type": "display_data"
    }
   ],
   "source": [
    "plt.hist(cell_size[key]/L[key], bins=100);\n",
    "plt.axvline(0.25, c='r')\n",
    "plt.xlabel('cell size / Jeans length')"
   ]
  },
  {
   "cell_type": "code",
   "execution_count": 119,
   "id": "d057597f-d136-43c8-834a-9c13a00fbcf4",
   "metadata": {},
   "outputs": [
    {
     "data": {
      "text/plain": [
       "[Text(0.5, 0, 'cell_size/Jeans length'),\n",
       " Text(0, 0.5, 'log10(dens) [1E10Msun/kpc^3]')]"
      ]
     },
     "execution_count": 119,
     "metadata": {},
     "output_type": "execute_result"
    },
    {
     "data": {
      "image/png": "[encoded data removed]",
      "text/plain": [
       "<Figure size 432x432 with 1 Axes>"
      ]
     },
     "metadata": {
      "needs_background": "light"
     },
     "output_type": "display_data"
    }
   ],
   "source": [
    "rng = [[0, 2], [0, 3]]\n",
    "nres = 64\n",
    "\n",
    "dx = (rng[0][1] - rng[0][0])/nres\n",
    "dy = (rng[1][1] - rng[1][0])/nres\n",
    "surf = dx * dy\n",
    "    \n",
    "heatmap, _, _ = np.histogram2d(cell_size[key]/L[key], np.log10(rho[key]), \n",
    "                                   bins=(nres, nres), range=rng, weights=mass[key]/surf)\n",
    "extent = [rng[0][0], rng[0][1], rng[1][0], rng[1][1]]\n",
    "\n",
    "fig, ax = plt.subplots(1,1, figsize=(6, 6))\n",
    "ax.imshow(heatmap.T, origin='lower', extent=extent)\n",
    "ax.set(xlabel='cell_size/Jeans length', ylabel='log10(dens) [1E10Msun/kpc^3]')\n"
   ]
  },
  {
   "cell_type": "code",
   "execution_count": 117,
   "id": "fbee65bf-a15d-47f7-a2c1-5d2f5e76e016",
   "metadata": {},
   "outputs": [
    {
     "data": {
      "image/png": "[encoded data removed]",
      "text/plain": [
       "<Figure size 432x288 with 1 Axes>"
      ]
     },
     "metadata": {
      "needs_background": "light"
     },
     "output_type": "display_data"
    }
   ],
   "source": [
    "plt.hist(rho[key], bins=100);\n",
    "plt.yscale('log')"
   ]
  },
  {
   "cell_type": "markdown",
   "id": "a739575f-5084-4c89-8d60-cc0a80cca72c",
   "metadata": {},
   "source": []
  }
 ],
 "metadata": {
  "kernelspec": {
   "display_name": "Python 3",
   "language": "python",
   "name": "python3"
  },
  "language_info": {
   "codemirror_mode": {
    "name": "ipython",
    "version": 3
   },
   "file_extension": ".py",
   "mimetype": "text/x-python",
   "name": "python",
   "nbconvert_exporter": "python",
   "pygments_lexer": "ipython3",
   "version": "3.8.8"
  }
 },
 "nbformat": 4,
 "nbformat_minor": 5
}
