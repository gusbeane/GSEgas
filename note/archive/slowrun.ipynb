{
 "cells": [
  {
   "cell_type": "code",
   "execution_count": 1,
   "id": "a9e95a79-a687-4ff9-b79b-71b0811f1ad5",
   "metadata": {},
   "outputs": [],
   "source": [
    "import numpy as np\n",
    "import arepo"
   ]
  },
  {
   "cell_type": "code",
   "execution_count": 4,
   "id": "0e3670c3-8ac9-4604-8314-473651177e49",
   "metadata": {},
   "outputs": [],
   "source": [
    "basepath1 = '/n/holylfs05/LABS/hernquist_lab/Users/abeane/GSEgas/runs/MWiso_fg0.5_Z0-newSMUGGLE/'\n",
    "basepath2 = '/n/holylfs05/LABS/hernquist_lab/Users/abeane/gasbar/runs/phantom-vacuum-Sg20-Rc3.5/'"
   ]
  },
  {
   "cell_type": "code",
   "execution_count": 5,
   "id": "7e4fab0c-3352-41f4-8a18-c96c02a73d85",
   "metadata": {},
   "outputs": [],
   "source": [
    "snbad = arepo.Snapshot(basepath1 + 'lvl3/output', 0, combineFiles=True)\n",
    "sngood = arepo.Snapshot(basepath2 + 'lvl3/output', 0, combineFiles=True)"
   ]
  },
  {
   "cell_type": "code",
   "execution_count": 7,
   "id": "8d097ab8-9310-401b-a1ec-f58629b94085",
   "metadata": {},
   "outputs": [
    {
     "data": {
      "text/plain": [
       "Quantity([0.00000000e+00, 3.75019313e-06, 7.50032818e-07, 7.50047716e-07,\n",
       "          0.00000000e+00, 0.00000000e+00], unit=[1e+10 Msol])"
      ]
     },
     "execution_count": 7,
     "metadata": {},
     "output_type": "execute_result"
    }
   ],
   "source": [
    "sngood.MassTable"
   ]
  },
  {
   "cell_type": "code",
   "execution_count": 8,
   "id": "792b8c48-75eb-4819-838f-c1ea10bf16d4",
   "metadata": {},
   "outputs": [
    {
     "data": {
      "text/plain": [
       "Quantity([0.00000000e+00, 3.75101697e-06, 7.50206683e-07, 7.50204536e-07,\n",
       "          0.00000000e+00, 0.00000000e+00], unit=[1e+10 Msol])"
      ]
     },
     "execution_count": 8,
     "metadata": {},
     "output_type": "execute_result"
    }
   ],
   "source": [
    "snbad.MassTable"
   ]
  },
  {
   "cell_type": "code",
   "execution_count": 9,
   "id": "9ac58344-e7c3-41ff-b7c9-0a583ee268a5",
   "metadata": {},
   "outputs": [
    {
     "data": {
      "text/plain": [
       "array([ 3677475, 25347840,  6444416,  1074048,        0,        0],\n",
       "      dtype=uint32)"
      ]
     },
     "execution_count": 9,
     "metadata": {},
     "output_type": "execute_result"
    }
   ],
   "source": [
    "sngood.NumPart_Total"
   ]
  },
  {
   "cell_type": "code",
   "execution_count": 10,
   "id": "c3b3fb6c-4995-4267-8585-c568615a99b5",
   "metadata": {},
   "outputs": [
    {
     "data": {
      "text/plain": [
       "array([  986303, 12774712,   399208,  1862976,        0,        0],\n",
       "      dtype=uint32)"
      ]
     },
     "execution_count": 10,
     "metadata": {},
     "output_type": "execute_result"
    }
   ],
   "source": [
    "snbad.NumPart_Total"
   ]
  },
  {
   "cell_type": "code",
   "execution_count": null,
   "id": "25ee72ae-c014-4d66-9451-041c85ebb08e",
   "metadata": {},
   "outputs": [],
   "source": []
  }
 ],
 "metadata": {
  "kernelspec": {
   "display_name": "Python 3",
   "language": "python",
   "name": "python3"
  },
  "language_info": {
   "codemirror_mode": {
    "name": "ipython",
    "version": 3
   },
   "file_extension": ".py",
   "mimetype": "text/x-python",
   "name": "python",
   "nbconvert_exporter": "python",
   "pygments_lexer": "ipython3",
   "version": "3.8.8"
  }
 },
 "nbformat": 4,
 "nbformat_minor": 5
}
