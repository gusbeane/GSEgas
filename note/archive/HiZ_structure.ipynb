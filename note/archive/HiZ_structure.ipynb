{
 "cells": [
  {
   "cell_type": "code",
   "execution_count": 1,
   "id": "c2152721-8a38-46fd-af4d-bdcad27591ed",
   "metadata": {},
   "outputs": [],
   "source": [
    "import numpy as np"
   ]
  },
  {
   "cell_type": "code",
   "execution_count": 2,
   "id": "58d8c486-70ad-49d5-9ba6-f6b969662aa9",
   "metadata": {},
   "outputs": [],
   "source": [
    "G = 43018.7641338108636827594154283578870622478348003337261852871063\n",
    "H0 = 0.1"
   ]
  },
  {
   "cell_type": "code",
   "execution_count": null,
   "id": "880388d3-adff-4fcf-a61b-0b85c9618315",
   "metadata": {},
   "outputs": [],
   "source": [
    "V200 = (M200 * 10 * G * H0)**(1./3.)"
   ]
  }
 ],
 "metadata": {
  "kernelspec": {
   "display_name": "Python 3",
   "language": "python",
   "name": "python3"
  },
  "language_info": {
   "codemirror_mode": {
    "name": "ipython",
    "version": 3
   },
   "file_extension": ".py",
   "mimetype": "text/x-python",
   "name": "python",
   "nbconvert_exporter": "python",
   "pygments_lexer": "ipython3",
   "version": "3.8.8"
  }
 },
 "nbformat": 4,
 "nbformat_minor": 5
}
