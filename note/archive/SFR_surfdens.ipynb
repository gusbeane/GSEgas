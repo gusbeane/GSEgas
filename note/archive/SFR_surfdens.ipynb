{
 "cells": [
  {
   "cell_type": "code",
   "execution_count": 2,
   "id": "953c259a-b6a7-4255-924d-835bb80d7e36",
   "metadata": {},
   "outputs": [],
   "source": [
    "import numpy as np\n",
    "import arepo\n",
    "import matplotlib.pyplot as plt\n",
    "from scipy.stats import binned_statistic_2d"
   ]
  },
  {
   "cell_type": "code",
   "execution_count": 4,
   "id": "c9d4ae3b-22b8-4a18-9489-69d4787e3556",
   "metadata": {},
   "outputs": [],
   "source": [
    "basepath = '/n/holylfs05/LABS/hernquist_lab/Users/abeane/GSEgas/'"
   ]
  },
  {
   "cell_type": "code",
   "execution_count": 6,
   "id": "1f9af318-f8ed-445b-a509-9118d7551cb1",
   "metadata": {},
   "outputs": [],
   "source": [
    "sn = arepo.Snapshot(basepath + 'runs/MWiso_fg0.5_Z0/lvl4/output', 25, combineFiles=True)"
   ]
  },
  {
   "cell_type": "code",
   "execution_count": 11,
   "id": "443dd80c-47c6-46a3-8678-b702309d538c",
   "metadata": {},
   "outputs": [
    {
     "name": "stdout",
     "output_type": "stream",
     "text": [
      "1.6286750396763998\n"
     ]
    }
   ],
   "source": [
    "SFR = 5\n",
    "SigmaSFR = 0.6\n",
    "Area = SFR/SigmaSFR\n",
    "R = np.sqrt(Area/np.pi)\n",
    "print(R)"
   ]
  },
  {
   "cell_type": "code",
   "execution_count": 12,
   "id": "46f6b66e-4c1c-48d3-a96a-1327e2994229",
   "metadata": {},
   "outputs": [
    {
     "name": "stdout",
     "output_type": "stream",
     "text": [
      "1.3976130450389006\n"
     ]
    }
   ],
   "source": [
    "print(sn.MassTable[3]*sn.NumPart_Total[3])"
   ]
  },
  {
   "cell_type": "code",
   "execution_count": null,
   "id": "f64624fb-57aa-4e65-8ee5-426e56de4f63",
   "metadata": {},
   "outputs": [],
   "source": []
  }
 ],
 "metadata": {
  "kernelspec": {
   "display_name": "Python 3",
   "language": "python",
   "name": "python3"
  },
  "language_info": {
   "codemirror_mode": {
    "name": "ipython",
    "version": 3
   },
   "file_extension": ".py",
   "mimetype": "text/x-python",
   "name": "python",
   "nbconvert_exporter": "python",
   "pygments_lexer": "ipython3",
   "version": "3.8.8"
  }
 },
 "nbformat": 4,
 "nbformat_minor": 5
}
