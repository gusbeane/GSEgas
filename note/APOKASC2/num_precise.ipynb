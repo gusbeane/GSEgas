{
 "cells": [
  {
   "cell_type": "code",
   "execution_count": 3,
   "id": "45bd2b62-5267-473e-991f-99f0cd258a12",
   "metadata": {},
   "outputs": [],
   "source": [
    "import numpy as np\n",
    "from astropy.io import ascii"
   ]
  },
  {
   "cell_type": "code",
   "execution_count": 6,
   "id": "a70a70ed-2e35-4c02-8c38-36a6592c9017",
   "metadata": {},
   "outputs": [],
   "source": [
    "table='table5.dat'\n",
    "data = ascii.read(table, readme='ReadMe')"
   ]
  },
  {
   "cell_type": "code",
   "execution_count": 19,
   "id": "49bad53e-e49d-4f94-a1a7-bc26e3cacf81",
   "metadata": {},
   "outputs": [],
   "source": [
    "logage = data['LogAge']\n",
    "logage_err_u = data['E_LogAge']\n",
    "logage_err_l = data['e_LogAge']\n",
    "\n",
    "age = 10.**logage\n",
    "age_err_u = 10.**(logage_err_u + logage) - age\n",
    "age_err_l = 10.**(logage_err_l + logage) - age\n",
    "\n",
    "age /= 1000\n",
    "age_err_u /= 1000\n",
    "age_err_l /= 1000\n"
   ]
  },
  {
   "cell_type": "code",
   "execution_count": 24,
   "id": "28af0c9c-9f20-4627-bb10-c873192243c1",
   "metadata": {},
   "outputs": [],
   "source": [
    "err = np.maximum(age_err_u, -age_err_l)"
   ]
  },
  {
   "cell_type": "code",
   "execution_count": 31,
   "id": "041b4c74-5a9e-40af-9d9e-815241910e2e",
   "metadata": {},
   "outputs": [
    {
     "data": {
      "text/plain": [
       "3389"
      ]
     },
     "execution_count": 31,
     "metadata": {},
     "output_type": "execute_result"
    }
   ],
   "source": [
    "np.sum(err/age < 0.2"
   ]
  },
  {
   "cell_type": "code",
   "execution_count": 33,
   "id": "f173e657-1bed-40cd-afbf-afc19b46d80d",
   "metadata": {},
   "outputs": [
    {
     "data": {
      "text/plain": [
       "6527"
      ]
     },
     "execution_count": 33,
     "metadata": {},
     "output_type": "execute_result"
    }
   ],
   "source": [
    "logerr = np.maximum(logage_err_u, -logage_err_l)\n",
    "np.sum(logerr-logage < np.log10(0.2))"
   ]
  },
  {
   "cell_type": "code",
   "execution_count": 32,
   "id": "d6cdb84e-0337-4652-b76e-c333d15fa473",
   "metadata": {},
   "outputs": [
    {
     "data": {
      "text/plain": [
       "-0.6989700043360187"
      ]
     },
     "execution_count": 32,
     "metadata": {},
     "output_type": "execute_result"
    }
   ],
   "source": [
    "np.log10(0.2)"
   ]
  },
  {
   "cell_type": "code",
   "execution_count": null,
   "id": "6041ae17-0f83-413b-b5d2-6050783247c8",
   "metadata": {},
   "outputs": [],
   "source": []
  }
 ],
 "metadata": {
  "kernelspec": {
   "display_name": "note",
   "language": "python",
   "name": "note"
  },
  "language_info": {
   "codemirror_mode": {
    "name": "ipython",
    "version": 3
   },
   "file_extension": ".py",
   "mimetype": "text/x-python",
   "name": "python",
   "nbconvert_exporter": "python",
   "pygments_lexer": "ipython3",
   "version": "3.10.13"
  }
 },
 "nbformat": 4,
 "nbformat_minor": 5
}
