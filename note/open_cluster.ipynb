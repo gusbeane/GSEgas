{
 "cells": [
  {
   "cell_type": "code",
   "execution_count": 2,
   "id": "efe2f5da-3a65-4056-9ad2-b66bbbdcf6a8",
   "metadata": {},
   "outputs": [],
   "source": [
    "import numpy as np\n",
    "import arepo\n",
    "import matplotlib.pyplot as plt\n",
    "from scipy.signal import savgol_filter\n",
    "from tqdm import tqdm\n",
    "import matplotlib as mpl\n",
    "from scipy.stats import binned_statistic_2d, binned_statistic\n",
    "from numba import njit\n",
    "import h5py as h5\n",
    "\n",
    "import astropy.units as u\n",
    "import astropy.coordinates as coord\n",
    "coord.galactocentric_frame_defaults.set('latest')\n",
    "from astropy.io import fits\n",
    "from astropy.table import Table\n"
   ]
  },
  {
   "cell_type": "code",
   "execution_count": 3,
   "id": "24b4274d-0f18-4f88-8d4b-049d2002d59b",
   "metadata": {},
   "outputs": [
    {
     "name": "stderr",
     "output_type": "stream",
     "text": [
      "WARNING: VerifyWarning: Invalid keyword for column 14: ASCII table null option (TNULLn) is longer than the column's character width and will be truncated (got '-32768'). [astropy.io.fits.column]\n",
      "WARNING: UnitsWarning: 'log(yr)' did not parse as fits unit: 'log' is not a recognized function If this is meant to be a custom unit, define it with 'u.def_unit'. To have it recognized inside a file reader or other code, enable it with 'u.add_enabled_units'. For details, see https://docs.astropy.org/en/latest/units/combining_and_defining.html [astropy.units.core]\n"
     ]
    }
   ],
   "source": [
    "t = Table.read('../data/Dias2021.fits',format='fits')"
   ]
  },
  {
   "cell_type": "code",
   "execution_count": 4,
   "id": "dae3f993-dcfe-4266-ac12-c4cec592fe04",
   "metadata": {},
   "outputs": [
    {
     "data": {
      "text/plain": [
       "['Cluster',\n",
       " 'RA_ICRS',\n",
       " 'DE_ICRS',\n",
       " 'r50',\n",
       " 'N',\n",
       " 'pmRA',\n",
       " 'e_pmRA',\n",
       " 'pmDE',\n",
       " 'e_pmDE',\n",
       " 'Plx',\n",
       " 'e_Plx',\n",
       " 'RV',\n",
       " 'e_RV',\n",
       " 'NRV',\n",
       " 'Dist',\n",
       " 'e_Dist',\n",
       " 'logage',\n",
       " 'e_logage',\n",
       " '__Fe_H_',\n",
       " 'e__Fe_H_',\n",
       " 'Av',\n",
       " 'e_Av',\n",
       " 'FileName',\n",
       " 'SimbadName',\n",
       " '_RA_icrs',\n",
       " '_DE_icrs']"
      ]
     },
     "execution_count": 4,
     "metadata": {},
     "output_type": "execute_result"
    }
   ],
   "source": [
    "t.keys()"
   ]
  },
  {
   "cell_type": "code",
   "execution_count": 7,
   "id": "73ced549-bcd6-4098-a2d4-207240d90078",
   "metadata": {},
   "outputs": [
    {
     "name": "stderr",
     "output_type": "stream",
     "text": [
      "WARNING: AstropyDeprecationWarning: Transforming a frame instance to a frame class (as opposed to another frame instance) will not be supported in the future.  Either explicitly instantiate the target frame, or first convert the source frame instance to a `astropy.coordinates.SkyCoord` and use its `transform_to()` method. [astropy.coordinates.baseframe]\n"
     ]
    }
   ],
   "source": [
    "ra = t['RA_ICRS'].data * u.deg\n",
    "dec = t['DE_ICRS'].data * u.deg\n",
    "distance = t['Dist'].data * u.pc\n",
    "\n",
    "pmra_cosdec = t['pmRA'].data * u.mas/u.yr\n",
    "pmdec = t['pmDE'].data * u.mas/u.yr\n",
    "radial_velocity = t['RV'].data * u.km/u.s\n",
    "\n",
    "mask = radial_velocity != 0\n",
    "\n",
    "icrs = coord.ICRS(ra=ra, \n",
    "                  dec=dec, \n",
    "                  distance=distance,\n",
    "                  pm_ra_cosdec=pmra_cosdec, \n",
    "                  pm_dec=pmdec, \n",
    "                  radial_velocity=radial_velocity)\n",
    "\n",
    "gal = icrs.transform_to(coord.Galactocentric)"
   ]
  },
  {
   "cell_type": "code",
   "execution_count": 37,
   "id": "47de30d2-feaa-450a-b96a-b0d984fd9b00",
   "metadata": {},
   "outputs": [],
   "source": [
    "R = gal.cylindrical.rho\n",
    "vel_phi = R * gal.cylindrical.differentials['s'].d_phi\n",
    "\n",
    "R = R.to_value(u.kpc)\n",
    "vel_phi = -vel_phi.to_value(u.rad * u.km/u.s)\n",
    "Lz = R * vel_phi"
   ]
  },
  {
   "cell_type": "code",
   "execution_count": 48,
   "id": "d350af29-c6a7-4ae2-a687-2fc5f47e388d",
   "metadata": {},
   "outputs": [],
   "source": [
    "Lzsun = gal.galcen_distance.to_value(u.kpc) * gal.galcen_v_sun.d_y.to_value(u.km/u.s)"
   ]
  },
  {
   "cell_type": "code",
   "execution_count": 64,
   "id": "dab7c6b7-1c8c-48a4-beae-7b5b36005f5e",
   "metadata": {},
   "outputs": [],
   "source": [
    "logFeH = t['__Fe_H_']\n",
    "e_logFeH = t['e__Fe_H_']"
   ]
  },
  {
   "cell_type": "code",
   "execution_count": 68,
   "id": "ef0094fc-8f27-4259-8bec-31d1548a6a5d",
   "metadata": {},
   "outputs": [
    {
     "name": "stdout",
     "output_type": "stream",
     "text": [
      "234\n",
      "102\n",
      "58\n"
     ]
    }
   ],
   "source": [
    "in_SN = np.abs(Lz/Lzsun - 1 ) < 0.05\n",
    "in_SN = np.logical_and(in_SN, mask)\n",
    "print(len(np.where(in_SN)[0]))\n",
    "\n",
    "age = 10.**t['logage'] / 1E9\n",
    "young_in_SN = np.logical_and(in_SN, age < 0.2)\n",
    "print(len(np.where(young_in_SN)[0]))\n",
    "\n",
    "young_in_SN_precise = np.logical_and(young_in_SN, e_logFeH < 0.1)\n",
    "print(len(np.where(young_in_SN_precise)[0]))"
   ]
  },
  {
   "cell_type": "code",
   "execution_count": 69,
   "id": "57add484-e16e-4e37-8577-3938b8272961",
   "metadata": {},
   "outputs": [
    {
     "data": {
      "text/plain": [
       "(array([ 0.,  3.,  4.,  6.,  4., 20.,  7.,  8.,  3.,  1.,  0.,  1.,  0.,\n",
       "         1.,  0.]),\n",
       " array([-0.3       , -0.24666667, -0.19333333, -0.14      , -0.08666667,\n",
       "        -0.03333333,  0.02      ,  0.07333333,  0.12666667,  0.18      ,\n",
       "         0.23333333,  0.28666667,  0.34      ,  0.39333333,  0.44666667,\n",
       "         0.5       ]),\n",
       " [<matplotlib.patches.Polygon at 0x14d70e4aace0>])"
      ]
     },
     "execution_count": 69,
     "metadata": {},
     "output_type": "execute_result"
    },
    {
     "data": {
      "image/png": "[encoded data removed]",
      "text/plain": [
       "<Figure size 640x480 with 1 Axes>"
      ]
     },
     "metadata": {},
     "output_type": "display_data"
    }
   ],
   "source": [
    "plt.hist(logFeH[in_SN], histtype='step', bins=np.linspace(-0.3, 0.5, 16))\n",
    "plt.hist(logFeH[young_in_SN], histtype='step', bins=np.linspace(-0.3, 0.5, 16))\n",
    "plt.hist(logFeH[young_in_SN_precise], histtype='step', bins=np.linspace(-0.3, 0.5, 16))"
   ]
  },
  {
   "cell_type": "code",
   "execution_count": 60,
   "id": "2999ce19-2a65-4ffe-96b7-f861eedb6a63",
   "metadata": {},
   "outputs": [
    {
     "data": {
      "image/png": "[encoded data removed]",
      "text/plain": [
       "<Figure size 640x480 with 1 Axes>"
      ]
     },
     "metadata": {},
     "output_type": "display_data"
    }
   ],
   "source": [
    "plt.hist(e_logFeH[young_in_SN], bins=np.linspace(0, 0.2, 16));"
   ]
  },
  {
   "cell_type": "code",
   "execution_count": null,
   "id": "f1d81983-0815-4dd7-8e55-587dd670c1fc",
   "metadata": {},
   "outputs": [],
   "source": []
  }
 ],
 "metadata": {
  "kernelspec": {
   "display_name": "Python [conda env:.conda-note]",
   "language": "python",
   "name": "conda-env-.conda-note-py"
  },
  "language_info": {
   "codemirror_mode": {
    "name": "ipython",
    "version": 3
   },
   "file_extension": ".py",
   "mimetype": "text/x-python",
   "name": "python",
   "nbconvert_exporter": "python",
   "pygments_lexer": "ipython3",
   "version": "3.10.12"
  }
 },
 "nbformat": 4,
 "nbformat_minor": 5
}
