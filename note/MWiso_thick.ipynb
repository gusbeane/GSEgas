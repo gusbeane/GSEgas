{
 "cells": [
  {
   "cell_type": "code",
   "execution_count": 34,
   "id": "dcd18648-c53e-4aeb-a589-8f80dc062549",
   "metadata": {},
   "outputs": [],
   "source": [
    "import numpy as np\n",
    "import arepo\n",
    "import matplotlib.pyplot as plt\n",
    "from scipy.signal import savgol_filter\n",
    "from tqdm import tqdm"
   ]
  },
  {
   "cell_type": "code",
   "execution_count": 2,
   "id": "92edf2f7-5c43-4696-9e81-b0835856391f",
   "metadata": {},
   "outputs": [],
   "source": [
    "basepath = '/n/holylfs05/LABS/hernquist_lab/Users/abeane/GSEgas/'"
   ]
  },
  {
   "cell_type": "code",
   "execution_count": 5,
   "id": "527366d4-7ff8-4225-8fb0-d9edf4ee1e74",
   "metadata": {},
   "outputs": [],
   "source": [
    "def bin_sfr(t, sfr, bin_width=0.01):\n",
    "    bin_left = 0.0\n",
    "    bin_right = bin_left + bin_width\n",
    "    \n",
    "    ave_sfr = []\n",
    "    ave_t = []\n",
    "    \n",
    "    max_val = np.max(t)\n",
    "    while bin_left < max_val:\n",
    "        key = np.logical_and(t >=bin_left, t<bin_right)\n",
    "        ave_sfr.append(np.mean(sfr[key]))\n",
    "        ave_t.append(np.mean(t[key]))\n",
    "        \n",
    "        bin_left += bin_width\n",
    "        bin_right += bin_width\n",
    "        \n",
    "    return np.array(ave_t), np.array(ave_sfr)\n",
    "    "
   ]
  },
  {
   "cell_type": "code",
   "execution_count": 7,
   "id": "37b2878b-e983-4891-8d44-a04e397f8481",
   "metadata": {},
   "outputs": [
    {
     "data": {
      "text/plain": [
       "(0.0, 4.0)"
      ]
     },
     "execution_count": 7,
     "metadata": {},
     "output_type": "execute_result"
    },
    {
     "data": {
      "image/png": "[encoded data removed]",
      "text/plain": [
       "<Figure size 432x288 with 1 Axes>"
      ]
     },
     "metadata": {
      "needs_background": "light"
     },
     "output_type": "display_data"
    }
   ],
   "source": [
    "sfh_file = np.genfromtxt(basepath+'runs/MWiso_fg0.5_Z0/lvl4/output/sfr.txt')\n",
    "time, sfr = bin_sfr(sfh_file[:,0], sfh_file[:,2])\n",
    "plt.plot(time, sfr)\n",
    "plt.xlabel('t [Gyr]')\n",
    "plt.ylabel('SFR [Msun/yr]')\n",
    "plt.ylim(0, None)\n",
    "plt.xlim(0, 4)"
   ]
  },
  {
   "cell_type": "code",
   "execution_count": 8,
   "id": "28656977-9a83-4ed1-a671-28680dbdef20",
   "metadata": {},
   "outputs": [],
   "source": [
    "sn = arepo.Snapshot(basepath + 'runs/MWiso_fg0.5_Z0/lvl4/output', 800, combineFiles=True)"
   ]
  },
  {
   "cell_type": "code",
   "execution_count": 28,
   "id": "4cb02f21-5952-46c1-8676-00fe49d2c3a8",
   "metadata": {},
   "outputs": [],
   "source": [
    "center = np.array([sn.BoxSize, sn.BoxSize, sn.BoxSize])/2.0\n",
    "min_pot = np.argmin(sn.part1.pot.value)\n",
    "center = sn.part1.pos.value[min_pot]\n",
    "\n",
    "pos = sn.part4.pos.value - center\n",
    "\n",
    "form_time = sn.part4.GFM_StellarFormationTime\n",
    "\n",
    "thick = form_time < 1\n",
    "thin = np.logical_and(form_time > 2, form_time < 4)\n",
    "\n",
    "key = np.where(thin)[0]"
   ]
  },
  {
   "cell_type": "code",
   "execution_count": 29,
   "id": "d4f9c8e5-5dce-4efb-9e61-d8a4762a54d8",
   "metadata": {},
   "outputs": [
    {
     "data": {
      "text/plain": [
       "(array([1.39316239e+01, 9.62725546e-01, 9.97150997e-02, 4.74833808e-03,\n",
       "        1.18708452e-03, 0.00000000e+00, 0.00000000e+00, 0.00000000e+00,\n",
       "        0.00000000e+00, 0.00000000e+00, 0.00000000e+00, 0.00000000e+00,\n",
       "        0.00000000e+00, 0.00000000e+00, 0.00000000e+00]),\n",
       " array([0.        , 0.06666667, 0.13333333, 0.2       , 0.26666667,\n",
       "        0.33333333, 0.4       , 0.46666667, 0.53333333, 0.6       ,\n",
       "        0.66666667, 0.73333333, 0.8       , 0.86666667, 0.93333333,\n",
       "        1.        ]),\n",
       " <BarContainer object of 15 artists>)"
      ]
     },
     "execution_count": 29,
     "metadata": {},
     "output_type": "execute_result"
    },
    {
     "data": {
      "image/png": "[encoded data removed]",
      "text/plain": [
       "<Figure size 432x288 with 1 Axes>"
      ]
     },
     "metadata": {
      "needs_background": "light"
     },
     "output_type": "display_data"
    }
   ],
   "source": [
    "plt.hist(np.abs(pos[:,2][thick]), bins=np.linspace(0, 1, 16), alpha=0.5, density=True)\n",
    "plt.hist(np.abs(pos[:,2][thin]), bins=np.linspace(0, 1, 16), alpha=0.5, density=True)"
   ]
  },
  {
   "cell_type": "code",
   "execution_count": 31,
   "id": "1907f00a-5892-4890-8d40-1202eb976900",
   "metadata": {},
   "outputs": [
    {
     "data": {
      "text/plain": [
       "(array([4.73733777e+00, 1.43861982e+00, 2.35517569e-02, 4.90661602e-04,\n",
       "        0.00000000e+00, 0.00000000e+00, 0.00000000e+00, 0.00000000e+00,\n",
       "        0.00000000e+00, 0.00000000e+00, 0.00000000e+00, 0.00000000e+00,\n",
       "        0.00000000e+00, 0.00000000e+00, 0.00000000e+00, 0.00000000e+00,\n",
       "        0.00000000e+00, 0.00000000e+00, 0.00000000e+00, 0.00000000e+00,\n",
       "        0.00000000e+00, 0.00000000e+00, 0.00000000e+00, 0.00000000e+00,\n",
       "        0.00000000e+00, 0.00000000e+00, 0.00000000e+00, 0.00000000e+00,\n",
       "        0.00000000e+00, 0.00000000e+00, 0.00000000e+00]),\n",
       " array([0.        , 0.16129032, 0.32258065, 0.48387097, 0.64516129,\n",
       "        0.80645161, 0.96774194, 1.12903226, 1.29032258, 1.4516129 ,\n",
       "        1.61290323, 1.77419355, 1.93548387, 2.09677419, 2.25806452,\n",
       "        2.41935484, 2.58064516, 2.74193548, 2.90322581, 3.06451613,\n",
       "        3.22580645, 3.38709677, 3.5483871 , 3.70967742, 3.87096774,\n",
       "        4.03225806, 4.19354839, 4.35483871, 4.51612903, 4.67741935,\n",
       "        4.83870968, 5.        ]),\n",
       " <BarContainer object of 31 artists>)"
      ]
     },
     "execution_count": 31,
     "metadata": {},
     "output_type": "execute_result"
    },
    {
     "data": {
      "image/png": "[encoded data removed]",
      "text/plain": [
       "<Figure size 432x288 with 1 Axes>"
      ]
     },
     "metadata": {
      "needs_background": "light"
     },
     "output_type": "display_data"
    }
   ],
   "source": [
    "R = np.linalg.norm(pos[:,:2], axis=1)\n",
    "plt.hist(R[thick], bins=np.linspace(0, 5, 32), alpha=0.5, density=True)\n",
    "plt.hist(R[thin], bins=np.linspace(0, 5, 32), alpha=0.5, density=True)"
   ]
  },
  {
   "cell_type": "code",
   "execution_count": 44,
   "id": "7f56d33c-3a8a-4544-a509-97d0c0dad8a2",
   "metadata": {},
   "outputs": [
    {
     "name": "stderr",
     "output_type": "stream",
     "text": [
      "100%|██████████| 80/80 [01:34<00:00,  1.18s/it]\n"
     ]
    }
   ],
   "source": [
    "SFR_list = []\n",
    "fgas_list = []\n",
    "time_list = []\n",
    "Mgas_list = []\n",
    "for i in tqdm(np.arange(0, 800, 10)):\n",
    "    sn = arepo.Snapshot(basepath + 'runs/MWiso_fg0.5_Z0/lvl4/output', i, parttype=[0,4], fields=['Masses', 'StarFormationRate'], combineFiles=True)\n",
    "    \n",
    "    SFR = np.sum(sn.part0.sfr.value)\n",
    "    Mstar = sn.MassTable[2].value*sn.NumPart_Total[2]\n",
    "    if sn.NumPart_Total[4] > 0:\n",
    "        Mstar += np.sum(sn.part4.mass.value)\n",
    "    Mgas = np.sum(sn.part0.mass.value)\n",
    "    \n",
    "    fgas = Mgas / (Mgas + Mstar)\n",
    "    \n",
    "    SFR_list.append(SFR)\n",
    "    fgas_list.append(fgas)\n",
    "    Mgas_list.append(Mgas)\n",
    "    time_list.append(sn.Time.value)\n",
    "    \n",
    "SFR_list = np.array(SFR_list)\n",
    "fgas_list = np.array(fgas_list)\n",
    "Mgas_list = np.array(Mgas_list)\n",
    "time_list = np.array(time_list)\n",
    "    "
   ]
  },
  {
   "cell_type": "code",
   "execution_count": 46,
   "id": "b3fde8e1-2e24-4dd5-bc09-bfb8e70ed1b1",
   "metadata": {},
   "outputs": [
    {
     "data": {
      "text/plain": [
       "[<matplotlib.lines.Line2D at 0x2b9b5110dfd0>]"
      ]
     },
     "execution_count": 46,
     "metadata": {},
     "output_type": "execute_result"
    },
    {
     "data": {
      "image/png": "[encoded data removed]",
      "text/plain": [
       "<Figure size 432x288 with 1 Axes>"
      ]
     },
     "metadata": {
      "needs_background": "light"
     },
     "output_type": "display_data"
    }
   ],
   "source": [
    "plt.plot(time_list, SFR_list/Mgas_list)"
   ]
  },
  {
   "cell_type": "code",
   "execution_count": null,
   "id": "913fafd3-53b3-41c6-b1b2-521ab54a0c17",
   "metadata": {},
   "outputs": [],
   "source": []
  }
 ],
 "metadata": {
  "kernelspec": {
   "display_name": "Python 3",
   "language": "python",
   "name": "python3"
  },
  "language_info": {
   "codemirror_mode": {
    "name": "ipython",
    "version": 3
   },
   "file_extension": ".py",
   "mimetype": "text/x-python",
   "name": "python",
   "nbconvert_exporter": "python",
   "pygments_lexer": "ipython3",
   "version": "3.8.8"
  }
 },
 "nbformat": 4,
 "nbformat_minor": 5
}
