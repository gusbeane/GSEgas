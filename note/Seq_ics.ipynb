{
 "cells": [
  {
   "cell_type": "code",
   "execution_count": 55,
   "id": "dc9a6bf8-6ca0-4067-a435-e643861d21ef",
   "metadata": {},
   "outputs": [],
   "source": [
    "import numpy as np\n",
    "import arepo\n",
    "import matplotlib.pyplot as plt\n",
    "from scipy.signal import savgol_filter\n",
    "from tqdm import tqdm\n",
    "import matplotlib as mpl\n",
    "from scipy.stats import binned_statistic_2d\n",
    "from numba import njit"
   ]
  },
  {
   "cell_type": "code",
   "execution_count": 1,
   "id": "7f9f0c9f-680d-4df2-8442-43250c019dfb",
   "metadata": {},
   "outputs": [],
   "source": [
    "basepath = '/n/holylfs05/LABS/hernquist_lab/Users/abeane/GSEgas/'"
   ]
  },
  {
   "cell_type": "code",
   "execution_count": 6,
   "id": "ca8e3eba-5f28-4036-948a-fffeb4618f78",
   "metadata": {},
   "outputs": [],
   "source": [
    "G = 43018.7\n",
    "H0 = 0.1"
   ]
  },
  {
   "cell_type": "code",
   "execution_count": 14,
   "id": "49dacc4b-2d64-44ac-b6c4-98acc50a757a",
   "metadata": {},
   "outputs": [
    {
     "name": "stdout",
     "output_type": "stream",
     "text": [
      "21.545499399098528\n"
     ]
    }
   ],
   "source": [
    "# GSE2 structural parameters\n",
    "V200 = 97.5\n",
    "MD = 0.007747\n",
    "MB = 0.0\n",
    "LAMBDA = 0.008\n",
    "JD = 0.00955\n",
    "\n",
    "M200 = V200**3 / (10 * G * H0)\n",
    "R200 = V200 / (10 * H0)\n",
    "\n",
    "print(M200)"
   ]
  },
  {
   "cell_type": "code",
   "execution_count": 9,
   "id": "0ba895ce-505a-4ef8-b897-b5c67559e83f",
   "metadata": {},
   "outputs": [
    {
     "data": {
      "text/plain": [
       "0.4641588833612779"
      ]
     },
     "execution_count": 9,
     "metadata": {},
     "output_type": "execute_result"
    }
   ],
   "source": [
    "(1/10)**(1/3)"
   ]
  },
  {
   "cell_type": "code",
   "execution_count": 10,
   "id": "2ff07602-709f-4b6b-b65c-cddcce0346e9",
   "metadata": {},
   "outputs": [
    {
     "name": "stdout",
     "output_type": "stream",
     "text": [
      "V200 =  45.255491127724596\n"
     ]
    }
   ],
   "source": [
    "print('V200 = ', V200*(1/10)**(1/3))"
   ]
  },
  {
   "cell_type": "code",
   "execution_count": 11,
   "id": "8cd06501-65a0-49fe-9634-8728f0dc4696",
   "metadata": {},
   "outputs": [
    {
     "name": "stdout",
     "output_type": "stream",
     "text": [
      "49.90129873752577\n"
     ]
    }
   ],
   "source": [
    "# GSE2 structural parameters\n",
    "V200 = 129\n",
    "MD = 0.007747\n",
    "MB = 0.0\n",
    "LAMBDA = 0.008\n",
    "JD = 0.00955\n",
    "\n",
    "M200 = V200**3 / (10 * G * H0)\n",
    "R200 = V200 / (10 * H0)\n",
    "\n",
    "print(M200)"
   ]
  },
  {
   "cell_type": "code",
   "execution_count": 12,
   "id": "ff0de0c3-5756-4613-97da-9eb6f8e92576",
   "metadata": {},
   "outputs": [
    {
     "data": {
      "text/plain": [
       "2.315545243619489"
      ]
     },
     "execution_count": 12,
     "metadata": {},
     "output_type": "execute_result"
    }
   ],
   "source": [
    "49.9/21.55"
   ]
  },
  {
   "cell_type": "code",
   "execution_count": 16,
   "id": "b76c2117-ee95-418c-88e2-4f6aff7c6251",
   "metadata": {},
   "outputs": [],
   "source": [
    "sn_Seq = arepo.Snapshot(basepath + 'ics/Seq1iso_fg0.7/lvl4/Seq_ICs.dat')\n",
    "sn_GSE = arepo.Snapshot(basepath + 'ics/GSE2iso_fg0.7/lvl4/GSE_ICs.dat')"
   ]
  },
  {
   "cell_type": "code",
   "execution_count": 11,
   "id": "ed040251-749f-49ba-9950-b4651bbd9db2",
   "metadata": {},
   "outputs": [
    {
     "name": "stdout",
     "output_type": "stream",
     "text": [
      "Num gas: 1953.595899354108\n",
      "Num halo: 71491.68865078875\n",
      "Num disk: 837.2553854374751\n"
     ]
    }
   ],
   "source": [
    "mbar = 7.5E3 * 8 / 1E10\n",
    "mdm = 3.75E4 * 8 / 1E10\n",
    "\n",
    "print('Num gas:', sn.MassTable[0] * sn.NumPart_Total[0]/mbar)\n",
    "print('Num halo:', sn.MassTable[1] * sn.NumPart_Total[1]/mdm)\n",
    "print('Num disk:', sn.MassTable[2] * sn.NumPart_Total[2]/mbar)"
   ]
  },
  {
   "cell_type": "code",
   "execution_count": 14,
   "id": "8734b1b0-6206-4999-895a-03855b5df234",
   "metadata": {},
   "outputs": [
    {
     "name": "stdout",
     "output_type": "stream",
     "text": [
      "[5.99875916e-06 2.99998693e-05 6.00183072e-06 0.00000000e+00\n",
      " 0.00000000e+00 0.00000000e+00]\n"
     ]
    }
   ],
   "source": [
    "print(sn.MassTable)"
   ]
  },
  {
   "cell_type": "markdown",
   "id": "985f15ed-a091-4172-806a-ece185b13022",
   "metadata": {},
   "source": [
    "## check tidal radius"
   ]
  },
  {
   "cell_type": "code",
   "execution_count": 15,
   "id": "eb870894-e0c2-4d48-a4da-815db72a38ee",
   "metadata": {},
   "outputs": [],
   "source": [
    "def rt_eq2(R_Seq=80.):\n",
    "    M_Seq = 0.0\n",
    "    M_GSE = 0.0\n",
    "    \n",
    "    for i in range(6):\n",
    "        M_Seq += sn_Seq.MassTable[i] * sn_Seq.NumPart_Total[i]\n",
    "        M_GSE += sn_GSE.MassTable[i] * sn_GSE.NumPart_Total[i]\n",
    "    \n",
    "    rt = R_Seq * (M_Seq / (3*M_GSE))**(1./3.)\n",
    "    \n",
    "    return rt"
   ]
  },
  {
   "cell_type": "code",
   "execution_count": 22,
   "id": "c50d1469-0f35-4d1e-88d2-f91afaff7fc3",
   "metadata": {},
   "outputs": [],
   "source": [
    "def Menc(Rcut, sn, center=np.array([0., 0., 0.])):\n",
    "    ans = 0.0\n",
    "    for i in range(6):\n",
    "        if sn.NumPart_Total[i] > 0:\n",
    "            part = getattr(sn, 'part'+str(i))\n",
    "            r = np.linalg.norm(part.pos-center, axis=1)\n",
    "            key = np.where(r < Rcut)[0]\n",
    "            if sn.MassTable[i] > 0.0:\n",
    "                ans += sn.MassTable[i] * len(key)\n",
    "            else:\n",
    "                ans += np.sum(part.mass[key])\n",
    "    \n",
    "    return ans\n",
    "            \n",
    "def rt_eq6(R_Seq=80.):\n",
    "    M_GSE = Menc(R_Seq, sn_GSE)\n",
    "    # print(M_MW)\n",
    "    \n",
    "    # print(M_MW)\n",
    "    # for a hernquist halo (the only material at R_Sgr)\n",
    "    rt_guess = rt_eq2(R_Seq)\n",
    "\n",
    "    # print(R_GSE)\n",
    "    # print(Menc(rt_guess, sn_GSE))\n",
    "    \n",
    "    for _ in range(10):\n",
    "        rt = R_Seq * ((Menc(rt_guess, sn_Seq)/M_GSE))**(1./3.)\n",
    "        rt_guess = rt\n",
    "    \n",
    "    return rt"
   ]
  },
  {
   "cell_type": "code",
   "execution_count": 27,
   "id": "f4803f91-1d49-40c5-8c70-dd348d3c2f68",
   "metadata": {},
   "outputs": [
    {
     "name": "stdout",
     "output_type": "stream",
     "text": [
      "1.9328778909589999\n",
      "2.7623469143350894\n"
     ]
    }
   ],
   "source": [
    "R = 6\n",
    "print(rt_eq2(R))\n",
    "print(rt_eq6(R))"
   ]
  },
  {
   "cell_type": "code",
   "execution_count": 28,
   "id": "dcc9e116-f556-46dd-b81e-438960c03f24",
   "metadata": {},
   "outputs": [
    {
     "data": {
      "text/plain": [
       "array([49.72957407, 51.1066462 , 51.0583527 ])"
      ]
     },
     "execution_count": 28,
     "metadata": {},
     "output_type": "execute_result"
    }
   ],
   "source": [
    "pos = np.random.rand(100, 3)\n",
    "np.sum(pos, axis=0)"
   ]
  },
  {
   "cell_type": "code",
   "execution_count": 30,
   "id": "4d4968d8-ad62-4f92-903e-4067a2b08cf5",
   "metadata": {},
   "outputs": [],
   "source": [
    "sn_Seq = arepo.Snapshot(basepath + 'ics/GSE2_Seq1/lvl4/Seq.hdf5')\n",
    "sn_GSE = arepo.Snapshot(basepath + 'ics/GSE2_Seq1/lvl4/GSE.hdf5')"
   ]
  },
  {
   "cell_type": "code",
   "execution_count": 32,
   "id": "3da35479-b3e1-4438-bae5-45918e7b4b5e",
   "metadata": {},
   "outputs": [
    {
     "data": {
      "text/plain": [
       "array([300.023  , 299.99326, 299.99622], dtype=float32)"
      ]
     },
     "execution_count": 32,
     "metadata": {},
     "output_type": "execute_result"
    }
   ],
   "source": [
    "np.median(sn_Seq.part0.pos, axis=0)"
   ]
  },
  {
   "cell_type": "code",
   "execution_count": 130,
   "id": "91f37d5d-ee75-4e9c-88bf-c5e125f69601",
   "metadata": {},
   "outputs": [],
   "source": [
    "sn = arepo.Snapshot(basepath + 'ics/GSE2_Seq1/lvl4/GSE_Seq-with-grid.hdf5')"
   ]
  },
  {
   "cell_type": "code",
   "execution_count": 82,
   "id": "2b2d1b2b-8a2b-417f-bc87-bb7d8022ef11",
   "metadata": {},
   "outputs": [
    {
     "data": {
      "text/plain": [
       "Quantity([ 99.41780853, 100.01990509, 100.00286865], dtype=float32, unit=[kpc])"
      ]
     },
     "execution_count": 82,
     "metadata": {},
     "output_type": "execute_result"
    }
   ],
   "source": [
    "np.median(sn.part2.pos, axis=0)"
   ]
  },
  {
   "cell_type": "code",
   "execution_count": 91,
   "id": "6864ad43-410b-4e1a-af0c-0abfefe42c05",
   "metadata": {},
   "outputs": [
    {
     "data": {
      "text/plain": [
       "Quantity([[  0.        ,   0.        ,   0.        ],\n",
       "          [  0.        ,   0.        ,   0.        ],\n",
       "          [  0.        ,   0.        ,   0.        ],\n",
       "          [  0.        ,   0.        ,   0.        ],\n",
       "          [ 34.72151566, -71.59770966,   0.        ],\n",
       "          [  0.        ,   0.        ,   0.        ],\n",
       "          [  0.        ,   0.        ,   0.        ],\n",
       "          [ 34.72151566, -71.59770966,   0.        ],\n",
       "          [ 34.72151566, -71.59770966,   0.        ],\n",
       "          [-13.26264477, -77.79891968,   0.        ],\n",
       "          [ 34.72151566, -71.59770966,   0.        ],\n",
       "          [-20.09971809, -81.03945923,   0.        ],\n",
       "          [  0.        ,   0.        ,   0.        ],\n",
       "          [  0.        ,   0.        ,   0.        ],\n",
       "          [-14.59528637, -82.23511505,   0.        ],\n",
       "          [ 11.18181515, -82.34670258,   0.        ],\n",
       "          [  4.70169592, -81.69868469,   0.        ],\n",
       "          [ 19.21825981, -79.597435  ,   0.        ],\n",
       "          [ 18.4821949 , -80.25743866,   0.        ],\n",
       "          [  5.72952223, -82.08932495,   0.        ],\n",
       "          [ -0.42083395, -82.05531311,   0.        ],\n",
       "          [  7.66104984, -81.00154114,   0.        ],\n",
       "          [-14.74097157, -80.11928558,   0.        ],\n",
       "          [-15.37328625, -81.07411957,   0.        ],\n",
       "          [ -4.65491056, -82.11641693,   0.        ],\n",
       "          [ -5.11149597, -82.5519104 ,   0.        ],\n",
       "          [-16.47591782, -80.5782547 ,   0.        ],\n",
       "          [-16.66495895, -80.73014069,   0.        ],\n",
       "          [-11.46955109, -81.5188446 ,   0.        ],\n",
       "          [-11.70387077, -81.36584473,   0.        ],\n",
       "          [ -6.11307621, -81.96385193,   0.        ],\n",
       "          [ -5.43440628, -82.01712799,   0.        ],\n",
       "          [ 22.11111259, -79.13165283,   0.        ],\n",
       "          [ 22.75953674, -78.84600067,   0.        ],\n",
       "          [ 23.20310593, -77.34353638,   0.        ],\n",
       "          [ 25.84381676, -77.46811676,   0.        ],\n",
       "          [ 25.64132118, -76.89722443,   0.        ],\n",
       "          [ 32.05513763, -74.71929169,   0.        ],\n",
       "          [ 24.78017044, -78.37975311,   0.        ],\n",
       "          [ 25.45267296, -78.0375824 ,   0.        ],\n",
       "          [ 29.66625977, -76.61396027,   0.        ],\n",
       "          [ 30.68068886, -75.68304443,   0.        ],\n",
       "          [ 25.16462898, -78.08061981,   0.        ],\n",
       "          [ 23.92344093, -78.8683548 ,   0.        ],\n",
       "          [ 27.02443695, -76.8001709 ,   0.        ],\n",
       "          [-25.30195427, -78.85539246,   0.        ],\n",
       "          [-27.83514214, -77.07475281,   0.        ],\n",
       "          [-20.34020042, -81.0890274 ,   0.        ],\n",
       "          [  0.        ,   0.        ,   0.        ],\n",
       "          [-29.27527046, -76.42259979,   0.        ],\n",
       "          [-36.18532944, -72.80126953,   0.        ],\n",
       "          [  0.        ,   0.        ,   0.        ],\n",
       "          [  0.        ,   0.        ,   0.        ],\n",
       "          [ 34.72151566, -71.59770966,   0.        ],\n",
       "          [  0.        ,   0.        ,   0.        ],\n",
       "          [  0.        ,   0.        ,   0.        ],\n",
       "          [  0.        ,   0.        ,   0.        ],\n",
       "          [  0.        ,   0.        ,   0.        ],\n",
       "          [ 27.06581497,  62.2944603 ,   0.        ],\n",
       "          [  0.        ,   0.        ,   0.        ],\n",
       "          [ 27.06581497,  62.2944603 ,   0.        ],\n",
       "          [ 13.89396572,  83.58066559,   0.        ],\n",
       "          [ 17.29388237,  83.90834045,   0.        ],\n",
       "          [ 20.22585869,  93.46408081,   0.        ],\n",
       "          [ 19.92621803,  85.41098022,   0.        ],\n",
       "          [ 21.51729393,  87.04258728,   0.        ],\n",
       "          [ 32.42355347,  76.10594177,   0.        ],\n",
       "          [ 22.18812943,  80.02649689,   0.        ],\n",
       "          [ 20.66083527,  81.10559845,   0.        ],\n",
       "          [ 20.23513794,  82.74467468,   0.        ],\n",
       "          [ 22.11943626,  81.59262848,   0.        ],\n",
       "          [ 21.50448036,  81.45970917,   0.        ],\n",
       "          [ 20.06516838,  82.69034576,   0.        ],\n",
       "          [ 19.78433037,  82.447052  ,   0.        ],\n",
       "          [ 21.30482674,  79.84449768,   0.        ],\n",
       "          [ 20.28431892,  80.9974823 ,   0.        ],\n",
       "          [ 21.17366982,  80.53452301,   0.        ],\n",
       "          [ 21.49429512,  79.73670197,   0.        ],\n",
       "          [ 20.52782249,  81.2147522 ,   0.        ],\n",
       "          [ 22.2293644 ,  80.13124084,   0.        ],\n",
       "          [ 21.95236969,  80.11354828,   0.        ],\n",
       "          [ 22.28811455,  79.32433319,   0.        ],\n",
       "          [ 22.53962326,  79.37369537,   0.        ],\n",
       "          [ 21.06280327,  78.85340118,   0.        ],\n",
       "          [ 22.18394852,  77.907547  ,   0.        ],\n",
       "          [ 24.8262558 ,  75.10638428,   0.        ],\n",
       "          [ 21.58384705,  77.43802643,   0.        ],\n",
       "          [ 20.80328751,  79.62566376,   0.        ],\n",
       "          [ 20.25616074,  81.43714142,   0.        ],\n",
       "          [ 19.34269905,  82.12226868,   0.        ],\n",
       "          [ 15.10776424,  79.46250153,   0.        ],\n",
       "          [ 21.09179688,  74.8610611 ,   0.        ],\n",
       "          [ 28.96208572,  76.26434326,   0.        ],\n",
       "          [ 31.2872448 ,  76.48804474,   0.        ],\n",
       "          [ 32.82366562,  77.81448364,   0.        ],\n",
       "          [ 26.3800087 ,  72.96954346,   0.        ],\n",
       "          [ 15.76259232,  70.60601044,   0.        ],\n",
       "          [ 27.4390583 ,  70.49365997,   0.        ],\n",
       "          [ 22.46446609,  67.27722931,   0.        ],\n",
       "          [ 21.36448097,  66.57279968,   0.        ]], dtype=float32, unit=[km/s])"
      ]
     },
     "execution_count": 91,
     "metadata": {},
     "output_type": "execute_result"
    }
   ],
   "source": [
    "sn.part0.vel[sn.part0.rho < 1e-9][:100]"
   ]
  },
  {
   "cell_type": "code",
   "execution_count": 67,
   "id": "536e9975-e195-469a-a1ff-63530424dccf",
   "metadata": {},
   "outputs": [],
   "source": [
    "@njit\n",
    "def my_mult(A, B):\n",
    "    N = A.shape[0]\n",
    "    M = B.shape[1]\n",
    "\n",
    "    out = np.zeros(B.shape)\n",
    "\n",
    "    for i in range(N):\n",
    "        for j in range(M):\n",
    "            out[i][j] = A[i] * B[i][j]\n",
    "\n",
    "    return out\n"
   ]
  },
  {
   "cell_type": "code",
   "execution_count": 68,
   "id": "995e8409-8aab-40f9-a155-7958a04e32d7",
   "metadata": {},
   "outputs": [
    {
     "data": {
      "text/plain": [
       "array([[0.00180004, 0.00180004, 0.00180004],\n",
       "       [0.00179721, 0.00180087, 0.00180009],\n",
       "       [0.001795  , 0.00179819, 0.00179913],\n",
       "       ...,\n",
       "       [0.00180113, 0.00180258, 0.0017992 ],\n",
       "       [0.00178638, 0.00179422, 0.00179909],\n",
       "       [0.00180374, 0.00179677, 0.00179992]])"
      ]
     },
     "execution_count": 68,
     "metadata": {},
     "output_type": "execute_result"
    }
   ],
   "source": [
    "my_mult(sn_GSE.part0.mass, sn_GSE.part0.pos)"
   ]
  },
  {
   "cell_type": "code",
   "execution_count": 74,
   "id": "bb32ac77-4e95-4b2d-b7c4-3990fbbb91d3",
   "metadata": {},
   "outputs": [
    {
     "data": {
      "text/plain": [
       "array([-0.64278907,  0.41684803, -0.14441285], dtype=float32)"
      ]
     },
     "execution_count": 74,
     "metadata": {},
     "output_type": "execute_result"
    }
   ],
   "source": [
    "np.mean(sn.part2.vel, axis=0)"
   ]
  },
  {
   "cell_type": "code",
   "execution_count": 83,
   "id": "fb017897-1d3a-48a0-b681-dfd2e35dbfbf",
   "metadata": {},
   "outputs": [
    {
     "data": {
      "text/plain": [
       "Quantity([  0.     ,   0.     ,   0.     , ..., 210.48248291,\n",
       "          210.48248291, 210.48248291], dtype=float32, unit=[km^2 s^-2])"
      ]
     },
     "execution_count": 83,
     "metadata": {},
     "output_type": "execute_result"
    }
   ],
   "source": [
    "sn.part0.u"
   ]
  },
  {
   "cell_type": "code",
   "execution_count": 100,
   "id": "f66cf9f0-5b9a-4312-9793-6860a6f0eb46",
   "metadata": {},
   "outputs": [
    {
     "data": {
      "text/plain": [
       "Quantity([100.0243454,  56.08411026,  62.21882248], dtype=float32, unit=[kpc])"
      ]
     },
     "execution_count": 100,
     "metadata": {},
     "output_type": "execute_result"
    }
   ],
   "source": [
    "key = np.where(sn.part0.id==815135)[0][0]\n",
    "sn.part0.pos[key]"
   ]
  },
  {
   "cell_type": "code",
   "execution_count": 123,
   "id": "4eb518bc-d9eb-4ca8-9961-2e9e9ad97355",
   "metadata": {},
   "outputs": [],
   "source": [
    "def get_profile(sn, ptype):\n",
    "    assert sn.NumPart_Total[ptype] > 0\n",
    "    \n",
    "    part = getattr(sn, 'part'+str(ptype))\n",
    "    center = np.array([sn.BoxSize, sn.BoxSize, sn.BoxSize])/2.\n",
    "    \n",
    "    r = np.linalg.norm(part.pos.value - center, axis=1)\n",
    "    \n",
    "    rmin = 0.\n",
    "    dr = 0.5\n",
    "    \n",
    "    rlist = []\n",
    "    rholist = []\n",
    "    \n",
    "    while rmin < 50:\n",
    "        key = np.logical_and(r > rmin, r < rmin + dr)\n",
    "        mass = sn.MassTable[ptype] * len(np.where(key)[0])\n",
    "        vol = (4*np.pi/3.) * ((rmin+dr)**3 - rmin**3)\n",
    "        \n",
    "        rholist.append(mass/vol)\n",
    "        rlist.append(np.mean(r[key]))\n",
    "        \n",
    "        rmin += dr\n",
    "    \n",
    "    return np.array(rlist), np.array(rholist)\n",
    "    "
   ]
  },
  {
   "cell_type": "code",
   "execution_count": 128,
   "id": "ff6617c1-e5ab-455b-9c3a-026ad1ee7177",
   "metadata": {},
   "outputs": [],
   "source": [
    "r, rho = get_profile(sn, 1)"
   ]
  },
  {
   "cell_type": "code",
   "execution_count": 129,
   "id": "0c5cb540-fc5b-4898-8a9f-9838959cb5d6",
   "metadata": {},
   "outputs": [
    {
     "data": {
      "text/plain": [
       "Quantity([0., 0., 0., 0., 0., 0.], unit=[1e+10 Msol])"
      ]
     },
     "execution_count": 129,
     "metadata": {},
     "output_type": "execute_result"
    }
   ],
   "source": [
    "sn.MassTable"
   ]
  },
  {
   "cell_type": "code",
   "execution_count": 133,
   "id": "02deab8f-db2b-4af5-9977-179b808d4ee4",
   "metadata": {},
   "outputs": [],
   "source": [
    "sn_pregrid = arepo.Snapshot(basepath + 'ics/GSE2_Seq1/lvl4/GSE_Seq.hdf5')"
   ]
  },
  {
   "cell_type": "code",
   "execution_count": 134,
   "id": "42a3c90d-4d96-4beb-a96d-56dd317afb38",
   "metadata": {},
   "outputs": [
    {
     "data": {
      "text/plain": [
       "array([0.00000000e+00, 3.00000279e-05, 5.99992747e-06, 0.00000000e+00,\n",
       "       0.00000000e+00, 0.00000000e+00])"
      ]
     },
     "execution_count": 134,
     "metadata": {},
     "output_type": "execute_result"
    }
   ],
   "source": [
    "sn_pregrid.MassTable"
   ]
  },
  {
   "cell_type": "code",
   "execution_count": null,
   "id": "2b0b6747-4c1d-426b-b10a-0f3c86106e6f",
   "metadata": {},
   "outputs": [],
   "source": []
  }
 ],
 "metadata": {
  "kernelspec": {
   "display_name": "Python 3",
   "language": "python",
   "name": "python3"
  },
  "language_info": {
   "codemirror_mode": {
    "name": "ipython",
    "version": 3
   },
   "file_extension": ".py",
   "mimetype": "text/x-python",
   "name": "python",
   "nbconvert_exporter": "python",
   "pygments_lexer": "ipython3",
   "version": "3.8.8"
  }
 },
 "nbformat": 4,
 "nbformat_minor": 5
}
