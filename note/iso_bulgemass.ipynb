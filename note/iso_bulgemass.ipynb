{
 "cells": [
  {
   "cell_type": "code",
   "execution_count": 1,
   "id": "02b316af-c65f-4fd9-bab1-0c20e510a9d7",
   "metadata": {},
   "outputs": [],
   "source": [
    "import h5py as h5\n",
    "import arepo\n",
    "import numpy as np\n",
    "import matplotlib.pyplot as plt\n",
    "import matplotlib as mpl\n",
    "from tqdm import tqdm\n",
    "from scipy.interpolate import interp1d\n",
    "from scipy.stats import binned_statistic_2d\n",
    "from numba import njit\n",
    "from astropy.io import fits\n",
    "import os\n",
    "from joblib import Parallel, delayed\n",
    "import warnings\n",
    "\n",
    "basepath = '/n/holylfs05/LABS/hernquist_lab/Users/abeane/GSEgas/'\n",
    "\n",
    "import sys\n",
    "sys.path.append(basepath+'note/')\n",
    "import galaxy"
   ]
  },
  {
   "cell_type": "code",
   "execution_count": 6,
   "id": "f9fd9ad3-fb3f-4a21-83d0-ac16c3325903",
   "metadata": {},
   "outputs": [],
   "source": [
    "galiso = galaxy.Galaxy(basepath + 'runs/MW7iso/lvl4-Ngb64/output', 120, orient=True)"
   ]
  },
  {
   "cell_type": "code",
   "execution_count": 11,
   "id": "6036573e-b83e-488e-a292-bfae58d046d0",
   "metadata": {},
   "outputs": [
    {
     "name": "stdout",
     "output_type": "stream",
     "text": [
      "M_bulge= 0.06902709603309631\n",
      "M_disk= 0.53435916\n",
      "\n",
      "M_bulge/M_disk= 0.12917734283734217\n"
     ]
    }
   ],
   "source": [
    "pos = galiso.sn.part4.rotpos\n",
    "vel = galiso.sn.part4.rotvel\n",
    "mass = galiso.sn.part4.mass.value\n",
    "\n",
    "\n",
    "Lz = np.cross(pos, vel)[:,2]\n",
    "is_counter = Lz < 0\n",
    "is_counter_star = np.logical_and(is_counter, is_star)\n",
    "M_bulge = 2*np.sum(mass[is_counter_star])\n",
    "print('M_bulge=', M_bulge)\n",
    "\n",
    "is_star = galiso.sn.part4.GFM_StellarFormationTime > 0\n",
    "M_disk = np.sum(mass[is_star])# - M_bulge\n",
    "print('M_disk=', M_disk)\n",
    "\n",
    "\n",
    "print()\n",
    "print('M_bulge/M_disk=', M_bulge/M_disk)"
   ]
  },
  {
   "cell_type": "code",
   "execution_count": null,
   "id": "1181ac87-c5ab-481a-8ba2-25e5f6882142",
   "metadata": {},
   "outputs": [],
   "source": []
  }
 ],
 "metadata": {
  "kernelspec": {
   "display_name": "note",
   "language": "python",
   "name": "note"
  },
  "language_info": {
   "codemirror_mode": {
    "name": "ipython",
    "version": 3
   },
   "file_extension": ".py",
   "mimetype": "text/x-python",
   "name": "python",
   "nbconvert_exporter": "python",
   "pygments_lexer": "ipython3",
   "version": "3.10.13"
  }
 },
 "nbformat": 4,
 "nbformat_minor": 5
}
