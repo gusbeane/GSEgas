{
 "cells": [
  {
   "cell_type": "code",
   "execution_count": 1,
   "id": "9ce2632f-3c6b-437f-987c-7f54c30459a7",
   "metadata": {},
   "outputs": [],
   "source": [
    "import numpy as np\n",
    "import h5py as h5\n",
    "import arepo"
   ]
  },
  {
   "cell_type": "code",
   "execution_count": 15,
   "id": "09fa35c7-28cd-4ce6-bbab-74a9240ca7ac",
   "metadata": {},
   "outputs": [],
   "source": [
    "import illustris_python as il\n",
    "TNGbase = '/n/holylfs05/LABS/hernquist_lab/IllustrisTNG/Runs/L35n2160TNG/output/'"
   ]
  },
  {
   "cell_type": "code",
   "execution_count": 2,
   "id": "20d03f06-3e9e-4325-9b22-bbaed0dcef81",
   "metadata": {},
   "outputs": [],
   "source": [
    "t = h5.File('subhalo523889/props_subhalo523889snap099.h5', mode='r')"
   ]
  },
  {
   "cell_type": "code",
   "execution_count": 3,
   "id": "00392e65-78c6-4f63-a04b-b49f98ca0b67",
   "metadata": {},
   "outputs": [
    {
     "data": {
      "text/plain": [
       "<KeysViewHDF5 ['Coordinates', 'Header', 'Masses', 'PartType', 'ParticleIDs', 'TracerID']>"
      ]
     },
     "execution_count": 3,
     "metadata": {},
     "output_type": "execute_result"
    }
   ],
   "source": [
    "t.keys()"
   ]
  },
  {
   "cell_type": "code",
   "execution_count": 9,
   "id": "b5fd10af-fc48-49ae-98e7-9c19e0fae0e1",
   "metadata": {},
   "outputs": [
    {
     "name": "stdout",
     "output_type": "stream",
     "text": [
      "Coordinates [32356.60091437 34675.76256833  8216.57509915]\n",
      "Masses 6.219737770152278e-06\n",
      "PartType 4\n",
      "ParticleIDs 140998113069\n",
      "TracerID 100000013334\n"
     ]
    }
   ],
   "source": [
    "for key in t.keys():\n",
    "    if key != 'Header':\n",
    "        print(key, t[key][10])"
   ]
  },
  {
   "cell_type": "code",
   "execution_count": 16,
   "id": "fa484d2f-f37e-4830-bc03-36549acf8702",
   "metadata": {},
   "outputs": [],
   "source": [
    "snap = il.snapshot.loadSubhalo(TNGbase, 99, 523889, 4)"
   ]
  },
  {
   "cell_type": "code",
   "execution_count": 19,
   "id": "ed611b10-f362-4665-b1b4-0745c0225c1f",
   "metadata": {},
   "outputs": [],
   "source": [
    "key = np.where(snap['ParticleIDs'] == t['ParticleIDs'][10])[0][0]"
   ]
  },
  {
   "cell_type": "code",
   "execution_count": 21,
   "id": "71767895-8bfc-463e-97f6-5df28bf5cd05",
   "metadata": {},
   "outputs": [
    {
     "name": "stdout",
     "output_type": "stream",
     "text": [
      "[32356.60091437 34675.76256833  8216.57509915]\n"
     ]
    }
   ],
   "source": [
    "print(snap['Coordinates'][key])"
   ]
  },
  {
   "cell_type": "code",
   "execution_count": 24,
   "id": "7af5db28-98f1-45e4-8572-ee9cc2722dd6",
   "metadata": {},
   "outputs": [],
   "source": [
    "# t0 = np.load('subhalo523889/tracers_subhalo523889.npy')\n",
    "t0 = h5.File('subhalo523889/tracers_subhalo523889.h5', mode='r')"
   ]
  },
  {
   "cell_type": "code",
   "execution_count": 25,
   "id": "fdc2451c-4919-419d-bcd8-43c0ff2ffb37",
   "metadata": {},
   "outputs": [
    {
     "data": {
      "text/plain": [
       "array([100000000790, 100000002070, 100000003350, ..., 110048118806,\n",
       "       110048158486, 110048488982], dtype=uint64)"
      ]
     },
     "execution_count": 25,
     "metadata": {},
     "output_type": "execute_result"
    }
   ],
   "source": [
    "t0['TracerID'][:]"
   ]
  },
  {
   "cell_type": "code",
   "execution_count": 28,
   "id": "30602cb6-5b41-4888-bba2-586d8c15f133",
   "metadata": {},
   "outputs": [
    {
     "data": {
      "text/plain": [
       "array([140998113069], dtype=uint64)"
      ]
     },
     "execution_count": 28,
     "metadata": {},
     "output_type": "execute_result"
    }
   ],
   "source": [
    "t0['ParentID'][:][t0['TracerID'][:] == 100000013334]"
   ]
  },
  {
   "cell_type": "code",
   "execution_count": 30,
   "id": "601324f0-beb0-4834-9a44-e6cd0c303687",
   "metadata": {},
   "outputs": [
    {
     "data": {
      "text/plain": [
       "'lvl4'"
      ]
     },
     "execution_count": 30,
     "metadata": {},
     "output_type": "execute_result"
    }
   ],
   "source": [
    "f = 'lvl4'\n",
    "f[:4]"
   ]
  },
  {
   "cell_type": "code",
   "execution_count": 31,
   "id": "92e4ab7e-a22c-4691-adad-cb35ac31333b",
   "metadata": {},
   "outputs": [
    {
     "data": {
      "text/plain": [
       "array([155855, 228098, 490440, 594956, 599809, 865842, 897557, 913150])"
      ]
     },
     "execution_count": 31,
     "metadata": {},
     "output_type": "execute_result"
    }
   ],
   "source": [
    "np.argwhere(np.isin(snap['ParticleIDs'], t0['TracerID'][:])).ravel()"
   ]
  },
  {
   "cell_type": "code",
   "execution_count": 33,
   "id": "97f802f9-507e-46fc-8ac5-40d4552f4a49",
   "metadata": {},
   "outputs": [
    {
     "data": {
      "text/plain": [
       "array([ 0,  1,  2,  3,  4,  5,  6,  7,  8,  9, 10, 11, 12, 13, 14, 15, 16,\n",
       "       17, 18, 19, 20, 21, 22, 23, 24, 25, 26, 27, 28, 29, 30, 31, 32, 33,\n",
       "       34, 35, 36, 37, 38, 39, 40, 41, 42, 43, 44, 45, 46, 47, 48, 49, 50,\n",
       "       51, 52, 53, 54, 55, 56, 57, 58, 59, 60, 61, 62, 63, 64, 65, 66, 67,\n",
       "       68, 69, 70, 71, 72, 73, 74, 75, 76, 77, 78, 79, 80, 81, 82, 83, 84,\n",
       "       85, 86, 87, 88, 89, 90, 91, 92, 93, 94, 95, 96, 97, 98, 99])"
      ]
     },
     "execution_count": 33,
     "metadata": {},
     "output_type": "execute_result"
    }
   ],
   "source": [
    "np.arange(100)"
   ]
  },
  {
   "cell_type": "code",
   "execution_count": 34,
   "id": "e097b756-32de-4928-a926-1a6952539a0c",
   "metadata": {},
   "outputs": [
    {
     "data": {
      "text/plain": [
       "['Coordinates', 'Header', 'Masses', 'PartType', 'ParticleIDs', 'TracerID']"
      ]
     },
     "execution_count": 34,
     "metadata": {},
     "output_type": "execute_result"
    }
   ],
   "source": [
    "f = h5.File('subhalo523889/props_subhalo523889_snap000.h5', mode='r')\n",
    "list(f.keys())"
   ]
  },
  {
   "cell_type": "code",
   "execution_count": 35,
   "id": "352783a5-8b7a-4d55-a2b7-e53b335db746",
   "metadata": {},
   "outputs": [
    {
     "data": {
      "text/plain": [
       "<KeysViewHDF5 ['Redshift', 'ScaleFactor', 'Time', 'TimeLookBack']>"
      ]
     },
     "execution_count": 35,
     "metadata": {},
     "output_type": "execute_result"
    }
   ],
   "source": [
    "f['Header'].attrs.keys()"
   ]
  },
  {
   "cell_type": "code",
   "execution_count": 38,
   "id": "6145ca6c-f9f9-4184-ad5f-37345c35f6e2",
   "metadata": {},
   "outputs": [],
   "source": [
    "def run(subID):\n",
    "    name = 'subhalo' + str(subID)\n",
    "    sub_dir = name\n",
    "    \n",
    "    # load in the tracer ids previously selected\n",
    "    snap_list = np.arange(90, 100)\n",
    "    files = []\n",
    "    for i in snap_list:\n",
    "        f = h5.File(sub_dir + '/props_' + name + '_snap' + str(i).zfill(3) + '.h5', 'r')\n",
    "        files.append(f)\n",
    "    \n",
    "    keys = list(files[0].keys())\n",
    "    out = {}\n",
    "    for key in keys:\n",
    "        out[key] = []\n",
    "    \n",
    "    header_keys = list(files[0]['Header'].attrs.keys())\n",
    "    header_out = {}\n",
    "    for hkey in header_keys:\n",
    "        header_out[hkey] = []\n",
    "    \n",
    "    for f in files:\n",
    "        for key in keys:\n",
    "            if key == 'Header':\n",
    "                for hkey in header_keys:\n",
    "                    header_out[hkey].append(f['Header'].attrs[hkey])\n",
    "            else:\n",
    "                out[key].append(f[key][:])\n",
    "    \n",
    "    for key in keys:\n",
    "        out[key] = np.array(out[key])\n",
    "    \n",
    "    for hkey in header_keys:\n",
    "        header_out[hkey] = np.array(header_out[hkey])\n",
    "    \n",
    "    for f in files:\n",
    "        f.close()\n",
    "    \n",
    "    return out, header_out"
   ]
  },
  {
   "cell_type": "code",
   "execution_count": 39,
   "id": "909db556-e450-4810-9452-2621a3404b8a",
   "metadata": {},
   "outputs": [],
   "source": [
    "out, hout = run(523889)"
   ]
  },
  {
   "cell_type": "code",
   "execution_count": 42,
   "id": "d43f0beb-7f2d-41b8-a56c-f579f2ec0542",
   "metadata": {},
   "outputs": [
    {
     "data": {
      "text/plain": [
       "array([[32560.45703125, 34802.54296875,  8306.58496094],\n",
       "       [32543.39457868, 34793.05637821,  8298.57403612],\n",
       "       [32515.29882812, 34777.23046875,  8287.06542969],\n",
       "       [32493.38476562, 34764.79296875,  8279.86914062],\n",
       "       [32465.34570312, 34745.80078125,  8264.86523438],\n",
       "       [32448.140625  , 34737.3828125 ,  8258.70605469],\n",
       "       [32419.26953125, 34718.6328125 ,  8246.04492188],\n",
       "       [32397.49609375, 34704.4140625 ,  8238.27929688],\n",
       "       [32371.81835938, 34685.69140625,  8224.64746094],\n",
       "       [32351.52724786, 34675.92587471,  8220.37492641]])"
      ]
     },
     "execution_count": 42,
     "metadata": {},
     "output_type": "execute_result"
    }
   ],
   "source": [
    "out['Coordinates'][:,100,:]"
   ]
  },
  {
   "cell_type": "code",
   "execution_count": 44,
   "id": "14affe04-be87-4248-bece-2af7c5b029b6",
   "metadata": {},
   "outputs": [
    {
     "data": {
      "text/plain": [
       "array([12.33638091, 12.46636533, 12.66263363, 12.79432756, 12.99311902,\n",
       "       13.12646739, 13.3276986 , 13.46264534, 13.66623164, 13.80271999])"
      ]
     },
     "execution_count": 44,
     "metadata": {},
     "output_type": "execute_result"
    }
   ],
   "source": [
    "hout['Time']"
   ]
  },
  {
   "cell_type": "code",
   "execution_count": 45,
   "id": "c38b8f9d-54a5-4a44-9652-1f118db1b2c3",
   "metadata": {},
   "outputs": [],
   "source": [
    "t = h5.File('subhalo523889/props_subhalo523889.h5', mode='r')"
   ]
  },
  {
   "cell_type": "code",
   "execution_count": 47,
   "id": "c64f6f3a-a931-462c-8947-0ef99ab15d2f",
   "metadata": {},
   "outputs": [
    {
     "data": {
      "text/plain": [
       "array([[32353.53348039, 34674.00017622,  8216.90853915],\n",
       "       [32355.64691003, 34674.65275358,  8215.43834684],\n",
       "       [32349.69406331, 34673.3874584 ,  8219.15757791],\n",
       "       ...,\n",
       "       [32349.35416927, 34669.78207036,  8214.8654687 ],\n",
       "       [32350.55061638, 34676.53690213,  8222.15770971],\n",
       "       [32350.08034483, 34675.68087366,  8221.32710052]])"
      ]
     },
     "execution_count": 47,
     "metadata": {},
     "output_type": "execute_result"
    }
   ],
   "source": [
    "t['Coordinates'][99]"
   ]
  },
  {
   "cell_type": "code",
   "execution_count": null,
   "id": "8af7debf-2a67-46c0-9f0f-b1c36f30cbb1",
   "metadata": {},
   "outputs": [],
   "source": []
  }
 ],
 "metadata": {
  "kernelspec": {
   "display_name": "Python [conda env:.conda-note]",
   "language": "python",
   "name": "conda-env-.conda-note-py"
  },
  "language_info": {
   "codemirror_mode": {
    "name": "ipython",
    "version": 3
   },
   "file_extension": ".py",
   "mimetype": "text/x-python",
   "name": "python",
   "nbconvert_exporter": "python",
   "pygments_lexer": "ipython3",
   "version": "3.10.12"
  }
 },
 "nbformat": 4,
 "nbformat_minor": 5
}
