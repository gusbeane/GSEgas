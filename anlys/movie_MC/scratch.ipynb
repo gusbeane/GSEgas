{
 "cells": [
  {
   "cell_type": "code",
   "execution_count": 25,
   "id": "48de8a23-b460-44ad-93fe-b86fd7003c64",
   "metadata": {},
   "outputs": [],
   "source": [
    "import numpy as np\n",
    "import arepo\n",
    "import h5py as h5\n",
    "import matplotlib.pyplot as plt\n",
    "import matplotlib as mpl\n",
    "from numba import njit"
   ]
  },
  {
   "cell_type": "code",
   "execution_count": 4,
   "id": "56cfd01b-968b-4761-b8da-89d0eadc9de2",
   "metadata": {},
   "outputs": [],
   "source": [
    "basepath = '/n/holylfs05/LABS/hernquist_lab/Users/abeane/GSEgas/'"
   ]
  },
  {
   "cell_type": "code",
   "execution_count": 30,
   "id": "1f1e5f30-afc5-4644-bdf2-63d7d1cbaf80",
   "metadata": {},
   "outputs": [],
   "source": [
    "snap = 100\n",
    "sn = arepo.Snapshot(basepath + 'runs/MW3_MHG0.25_GSE2/lvl4/output', \n",
    "                             snap, combineFiles=True)\n",
    "\n",
    "fname = basepath + 'anlys/MC/MW3_MHG0.25_GSE2-lvl4/MC_Prop_'+str(snap).zfill(3)+'.h5'\n",
    "MC = h5.File(fname, mode='r')"
   ]
  },
  {
   "cell_type": "code",
   "execution_count": 14,
   "id": "61308afb-163c-422f-8193-83721e807e58",
   "metadata": {},
   "outputs": [
    {
     "data": {
      "text/plain": [
       "array([ 9, 10, 11, 12, 13, 14, 15, 16, 17, 18], dtype=uint32)"
      ]
     },
     "execution_count": 14,
     "metadata": {},
     "output_type": "execute_result"
    }
   ],
   "source": [
    "MC['PartType5']['TracerID'][:10]"
   ]
  },
  {
   "cell_type": "code",
   "execution_count": 15,
   "id": "9ca82bc0-67e5-4876-b10d-98a26519cc44",
   "metadata": {},
   "outputs": [
    {
     "data": {
      "text/plain": [
       "array([ 696729, 5919775, 7141183,  486712, 5595554, 6295524, 7133376,\n",
       "        522773,  801725, 6382953], dtype=uint32)"
      ]
     },
     "execution_count": 15,
     "metadata": {},
     "output_type": "execute_result"
    }
   ],
   "source": [
    "sn.part5.ParentID[:10]"
   ]
  },
  {
   "cell_type": "code",
   "execution_count": 17,
   "id": "64794083-cd8a-4c4f-a9cd-c9418e2a234e",
   "metadata": {},
   "outputs": [],
   "source": [
    "key_sort = np.argsort(sn.part5.ParentID)"
   ]
  },
  {
   "cell_type": "code",
   "execution_count": 31,
   "id": "ba2c1887-a482-447a-8eb4-9171102cbf34",
   "metadata": {},
   "outputs": [
    {
     "data": {
      "text/plain": [
       "<HDF5 dataset \"ParentID\": shape (6616488,), type \"<u4\">"
      ]
     },
     "execution_count": 31,
     "metadata": {},
     "output_type": "execute_result"
    }
   ],
   "source": [
    "MC['PartType5']['ParentID']"
   ]
  },
  {
   "cell_type": "code",
   "execution_count": 29,
   "id": "c3d6894f-417a-49c7-bb82-eb80ae99c909",
   "metadata": {},
   "outputs": [
    {
     "data": {
      "text/plain": [
       "<KeysViewHDF5 ['Coordinates', 'GFM_Metallicity', 'Membership', 'PartType', 'RotatedCoordinates', 'RotatedVelocities', 'TracerID', 'Velocities']>"
      ]
     },
     "execution_count": 29,
     "metadata": {},
     "output_type": "execute_result"
    }
   ],
   "source": [
    "MC['PartType5'].keys()"
   ]
  },
  {
   "cell_type": "code",
   "execution_count": 34,
   "id": "05c4c72f-b358-4eef-8806-4f5b3fed0949",
   "metadata": {},
   "outputs": [],
   "source": [
    "def get_massMC(ParticleIDs, ParentIDs, TracerMass):\n",
    "    massMC = np.zeros(np.shape(ParticleIDs))\n",
    "\n",
    "    partid_sort = np.argsort(ParticleIDs)\n",
    "    parentid_sort = np.argsort(ParentIDs)\n",
    "\n",
    "    i = j = 0\n",
    "    while i < len(ParentIDs):\n",
    "        if j == len(ParticleIDs):\n",
    "            print(i, j)\n",
    "        \n",
    "        parentid = ParentIDs[parentid_sort[i]]\n",
    "        partid = ParticleIDs[partid_sort[j]]\n",
    "\n",
    "        if parentid == partid:\n",
    "            massMC[partid_sort[j]] += TracerMass\n",
    "            i += 1\n",
    "        else:\n",
    "            j += 1\n",
    "    \n",
    "    return massMC"
   ]
  },
  {
   "cell_type": "code",
   "execution_count": 41,
   "id": "049616e0-9b28-40ac-bbf1-e18e888093e6",
   "metadata": {},
   "outputs": [],
   "source": [
    "is_gas = MC['PartType5/PartType'][:] == 0\n",
    "is_GSE = MC['PartType5/Membership'][:] == 2\n",
    "is_GSE_gas = np.logical_and(is_gas, is_GSE)"
   ]
  },
  {
   "cell_type": "code",
   "execution_count": 44,
   "id": "c09dfb3d-a4e6-44b4-abe6-e5d15a8d61d3",
   "metadata": {},
   "outputs": [],
   "source": [
    "massMC = get_massMC(sn.part0.ParticleIDs, MC['PartType5']['ParentID'][is_GSE_gas], \n",
    "                    MC['Header'].attrs['TracerMass'])"
   ]
  },
  {
   "cell_type": "code",
   "execution_count": 48,
   "id": "a5481e57-3ef9-432f-80ef-e5fb4fa35a8b",
   "metadata": {},
   "outputs": [
    {
     "data": {
      "text/plain": [
       "array([6.75183117e-06, 1.05028485e-05, 9.00244156e-06, ...,\n",
       "       1.20032554e-05, 1.27534589e-05, 3.00081385e-06])"
      ]
     },
     "execution_count": 48,
     "metadata": {},
     "output_type": "execute_result"
    }
   ],
   "source": [
    "massMC[massMC>0]"
   ]
  },
  {
   "cell_type": "code",
   "execution_count": 49,
   "id": "8cd56598-efc5-4bd3-b43a-89acb8866d51",
   "metadata": {},
   "outputs": [
    {
     "data": {
      "text/plain": [
       "7.502034637444493e-07"
      ]
     },
     "execution_count": 49,
     "metadata": {},
     "output_type": "execute_result"
    }
   ],
   "source": [
    "MC['Header'].attrs['TracerMass']"
   ]
  },
  {
   "cell_type": "code",
   "execution_count": null,
   "id": "4b59d8ee-2978-455e-bbde-e6a99eb8f641",
   "metadata": {},
   "outputs": [],
   "source": []
  }
 ],
 "metadata": {
  "kernelspec": {
   "display_name": "Python [conda env:.conda-note]",
   "language": "python",
   "name": "conda-env-.conda-note-py"
  },
  "language_info": {
   "codemirror_mode": {
    "name": "ipython",
    "version": 3
   },
   "file_extension": ".py",
   "mimetype": "text/x-python",
   "name": "python",
   "nbconvert_exporter": "python",
   "pygments_lexer": "ipython3",
   "version": "3.10.12"
  }
 },
 "nbformat": 4,
 "nbformat_minor": 5
}
