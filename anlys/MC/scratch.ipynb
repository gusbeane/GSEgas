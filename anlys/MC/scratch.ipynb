{
 "cells": [
  {
   "cell_type": "code",
   "execution_count": 1,
   "id": "68e2ace2-9c65-4c21-aebc-a0b7014b6003",
   "metadata": {},
   "outputs": [],
   "source": [
    "import numpy as np\n",
    "import arepo\n",
    "import matplotlib.pyplot as plt\n",
    "from scipy.signal import savgol_filter\n",
    "from tqdm import tqdm\n",
    "import matplotlib as mpl\n",
    "from scipy.stats import binned_statistic_2d\n",
    "from numba import njit\n",
    "import h5py as h5\n",
    "import os"
   ]
  },
  {
   "cell_type": "code",
   "execution_count": 2,
   "id": "c926b8a7-b496-4b10-a6f6-8d913282e545",
   "metadata": {},
   "outputs": [],
   "source": [
    "basepath = '/n/holylfs05/LABS/hernquist_lab/Users/abeane/GSEgas/'"
   ]
  },
  {
   "cell_type": "code",
   "execution_count": 3,
   "id": "5bb09313-0edd-496f-8954-2649b0028aa7",
   "metadata": {},
   "outputs": [],
   "source": [
    "sn = arepo.Snapshot(basepath + 'runs/MW3_MHG0.25_GSE2/lvl4/output', 0, combineFiles=True)"
   ]
  },
  {
   "cell_type": "code",
   "execution_count": 8,
   "id": "8a8e83e4-e21b-42f4-b0fe-ba9e9d51d1ab",
   "metadata": {},
   "outputs": [
    {
     "data": {
      "text/plain": [
       "['Acceleration',\n",
       " 'CoolingHeatingEnergy',\n",
       " 'Coordinates',\n",
       " 'Density',\n",
       " 'ElectronAbundance',\n",
       " 'GFM_CoolingRate',\n",
       " 'GFM_Metallicity',\n",
       " 'GFM_Metals',\n",
       " 'GasRadCoolShutoffTime',\n",
       " 'InternalEnergy',\n",
       " 'Masses',\n",
       " 'MolecularHFrac',\n",
       " 'NeutralHydrogenAbundance',\n",
       " 'ParticleIDs',\n",
       " 'Potential',\n",
       " 'Pressure',\n",
       " 'Softenings',\n",
       " 'StarFormationRate',\n",
       " 'Velocities',\n",
       " 'VirialParameter',\n",
       " '__class__',\n",
       " '__contains__',\n",
       " '__delattr__',\n",
       " '__dict__',\n",
       " '__dir__',\n",
       " '__doc__',\n",
       " '__eq__',\n",
       " '__format__',\n",
       " '__ge__',\n",
       " '__getattr__',\n",
       " '__getattribute__',\n",
       " '__getitem__',\n",
       " '__gt__',\n",
       " '__hash__',\n",
       " '__init__',\n",
       " '__init_subclass__',\n",
       " '__le__',\n",
       " '__lt__',\n",
       " '__module__',\n",
       " '__ne__',\n",
       " '__new__',\n",
       " '__reduce__',\n",
       " '__reduce_ex__',\n",
       " '__repr__',\n",
       " '__setattr__',\n",
       " '__sizeof__',\n",
       " '__str__',\n",
       " '__subclasshook__',\n",
       " '__weakref__',\n",
       " '_num',\n",
       " '_parent',\n",
       " 'acce',\n",
       " 'cohe',\n",
       " 'data',\n",
       " 'gcol',\n",
       " 'gmet',\n",
       " 'gz',\n",
       " 'hmol',\n",
       " 'id',\n",
       " 'mass',\n",
       " 'ne',\n",
       " 'nh',\n",
       " 'pos',\n",
       " 'pot',\n",
       " 'pres',\n",
       " 'rfcg',\n",
       " 'rho',\n",
       " 'sfr',\n",
       " 'soft',\n",
       " 'u',\n",
       " 'vel']"
      ]
     },
     "execution_count": 8,
     "metadata": {},
     "output_type": "execute_result"
    }
   ],
   "source": [
    "dir(sn.part0)"
   ]
  },
  {
   "cell_type": "code",
   "execution_count": 29,
   "id": "7449e373-d48b-435d-ab33-315a64eeb75e",
   "metadata": {},
   "outputs": [
    {
     "name": "stdout",
     "output_type": "stream",
     "text": [
      "[4.8916097 4.9006085 4.9062085 ... 5.0404153 5.039175  5.0431137]\n",
      "4.0050564\n",
      "6.798379\n",
      "(array([], dtype=int64),)\n"
     ]
    }
   ],
   "source": [
    "UnitLength = sn.parameters.UnitLength_in_cm\n",
    "UnitMass = sn.parameters.UnitMass_in_g\n",
    "UnitVelocity = sn.parameters.UnitVelocity_in_cm_per_s\n",
    "\n",
    "UnitTime = UnitLength / UnitVelocity\n",
    "UnitEnergy = UnitMass * UnitVelocity**2\n",
    "\n",
    "HYDROGEN_MASSFRAC = 0.76\n",
    "GAMMA = 5./3.\n",
    "PROTONMASS = 1.67262178e-24\n",
    "BOLTZMANN = 1.38065e-16\n",
    "\n",
    "InternalEnergy = sn.part0.InternalEnergy.value\n",
    "ElectronAbundance = sn.part0.ElectronAbundance\n",
    "\n",
    "mu = 4 * PROTONMASS / (1 + 3 * HYDROGEN_MASSFRAC + 4 * HYDROGEN_MASSFRAC * ElectronAbundance)\n",
    "T = (GAMMA - 1.) * (InternalEnergy / BOLTZMANN) * (UnitEnergy / UnitMass) * mu"
   ]
  },
  {
   "cell_type": "code",
   "execution_count": 33,
   "id": "11d030ba-f70e-4e8c-91a2-5b141ccc041e",
   "metadata": {},
   "outputs": [
    {
     "data": {
      "image/png": "[encoded data removed]",
      "text/plain": [
       "<Figure size 432x288 with 1 Axes>"
      ]
     },
     "metadata": {
      "needs_background": "light"
     },
     "output_type": "display_data"
    }
   ],
   "source": [
    "# plt.close()\n",
    "plt.hist(np.log10(T), bins=100);\n",
    "# plt.hist(np.random.rand(1000))"
   ]
  },
  {
   "cell_type": "code",
   "execution_count": 34,
   "id": "4faf21d5-c925-42c7-89f3-b9f110e51e5f",
   "metadata": {},
   "outputs": [],
   "source": [
    "t = h5.File('MW3_MHG0.25_GSE6_kick-lvl4/MC_Prop_208.h5', mode='r')"
   ]
  },
  {
   "cell_type": "code",
   "execution_count": 41,
   "id": "7b603f1a-8cd2-4785-a6b7-d72b9285c3e3",
   "metadata": {},
   "outputs": [
    {
     "data": {
      "image/png": "[encoded data removed]",
      "text/plain": [
       "<Figure size 432x288 with 1 Axes>"
      ]
     },
     "metadata": {
      "needs_background": "light"
     },
     "output_type": "display_data"
    }
   ],
   "source": [
    "ptype = t['PartType5/PartType'][:]\n",
    "plt.hist(np.log10(t['PartType5/Temperature'][ptype == 0]), bins=100);"
   ]
  },
  {
   "cell_type": "code",
   "execution_count": null,
   "id": "d6d208d4-5d8a-4a96-a7c7-a21fc71899fe",
   "metadata": {},
   "outputs": [],
   "source": []
  }
 ],
 "metadata": {
  "kernelspec": {
   "display_name": "Python 3",
   "language": "python",
   "name": "python3"
  },
  "language_info": {
   "codemirror_mode": {
    "name": "ipython",
    "version": 3
   },
   "file_extension": ".py",
   "mimetype": "text/x-python",
   "name": "python",
   "nbconvert_exporter": "python",
   "pygments_lexer": "ipython3",
   "version": "3.8.8"
  }
 },
 "nbformat": 4,
 "nbformat_minor": 5
}
