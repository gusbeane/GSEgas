{
 "cells": [
  {
   "cell_type": "code",
   "execution_count": 1,
   "id": "68e2ace2-9c65-4c21-aebc-a0b7014b6003",
   "metadata": {},
   "outputs": [],
   "source": [
    "import numpy as np\n",
    "import arepo\n",
    "import matplotlib.pyplot as plt\n",
    "from scipy.signal import savgol_filter\n",
    "from tqdm import tqdm\n",
    "import matplotlib as mpl\n",
    "from scipy.stats import binned_statistic_2d\n",
    "from numba import njit\n",
    "import h5py as h5\n",
    "import os"
   ]
  },
  {
   "cell_type": "code",
   "execution_count": 2,
   "id": "c926b8a7-b496-4b10-a6f6-8d913282e545",
   "metadata": {},
   "outputs": [],
   "source": [
    "basepath = '/n/holylfs05/LABS/hernquist_lab/Users/abeane/GSEgas/'"
   ]
  },
  {
   "cell_type": "code",
   "execution_count": 3,
   "id": "5bb09313-0edd-496f-8954-2649b0028aa7",
   "metadata": {},
   "outputs": [],
   "source": [
    "sn = arepo.Snapshot(basepath + 'runs/MW3_MHG0.25_GSE2/lvl4/output', 0, combineFiles=True)"
   ]
  },
  {
   "cell_type": "code",
   "execution_count": 6,
   "id": "bb8ec0ec-0acc-432c-b9b7-2e5c00d25094",
   "metadata": {},
   "outputs": [
    {
     "data": {
      "text/plain": [
       "7.502034637444493e-07"
      ]
     },
     "execution_count": 6,
     "metadata": {},
     "output_type": "execute_result"
    }
   ],
   "source": [
    "np.sum(sn.part0.mass.value) / sn.NumPart_Total[5]"
   ]
  },
  {
   "cell_type": "code",
   "execution_count": 9,
   "id": "7a7f58fe-bea0-4229-9ccc-0e667ba772e3",
   "metadata": {},
   "outputs": [
    {
     "data": {
      "text/plain": [
       "array([7.5020773e-07, 7.5020773e-07, 7.5020773e-07, ..., 7.5020773e-07,\n",
       "       7.5020773e-07, 7.5020773e-07], dtype=float32)"
      ]
     },
     "execution_count": 9,
     "metadata": {},
     "output_type": "execute_result"
    }
   ],
   "source": [
    "sn.part0.mass.value / 8"
   ]
  },
  {
   "cell_type": "code",
   "execution_count": 14,
   "id": "8b36ab0d-a174-4f9b-999e-b8a193df68b9",
   "metadata": {},
   "outputs": [
    {
     "data": {
      "text/plain": [
       "7.5e-07"
      ]
     },
     "execution_count": 14,
     "metadata": {},
     "output_type": "execute_result"
    }
   ],
   "source": [
    "sn.parameters.ReferenceGasPartMass / sn.parameters.TracerMCPerCell"
   ]
  },
  {
   "cell_type": "code",
   "execution_count": 13,
   "id": "0d3fa6d3-421b-47a1-bd74-36028f8132ff",
   "metadata": {},
   "outputs": [
    {
     "data": {
      "text/plain": [
       "['AGB_MassTransferOn',\n",
       " 'ActivePartFracForNewDomainDecomp',\n",
       " 'AdaptiveHydroSofteningSpacing',\n",
       " 'BoxSize',\n",
       " 'CellMaxAngleFactor',\n",
       " 'CellShapingSpeed',\n",
       " 'ComovingIntegrationOn',\n",
       " 'CoolingOn',\n",
       " 'CoolingTablePath',\n",
       " 'CourantFac',\n",
       " 'CpuTimeBetRestartFile',\n",
       " 'CritOverDensity',\n",
       " 'DensThreshold',\n",
       " 'DerefinementCriterion',\n",
       " 'DesNumNgb',\n",
       " 'DesNumNgbEnrichment',\n",
       " 'DustOpacityRadiationFeedback',\n",
       " 'ErrTolForceAcc',\n",
       " 'ErrTolIntAccuracy',\n",
       " 'ErrTolTheta',\n",
       " 'FeedbackEfficiency',\n",
       " 'FeedbackRadiusLimiterFactor',\n",
       " 'GasSoftFactor',\n",
       " 'GravityConstantInternal',\n",
       " 'HubbleParam',\n",
       " 'ICFormat',\n",
       " 'IMF_MaxMass_Msun',\n",
       " 'IMF_MinMass_Msun',\n",
       " 'InitCondFile',\n",
       " 'InitGasTemp',\n",
       " 'InputTimeHeatRadiationFeedback',\n",
       " 'InputTimeMomRadiationFeedback',\n",
       " 'LimitUBelowCertainDensityToThisValue',\n",
       " 'LimitUBelowThisDensity',\n",
       " 'LumToMassRatioRadiationFeedback',\n",
       " 'MaxMemSize',\n",
       " 'MaxNumNgbDeviation',\n",
       " 'MaxNumNgbDeviationEnrichment',\n",
       " 'MaxSizeTimestep',\n",
       " 'MeanVolume',\n",
       " 'MinEgySpec',\n",
       " 'MinGasTemp',\n",
       " 'MinMetalTemp',\n",
       " 'MinSizeTimestep',\n",
       " 'MinimumComovingHydroSoftening',\n",
       " 'MinimumDensityOnStartUp',\n",
       " 'MultipleDomains',\n",
       " 'NumFilesPerSnapshot',\n",
       " 'NumFilesWrittenInParallel',\n",
       " 'OB_MassTransferOn',\n",
       " 'Omega0',\n",
       " 'OmegaBaryon',\n",
       " 'OmegaLambda',\n",
       " 'OutputDir',\n",
       " 'OutputListFilename',\n",
       " 'OutputListOn',\n",
       " 'PeriodicBoundariesOn',\n",
       " 'PhotoionizationGasTemp',\n",
       " 'RadiationFeedbackAvgPhotonEnergyineV',\n",
       " 'ReferenceGasPartMass',\n",
       " 'RefinementCriterion',\n",
       " 'ResubmitCommand',\n",
       " 'ResubmitOn',\n",
       " 'SNII_MassTransferOn',\n",
       " 'SNII_MaxMass_Msun',\n",
       " 'SNII_MinMass_Msun',\n",
       " 'SNIa_MassTransferOn',\n",
       " 'SNIa_Rate_Norm',\n",
       " 'SNIa_Rate_TAU',\n",
       " 'SelfShieldingFile',\n",
       " 'SfrEfficiency',\n",
       " 'SnapFormat',\n",
       " 'SnapshotFileBase',\n",
       " 'SofteningComovingType0',\n",
       " 'SofteningComovingType1',\n",
       " 'SofteningComovingType2',\n",
       " 'SofteningComovingType3',\n",
       " 'SofteningComovingType4',\n",
       " 'SofteningComovingType5',\n",
       " 'SofteningMaxPhysType0',\n",
       " 'SofteningMaxPhysType1',\n",
       " 'SofteningMaxPhysType2',\n",
       " 'SofteningMaxPhysType3',\n",
       " 'SofteningMaxPhysType4',\n",
       " 'SofteningMaxPhysType5',\n",
       " 'SofteningTypeOfPartType0',\n",
       " 'SofteningTypeOfPartType1',\n",
       " 'SofteningTypeOfPartType2',\n",
       " 'SofteningTypeOfPartType3',\n",
       " 'SofteningTypeOfPartType4',\n",
       " 'SofteningTypeOfPartType5',\n",
       " 'StarformationOn',\n",
       " 'TargetGasMassFactor',\n",
       " 'TimeBegin',\n",
       " 'TimeBetSnapshot',\n",
       " 'TimeBetStatistics',\n",
       " 'TimeLimitCPU',\n",
       " 'TimeMax',\n",
       " 'TimeOfFirstSnapshot',\n",
       " 'TopNodeFactor',\n",
       " 'TracerMCPerCell',\n",
       " 'TreecoolFile',\n",
       " 'TypeOfOpeningCriterion',\n",
       " 'TypeOfTimestepCriterion',\n",
       " 'UnitLength_in_cm',\n",
       " 'UnitMass_in_g',\n",
       " 'UnitVelocity_in_cm_per_s',\n",
       " 'WindSpeedFactor',\n",
       " 'YieldTablePath',\n",
       " '__class__',\n",
       " '__delattr__',\n",
       " '__dict__',\n",
       " '__dir__',\n",
       " '__doc__',\n",
       " '__eq__',\n",
       " '__format__',\n",
       " '__ge__',\n",
       " '__getattribute__',\n",
       " '__gt__',\n",
       " '__hash__',\n",
       " '__init__',\n",
       " '__init_subclass__',\n",
       " '__le__',\n",
       " '__lt__',\n",
       " '__module__',\n",
       " '__ne__',\n",
       " '__new__',\n",
       " '__reduce__',\n",
       " '__reduce_ex__',\n",
       " '__repr__',\n",
       " '__setattr__',\n",
       " '__sizeof__',\n",
       " '__str__',\n",
       " '__subclasshook__',\n",
       " '__weakref__',\n",
       " '_attrs',\n",
       " '_name',\n",
       " '_parent']"
      ]
     },
     "execution_count": 13,
     "metadata": {},
     "output_type": "execute_result"
    }
   ],
   "source": [
    "dir(sn.parameters)"
   ]
  },
  {
   "cell_type": "code",
   "execution_count": null,
   "id": "8a8e83e4-e21b-42f4-b0fe-ba9e9d51d1ab",
   "metadata": {},
   "outputs": [],
   "source": []
  }
 ],
 "metadata": {
  "kernelspec": {
   "display_name": "Python 3",
   "language": "python",
   "name": "python3"
  },
  "language_info": {
   "codemirror_mode": {
    "name": "ipython",
    "version": 3
   },
   "file_extension": ".py",
   "mimetype": "text/x-python",
   "name": "python",
   "nbconvert_exporter": "python",
   "pygments_lexer": "ipython3",
   "version": "3.8.8"
  }
 },
 "nbformat": 4,
 "nbformat_minor": 5
}
