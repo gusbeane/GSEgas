{
 "cells": [
  {
   "cell_type": "code",
   "execution_count": 1,
   "id": "57110dc7-a8f7-4191-a5c9-9aac37fe5c69",
   "metadata": {},
   "outputs": [],
   "source": [
    "import h5py as h5\n",
    "import arepo\n",
    "import numpy as np\n",
    "import matplotlib.pyplot as plt\n",
    "import matplotlib as mpl\n",
    "from tqdm import tqdm\n",
    "from scipy.interpolate import interp1d\n",
    "from scipy.stats import binned_statistic_2d\n",
    "from numba import njit\n",
    "from astropy.io import fits\n",
    "import astropy.coordinates as coord\n",
    "import astropy.units as u\n",
    "\n",
    "basepath = '/n/holylfs05/LABS/hernquist_lab/Users/abeane/GSEgas/'\n",
    "\n",
    "import sys\n",
    "sys.path.append(basepath+'note/')\n",
    "import galaxy\n",
    "\n",
    "import illustris_python as il\n",
    "TNGbase = '/n/holylfs05/LABS/hernquist_lab/IllustrisTNG/Runs/L35n2160TNG/output/'"
   ]
  },
  {
   "cell_type": "code",
   "execution_count": 2,
   "id": "edede94f-1eae-481b-80b4-902ac974da39",
   "metadata": {},
   "outputs": [],
   "source": [
    "mpl.rc('text', usetex=True)\n",
    "mpl.rc('text.latex', preamble=r\"\"\"\n",
    "\\usepackage{amsmath}\n",
    "\"\"\")\n",
    "# mpl.rcParams.update({'font.size': 22})\n",
    "# mpl.rcParams['text.latex.preamble'] = [r'\\usepackage{amsmath}']\n",
    "# color palette\n",
    "tb_c = ['#4e79a7', '#f28e2b', '#e15759', '#76b7b2', '#59a14f',\n",
    "        '#edc948', '#b07aa1', '#ff9da7', '#9c755f', '#bab0ac']\n",
    "\n",
    "columnwidth = 242.26653 / 72.27 # converts pts to inches\n",
    "textwidth = 513.11743 / 72.27\n",
    "\n",
    "mpl.rcParams.update({'font.size': 8})"
   ]
  },
  {
   "cell_type": "code",
   "execution_count": 3,
   "id": "e3f6dc47-e5a4-4de1-8f00-3fbfae4c75a4",
   "metadata": {},
   "outputs": [],
   "source": [
    "GFM_SOLAR_ABUNDANCE_HYDROGEN = 0.7388\n",
    "GFM_SOLAR_ABUNDANCE_MAGNESIUM = 0.0007\n",
    "GFM_SOLAR_ABUNDANCE_IRON   =   0.0013"
   ]
  },
  {
   "cell_type": "code",
   "execution_count": 4,
   "id": "31499613-b921-4764-952e-d1c36c4edbd1",
   "metadata": {},
   "outputs": [],
   "source": [
    "sim0 = ('142', '116', '04')\n",
    "sim1 = ('129', '116', '04')"
   ]
  },
  {
   "cell_type": "code",
   "execution_count": 5,
   "id": "c66168ae-37fb-45cf-8410-64d435b0b31e",
   "metadata": {},
   "outputs": [],
   "source": [
    "def load_galaxy(sim, idx=320):\n",
    "    Rs, Vv, ecc = sim\n",
    "    key = 'lvl4-Rs'+Rs+'-Vv'+Vv+'-e'+ecc\n",
    "    return galaxy.Galaxy(basepath + 'runs/MW7_GSE4-eRVgrid-lvl4/' + key + '/output',\n",
    "                                              idx, orient=True)"
   ]
  },
  {
   "cell_type": "code",
   "execution_count": 6,
   "id": "23b843a0-ae9f-434c-99f2-083eb369dfba",
   "metadata": {},
   "outputs": [],
   "source": [
    "gal0 = load_galaxy(sim0)\n",
    "gal1 = load_galaxy(sim1)"
   ]
  },
  {
   "cell_type": "code",
   "execution_count": 7,
   "id": "32270f4c-92fe-441b-9947-17c567211cb0",
   "metadata": {},
   "outputs": [],
   "source": [
    "def extract_sim_data(gal):\n",
    "    sn = gal.sn\n",
    "    \n",
    "    ### get logFeH and logMgFe ###\n",
    "    FeH = sn.part4.GFM_Metals[:,8] / GFM_SOLAR_ABUNDANCE_IRON\n",
    "    MgH = sn.part4.GFM_Metals[:,6] / GFM_SOLAR_ABUNDANCE_MAGNESIUM\n",
    "    \n",
    "    logFeH = np.log10(FeH)\n",
    "    logMgH = np.log10(MgH)\n",
    "    logMgFe = logMgH - logFeH\n",
    "\n",
    "    ### get in_SN ###\n",
    "    Lzsun = 8 * 220 * 0.2\n",
    "    zmax = 3\n",
    "    dLz = 0.3\n",
    "    \n",
    "    Lz = np.cross(sn.part4.rotpos, sn.part4.rotvel)[:,2]\n",
    "    in_SN = np.logical_and(np.abs((Lz/Lzsun)-1) < dLz, np.abs(sn.part4.rotpos[:,2]) < zmax)\n",
    "    \n",
    "    ### get tform ###\n",
    "    tform = sn.part4.GFM_StellarFormationTime\n",
    "    keybool = np.logical_and(in_SN, tform > 0)\n",
    "    \n",
    "    out = {}\n",
    "    out['logFeH'] = logFeH[in_SN]\n",
    "    out['logMgFe'] = logMgFe[in_SN]\n",
    "    \n",
    "    return out\n",
    "\n",
    "simdata0 = extract_sim_data(gal0)\n",
    "simdata1 = extract_sim_data(gal1)"
   ]
  },
  {
   "cell_type": "code",
   "execution_count": 9,
   "id": "5422bdde-e0a7-42c7-a3a9-cb7b7631a047",
   "metadata": {},
   "outputs": [
    {
     "data": {
      "image/png": "[encoded data removed]",
      "text/plain": [
       "<Figure size 640x480 with 1 Axes>"
      ]
     },
     "metadata": {},
     "output_type": "display_data"
    }
   ],
   "source": [
    "bins = np.linspace(-3, 1, 100)\n",
    "plt.hist(simdata0['logFeH'], bins=bins, histtype='step')\n",
    "plt.hist(simdata1['logFeH'], bins=bins, histtype='step');"
   ]
  },
  {
   "cell_type": "code",
   "execution_count": null,
   "id": "8c4acc40-f861-4c22-bd0f-04d52de8f6e6",
   "metadata": {},
   "outputs": [],
   "source": []
  }
 ],
 "metadata": {
  "kernelspec": {
   "display_name": "note",
   "language": "python",
   "name": "note"
  },
  "language_info": {
   "codemirror_mode": {
    "name": "ipython",
    "version": 3
   },
   "file_extension": ".py",
   "mimetype": "text/x-python",
   "name": "python",
   "nbconvert_exporter": "python",
   "pygments_lexer": "ipython3",
   "version": "3.10.13"
  }
 },
 "nbformat": 4,
 "nbformat_minor": 5
}
