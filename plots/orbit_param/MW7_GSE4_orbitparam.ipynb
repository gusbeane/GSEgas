{
 "cells": [
  {
   "cell_type": "code",
   "execution_count": 1,
   "id": "7099b67e-cdaf-4057-b8cc-d7c597f24dee",
   "metadata": {},
   "outputs": [],
   "source": [
    "import h5py as h5\n",
    "import arepo\n",
    "import numpy as np\n",
    "import matplotlib.pyplot as plt\n",
    "import matplotlib as mpl\n",
    "from tqdm import tqdm\n",
    "from scipy.interpolate import interp1d\n",
    "from scipy.stats import binned_statistic_2d\n",
    "from numba import njit\n",
    "import importlib\n",
    "import os\n",
    "import itertools"
   ]
  },
  {
   "cell_type": "code",
   "execution_count": 2,
   "id": "a6294f4e-8329-4305-850e-5e844c723af1",
   "metadata": {},
   "outputs": [],
   "source": [
    "mpl.rc('text', usetex=True)\n",
    "mpl.use('ps')\n",
    "mpl.rc('text.latex', preamble=r\"\"\"\n",
    "\\usepackage{amsmath}\n",
    "\\usepackage{xcolor}\n",
    "\"\"\")\n",
    "# mpl.rcParams['text.latex.preamble'] = [r'\\usepackage{amsmath}']\n",
    "# color palette\n",
    "tb_c = ['#4e79a7', '#f28e2b', '#e15759', '#76b7b2', '#59a14f',\n",
    "        '#edc948', '#b07aa1', '#ff9da7', '#9c755f', '#bab0ac']\n",
    "\n",
    "columnwidth = 242.26653 / 72.27 # converts pts to inches\n",
    "textwidth = 513.11743 / 72.27\n",
    "\n",
    "def hex_to_rgb_latex(hex_color):\n",
    "    # Convert hex to RGB\n",
    "    rgb = tuple(int(hex_color.lstrip('#')[i:i+2], 16) for i in (0, 2, 4))\n",
    "    # Scale RGB to [0,1] as required by LaTeX\n",
    "    return '{' + ', '.join(f'{x/255:.2f}' for x in rgb) + '}'"
   ]
  },
  {
   "cell_type": "code",
   "execution_count": 3,
   "id": "21e57c3d-ec43-4080-9617-af84ee2a0b2a",
   "metadata": {},
   "outputs": [],
   "source": [
    "basepath = '/n/holylfs05/LABS/hernquist_lab/Users/abeane/GSEgas/'\n",
    "\n",
    "Rs_list = ['116', '129', '142']\n",
    "Vv_list = ['116', '129', '142']\n",
    "ecc_list = ['04', '05', '06']"
   ]
  },
  {
   "cell_type": "code",
   "execution_count": 4,
   "id": "b1aa71ba-a582-4fd2-985a-77a884464734",
   "metadata": {},
   "outputs": [],
   "source": [
    "def get_orbit(Rs, Vv, ecc):\n",
    "    output_dir = basepath + 'runs/MW7_GSE4-eRVgrid-lvl4/lvl4-Rs'+Rs+'-Vv'+Vv+'-e'+ecc+'/output'\n",
    "    orbit = {}\n",
    "    orbit['Time'] = []\n",
    "    orbit['Orbit'] = []\n",
    "    for idx in np.arange(320+1):\n",
    "        fname = output_dir + '/fof_subhalo_tab_'+str(idx).zfill(3)+'.hdf5'\n",
    "        \n",
    "        if not os.path.exists(fname):\n",
    "            print('got to idx='+str(idx-1)+' for Rs,Vv,ecc='+Rs+','+Vv+','+ecc)\n",
    "            break\n",
    "        \n",
    "        t = h5.File(fname, mode='r')\n",
    "        orbit['Time'].append(t['Header'].attrs['Time'])\n",
    "        SubhaloPos = t['Subhalo/SubhaloPos'][:]\n",
    "        if len(SubhaloPos) > 1:\n",
    "            orbit['Orbit'].append(SubhaloPos[1] - SubhaloPos[0])\n",
    "        else:\n",
    "            orbit['Orbit'].append(np.array([0., 0., 0.]))\n",
    "        t.close()\n",
    "    \n",
    "    for k in orbit.keys():\n",
    "        orbit[k] = np.array(orbit[k])\n",
    "    \n",
    "    orbit['Rsep'] = np.linalg.norm(orbit['Orbit'], axis=1)\n",
    "        \n",
    "    return orbit"
   ]
  },
  {
   "cell_type": "code",
   "execution_count": 5,
   "id": "a2355e8d-96b3-4919-989d-d6e772bbc314",
   "metadata": {},
   "outputs": [
    {
     "name": "stderr",
     "output_type": "stream",
     "text": [
      "27it [00:07,  3.84it/s]\n"
     ]
    }
   ],
   "source": [
    "orbits = {}\n",
    "for Rs, Vv, ecc in tqdm(itertools.product(Rs_list, Vv_list, ecc_list)):\n",
    "    if Rs not in orbits.keys():\n",
    "        orbits[Rs] = {}\n",
    "    if Vv not in orbits[Rs].keys():\n",
    "        orbits[Rs][Vv] = {}\n",
    "    orbits[Rs][Vv][ecc] = get_orbit(Rs, Vv, ecc)            "
   ]
  },
  {
   "cell_type": "code",
   "execution_count": 13,
   "id": "156ec205-e8d6-4e9c-beb7-e4fb65ae0385",
   "metadata": {},
   "outputs": [],
   "source": [
    "fig, axs = plt.subplots(2, 3, figsize=(textwidth, 0.4*textwidth), height_ratios=[1, 1.5])\n",
    "\n",
    "############ vary Rs\n",
    "orbit = orbits['129']['129']['05']\n",
    "axs[0][0].plot(orbit['Orbit'][:,0], orbit['Orbit'][:,1], c='k', zorder=10)\n",
    "axs[1][0].plot(orbit['Time'], orbit['Rsep'], c='k', zorder=10)\n",
    "\n",
    "orbit = orbits['116']['129']['05']\n",
    "axs[0][0].plot(orbit['Orbit'][:,0], orbit['Orbit'][:,1], c=tb_c[0])\n",
    "axs[1][0].plot(orbit['Time'], orbit['Rsep'], c=tb_c[0])\n",
    "\n",
    "orbit = orbits['142']['129']['05']\n",
    "axs[0][0].plot(orbit['Orbit'][:,0], orbit['Orbit'][:,1], c=tb_c[2])\n",
    "axs[1][0].plot(orbit['Time'], orbit['Rsep'], c=tb_c[2])\n",
    "\n",
    "############ vary Vv\n",
    "orbit = orbits['129']['129']['05']\n",
    "axs[0][1].plot(orbit['Orbit'][:,0], orbit['Orbit'][:,1], c='k', zorder=10)\n",
    "axs[1][1].plot(orbit['Time'], orbit['Rsep'], c='k', zorder=10)\n",
    "\n",
    "orbit = orbits['129']['116']['05']\n",
    "axs[0][1].plot(orbit['Orbit'][:,0], orbit['Orbit'][:,1], c=tb_c[0])\n",
    "axs[1][1].plot(orbit['Time'], orbit['Rsep'], c=tb_c[0])\n",
    "\n",
    "orbit = orbits['129']['142']['05']\n",
    "axs[0][1].plot(orbit['Orbit'][:,0], orbit['Orbit'][:,1], c=tb_c[2])\n",
    "axs[1][1].plot(orbit['Time'], orbit['Rsep'], c=tb_c[2])\n",
    "\n",
    "############ vary ecc\n",
    "orbit = orbits['129']['129']['05']\n",
    "axs[0][2].plot(orbit['Orbit'][:,0], orbit['Orbit'][:,1], c='k', zorder=10)\n",
    "axs[1][2].plot(orbit['Time'], orbit['Rsep'], c='k', zorder=10)\n",
    "\n",
    "orbit = orbits['129']['129']['04']\n",
    "axs[0][2].plot(orbit['Orbit'][:,0], orbit['Orbit'][:,1], c=tb_c[0])\n",
    "axs[1][2].plot(orbit['Time'], orbit['Rsep'], c=tb_c[0])\n",
    "\n",
    "orbit = orbits['129']['129']['06']\n",
    "axs[0][2].plot(orbit['Orbit'][:,0], orbit['Orbit'][:,1], c=tb_c[2])\n",
    "axs[1][2].plot(orbit['Time'], orbit['Rsep'], c=tb_c[2])\n",
    "\n",
    "for ax in axs[0].ravel():\n",
    "    ax.set(xlim=(-150, 100), ylim=(-50, 50))\n",
    "    ax.set(aspect='equal')\n",
    "    ax.set(xlabel=r'$x\\,[\\,\\textrm{kpc}\\,]$', ylabel=r'$y\\,[\\,\\textrm{kpc}\\,]$')\n",
    "    ax.set(xticks=np.arange(-150, 100+1, 50))\n",
    "\n",
    "axs[0][0].set_title(r'$\\textrm{vary } R_0$')\n",
    "axs[0][1].set_title(r'$\\textrm{vary } V_0$')\n",
    "axs[0][2].set_title(r'$\\textrm{vary } \\eta$')\n",
    "\n",
    "# for ax in axs[1]:\n",
    "    # Direct use of textcolor with HTML color definition in LaTeX\n",
    "    # text_str = r'\\textcolor[HTML]{'+tb_c[2].lstrip('#')+'}{+}' + r'/\\textcolor[HTML]{'+tb_c[0].lstrip('#')+'}{-}'\n",
    "    # ax.text(0.95, 0.95, text_str, transform=ax.transAxes, ha='right', va='top', fontsize=12)\n",
    "\n",
    "for ax in axs[1]:\n",
    "    # plus_color = hex_to_rgb_latex(tb_c[2])  # Convert color for '+'\n",
    "    # minus_color = hex_to_rgb_latex(tb_c[0])  # Convert color for '-'\n",
    "    # print(plus_color)\n",
    "    # text_str = r'\\textcolor[rgb]' + plus_color + '{+}' + r'\\textcolor{black}{/}' + r'\\textcolor[rgb]' + minus_color + '{-}'\n",
    "    # text_str = r'\\pluscolor{+}/\\minuscolor{-}'\n",
    "    # ax.text(0.95, 0.95, text_str, transform=ax.transAxes, ha='right', va='top', fontsize=12)\n",
    "\n",
    "    ax.set(xlim=(0, 4), xticks=np.arange(0, 4+1, 1), xlabel=r'$t\\,[\\,\\textrm{Gyr}\\,]$')\n",
    "    ax.set(ylim=(0, 150), ylabel=r'$\\textrm{separation}\\,[\\,\\textrm{kpc}\\,]$')\n",
    "\n",
    "fig.tight_layout()\n",
    "\n",
    "fig.savefig('orbit_param.pdf')"
   ]
  },
  {
   "cell_type": "code",
   "execution_count": 5,
   "id": "144b1511-e68f-4841-aff3-c9ba221faa93",
   "metadata": {},
   "outputs": [
    {
     "data": {
      "text/plain": [
       "[<matplotlib.lines.Line2D at 0x1464bf5650f0>]"
      ]
     },
     "execution_count": 5,
     "metadata": {},
     "output_type": "execute_result"
    },
    {
     "data": {
      "image/png": "[encoded data removed]",
      "text/plain": [
       "<Figure size 640x480 with 1 Axes>"
      ]
     },
     "metadata": {},
     "output_type": "display_data"
    }
   ],
   "source": [
    "%matplotlib inline\n",
    "orbit = get_orbit('142', '142', '04')\n",
    "# plt.close()\n",
    "plt.plot(orbit['Time'], orbit['Rsep'])\n",
    "# plt.xlim(0, 4)\n",
    "# plt.ylim(0, 150)\n",
    "# plt.show()"
   ]
  },
  {
   "cell_type": "code",
   "execution_count": null,
   "id": "e5db17a0-5205-47da-9527-ab856bf17428",
   "metadata": {},
   "outputs": [],
   "source": []
  }
 ],
 "metadata": {
  "kernelspec": {
   "display_name": "note",
   "language": "python",
   "name": "note"
  },
  "language_info": {
   "codemirror_mode": {
    "name": "ipython",
    "version": 3
   },
   "file_extension": ".py",
   "mimetype": "text/x-python",
   "name": "python",
   "nbconvert_exporter": "python",
   "pygments_lexer": "ipython3",
   "version": "3.10.13"
  }
 },
 "nbformat": 4,
 "nbformat_minor": 5
}
