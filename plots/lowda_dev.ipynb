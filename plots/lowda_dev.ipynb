{
 "cells": [
  {
   "cell_type": "code",
   "execution_count": 50,
   "id": "2da50674-e2f0-4bf0-a78e-ace58c763709",
   "metadata": {},
   "outputs": [],
   "source": [
    "import numpy as np\n",
    "import pickle\n",
    "import lowda\n",
    "import dill\n",
    "import arepo"
   ]
  },
  {
   "cell_type": "code",
   "execution_count": 40,
   "id": "dffb1479-7b50-405f-9839-f6b052c5b260",
   "metadata": {},
   "outputs": [
    {
     "data": {
      "text/plain": [
       "<module 'lowda' from '/n/holylfs05/LABS/hernquist_lab/Users/abeane/GSEgas/plots/lowda.py'>"
      ]
     },
     "execution_count": 40,
     "metadata": {},
     "output_type": "execute_result"
    }
   ],
   "source": [
    "import importlib\n",
    "importlib.reload(lowda)"
   ]
  },
  {
   "cell_type": "code",
   "execution_count": 41,
   "id": "a1525fc1-29cd-4f67-bfed-7d8bb59d88ab",
   "metadata": {},
   "outputs": [],
   "source": [
    "basepath='/n/holylfs05/LABS/hernquist_lab/Users/abeane/GSEgas'\n",
    "name = 'MW4iso_fg0.2_MHG0.25_RC9_vphi0.1'\n",
    "lvl = 'lvl4-noB'\n",
    "output_path = basepath + '/runs/' + name + '/' + lvl + '/output'"
   ]
  },
  {
   "cell_type": "code",
   "execution_count": 55,
   "id": "6840d569-6c90-4960-be6a-da70be521310",
   "metadata": {},
   "outputs": [],
   "source": [
    "sn = arepo.Snapshot(output_path, 10, combineFiles=True)\n",
    "sn.addField('Temperature', [1,0,0,0,0,0])\n",
    "sn.Temperature[:] = np.random.rand(sn.NumPart_Total[0])"
   ]
  },
  {
   "cell_type": "code",
   "execution_count": 57,
   "id": "a52f5f82-d57b-409f-9efe-8b73a9f40342",
   "metadata": {},
   "outputs": [
    {
     "data": {
      "text/plain": [
       "6"
      ]
     },
     "execution_count": 57,
     "metadata": {},
     "output_type": "execute_result"
    }
   ],
   "source": [
    "sn.ntypes"
   ]
  },
  {
   "cell_type": "code",
   "execution_count": 42,
   "id": "deebb28e-2a01-4564-bf65-139c10d6cdaf",
   "metadata": {},
   "outputs": [],
   "source": [
    "parttype = [0, 2, 4]\n",
    "fields = None\n",
    "idx = 0\n",
    "\n",
    "out = lowda._load_snap(output_path, idx, parttype, fields)"
   ]
  },
  {
   "cell_type": "code",
   "execution_count": 43,
   "id": "5cb67f8e-87a2-4d27-8818-82dcdd75d91a",
   "metadata": {},
   "outputs": [],
   "source": [
    "# dill.dump(out, open('/scratch/test.p', 'wb'))"
   ]
  },
  {
   "cell_type": "code",
   "execution_count": 44,
   "id": "ac38991e-b39b-4aae-8352-a76fa8deec89",
   "metadata": {},
   "outputs": [],
   "source": [
    "# outt = dill.load(open('/scratch/test.p', 'rb'))"
   ]
  },
  {
   "cell_type": "code",
   "execution_count": 45,
   "id": "99b0d668-36f9-47c2-8ab4-185015b7bbab",
   "metadata": {},
   "outputs": [],
   "source": [
    "pickle.dump(out, open('/scratch/test.p', 'wb'))"
   ]
  },
  {
   "cell_type": "code",
   "execution_count": 46,
   "id": "d4476627-946d-4115-95c5-3f6f1764a410",
   "metadata": {},
   "outputs": [],
   "source": [
    "outt = pickle.load(open('/scratch/test.p', 'rb'))"
   ]
  },
  {
   "cell_type": "code",
   "execution_count": 24,
   "id": "e6ee647e-a526-4d6d-9c07-e436cbb4e0d9",
   "metadata": {},
   "outputs": [],
   "source": [
    "pickle.dump(out['sn'].header, open('/scratch/test.p', 'wb'))"
   ]
  },
  {
   "cell_type": "code",
   "execution_count": 25,
   "id": "5857ff5a-6d76-4dc2-91e1-5f809913a5cd",
   "metadata": {},
   "outputs": [
    {
     "ename": "RecursionError",
     "evalue": "maximum recursion depth exceeded",
     "output_type": "error",
     "traceback": [
      "\u001b[0;31m---------------------------------------------------------------------------\u001b[0m",
      "\u001b[0;31mRecursionError\u001b[0m                            Traceback (most recent call last)",
      "Cell \u001b[0;32mIn[25], line 1\u001b[0m\n\u001b[0;32m----> 1\u001b[0m outt \u001b[38;5;241m=\u001b[39m \u001b[43mpickle\u001b[49m\u001b[38;5;241;43m.\u001b[39;49m\u001b[43mload\u001b[49m\u001b[43m(\u001b[49m\u001b[38;5;28;43mopen\u001b[39;49m\u001b[43m(\u001b[49m\u001b[38;5;124;43m'\u001b[39;49m\u001b[38;5;124;43m/scratch/test.p\u001b[39;49m\u001b[38;5;124;43m'\u001b[39;49m\u001b[43m,\u001b[49m\u001b[43m \u001b[49m\u001b[38;5;124;43m'\u001b[39;49m\u001b[38;5;124;43mrb\u001b[39;49m\u001b[38;5;124;43m'\u001b[39;49m\u001b[43m)\u001b[49m\u001b[43m)\u001b[49m\n",
      "File \u001b[0;32m~/.local/lib/python3.10/site-packages/gadget-0.1-py3.10-linux-x86_64.egg/gadget/loader.py:934\u001b[0m, in \u001b[0;36mPartGroup.__getattr__\u001b[0;34m(self, attr)\u001b[0m\n\u001b[1;32m    932\u001b[0m     \u001b[38;5;28;01mreturn\u001b[39;00m data  \n\u001b[1;32m    933\u001b[0m \u001b[38;5;28;01melse\u001b[39;00m:\n\u001b[0;32m--> 934\u001b[0m     \u001b[38;5;28;01mreturn\u001b[39;00m \u001b[38;5;28;43mself\u001b[39;49m\u001b[38;5;241;43m.\u001b[39;49m\u001b[38;5;21;43m__getitem__\u001b[39;49m\u001b[43m(\u001b[49m\u001b[43mattr\u001b[49m\u001b[43m)\u001b[49m\n",
      "File \u001b[0;32m~/.local/lib/python3.10/site-packages/gadget-0.1-py3.10-linux-x86_64.egg/gadget/loader.py:822\u001b[0m, in \u001b[0;36mPartGroup.__getitem__\u001b[0;34m(self, item_original)\u001b[0m\n\u001b[1;32m    821\u001b[0m \u001b[38;5;28;01mdef\u001b[39;00m \u001b[38;5;21m__getitem__\u001b[39m(\u001b[38;5;28mself\u001b[39m, item_original):\n\u001b[0;32m--> 822\u001b[0m     item \u001b[38;5;241m=\u001b[39m \u001b[38;5;28;43mself\u001b[39;49m\u001b[38;5;241;43m.\u001b[39;49m\u001b[43m_parent\u001b[49m\u001b[38;5;241m.\u001b[39m_normalizeName(item_original)\n\u001b[1;32m    823\u001b[0m     parent \u001b[38;5;241m=\u001b[39m \u001b[38;5;28mself\u001b[39m\u001b[38;5;241m.\u001b[39m_parent\n\u001b[1;32m    824\u001b[0m     num \u001b[38;5;241m=\u001b[39m \u001b[38;5;28mself\u001b[39m\u001b[38;5;241m.\u001b[39m_num\n",
      "File \u001b[0;32m~/.local/lib/python3.10/site-packages/gadget-0.1-py3.10-linux-x86_64.egg/gadget/loader.py:934\u001b[0m, in \u001b[0;36mPartGroup.__getattr__\u001b[0;34m(self, attr)\u001b[0m\n\u001b[1;32m    932\u001b[0m     \u001b[38;5;28;01mreturn\u001b[39;00m data  \n\u001b[1;32m    933\u001b[0m \u001b[38;5;28;01melse\u001b[39;00m:\n\u001b[0;32m--> 934\u001b[0m     \u001b[38;5;28;01mreturn\u001b[39;00m \u001b[38;5;28;43mself\u001b[39;49m\u001b[38;5;241;43m.\u001b[39;49m\u001b[38;5;21;43m__getitem__\u001b[39;49m\u001b[43m(\u001b[49m\u001b[43mattr\u001b[49m\u001b[43m)\u001b[49m\n",
      "File \u001b[0;32m~/.local/lib/python3.10/site-packages/gadget-0.1-py3.10-linux-x86_64.egg/gadget/loader.py:822\u001b[0m, in \u001b[0;36mPartGroup.__getitem__\u001b[0;34m(self, item_original)\u001b[0m\n\u001b[1;32m    821\u001b[0m \u001b[38;5;28;01mdef\u001b[39;00m \u001b[38;5;21m__getitem__\u001b[39m(\u001b[38;5;28mself\u001b[39m, item_original):\n\u001b[0;32m--> 822\u001b[0m     item \u001b[38;5;241m=\u001b[39m \u001b[38;5;28;43mself\u001b[39;49m\u001b[38;5;241;43m.\u001b[39;49m\u001b[43m_parent\u001b[49m\u001b[38;5;241m.\u001b[39m_normalizeName(item_original)\n\u001b[1;32m    823\u001b[0m     parent \u001b[38;5;241m=\u001b[39m \u001b[38;5;28mself\u001b[39m\u001b[38;5;241m.\u001b[39m_parent\n\u001b[1;32m    824\u001b[0m     num \u001b[38;5;241m=\u001b[39m \u001b[38;5;28mself\u001b[39m\u001b[38;5;241m.\u001b[39m_num\n",
      "    \u001b[0;31m[... skipping similar frames: PartGroup.__getattr__ at line 934 (483 times), PartGroup.__getitem__ at line 822 (483 times)]\u001b[0m\n",
      "File \u001b[0;32m~/.local/lib/python3.10/site-packages/gadget-0.1-py3.10-linux-x86_64.egg/gadget/loader.py:934\u001b[0m, in \u001b[0;36mPartGroup.__getattr__\u001b[0;34m(self, attr)\u001b[0m\n\u001b[1;32m    932\u001b[0m     \u001b[38;5;28;01mreturn\u001b[39;00m data  \n\u001b[1;32m    933\u001b[0m \u001b[38;5;28;01melse\u001b[39;00m:\n\u001b[0;32m--> 934\u001b[0m     \u001b[38;5;28;01mreturn\u001b[39;00m \u001b[38;5;28;43mself\u001b[39;49m\u001b[38;5;241;43m.\u001b[39;49m\u001b[38;5;21;43m__getitem__\u001b[39;49m\u001b[43m(\u001b[49m\u001b[43mattr\u001b[49m\u001b[43m)\u001b[49m\n",
      "File \u001b[0;32m~/.local/lib/python3.10/site-packages/gadget-0.1-py3.10-linux-x86_64.egg/gadget/loader.py:822\u001b[0m, in \u001b[0;36mPartGroup.__getitem__\u001b[0;34m(self, item_original)\u001b[0m\n\u001b[1;32m    821\u001b[0m \u001b[38;5;28;01mdef\u001b[39;00m \u001b[38;5;21m__getitem__\u001b[39m(\u001b[38;5;28mself\u001b[39m, item_original):\n\u001b[0;32m--> 822\u001b[0m     item \u001b[38;5;241m=\u001b[39m \u001b[38;5;28;43mself\u001b[39;49m\u001b[38;5;241;43m.\u001b[39;49m\u001b[43m_parent\u001b[49m\u001b[38;5;241m.\u001b[39m_normalizeName(item_original)\n\u001b[1;32m    823\u001b[0m     parent \u001b[38;5;241m=\u001b[39m \u001b[38;5;28mself\u001b[39m\u001b[38;5;241m.\u001b[39m_parent\n\u001b[1;32m    824\u001b[0m     num \u001b[38;5;241m=\u001b[39m \u001b[38;5;28mself\u001b[39m\u001b[38;5;241m.\u001b[39m_num\n",
      "\u001b[0;31mRecursionError\u001b[0m: maximum recursion depth exceeded"
     ]
    }
   ],
   "source": [
    "outt = pickle.load(open('/scratch/test.p', 'rb'))"
   ]
  },
  {
   "cell_type": "code",
   "execution_count": 28,
   "id": "b5bcb0ff-a8b7-4566-a5d3-09c7ccb9fece",
   "metadata": {},
   "outputs": [
    {
     "name": "stdout",
     "output_type": "stream",
     "text": [
      "Object `sn.__getstate__` not found.\n"
     ]
    }
   ],
   "source": [
    "sn.__getstate__?"
   ]
  },
  {
   "cell_type": "code",
   "execution_count": 34,
   "id": "0a4192b6-8ca1-42c6-8f38-d3697a958851",
   "metadata": {},
   "outputs": [],
   "source": [
    "sn = out['sn']\n",
    "snf = snap(sn)"
   ]
  },
  {
   "cell_type": "code",
   "execution_count": 35,
   "id": "8b07f06e-7d46-4f71-a70d-91e34a7ac47f",
   "metadata": {},
   "outputs": [],
   "source": [
    "pickle.dump(snf, open('/scratch/test.p', 'wb'))"
   ]
  },
  {
   "cell_type": "code",
   "execution_count": 36,
   "id": "c79be249-299a-4b1b-b96e-b6ed510e71ce",
   "metadata": {},
   "outputs": [],
   "source": [
    "snt = pickle.load(open('/scratch/test.p', 'rb'))"
   ]
  },
  {
   "cell_type": "code",
   "execution_count": 37,
   "id": "8d45e421-02df-4d9e-a9e7-63d4f8f2921e",
   "metadata": {},
   "outputs": [
    {
     "data": {
      "text/plain": [
       "array([[300.        , 300.        , 300.        ],\n",
       "       [297.37298584, 300.2114563 , 300.0199585 ],\n",
       "       [301.78240967, 296.81924438, 300.14727783],\n",
       "       ...,\n",
       "       [337.6114502 , 322.73294067, 308.03738403],\n",
       "       [475.02960205, 330.38162231, 199.24707031],\n",
       "       [432.42095947, 209.29766846, 490.61062622]])"
      ]
     },
     "execution_count": 37,
     "metadata": {},
     "output_type": "execute_result"
    }
   ],
   "source": [
    "snt.part0.Coordinates"
   ]
  },
  {
   "cell_type": "code",
   "execution_count": 60,
   "id": "1835991a-ab0b-42b7-afaa-68fcff4db490",
   "metadata": {},
   "outputs": [],
   "source": [
    "from multiprocessing.managers import BaseManager\n",
    "from multiprocessing import Process\n",
    "import multiprocessing"
   ]
  },
  {
   "cell_type": "code",
   "execution_count": 62,
   "id": "e4ffa59a-50c8-4d20-8a6e-99abd2ab0080",
   "metadata": {},
   "outputs": [],
   "source": [
    "def load_and_process_file(filename, shared_dict_name):\n",
    "    # Load the file\n",
    "    data = np.random.rand(10000)\n",
    "\n",
    "    # Now, store the processed data in the shared dictionary\n",
    "    with multiprocessing.managers.BaseManager() as manager:\n",
    "        manager.register('get_shared_dict')\n",
    "        manager.connect()\n",
    "        shared_dict = manager.get_shared_dict()\n",
    "        shared_dict[filename] = data\n",
    "\n",
    "class SharedDictManager(BaseManager): pass\n",
    "\n",
    "def Manager():\n",
    "    m = SharedDictManager()\n",
    "    m.start()\n",
    "    return m\n",
    "\n",
    "SharedDictManager.register('get_shared_dict', dict, multiprocessing.managers.DictProxy)\n",
    "\n",
    "manager = Manager()\n",
    "shared_dict = manager.get_shared_dict()\n"
   ]
  },
  {
   "cell_type": "code",
   "execution_count": 65,
   "id": "a90a47fa-0819-4f0d-bb9b-47ac9037bcbc",
   "metadata": {},
   "outputs": [
    {
     "name": "stderr",
     "output_type": "stream",
     "text": [
      "Process Process-11:\n",
      "Process Process-12:\n",
      "Traceback (most recent call last):\n",
      "  File \"/n/home01/abeane/.conda/envs/note/lib/python3.10/multiprocessing/process.py\", line 314, in _bootstrap\n",
      "    self.run()\n",
      "Traceback (most recent call last):\n",
      "  File \"/n/home01/abeane/.conda/envs/note/lib/python3.10/multiprocessing/process.py\", line 108, in run\n",
      "    self._target(*self._args, **self._kwargs)\n",
      "  File \"/n/home01/abeane/.conda/envs/note/lib/python3.10/multiprocessing/process.py\", line 314, in _bootstrap\n",
      "    self.run()\n",
      "  File \"/n/home01/abeane/.conda/envs/note/lib/python3.10/multiprocessing/process.py\", line 108, in run\n",
      "    self._target(*self._args, **self._kwargs)\n",
      "  File \"/tmp/ipykernel_193598/3596152153.py\", line 9, in load_and_process_file\n",
      "    shared_dict = manager.get_shared_dict()\n",
      "  File \"/n/home01/abeane/.conda/envs/note/lib/python3.10/multiprocessing/managers.py\", line 723, in temp\n",
      "    token, exp = self._create(typeid, *args, **kwds)\n",
      "  File \"/tmp/ipykernel_193598/3596152153.py\", line 9, in load_and_process_file\n",
      "    shared_dict = manager.get_shared_dict()\n",
      "  File \"/n/home01/abeane/.conda/envs/note/lib/python3.10/multiprocessing/managers.py\", line 608, in _create\n",
      "    id, exposed = dispatch(conn, None, 'create', (typeid,)+args, kwds)\n",
      "  File \"/n/home01/abeane/.conda/envs/note/lib/python3.10/multiprocessing/managers.py\", line 723, in temp\n",
      "    token, exp = self._create(typeid, *args, **kwds)\n",
      "  File \"/n/home01/abeane/.conda/envs/note/lib/python3.10/multiprocessing/managers.py\", line 608, in _create\n",
      "    id, exposed = dispatch(conn, None, 'create', (typeid,)+args, kwds)\n",
      "  File \"/n/home01/abeane/.conda/envs/note/lib/python3.10/multiprocessing/managers.py\", line 93, in dispatch\n",
      "    raise convert_to_error(kind, result)\n",
      "  File \"/n/home01/abeane/.conda/envs/note/lib/python3.10/multiprocessing/managers.py\", line 93, in dispatch\n",
      "    raise convert_to_error(kind, result)\n",
      "multiprocessing.managers.RemoteError: \n",
      "---------------------------------------------------------------------------\n",
      "Traceback (most recent call last):\n",
      "  File \"/n/home01/abeane/.conda/envs/note/lib/python3.10/multiprocessing/managers.py\", line 209, in _handle_request\n",
      "    result = func(c, *args, **kwds)\n",
      "  File \"/n/home01/abeane/.conda/envs/note/lib/python3.10/multiprocessing/managers.py\", line 379, in create\n",
      "    self.registry[typeid]\n",
      "KeyError: 'get_shared_dict'\n",
      "---------------------------------------------------------------------------\n",
      "multiprocessing.managers.RemoteError: \n",
      "---------------------------------------------------------------------------\n",
      "Traceback (most recent call last):\n",
      "  File \"/n/home01/abeane/.conda/envs/note/lib/python3.10/multiprocessing/managers.py\", line 209, in _handle_request\n",
      "    result = func(c, *args, **kwds)\n",
      "  File \"/n/home01/abeane/.conda/envs/note/lib/python3.10/multiprocessing/managers.py\", line 379, in create\n",
      "    self.registry[typeid]\n",
      "KeyError: 'get_shared_dict'\n",
      "---------------------------------------------------------------------------\n"
     ]
    },
    {
     "name": "stdout",
     "output_type": "stream",
     "text": [
      "{}\n"
     ]
    }
   ],
   "source": [
    "filenames = ['0', '1']#, '2', '3', '4', '5', '6', '7']\n",
    "processes = []\n",
    "for fname in filenames:\n",
    "    p = Process(target=load_and_process_file, args=(filenames, shared_dict._id))\n",
    "    p.start()\n",
    "    processes.append(p)\n",
    "\n",
    "for p in processes:\n",
    "    p.join()\n",
    "    \n",
    "print(shared_dict)"
   ]
  },
  {
   "cell_type": "code",
   "execution_count": null,
   "id": "670c7c7c-bd97-44fe-aece-eb209079ed87",
   "metadata": {},
   "outputs": [],
   "source": []
  }
 ],
 "metadata": {
  "kernelspec": {
   "display_name": "Python [conda env:.conda-note]",
   "language": "python",
   "name": "conda-env-.conda-note-py"
  },
  "language_info": {
   "codemirror_mode": {
    "name": "ipython",
    "version": 3
   },
   "file_extension": ".py",
   "mimetype": "text/x-python",
   "name": "python",
   "nbconvert_exporter": "python",
   "pygments_lexer": "ipython3",
   "version": "3.10.12"
  }
 },
 "nbformat": 4,
 "nbformat_minor": 5
}
