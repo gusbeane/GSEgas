{
 "cells": [
  {
   "cell_type": "code",
   "execution_count": 1,
   "id": "d185cef8-6a3d-4c83-9337-9bbf97280848",
   "metadata": {},
   "outputs": [],
   "source": [
    "import numpy as np\n",
    "from numba import njit"
   ]
  },
  {
   "cell_type": "code",
   "execution_count": 28,
   "id": "3532093c-d3dc-4d36-9a30-39589c79fbeb",
   "metadata": {},
   "outputs": [],
   "source": [
    "@njit\n",
    "def compute_something(pts, cyl_pts):\n",
    "    Npts = pts.shape[0]\n",
    "    Ncyl = cyl_pts.shape[0]\n",
    "    \n",
    "    is_in_cyl = np.zeros((Npts, Ncyl))\n",
    "    \n",
    "    for i in range(Npts):\n",
    "        for k in range(Ncyl):\n",
    "            dist = (pts[i,0] - cyl_pts[k,0])**2 + (pts[i,1] - cyl_pts[k,1])**2 + (pts[i,2] - cyl_pts[k,2])**2\n",
    "            is_in_cyl[i][k] = dist < 0.1*0.1\n",
    "    \n",
    "    return is_in_cyl"
   ]
  },
  {
   "cell_type": "code",
   "execution_count": 30,
   "id": "787f36ca-90c0-43cd-9cd2-5e839cc39632",
   "metadata": {},
   "outputs": [],
   "source": [
    "pts = np.random.rand(10**7, 3)\n",
    "cyl_pts = np.random.rand(10**2, 3)"
   ]
  },
  {
   "cell_type": "code",
   "execution_count": 32,
   "id": "6d453441-91ae-4003-9460-6769a0c77bc3",
   "metadata": {},
   "outputs": [
    {
     "name": "stdout",
     "output_type": "stream",
     "text": [
      "CPU times: user 2.43 s, sys: 2.87 s, total: 5.3 s\n",
      "Wall time: 5.31 s\n"
     ]
    },
    {
     "data": {
      "text/plain": [
       "array([[0., 0., 0., ..., 0., 0., 0.],\n",
       "       [0., 0., 0., ..., 0., 0., 0.],\n",
       "       [0., 0., 0., ..., 0., 0., 0.],\n",
       "       ...,\n",
       "       [0., 0., 0., ..., 0., 0., 0.],\n",
       "       [0., 0., 0., ..., 0., 0., 0.],\n",
       "       [0., 0., 0., ..., 0., 0., 0.]])"
      ]
     },
     "execution_count": 32,
     "metadata": {},
     "output_type": "execute_result"
    }
   ],
   "source": [
    "%%time\n",
    "compute_something(pts, cyl_pts)"
   ]
  },
  {
   "cell_type": "code",
   "execution_count": 33,
   "id": "f24eda17-fd59-4b61-956e-00b68e1a64ff",
   "metadata": {},
   "outputs": [
    {
     "data": {
      "text/plain": [
       "2655.0"
      ]
     },
     "execution_count": 33,
     "metadata": {},
     "output_type": "execute_result"
    }
   ],
   "source": [
    "5.31 * 1000 * 1800 / 60 / 60"
   ]
  },
  {
   "cell_type": "code",
   "execution_count": null,
   "id": "dd5a8007-2b88-4f12-9cee-96852458d3f5",
   "metadata": {},
   "outputs": [],
   "source": []
  }
 ],
 "metadata": {
  "kernelspec": {
   "display_name": "note",
   "language": "python",
   "name": "note"
  },
  "language_info": {
   "codemirror_mode": {
    "name": "ipython",
    "version": 3
   },
   "file_extension": ".py",
   "mimetype": "text/x-python",
   "name": "python",
   "nbconvert_exporter": "python",
   "pygments_lexer": "ipython3",
   "version": "3.10.13"
  }
 },
 "nbformat": 4,
 "nbformat_minor": 5
}
