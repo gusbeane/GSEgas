{
 "cells": [
  {
   "cell_type": "code",
   "execution_count": 1,
   "id": "b8d2f68e-622b-43bd-9ee6-645f87c7287a",
   "metadata": {},
   "outputs": [],
   "source": [
    "import numpy as np\n",
    "from sklearn.mixture import GaussianMixture\n",
    "from scipy.stats import norm\n",
    "from scipy.integrate import quad\n",
    "\n",
    "import h5py as h5\n",
    "import arepo\n",
    "import matplotlib.pyplot as plt\n",
    "import matplotlib as mpl\n",
    "from tqdm import tqdm\n",
    "from scipy.interpolate import interp1d\n",
    "from scipy.stats import binned_statistic_2d\n",
    "from numba import njit\n",
    "import os\n",
    "from joblib import Parallel, delayed\n",
    "import warnings\n",
    "from scipy.interpolate import CubicSpline\n",
    "\n",
    "from astropy.io import fits\n",
    "import astropy.coordinates as coord\n",
    "import astropy.units as u\n",
    "\n",
    "basepath = '/n/holylfs05/LABS/hernquist_lab/Users/abeane/GSEgas/'\n",
    "\n",
    "import sys\n",
    "sys.path.append(basepath+'note/')\n",
    "import galaxy\n",
    "\n",
    "from scipy.ndimage import gaussian_filter\n",
    "\n",
    "import illustris_python as il\n",
    "TNGbase = '/n/holylfs05/LABS/hernquist_lab/IllustrisTNG/Runs/L35n2160TNG/output/'"
   ]
  },
  {
   "cell_type": "code",
   "execution_count": 2,
   "id": "c25f50d5-72c9-4d95-8ee2-ef488f5017ed",
   "metadata": {},
   "outputs": [],
   "source": [
    "# mpl.rc('text', usetex=True)\n",
    "# mpl.rc('text.latex', preamble=r\"\"\"\n",
    "# \\usepackage{amsmath}\n",
    "# \"\"\")\n",
    "# # mpl.rcParams.update({'font.size': 22})\n",
    "# # mpl.rcParams['text.latex.preamble'] = [r'\\usepackage{amsmath}']\n",
    "# # color palette\n",
    "# tb_c = ['#4e79a7', '#f28e2b', '#e15759', '#76b7b2', '#59a14f',\n",
    "#         '#edc948', '#b07aa1', '#ff9da7', '#9c755f', '#bab0ac']\n",
    "\n",
    "# columnwidth = 242.26653 / 72.27 # converts pts to inches\n",
    "# textwidth = 513.11743 / 72.27\n",
    "\n",
    "# mpl.rcParams.update({'font.size': 8})"
   ]
  },
  {
   "cell_type": "code",
   "execution_count": 3,
   "id": "ed5d5b61-4faf-4eb3-a56d-be695ba81e98",
   "metadata": {},
   "outputs": [],
   "source": [
    "GFM_SOLAR_ABUNDANCE_HYDROGEN = 0.7388\n",
    "GFM_SOLAR_ABUNDANCE_MAGNESIUM = 0.0007\n",
    "GFM_SOLAR_ABUNDANCE_IRON   =   0.0013"
   ]
  },
  {
   "cell_type": "code",
   "execution_count": 4,
   "id": "63607844-b068-4ca5-9a26-8d0d76a2b668",
   "metadata": {},
   "outputs": [],
   "source": [
    "def load_galaxy(sim, sd=None, idx=320):\n",
    "    if sim=='iso':\n",
    "        key = 'lvl4-Ngb64'\n",
    "        output_dir = basepath + 'runs/MW7iso/'+ key + '/output'\n",
    "    elif sd is not None:\n",
    "        key = 'lvl4-sd'+str(sd)\n",
    "        output_dir = basepath + 'runs/MW7_GSE4-Rs'+sim[0]+'-Vv'+sim[1]+'-ecc'+sim[2]+'-lvl4/' + key + '/output'\n",
    "    else:\n",
    "        key = 'lvl4-'+'Rs'+sim[0]+'-Vv'+sim[1]+'-e'+sim[2]\n",
    "        output_dir = basepath + 'runs/MW7_GSE4-eRVgrid-lvl4/' + key + '/output'\n",
    "    return galaxy.Galaxy(output_dir, idx, orient=True)"
   ]
  },
  {
   "cell_type": "code",
   "execution_count": 5,
   "id": "12aab67e-c33f-4f5c-901e-dab9b3627fa2",
   "metadata": {},
   "outputs": [
    {
     "name": "stderr",
     "output_type": "stream",
     "text": [
      "100%|██████████| 3/3 [00:51<00:00, 17.30s/it]\n"
     ]
    }
   ],
   "source": [
    "allgal = {}\n",
    "for Rs in tqdm(['116', '129', '142'], leave=True, position=0):\n",
    "    allgal[Rs] = {}\n",
    "    for Vv in ['116', '129', '142']:\n",
    "        allgal[Rs][Vv] = {}\n",
    "        for ecc in ['04', '05', '06']:\n",
    "            sim = (Rs, Vv, ecc)\n",
    "            allgal[Rs][Vv][ecc] = load_galaxy(sim)\n",
    "            \n",
    "allgal['iso'] = load_galaxy('iso')"
   ]
  },
  {
   "cell_type": "code",
   "execution_count": 6,
   "id": "35e3b7be-c652-4a3a-8294-e860c45a02b8",
   "metadata": {},
   "outputs": [],
   "source": [
    "def extract_sim_data(gal, no_SN=False):\n",
    "    sn = gal.sn\n",
    "    \n",
    "    ### get logFeH and logMgFe ###\n",
    "    FeH = sn.part4.GFM_Metals[:,8] / GFM_SOLAR_ABUNDANCE_IRON\n",
    "    MgH = sn.part4.GFM_Metals[:,6] / GFM_SOLAR_ABUNDANCE_MAGNESIUM\n",
    "    \n",
    "    logFeH = np.log10(FeH)\n",
    "    logMgH = np.log10(MgH)\n",
    "    logMgFe = logMgH - logFeH\n",
    "\n",
    "    ### get in_SN ###\n",
    "    Lzsun = 8 * 220 * 0.2\n",
    "    zmax = 3\n",
    "    dLz = 0.3\n",
    "    \n",
    "    Lz = np.cross(sn.part4.rotpos, sn.part4.rotvel)[:,2]\n",
    "    in_SN = np.logical_and(np.abs((Lz/Lzsun)-1) < dLz, np.abs(sn.part4.rotpos[:,2]) < zmax)\n",
    "    \n",
    "    if no_SN:\n",
    "        mask = np.full_like(in_SN, True)\n",
    "    else:\n",
    "        mask = in_SN\n",
    "    \n",
    "    ### get tform ###\n",
    "    tform = sn.part4.GFM_StellarFormationTime\n",
    "    keybool = np.logical_and(mask, tform > 0)\n",
    "    \n",
    "    out = {}\n",
    "    out['logFeH'] = logFeH[mask]\n",
    "    out['logMgFe'] = logMgFe[mask]\n",
    "    out['GFM_StellarFormationTime'] = sn.part4.GFM_StellarFormationTime[mask]\n",
    "    out['BirthMass'] = sn.part4.GFM_InitialMass[mask]\n",
    "    # out['Pos'] = sn.part4.Coordinates[mask]\n",
    "    # out['BirthPos'] = sn.part4.BirthPos[mask]\n",
    "    out['in_SN'] = in_SN\n",
    "    \n",
    "    # load com as fn of time\n",
    "    # time, com0, com1 = find_com(sd)\n",
    "    # com = np.load('centering/sim_'+sim[0]+'_'+sim[1]+'_'+sim[2]+'_seed'+str(sd)+'.npy', allow_pickle=True).item()\n",
    "    # out['COM'] = {}\n",
    "    # for k in com.keys():\n",
    "        # out['COM'][k] = com[k]\n",
    "    \n",
    "    return out"
   ]
  },
  {
   "cell_type": "code",
   "execution_count": 7,
   "id": "f4d4f9c7-b29e-4e6d-b3ed-bccec8e4df48",
   "metadata": {},
   "outputs": [
    {
     "name": "stderr",
     "output_type": "stream",
     "text": [
      "100%|██████████| 3/3 [00:00<00:00,  5.09it/s]\n"
     ]
    }
   ],
   "source": [
    "allsimdat = {}\n",
    "for Rs in tqdm(['116', '129', '142'], leave=True, position=0):\n",
    "    allsimdat[Rs] = {}\n",
    "    for Vv in ['116', '129', '142']:\n",
    "        allsimdat[Rs][Vv] = {}\n",
    "        for ecc in ['04', '05', '06']:\n",
    "            sim = (Rs, Vv, ecc)\n",
    "            allsimdat[Rs][Vv][ecc] = extract_sim_data(allgal[Rs][Vv][ecc], no_SN=True)\n",
    "\n",
    "allsimdat['iso'] = extract_sim_data(allgal['iso'], no_SN=True)\n",
    "\n",
    "# sim = ('142', '116', '04')\n",
    "# allsimdat['rng'] = {}\n",
    "# allsimdat['rng'][sim[0]] = {}\n",
    "# allsimdat['rng'][sim[0]][sim[1]] = {}\n",
    "# allsimdat['rng'][sim[0]][sim[1]][sim[2]] = {}\n",
    "\n",
    "# for sd in tqdm(range(16), leave=True, position=0):\n",
    "    # Rs, Vv, ecc = sim\n",
    "    # allsimdat['rng'][Rs][Vv][ecc][sd] = extract_sim_data(allgal['rng'][Rs][Vv][ecc][sd], no_SN=True)"
   ]
  },
  {
   "cell_type": "code",
   "execution_count": 9,
   "id": "bb444fe7-ea83-448e-b108-969c3daf45f1",
   "metadata": {},
   "outputs": [],
   "source": [
    "Rs_list = ['116', '129', '142']\n",
    "Vv_list = ['116', '129', '142']\n",
    "ecc_list = ['04', '05', '06']"
   ]
  },
  {
   "cell_type": "code",
   "execution_count": 10,
   "id": "07656567-6e08-4367-9d96-43f9c7cdca43",
   "metadata": {},
   "outputs": [],
   "source": [
    "is_gap = {}\n",
    "gap_left = {}\n",
    "gap_right = {}\n",
    "\n",
    "for Rs in Rs_list:\n",
    "    is_gap[Rs], gap_left[Rs], gap_right[Rs] = {}, {}, {}\n",
    "    for Vv in Vv_list:\n",
    "        is_gap[Rs][Vv], gap_left[Rs][Vv], gap_right[Rs][Vv] = {}, {}, {}"
   ]
  },
  {
   "cell_type": "code",
   "execution_count": 27,
   "id": "abb1e0e3-fd2e-4f1a-8912-463607754179",
   "metadata": {},
   "outputs": [
    {
     "name": "stdout",
     "output_type": "stream",
     "text": [
      "116 116 05\n"
     ]
    },
    {
     "data": {
      "image/png": "[encoded data removed]",
      "text/plain": [
       "<Figure size 640x480 with 1 Axes>"
      ]
     },
     "metadata": {},
     "output_type": "display_data"
    }
   ],
   "source": [
    "Rs = Rs_list[0]\n",
    "Vv = Vv_list[0]\n",
    "ecc = ecc_list[1]\n",
    "\n",
    "print(Rs, Vv, ecc)\n",
    "\n",
    "simdat = allsimdat[Rs][Vv][ecc]\n",
    "\n",
    "logFeH0 = 0\n",
    "dlogFeH = 0.1\n",
    "# mask = np.logical_and(simdat['logFeH'] > logFeH0 - dlogFeH/2., simdat['logFeH'] < logFeH0 + dlogFeH/2.)\n",
    "mask = np.full(len(simdat['logFeH']), True)\n",
    "\n",
    "tform = simdat['GFM_StellarFormationTime']\n",
    "tbins = np.arange(0, 5+0.1, 0.1)\n",
    "plt.hist(tform[mask], bins=tbins);"
   ]
  },
  {
   "cell_type": "code",
   "execution_count": null,
   "id": "7c6e0813-1d8c-4aaf-9ee9-9ccc57394545",
   "metadata": {},
   "outputs": [],
   "source": []
  }
 ],
 "metadata": {
  "kernelspec": {
   "display_name": "note",
   "language": "python",
   "name": "note"
  },
  "language_info": {
   "codemirror_mode": {
    "name": "ipython",
    "version": 3
   },
   "file_extension": ".py",
   "mimetype": "text/x-python",
   "name": "python",
   "nbconvert_exporter": "python",
   "pygments_lexer": "ipython3",
   "version": "3.10.13"
  }
 },
 "nbformat": 4,
 "nbformat_minor": 5
}
