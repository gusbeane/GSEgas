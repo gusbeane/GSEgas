{
 "cells": [
  {
   "cell_type": "code",
   "execution_count": 1,
   "id": "ec2c94fa-ef57-488a-a338-320b0543af74",
   "metadata": {},
   "outputs": [],
   "source": [
    "import h5py as h5\n",
    "import arepo\n",
    "import numpy as np\n",
    "import matplotlib.pyplot as plt\n",
    "import matplotlib as mpl\n",
    "from tqdm import tqdm\n",
    "from scipy.interpolate import interp1d\n",
    "from scipy.stats import binned_statistic_2d\n",
    "from numba import njit\n",
    "from astropy.io import fits\n",
    "import os\n",
    "from joblib import Parallel, delayed\n",
    "import warnings\n",
    "\n",
    "basepath = '/n/holylfs05/LABS/hernquist_lab/Users/abeane/GSEgas/'\n",
    "\n",
    "import sys\n",
    "sys.path.append(basepath+'note/')\n",
    "import galaxy\n",
    "\n",
    "from scipy.ndimage import gaussian_filter\n",
    "\n",
    "import illustris_python as il\n",
    "TNGbase = '/n/holylfs05/LABS/hernquist_lab/IllustrisTNG/Runs/L35n2160TNG/output/'"
   ]
  },
  {
   "cell_type": "code",
   "execution_count": 2,
   "id": "1817fa87-c0d8-4c7b-b555-07696713c3ac",
   "metadata": {},
   "outputs": [],
   "source": [
    "# mpl.rc('text', usetex=True)\n",
    "# mpl.rc('text.latex', preamble=r\"\"\"\n",
    "# \\usepackage{amsmath}\n",
    "# \"\"\")\n",
    "# # mpl.rcParams.update({'font.size': 22})\n",
    "# # mpl.rcParams['text.latex.preamble'] = [r'\\usepackage{amsmath}']\n",
    "# # color palette\n",
    "# tb_c = ['#4e79a7', '#f28e2b', '#e15759', '#76b7b2', '#59a14f',\n",
    "#         '#edc948', '#b07aa1', '#ff9da7', '#9c755f', '#bab0ac']\n",
    "\n",
    "# columnwidth = 242.26653 / 72.27 # converts pts to inches\n",
    "# textwidth = 513.11743 / 72.27\n",
    "\n",
    "# mpl.rcParams.update({'font.size': 8})"
   ]
  },
  {
   "cell_type": "code",
   "execution_count": null,
   "id": "13ea383c-f5e8-4540-9ac3-25583b92b8ce",
   "metadata": {},
   "outputs": [],
   "source": []
  },
  {
   "cell_type": "code",
   "execution_count": 19,
   "id": "23c9664d-538b-4b02-92fb-d9d220015bd4",
   "metadata": {},
   "outputs": [],
   "source": [
    "import numpy as np\n",
    "from numba import njit\n",
    "\n",
    "@njit\n",
    "def compute_com(pos0, pos, mass, ri, rf, rfac):\n",
    "    \"\"\"Numba-accelerated computation of the center of mass.\"\"\"\n",
    "    rcut = ri\n",
    "    while rcut > rf:\n",
    "        rsq = np.sum((pos - pos0)**2, axis=1)\n",
    "        mask = rsq < rcut**2\n",
    "        if np.sum(mask) == 0:  # Prevent empty slice errors\n",
    "            break\n",
    "        \n",
    "        weights = mass[mask]\n",
    "        pos_masked = pos[mask]\n",
    "        pos0 = np.sum(pos_masked * weights[:, None], axis=0) / np.sum(weights)\n",
    "\n",
    "        rcut *= rfac\n",
    "    return pos0\n",
    "\n",
    "\n",
    "def _get_com_of_snap(idx, output_dir, ri, rf, rfac):\n",
    "    def _get_subhalo_pos(idx, output_dir):\n",
    "        # first get the subhalo pos as a starting point\n",
    "        subfname = output_dir + '/fof_subhalo_tab_'+str(idx).zfill(3)+'.hdf5'\n",
    "        if not os.path.exists(subfname):\n",
    "            return np.array([np.nan, np.nan, np.nan]), np.array([np.nan, np.nan, np.nan])\n",
    "        \n",
    "        sub = h5.File(subfname, mode='r')\n",
    "        subpos0 = sub['Subhalo/SubhaloPos'][0]\n",
    "        if len(sub['Subhalo/SubhaloPos']) > 1:\n",
    "            subpos1 = sub['Subhalo/SubhaloPos'][1]\n",
    "        else:\n",
    "            subpos1 = np.array([np.nan, np.nan, np.nan])\n",
    "        sub.close()\n",
    "        \n",
    "        return subpos0, subpos1\n",
    "    \n",
    "    def _load_snap(idx, output_dir):\n",
    "        # now load in all particles equally\n",
    "        snapname = output_dir + '/snapshot_'+str(idx).zfill(3)+'.hdf5'\n",
    "        if not os.path.exists(snapname):\n",
    "            return np.nan, np.nan, np.nan\n",
    "        \n",
    "        snap = h5.File(snapname, mode='r')\n",
    "        NumPart_Total = snap['Header'].attrs['NumPart_Total']\n",
    "        MassTable = snap['Header'].attrs['MassTable']\n",
    "        Time = snap['Header'].attrs['Time']\n",
    "        \n",
    "        pos = []\n",
    "        vel = []\n",
    "        mass = []\n",
    "        for i,npart in enumerate(NumPart_Total):\n",
    "            if npart == 0:\n",
    "                continue\n",
    "                \n",
    "            ptype = 'PartType'+str(i)  \n",
    "            if 'Coordinates' not in snap[ptype].keys():\n",
    "                continue\n",
    "        \n",
    "            pos.append(snap[ptype]['Coordinates'][:])\n",
    "            vel.append(snap[ptype]['Velocities'][:])\n",
    "        \n",
    "            if MassTable[i] > 0:\n",
    "                mass.append(np.full(npart, MassTable[i]))\n",
    "            else:\n",
    "                mass.append(snap[ptype]['Masses'][:])\n",
    "    \n",
    "        pos = np.concatenate(pos)\n",
    "        vel = np.concatenate(vel)\n",
    "        mass = np.concatenate(mass)\n",
    "        snap.close()\n",
    "    \n",
    "        return Time, pos, vel, mass\n",
    "    \n",
    "    def _get_com(pos0, pos, mass, ri, rf, rfac):\n",
    "        if np.isnan(pos0).any():\n",
    "            return pos0\n",
    "\n",
    "        # Filter particles initially\n",
    "        pos_init = np.copy(pos0)\n",
    "        rsq = np.sum((pos - pos_init)**2, axis=1)\n",
    "        mask = rsq < (4 * ri)**2\n",
    "        pos_ = pos[mask]\n",
    "        mass_ = mass[mask]\n",
    "        \n",
    "        # ensure float64\n",
    "        pos0 = pos0.astype(np.float64)\n",
    "        pos_ = pos_.astype(np.float64)\n",
    "        mass_ = mass_.astype(np.float64)\n",
    "\n",
    "        # Call Numba-accelerated function\n",
    "        pos0 = compute_com(pos0, pos_, mass_, ri, rf, rfac)\n",
    "\n",
    "        # Ensure the center of mass didn't travel too far\n",
    "        rtravel = np.linalg.norm(pos0 - pos_init)\n",
    "        assert rtravel < 2 * ri\n",
    "\n",
    "        return pos0\n",
    "    \n",
    "    def _get_comv(com0, pos, mass, vel, rcut=4):\n",
    "        if np.isnan(com0).any():\n",
    "            return com0\n",
    "        \n",
    "        rsq = np.sum((pos - com0)**2, axis=1)\n",
    "        rcutsq = rcut*rcut\n",
    "        in_rcut = rsq < rcutsq\n",
    "        \n",
    "        # wts = np.copy(mass)\n",
    "        # wts[np.logical_not(in_rcut)] = 0.\n",
    "        \n",
    "        return np.average(vel[in_rcut], weights=mass[in_rcut], axis=0)\n",
    "    \n",
    "    subpos0, subpos1 = _get_subhalo_pos(idx, output_dir)\n",
    "    time, pos, vel, mass  = _load_snap(idx, output_dir)\n",
    "    \n",
    "    com0 = _get_com(subpos0, pos, mass, ri, rf, rfac)\n",
    "    com1 = _get_com(subpos1, pos, mass, ri, rf, rfac)\n",
    "    \n",
    "    comv0 = _get_comv(com0, pos, mass, vel)\n",
    "    comv1 = _get_comv(com1, pos, mass, vel)\n",
    "    \n",
    "    return time, com0, com1, comv0, comv1\n",
    "    \n",
    "def find_com(sim, ri=10., rf=5., rfac=0.9, usetqdm=False):\n",
    "    key = 'lvl4-Rs'+sim[0]+'-Vv'+sim[1]+'-e'+sim[2]\n",
    "    output_dir = basepath + 'runs/MW7_GSE4-eRVgrid-lvl4/' + key + '/output'\n",
    "    \n",
    "    itr = np.arange(321)\n",
    "    if usetqdm:\n",
    "        itr = tqdm(itr, leave=True, position=0)\n",
    "    out = Parallel(n_jobs=64)(delayed(_get_com_of_snap)(idx, output_dir, ri, rf, rfac) for idx in itr)\n",
    "    \n",
    "    time    = np.array([o[0] for o in out])\n",
    "    subpos0 = np.array([o[1] for o in out])\n",
    "    subpos1 = np.array([o[2] for o in out])\n",
    "    subvel0 = np.array([o[3] for o in out])\n",
    "    subvel1 = np.array([o[4] for o in out])\n",
    "    \n",
    "    \n",
    "    com = {}\n",
    "    com['time']  = time\n",
    "    com['com0']  = subpos0\n",
    "    com['com1']  = subpos1\n",
    "    com['comv0'] = subvel0\n",
    "    com['comv1'] = subvel1\n",
    "    \n",
    "    return com"
   ]
  },
  {
   "cell_type": "code",
   "execution_count": 20,
   "id": "6bf311f9-ace4-4ceb-b20e-bbacf62f3f8e",
   "metadata": {},
   "outputs": [],
   "source": [
    "Rs_list = ['116', '129', '142']\n",
    "Vv_list = ['116', '129', '142']\n",
    "ecc_list = ['04', '05', '06']\n",
    "\n",
    "sim_list = [(Rs, Vv, ecc) for Rs in Rs_list for Vv in Vv_list for ecc in ecc_list]"
   ]
  },
  {
   "cell_type": "code",
   "execution_count": 21,
   "id": "76cfd26c-a7bb-4c03-b68a-df86320f9241",
   "metadata": {},
   "outputs": [
    {
     "name": "stderr",
     "output_type": "stream",
     "text": [
      "100%|██████████| 321/321 [00:21<00:00, 15.17it/s]\n"
     ]
    }
   ],
   "source": [
    "com = find_com(sim_list[0], usetqdm=True)"
   ]
  },
  {
   "cell_type": "code",
   "execution_count": 22,
   "id": "cbff74db-b506-4787-ae06-a802d2fc7716",
   "metadata": {},
   "outputs": [
    {
     "name": "stderr",
     "output_type": "stream",
     "text": [
      " 20%|█▉        | 64/321 [17:34<1:10:33, 16.47s/it]\n",
      "100%|██████████| 27/27 [17:40<00:00, 39.28s/it]\n"
     ]
    }
   ],
   "source": [
    "for sim in tqdm(sim_list, leave=True, position=0):\n",
    "    com = find_com(sim)\n",
    "    np.save('centering/sim_'+sim[0]+'_'+sim[1]+'_'+sim[2]+'.npy', com)"
   ]
  },
  {
   "cell_type": "code",
   "execution_count": 7,
   "id": "c1ce18f1-aab4-4dc0-9749-94ab39d8a41b",
   "metadata": {},
   "outputs": [],
   "source": [
    "sim = ('142', '116', '04')\n",
    "sd = 0\n",
    "com = np.load('centering/sim_'+sim[0]+'_'+sim[1]+'_'+sim[2]+'_seed'+str(sd)+'.npy', allow_pickle=True).item()"
   ]
  },
  {
   "cell_type": "code",
   "execution_count": 23,
   "id": "b254a791-62fa-4f11-8eef-25c400933567",
   "metadata": {},
   "outputs": [
    {
     "data": {
      "text/plain": [
       "dict_keys(['time', 'com0', 'com1', 'comv0', 'comv1'])"
      ]
     },
     "execution_count": 23,
     "metadata": {},
     "output_type": "execute_result"
    }
   ],
   "source": [
    "com.keys()"
   ]
  },
  {
   "cell_type": "code",
   "execution_count": null,
   "id": "b7a550df-efcd-4080-b071-35e8a5c21408",
   "metadata": {},
   "outputs": [],
   "source": []
  }
 ],
 "metadata": {
  "kernelspec": {
   "display_name": "note",
   "language": "python",
   "name": "note"
  },
  "language_info": {
   "codemirror_mode": {
    "name": "ipython",
    "version": 3
   },
   "file_extension": ".py",
   "mimetype": "text/x-python",
   "name": "python",
   "nbconvert_exporter": "python",
   "pygments_lexer": "ipython3",
   "version": "3.10.13"
  }
 },
 "nbformat": 4,
 "nbformat_minor": 5
}
