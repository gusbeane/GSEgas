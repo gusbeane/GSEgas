{
 "cells": [
  {
   "cell_type": "code",
   "execution_count": 1,
   "id": "1d100871-9b03-48a7-862b-94cfb5ea3f47",
   "metadata": {},
   "outputs": [],
   "source": [
    "import h5py as h5\n",
    "import arepo\n",
    "import numpy as np\n",
    "import matplotlib.pyplot as plt\n",
    "import matplotlib as mpl\n",
    "from tqdm import tqdm\n",
    "from scipy.interpolate import interp1d\n",
    "from scipy.stats import binned_statistic_2d\n",
    "from numba import njit\n",
    "from astropy.io import fits\n",
    "import os\n",
    "from joblib import Parallel, delayed\n",
    "import warnings\n",
    "\n",
    "basepath = '/n/holylfs05/LABS/hernquist_lab/Users/abeane/GSEgas/'\n",
    "\n",
    "import sys\n",
    "sys.path.append(basepath+'note/')\n",
    "import galaxy\n",
    "\n",
    "from scipy.ndimage import gaussian_filter\n",
    "\n",
    "import illustris_python as il\n",
    "TNGbase = '/n/holylfs05/LABS/hernquist_lab/IllustrisTNG/Runs/L35n2160TNG/output/'"
   ]
  },
  {
   "cell_type": "code",
   "execution_count": 2,
   "id": "c5b3eba2-4193-4fca-910e-bb18d91b6712",
   "metadata": {},
   "outputs": [],
   "source": [
    "mpl.rc('text', usetex=True)\n",
    "mpl.rc('text.latex', preamble=r\"\"\"\n",
    "\\usepackage{amsmath}\n",
    "\"\"\")\n",
    "# mpl.rcParams.update({'font.size': 22})\n",
    "# mpl.rcParams['text.latex.preamble'] = [r'\\usepackage{amsmath}']\n",
    "# color palette\n",
    "tb_c = ['#4e79a7', '#f28e2b', '#e15759', '#76b7b2', '#59a14f',\n",
    "        '#edc948', '#b07aa1', '#ff9da7', '#9c755f', '#bab0ac']\n",
    "\n",
    "columnwidth = 242.26653 / 72.27 # converts pts to inches\n",
    "textwidth = 513.11743 / 72.27\n",
    "\n",
    "mpl.rcParams.update({'font.size': 8})"
   ]
  },
  {
   "cell_type": "code",
   "execution_count": 3,
   "id": "2e6572ee-5b8a-4908-a38b-0147a9b9aec7",
   "metadata": {},
   "outputs": [],
   "source": [
    "sim0 = ('142', '116', '04')\n",
    "sim1 = ('129', '116', '04')\n",
    "\n",
    "mergesnap0 = 79\n",
    "mergesnap1 = 82"
   ]
  },
  {
   "cell_type": "code",
   "execution_count": null,
   "id": "14e77176-f1c6-4c75-b4c7-abc797175368",
   "metadata": {},
   "outputs": [],
   "source": []
  }
 ],
 "metadata": {
  "kernelspec": {
   "display_name": "note",
   "language": "python",
   "name": "note"
  },
  "language_info": {
   "codemirror_mode": {
    "name": "ipython",
    "version": 3
   },
   "file_extension": ".py",
   "mimetype": "text/x-python",
   "name": "python",
   "nbconvert_exporter": "python",
   "pygments_lexer": "ipython3",
   "version": "3.10.13"
  }
 },
 "nbformat": 4,
 "nbformat_minor": 5
}
