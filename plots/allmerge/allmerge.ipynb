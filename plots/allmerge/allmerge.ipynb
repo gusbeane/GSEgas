{
 "cells": [
  {
   "cell_type": "code",
   "execution_count": 1,
   "id": "186cbe6e-156a-4f27-b18c-6e66485fd13e",
   "metadata": {},
   "outputs": [],
   "source": [
    "import h5py as h5\n",
    "import arepo\n",
    "import numpy as np\n",
    "import matplotlib.pyplot as plt\n",
    "import matplotlib as mpl\n",
    "from tqdm import tqdm\n",
    "from scipy.interpolate import interp1d\n",
    "from scipy.stats import binned_statistic_2d\n",
    "from numba import njit\n",
    "from astropy.io import fits\n",
    "import astropy.coordinates as coord\n",
    "import astropy.units as u\n",
    "\n",
    "basepath = '/n/holylfs05/LABS/hernquist_lab/Users/abeane/GSEgas/'\n",
    "\n",
    "import sys\n",
    "sys.path.append(basepath+'note/')\n",
    "import galaxy\n",
    "\n",
    "import illustris_python as il\n",
    "TNGbase = '/n/holylfs05/LABS/hernquist_lab/IllustrisTNG/Runs/L35n2160TNG/output/'"
   ]
  },
  {
   "cell_type": "code",
   "execution_count": 18,
   "id": "8f2d1483-053f-430d-b402-a8214ca272f5",
   "metadata": {},
   "outputs": [],
   "source": [
    "mpl.rc('text', usetex=True)\n",
    "mpl.rc('text.latex', preamble=r\"\"\"\n",
    "\\usepackage{amsmath}\n",
    "\"\"\")\n",
    "# mpl.rcParams.update({'font.size': 22})\n",
    "# mpl.rcParams['text.latex.preamble'] = [r'\\usepackage{amsmath}']\n",
    "# color palette\n",
    "tb_c = ['#4e79a7', '#f28e2b', '#e15759', '#76b7b2', '#59a14f',\n",
    "        '#edc948', '#b07aa1', '#ff9da7', '#9c755f', '#bab0ac']\n",
    "\n",
    "columnwidth = 242.26653 / 72.27 # converts pts to inches\n",
    "textwidth = 513.11743 / 72.27\n",
    "textheight = 657.3189 / 72.27\n",
    "\n",
    "mpl.rcParams.update({'font.size': 8})"
   ]
  },
  {
   "cell_type": "code",
   "execution_count": 3,
   "id": "b58eb400-0d8b-4c55-a8a1-5593528e272d",
   "metadata": {},
   "outputs": [],
   "source": [
    "GFM_SOLAR_ABUNDANCE_HYDROGEN = 0.7388\n",
    "GFM_SOLAR_ABUNDANCE_MAGNESIUM = 0.0007\n",
    "GFM_SOLAR_ABUNDANCE_IRON   =   0.0013"
   ]
  },
  {
   "cell_type": "code",
   "execution_count": 4,
   "id": "de17fcba-4801-4a97-b5ce-04a0043e7eae",
   "metadata": {},
   "outputs": [],
   "source": [
    "Rs_list = ['116', '129', '142']\n",
    "Vv_list = ['116', '129', '142']\n",
    "eta_list = ['04', '05', '06']\n",
    "\n",
    "sims = []\n",
    "for Rs in Rs_list:\n",
    "    for Vv in Vv_list:\n",
    "        for eta in eta_list:\n",
    "            sims.append((Rs, Vv, eta))"
   ]
  },
  {
   "cell_type": "code",
   "execution_count": 5,
   "id": "b83cf447-6302-4ebe-99a2-6e7576c941c5",
   "metadata": {},
   "outputs": [],
   "source": [
    "def load_galaxy(sim, idx=320):\n",
    "    Rs, Vv, eta = sim\n",
    "    key = 'lvl4-Rs'+Rs+'-Vv'+Vv+'-e'+eta\n",
    "    return galaxy.Galaxy(basepath + 'runs/MW7_GSE4-eRVgrid-lvl4/' + key + '/output',\n",
    "                                              idx, orient=True)"
   ]
  },
  {
   "cell_type": "code",
   "execution_count": 9,
   "id": "146c4939-d2b2-47ee-a8cf-f2fcb52116cf",
   "metadata": {},
   "outputs": [
    {
     "name": "stderr",
     "output_type": "stream",
     "text": [
      "100%|██████████| 27/27 [01:24<00:00,  3.12s/it]\n"
     ]
    }
   ],
   "source": [
    "gal = {}\n",
    "for sim in tqdm(sims):\n",
    "    gal[sim] = load_galaxy(sim)"
   ]
  },
  {
   "cell_type": "code",
   "execution_count": 26,
   "id": "6b702596-f39f-4bf6-91a4-9bfe69df596d",
   "metadata": {},
   "outputs": [],
   "source": [
    "def extract_sim_data(gal):\n",
    "    sn = gal.sn\n",
    "    \n",
    "    ### get logFeH and logMgFe ###\n",
    "    FeH = sn.part4.GFM_Metals[:,8] / GFM_SOLAR_ABUNDANCE_IRON\n",
    "    MgH = sn.part4.GFM_Metals[:,6] / GFM_SOLAR_ABUNDANCE_MAGNESIUM\n",
    "    \n",
    "    logFeH = np.log10(FeH)\n",
    "    logMgH = np.log10(MgH)\n",
    "    logMgFe = logMgH - logFeH\n",
    "\n",
    "    ### get in_SN ###\n",
    "    Lzsun = 8 * 220 * 0.2\n",
    "    zmax = 3\n",
    "    dLz = 0.3\n",
    "    \n",
    "    Lz = np.cross(sn.part4.rotpos, sn.part4.rotvel)[:,2]\n",
    "    in_SN = np.logical_and(np.abs((Lz/Lzsun)-1) < dLz, np.abs(sn.part4.rotpos[:,2]) < zmax)\n",
    "    \n",
    "    ### get tform ###\n",
    "    tform = sn.part4.GFM_StellarFormationTime\n",
    "    keybool = np.logical_and(in_SN, tform > 0)\n",
    "    \n",
    "    out = {}\n",
    "    out['logFeH'] = logFeH[in_SN]\n",
    "    out['logMgFe'] = logMgFe[in_SN]\n",
    "    out['tform'] = tform[in_SN]\n",
    "    out['birthmass'] = sn.part4.GFM_InitialMass[in_SN]\n",
    "    \n",
    "    return out"
   ]
  },
  {
   "cell_type": "code",
   "execution_count": 27,
   "id": "1761acb2-2bb6-4a11-b7e7-8d0ee65ed068",
   "metadata": {},
   "outputs": [
    {
     "name": "stderr",
     "output_type": "stream",
     "text": [
      "100%|██████████| 27/27 [00:00<00:00, 48.10it/s]\n"
     ]
    }
   ],
   "source": [
    "simdata = {}\n",
    "for sim in tqdm(sims):\n",
    "    simdata[sim] = extract_sim_data(gal[sim])"
   ]
  },
  {
   "cell_type": "code",
   "execution_count": 72,
   "id": "400ab6c7-8167-48cb-bafc-c79853eb8c26",
   "metadata": {},
   "outputs": [],
   "source": [
    "N_FeH = 125\n",
    "N_MgFe = 125\n",
    "\n",
    "def plot_panel(sim, fig, axs, logFeH_lim, logMgFe_lim, logFeH0_list, \n",
    "               offset=-0.3, doffset = 0.3, poffset=0.1, vmax=4e5):\n",
    "    data = simdata[sim]\n",
    "    ax0 = axs[0]\n",
    "    ax1 = axs[1]\n",
    "    ax2 = axs[2]\n",
    "    \n",
    "    logFeH = data['logFeH']\n",
    "    logMgFe = data['logMgFe']\n",
    "    tform = data['tform']\n",
    "    birthmass = data['birthmass']\n",
    "    \n",
    "    FeH_bins  = np.linspace(logFeH_lim[0],  logFeH_lim[1],  N_FeH+1)\n",
    "    MgFe_bins = np.linspace(logMgFe_lim[0], logMgFe_lim[1], N_MgFe+1)\n",
    "    dFeH  = (logFeH_lim[1]  - logFeH_lim[0] )/N_FeH\n",
    "    dMgFe = (logMgFe_lim[1] - logMgFe_lim[0])/N_MgFe\n",
    "    H, _, _, _ = binned_statistic_2d(logFeH, logMgFe, \n",
    "                                     np.ones(len(logFeH))/dFeH/dMgFe,\n",
    "                                     statistic='sum', bins=[FeH_bins, MgFe_bins])\n",
    "    \n",
    "    im = ax0.imshow(H.T, origin='lower', extent=[logFeH_lim[0],  logFeH_lim[1],\n",
    "                                                    logMgFe_lim[0], logMgFe_lim[1]],\n",
    "                       cmap='Greys', vmin=0, vmax=vmax)\n",
    "    \n",
    "    ax0.set(xlim=logFeH_lim, ylim=logMgFe_lim)\n",
    "    ax0.set(xlabel=r'$[\\textrm{Fe}/\\textrm{H}]$', ylabel=r'$[\\textrm{Mg}/\\textrm{Fe}]$')\n",
    "    ax0.set(aspect='auto')\n",
    "    \n",
    "    m = -0.15/1.5\n",
    "    b = 0.31\n",
    "    xlist = np.linspace(-3, 3, 1000)\n",
    "    ylist = m*xlist + b\n",
    "    ax0.plot(xlist, ylist, c='r', ls='dashed', lw=0.5)\n",
    "    \n",
    "    dlogFeH0 = 0.05\n",
    "    d = 0.25/2\n",
    "    offset_list = [d, 0.25+d, 0.5+d, 0.75+d]\n",
    "    \n",
    "    tbins =np.linspace(0, 8, 100+1)\n",
    "    dt = (tbins[-1] - tbins[0]) / (len(tbins)-1)\n",
    "    wt = birthmass/dt/dlogFeH0\n",
    "    tplot = 0.5*(tbins[1:] + tbins[:-1])\n",
    "    \n",
    "    for i,(logFeH0, c) in enumerate(zip(logFeH0_list, [tb_c[0], tb_c[1], tb_c[2], tb_c[4]])):\n",
    "        offset = offset_list[i]\n",
    "        key = np.logical_and(logFeH > logFeH0 - dlogFeH0/2., logFeH < logFeH0 + dlogFeH0/2.)\n",
    "    \n",
    "        _, _, l = ax1.hist(logMgFe[key]-np.median(logMgFe[key])+offset, \n",
    "                              bins=np.linspace(-d/2, 1+d/2, 100+1),\n",
    "                              density=True, histtype='step', color=c, lw=1)\n",
    "\n",
    "        ax0.axvline(logFeH0, c=l[0].get_edgecolor())\n",
    "        \n",
    "        # if i < 3:\n",
    "        if True:\n",
    "            hist, _ = np.histogram(tform[key], weights=wt[key], bins=tbins)\n",
    "            ax2.plot(tplot, hist, c=c, lw=1)\n",
    "        \n",
    "        offset += doffset\n",
    "    \n",
    "    # hist, _ = np.histogram(tform, weights=wt, bins=tbins)\n",
    "    # ax2.plot(tplot, hist/5, c='k', lw=0.8)\n",
    "    \n",
    "    ax1.set(ylim=(0, 20), xlim=(-d/2, 1+d/2))\n",
    "    \n",
    "    # ax0.set(xticks=np.arange(-1, 0.5+0.25, 0.25))\n",
    "    ax1.set(xlabel=r'$[\\textrm{Mg}/\\textrm{Fe}] + \\textrm{ offset}$')\n",
    "    \n",
    "    ax2.set(xlim=(0, 8), ylim=(0, 0.5))\n",
    "    ax2.set(xlabel=r'$t_{\\textrm{form}}\\,[\\,\\textrm{Gyr}\\,]$')\n",
    "    ax2.set(xticks=np.arange(0, 8+1, 1))\n",
    "    \n",
    "    ax0.set_title(r'$('+str(sim[0])+', '+str(sim[1])+', '+str(sim[2])+')$')"
   ]
  },
  {
   "cell_type": "code",
   "execution_count": 73,
   "id": "66b62ead-815c-465e-9e97-c339c8ccf6c2",
   "metadata": {},
   "outputs": [
    {
     "name": "stderr",
     "output_type": "stream",
     "text": [
      "100%|██████████| 9/9 [00:16<00:00,  1.80s/it]\n"
     ]
    }
   ],
   "source": [
    "logFeH0_list=[-0.5, -0.25, 0, 0.25]\n",
    "\n",
    "for i in tqdm(range(9)):\n",
    "    fig, axs = plt.subplots(3, 3, figsize=(textwidth, 0.5*textheight))\n",
    "    \n",
    "    for j in range(3):\n",
    "        plot_panel(sims[i*3+j], fig, (axs[0][j], axs[1][j], axs[2][j]), \n",
    "                   (-1, 0.5), (0.1, 0.65), logFeH0_list)\n",
    "\n",
    "    fig.tight_layout()\n",
    "    fig.savefig('allmerge'+str(i)+'.pdf')\n",
    "    plt.close()"
   ]
  },
  {
   "cell_type": "code",
   "execution_count": 40,
   "id": "4a415795-aa1d-4297-a399-ad057a161bd1",
   "metadata": {},
   "outputs": [
    {
     "data": {
      "text/plain": [
       "'/n/holylfs05/LABS/hernquist_lab/Users/abeane/GSEgas/plots/allmerge'"
      ]
     },
     "execution_count": 40,
     "metadata": {},
     "output_type": "execute_result"
    }
   ],
   "source": [
    "pwd"
   ]
  },
  {
   "cell_type": "code",
   "execution_count": 41,
   "id": "ecbe43bf-f06d-4b35-b267-74ed85c64ea9",
   "metadata": {},
   "outputs": [],
   "source": [
    "tform = simdata[sims[0]]['tform']"
   ]
  },
  {
   "cell_type": "code",
   "execution_count": 50,
   "id": "897ce177-2e7c-407e-8c70-51991ffd1df5",
   "metadata": {},
   "outputs": [
    {
     "data": {
      "text/plain": [
       "[<matplotlib.lines.Line2D at 0x14a9fab67130>]"
      ]
     },
     "execution_count": 50,
     "metadata": {},
     "output_type": "execute_result"
    },
    {
     "data": {
      "image/png": "[encoded data removed]",
      "text/plain": [
       "<Figure size 640x480 with 1 Axes>"
      ]
     },
     "metadata": {},
     "output_type": "display_data"
    }
   ],
   "source": [
    "tbins = np.linspace(0, 8, 100+1)\n",
    "tplot = 0.5*(tbins[1:] + tbins[:-1])\n",
    "hist, _ = np.histogram(tform, bins=tbins)\n",
    "plt.plot(tplot, hist)"
   ]
  },
  {
   "cell_type": "code",
   "execution_count": 49,
   "id": "10e27e04-81c1-407b-a346-46c325e9d586",
   "metadata": {},
   "outputs": [
    {
     "data": {
      "text/plain": [
       "0.08"
      ]
     },
     "execution_count": 49,
     "metadata": {},
     "output_type": "execute_result"
    }
   ],
   "source": [
    "8/100"
   ]
  },
  {
   "cell_type": "code",
   "execution_count": null,
   "id": "5e71465c-ae98-4ad8-895c-8cab7890c46f",
   "metadata": {},
   "outputs": [],
   "source": []
  }
 ],
 "metadata": {
  "kernelspec": {
   "display_name": "note",
   "language": "python",
   "name": "note"
  },
  "language_info": {
   "codemirror_mode": {
    "name": "ipython",
    "version": 3
   },
   "file_extension": ".py",
   "mimetype": "text/x-python",
   "name": "python",
   "nbconvert_exporter": "python",
   "pygments_lexer": "ipython3",
   "version": "3.10.13"
  }
 },
 "nbformat": 4,
 "nbformat_minor": 5
}
