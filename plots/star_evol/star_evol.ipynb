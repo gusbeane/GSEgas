{
 "cells": [
  {
   "cell_type": "code",
   "execution_count": 4,
   "id": "db5d6323-8851-4cf2-b254-8cb3c673e681",
   "metadata": {},
   "outputs": [],
   "source": [
    "import h5py as h5\n",
    "import arepo\n",
    "import numpy as np\n",
    "import matplotlib.pyplot as plt\n",
    "import matplotlib as mpl\n",
    "from tqdm import tqdm\n",
    "from scipy.interpolate import interp1d\n",
    "from scipy.stats import binned_statistic_2d\n",
    "from numba import njit\n",
    "from astropy.io import fits\n",
    "import os\n",
    "from joblib import Parallel, delayed\n",
    "import warnings\n",
    "\n",
    "basepath = '/n/holylfs05/LABS/hernquist_lab/Users/abeane/GSEgas/'\n",
    "\n",
    "import sys\n",
    "sys.path.append(basepath+'note/')\n",
    "import galaxy\n",
    "\n",
    "from scipy.ndimage import gaussian_filter\n",
    "\n",
    "import illustris_python as il\n",
    "TNGbase = '/n/holylfs05/LABS/hernquist_lab/IllustrisTNG/Runs/L35n2160TNG/output/'"
   ]
  },
  {
   "cell_type": "code",
   "execution_count": 5,
   "id": "b6f4a31d-c5f8-42a5-b63c-7f332135c9b0",
   "metadata": {},
   "outputs": [],
   "source": [
    "mpl.rc('text', usetex=True)\n",
    "mpl.rc('text.latex', preamble=r\"\"\"\n",
    "\\usepackage{amsmath}\n",
    "\"\"\")\n",
    "# mpl.rcParams.update({'font.size': 22})\n",
    "# mpl.rcParams['text.latex.preamble'] = [r'\\usepackage{amsmath}']\n",
    "# color palette\n",
    "tb_c = ['#4e79a7', '#f28e2b', '#e15759', '#76b7b2', '#59a14f',\n",
    "        '#edc948', '#b07aa1', '#ff9da7', '#9c755f', '#bab0ac']\n",
    "\n",
    "columnwidth = 242.26653 / 72.27 # converts pts to inches\n",
    "textwidth = 513.11743 / 72.27\n",
    "\n",
    "mpl.rcParams.update({'font.size': 8})"
   ]
  },
  {
   "cell_type": "code",
   "execution_count": 6,
   "id": "4e1c8564-8b63-4c25-a5cf-d123c51a9aea",
   "metadata": {},
   "outputs": [],
   "source": [
    "GFM_SOLAR_ABUNDANCE_HYDROGEN = 0.7388\n",
    "GFM_SOLAR_ABUNDANCE_MAGNESIUM = 0.0007\n",
    "GFM_SOLAR_ABUNDANCE_IRON   =   0.0013"
   ]
  },
  {
   "cell_type": "code",
   "execution_count": 7,
   "id": "2e39df7b-ab91-4569-b5b3-3c84bc74fd8a",
   "metadata": {},
   "outputs": [],
   "source": [
    "def get_orbit(Rs, Vv, ecc):\n",
    "    output_dir = basepath + 'runs/MW7_GSE4-eRVgrid-lvl4/lvl4-Rs'+Rs+'-Vv'+Vv+'-e'+ecc+'/output'\n",
    "    orbit = {}\n",
    "    orbit['Time'] = []\n",
    "    orbit['Orbit'] = []\n",
    "    for idx in tqdm(np.arange(320+1)):\n",
    "        fname = output_dir + '/fof_subhalo_tab_'+str(idx).zfill(3)+'.hdf5'\n",
    "        \n",
    "        if not os.path.exists(fname):\n",
    "            print('got to idx='+str(idx-1)+' for Rs,Vv,ecc='+Rs+','+Vv+','+ecc)\n",
    "            break\n",
    "        \n",
    "        t = h5.File(fname, mode='r')\n",
    "        orbit['Time'].append(t['Header'].attrs['Time'])\n",
    "        SubhaloPos = t['Subhalo/SubhaloPos'][:]\n",
    "        if len(SubhaloPos) > 1:\n",
    "            orbit['Orbit'].append(SubhaloPos[1] - SubhaloPos[0])\n",
    "        else:\n",
    "            orbit['Orbit'].append(np.array([0., 0., 0.]))\n",
    "        t.close()\n",
    "    \n",
    "    for k in orbit.keys():\n",
    "        orbit[k] = np.array(orbit[k])\n",
    "    \n",
    "    orbit['Rsep'] = np.linalg.norm(orbit['Orbit'], axis=1)\n",
    "        \n",
    "    return orbit"
   ]
  },
  {
   "cell_type": "code",
   "execution_count": 8,
   "id": "1aa0bf9b-58fd-4107-a58c-e1c95812170c",
   "metadata": {},
   "outputs": [
    {
     "name": "stderr",
     "output_type": "stream",
     "text": [
      "100%|██████████| 321/321 [00:21<00:00, 15.08it/s]\n",
      "100%|██████████| 321/321 [00:20<00:00, 15.96it/s]\n"
     ]
    }
   ],
   "source": [
    "sim0 = ('142', '116', '04')\n",
    "sim1 = ('129', '116', '04')\n",
    "sim2 = ('142', '142', '04')\n",
    "\n",
    "orbit0 = get_orbit(*sim0)\n",
    "orbit1 = get_orbit(*sim1)"
   ]
  },
  {
   "cell_type": "code",
   "execution_count": 9,
   "id": "697036f2-66cc-4918-8198-4bc0c2042c8e",
   "metadata": {},
   "outputs": [
    {
     "data": {
      "text/plain": [
       "(0.0, 150.0)"
      ]
     },
     "execution_count": 9,
     "metadata": {},
     "output_type": "execute_result"
    },
    {
     "data": {
      "image/png": "[encoded data removed]",
      "text/plain": [
       "<Figure size 640x480 with 1 Axes>"
      ]
     },
     "metadata": {},
     "output_type": "display_data"
    }
   ],
   "source": [
    "plt.plot(orbit0['Time'], orbit0['Rsep'])\n",
    "plt.plot(orbit1['Time'], orbit1['Rsep'])\n",
    "plt.xlim(0, 4)\n",
    "plt.ylim(0, 150)"
   ]
  },
  {
   "cell_type": "code",
   "execution_count": 10,
   "id": "89d91f26-f123-4d6a-ad8c-6207912976cc",
   "metadata": {},
   "outputs": [
    {
     "name": "stdout",
     "output_type": "stream",
     "text": [
      "[1.9765625  2.         2.27539062 2.30078125 2.32617188 2.3515625\n",
      " 2.375      2.40039062 2.42578125 2.45117188]\n",
      "[1.75       1.77539062 2.05078125 2.07617188 2.1015625  2.125\n",
      " 2.15039062 2.17578125 2.20117188 2.2265625 ]\n"
     ]
    }
   ],
   "source": [
    "print(orbit0['Time'][orbit0['Rsep'] == 0][:10])\n",
    "print(orbit1['Time'][orbit1['Rsep'] == 0][:10])"
   ]
  },
  {
   "cell_type": "code",
   "execution_count": 11,
   "id": "005b4d20-3ef6-4dfe-945a-154577b1498e",
   "metadata": {},
   "outputs": [
    {
     "name": "stdout",
     "output_type": "stream",
     "text": [
      "79\n",
      "82\n"
     ]
    }
   ],
   "source": [
    "mergesnap0 = np.where(np.logical_and(orbit0['Time'] > 1.8, orbit0['Rsep'] == 0))[0][0]\n",
    "mergesnap1 = np.where(np.logical_and(orbit1['Time'] > 1.8, orbit1['Rsep'] == 0))[0][0]\n",
    "\n",
    "print(mergesnap0)\n",
    "print(mergesnap1)"
   ]
  },
  {
   "cell_type": "code",
   "execution_count": 22,
   "id": "3488bdc8-f9ea-462d-a7c6-2081e915cbc8",
   "metadata": {},
   "outputs": [],
   "source": [
    "def get_summary(idx, sim, iso=False, rmin=2, rmax=5, dsnap=0.025):\n",
    "    out = {}\n",
    "    \n",
    "    if iso:\n",
    "        output_dir = basepath + 'runs/MW7iso/lvl4-Ngb64/output'\n",
    "    else:\n",
    "        Rs = sim[0]\n",
    "        Vv = sim[1]\n",
    "        ecc = sim[2]\n",
    "    \n",
    "        key = 'lvl4-Rs'+sim[0]+'-Vv'+sim[1]+'-e'+sim[2]\n",
    "        output_dir = basepath + 'runs/MW7_GSE4-eRVgrid-lvl4/' + key + '/output'\n",
    "    \n",
    "    sub = h5.File(output_dir + '/fof_subhalo_tab_'+str(idx).zfill(3)+'.hdf5', mode='r')\n",
    "    sub0pos = sub['Subhalo/SubhaloPos'][0]\n",
    "    sub.close()\n",
    "\n",
    "    snap = h5.File(output_dir + '/snapshot_'+str(idx).zfill(3)+'.hdf5', mode='r')\n",
    "    NumPart_Total = snap['Header'].attrs['NumPart_Total']\n",
    "    Time = snap['Header'].attrs['Time']\n",
    "    out['Time'] = Time\n",
    "    \n",
    "    pos0 = snap['PartType0/Coordinates'][:]\n",
    "    r0 = np.linalg.norm(pos0 - sub0pos, axis=1)\n",
    "    in_SN = np.logical_and(r0 > rmin, r0 < rmax)\n",
    "    in_gal = r0 < 15\n",
    "    \n",
    "    if NumPart_Total[4] > 0:\n",
    "        pos4 = snap['PartType4/Coordinates'][:]\n",
    "        r4 = np.linalg.norm(pos4 - sub0pos, axis=1)\n",
    "        is_star_in_SN = np.logical_and(r4 > rmin, r4 < rmax)\n",
    "        age4 = snap['PartType4/GFM_StellarFormationTime'][:]\n",
    "        is_star_in_SN = np.logical_and(is_star_in_SN, age4 > 0)\n",
    "        \n",
    "        mass4 = snap['PartType4/Masses'][:]\n",
    "        \n",
    "        metals4 = snap['PartType4/GFM_Metals'][:]\n",
    "        FeH4 = metals4[:,8] / GFM_SOLAR_ABUNDANCE_IRON\n",
    "        MgH4 = metals4[:,6] / GFM_SOLAR_ABUNDANCE_MAGNESIUM\n",
    "        \n",
    "        mass_Mg = np.sum(MgH4 * mass4)\n",
    "        mass_Fe = np.sum(FeH4 * mass4)\n",
    "        mass_MgFe = mass_Mg/mass_Fe\n",
    "        \n",
    "        out['Mstar'] = np.sum(mass4[is_star_in_SN])\n",
    "        out['logMgFe'] = np.log10(mass_MgFe)\n",
    "    else:\n",
    "        out['Mstar'] = 0.0\n",
    "        out['logMgFe'] = np.nan\n",
    "    \n",
    "    snap.close()\n",
    "    \n",
    "    return out"
   ]
  },
  {
   "cell_type": "code",
   "execution_count": 23,
   "id": "88874d05-9252-41e3-a569-7c5a88e76ca5",
   "metadata": {},
   "outputs": [
    {
     "name": "stdout",
     "output_type": "stream",
     "text": [
      "-0.1000000000000002\n"
     ]
    }
   ],
   "source": [
    "logFeH0_list = np.arange(-1, 0.5+0.1, 0.1)\n",
    "print(logFeH0_list[9])"
   ]
  },
  {
   "cell_type": "code",
   "execution_count": 28,
   "id": "01e07593-d26a-4cfa-9339-38231f4aef15",
   "metadata": {},
   "outputs": [],
   "source": [
    "def get_dat_summary(sim, iso=False, rmin=2, rmax=5):\n",
    "\n",
    "    outs = Parallel(n_jobs=16) (delayed(get_summary)(idx, sim, iso=iso, rmin=rmin, rmax=rmax) \n",
    "                                for idx in tqdm(np.arange(320+1), position=0, leave=True))\n",
    "\n",
    "    dat = {}\n",
    "    for k in outs[0].keys():\n",
    "        dat[k] = []\n",
    "\n",
    "    for out in outs:\n",
    "        for k in dat.keys():\n",
    "            dat[k].append(out[k])\n",
    "    \n",
    "    for k in dat.keys():\n",
    "        dat[k] = np.array(dat[k])\n",
    "\n",
    "    return dat"
   ]
  },
  {
   "cell_type": "code",
   "execution_count": 29,
   "id": "c6d8622c-0b1b-47f3-b12c-da9655da94f0",
   "metadata": {},
   "outputs": [
    {
     "name": "stderr",
     "output_type": "stream",
     "text": [
      "100%|██████████| 321/321 [00:01<00:00, 201.98it/s]\n",
      "100%|██████████| 321/321 [00:01<00:00, 196.21it/s]\n",
      "100%|██████████| 321/321 [00:09<00:00, 34.97it/s]\n"
     ]
    }
   ],
   "source": [
    "summary0 = get_dat_summary(sim0, rmin=0, rmax=12)\n",
    "summary1 = get_dat_summary(sim1, rmin=0, rmax=12)\n",
    "summaryiso = get_dat_summary(sim2, iso=True, rmin=0, rmax=12)"
   ]
  },
  {
   "cell_type": "code",
   "execution_count": 35,
   "id": "08256112-a70e-46a1-a0c0-e46a519202a6",
   "metadata": {},
   "outputs": [
    {
     "data": {
      "text/plain": [
       "(-0.05, 0.05)"
      ]
     },
     "execution_count": 35,
     "metadata": {},
     "output_type": "execute_result"
    },
    {
     "data": {
      "image/png": "[encoded data removed]",
      "text/plain": [
       "<Figure size 640x480 with 1 Axes>"
      ]
     },
     "metadata": {},
     "output_type": "display_data"
    }
   ],
   "source": [
    "# plt.plot(summary0['Time'], summary0['logMgFe'])\n",
    "# plt.plot(summary0['Time'], summary0['logMgFe'])\n",
    "# plt.plot(summaryiso['Time'], summaryiso['logMgFe'])\n",
    "plt.plot(summary0['Time'], summary0['logMgFe'] - summaryiso['logMgFe'])\n",
    "plt.xlim(0, 5)\n",
    "plt.ylim(-0.05, 0.05)"
   ]
  },
  {
   "cell_type": "code",
   "execution_count": null,
   "id": "04342ada-5845-4c39-ba5d-68068937c010",
   "metadata": {},
   "outputs": [],
   "source": []
  }
 ],
 "metadata": {
  "kernelspec": {
   "display_name": "note",
   "language": "python",
   "name": "note"
  },
  "language_info": {
   "codemirror_mode": {
    "name": "ipython",
    "version": 3
   },
   "file_extension": ".py",
   "mimetype": "text/x-python",
   "name": "python",
   "nbconvert_exporter": "python",
   "pygments_lexer": "ipython3",
   "version": "3.10.13"
  }
 },
 "nbformat": 4,
 "nbformat_minor": 5
}
