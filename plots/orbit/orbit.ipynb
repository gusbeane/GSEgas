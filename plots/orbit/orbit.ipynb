{
 "cells": [
  {
   "cell_type": "code",
   "execution_count": 1,
   "id": "7099b67e-cdaf-4057-b8cc-d7c597f24dee",
   "metadata": {},
   "outputs": [],
   "source": [
    "import h5py as h5\n",
    "import arepo\n",
    "import numpy as np\n",
    "import matplotlib.pyplot as plt\n",
    "import matplotlib as mpl\n",
    "from tqdm import tqdm\n",
    "from scipy.interpolate import interp1d\n",
    "from scipy.stats import binned_statistic_2d\n",
    "from numba import njit\n",
    "import importlib\n",
    "import os\n",
    "import itertools"
   ]
  },
  {
   "cell_type": "code",
   "execution_count": 2,
   "id": "a6294f4e-8329-4305-850e-5e844c723af1",
   "metadata": {},
   "outputs": [],
   "source": [
    "mpl.rc('text', usetex=True)\n",
    "mpl.rc('text.latex', preamble=r\"\"\"\n",
    "\\usepackage{amsmath}\n",
    "\"\"\")\n",
    "# mpl.rcParams.update({'font.size': 22})\n",
    "# mpl.rcParams['text.latex.preamble'] = [r'\\usepackage{amsmath}']\n",
    "# color palette\n",
    "tb_c = ['#4e79a7', '#f28e2b', '#e15759', '#76b7b2', '#59a14f',\n",
    "        '#edc948', '#b07aa1', '#ff9da7', '#9c755f', '#bab0ac']\n",
    "\n",
    "columnwidth = 242.26653 / 72.27 # converts pts to inches\n",
    "textwidth = 513.11743 / 72.27\n",
    "\n",
    "mpl.rcParams.update({'font.size': 8})"
   ]
  },
  {
   "cell_type": "code",
   "execution_count": 3,
   "id": "21e57c3d-ec43-4080-9617-af84ee2a0b2a",
   "metadata": {},
   "outputs": [],
   "source": [
    "basepath = '/n/holylfs05/LABS/hernquist_lab/Users/abeane/GSEgas/'\n",
    "\n",
    "Rs_list = ['116', '129', '142']\n",
    "Vv_list = ['116', '129', '142']\n",
    "ecc_list = ['04', '05', '06']"
   ]
  },
  {
   "cell_type": "code",
   "execution_count": 4,
   "id": "b1aa71ba-a582-4fd2-985a-77a884464734",
   "metadata": {},
   "outputs": [],
   "source": [
    "# def get_orbit(Rs, Vv, ecc):\n",
    "#     output_dir = basepath + 'runs/MW7_GSE4-eRVgrid-lvl4/lvl4-Rs'+Rs+'-Vv'+Vv+'-e'+ecc+'/output'\n",
    "#     orbit = {}\n",
    "#     orbit['Time'] = []\n",
    "#     orbit['Orbit'] = []\n",
    "#     for idx in np.arange(320+1):\n",
    "#         fname = output_dir + '/fof_subhalo_tab_'+str(idx).zfill(3)+'.hdf5'\n",
    "        \n",
    "#         if not os.path.exists(fname):\n",
    "#             print('got to idx='+str(idx-1)+' for Rs,Vv,ecc='+Rs+','+Vv+','+ecc)\n",
    "#             break\n",
    "        \n",
    "#         t = h5.File(fname, mode='r')\n",
    "#         orbit['Time'].append(t['Header'].attrs['Time'])\n",
    "#         SubhaloPos = t['Subhalo/SubhaloPos'][:]\n",
    "#         if len(SubhaloPos) > 1:\n",
    "#             orbit['Orbit'].append(SubhaloPos[1] - SubhaloPos[0])\n",
    "#         else:\n",
    "#             orbit['Orbit'].append(np.array([0., 0., 0.]))\n",
    "#         t.close()\n",
    "    \n",
    "#     for k in orbit.keys():\n",
    "#         orbit[k] = np.array(orbit[k])\n",
    "    \n",
    "#     orbit['Rsep'] = np.linalg.norm(orbit['Orbit'], axis=1)\n",
    "        \n",
    "#     return orbit"
   ]
  },
  {
   "cell_type": "code",
   "execution_count": 18,
   "id": "23ac9105-2aa4-4d5e-8205-a721b0abe976",
   "metadata": {},
   "outputs": [],
   "source": [
    "def get_orbit(Rs, Vv, ecc):\n",
    "    output_dir = basepath + 'plots/bim_metric/centering/'\n",
    "    fname = output_dir + 'sim_'+str(Rs)+'_'+str(Vv)+'_'+str(ecc)+'.npy'\n",
    "    f = np.load(fname, allow_pickle=True).item()\n",
    "    \n",
    "    orbit = {}\n",
    "    orbit['Time'] = np.copy(f['time'])\n",
    "    orbit['Orbit'] = f['com1'] - f['com0']\n",
    "    orbit['Rsep'] = np.linalg.norm(orbit['Orbit'], axis=1)\n",
    "    \n",
    "    return orbit"
   ]
  },
  {
   "cell_type": "code",
   "execution_count": 6,
   "id": "a2355e8d-96b3-4919-989d-d6e772bbc314",
   "metadata": {},
   "outputs": [],
   "source": [
    "# orbits = {}\n",
    "# for Rs, Vv, ecc in tqdm(itertools.product(Rs_list, Vv_list, ecc_list)):\n",
    "#     if Rs not in orbits.keys():\n",
    "#         orbits[Rs] = {}\n",
    "#     if Vv not in orbits[Rs].keys():\n",
    "#         orbits[Rs][Vv] = {}\n",
    "#     orbits[Rs][Vv][ecc] = get_orbit(Rs, Vv, ecc)            "
   ]
  },
  {
   "cell_type": "code",
   "execution_count": 7,
   "id": "156ec205-e8d6-4e9c-beb7-e4fb65ae0385",
   "metadata": {},
   "outputs": [],
   "source": [
    "# fig, axs = plt.subplots(2, 3, figsize=(textwidth, 0.4*textwidth), height_ratios=[1, 1.5])\n",
    "\n",
    "# ############ vary Rs\n",
    "# orbit = orbits['129']['129']['05']\n",
    "# axs[0][0].plot(orbit['Orbit'][:,0], orbit['Orbit'][:,1], c='k', zorder=10)\n",
    "# axs[1][0].plot(orbit['Time'], orbit['Rsep'], c='k', zorder=10)\n",
    "\n",
    "# orbit = orbits['116']['129']['05']\n",
    "# axs[0][0].plot(orbit['Orbit'][:,0], orbit['Orbit'][:,1], c=tb_c[0])\n",
    "# axs[1][0].plot(orbit['Time'], orbit['Rsep'], c=tb_c[0])\n",
    "\n",
    "# orbit = orbits['142']['129']['05']\n",
    "# axs[0][0].plot(orbit['Orbit'][:,0], orbit['Orbit'][:,1], c=tb_c[2])\n",
    "# axs[1][0].plot(orbit['Time'], orbit['Rsep'], c=tb_c[2])\n",
    "\n",
    "# ############ vary Vv\n",
    "# orbit = orbits['129']['129']['05']\n",
    "# axs[0][1].plot(orbit['Orbit'][:,0], orbit['Orbit'][:,1], c='k', zorder=10)\n",
    "# axs[1][1].plot(orbit['Time'], orbit['Rsep'], c='k', zorder=10)\n",
    "\n",
    "# orbit = orbits['129']['116']['05']\n",
    "# axs[0][1].plot(orbit['Orbit'][:,0], orbit['Orbit'][:,1], c=tb_c[0])\n",
    "# axs[1][1].plot(orbit['Time'], orbit['Rsep'], c=tb_c[0])\n",
    "\n",
    "# orbit = orbits['129']['142']['05']\n",
    "# axs[0][1].plot(orbit['Orbit'][:,0], orbit['Orbit'][:,1], c=tb_c[2])\n",
    "# axs[1][1].plot(orbit['Time'], orbit['Rsep'], c=tb_c[2])\n",
    "\n",
    "# ############ vary ecc\n",
    "# orbit = orbits['129']['129']['05']\n",
    "# axs[0][2].plot(orbit['Orbit'][:,0], orbit['Orbit'][:,1], c='k', zorder=10)\n",
    "# axs[1][2].plot(orbit['Time'], orbit['Rsep'], c='k', zorder=10)\n",
    "\n",
    "# orbit = orbits['129']['129']['04']\n",
    "# axs[0][2].plot(orbit['Orbit'][:,0], orbit['Orbit'][:,1], c=tb_c[0])\n",
    "# axs[1][2].plot(orbit['Time'], orbit['Rsep'], c=tb_c[0])\n",
    "\n",
    "# orbit = orbits['129']['129']['06']\n",
    "# axs[0][2].plot(orbit['Orbit'][:,0], orbit['Orbit'][:,1], c=tb_c[2])\n",
    "# axs[1][2].plot(orbit['Time'], orbit['Rsep'], c=tb_c[2])\n",
    "\n",
    "# for ax in axs[0].ravel():\n",
    "#     ax.set(xlim=(-150, 100), ylim=(-50, 50))\n",
    "#     ax.set(aspect='equal')\n",
    "#     ax.set(xlabel=r'$x\\,[\\,\\textrm{kpc}\\,]$', ylabel=r'$y\\,[\\,\\textrm{kpc}\\,]$')\n",
    "#     ax.set(xticks=np.arange(-150, 100+1, 50))\n",
    "\n",
    "# axs[0][0].set_title(r'$\\textrm{vary } R_0$')\n",
    "# axs[0][1].set_title(r'$\\textrm{vary } V_0$')\n",
    "# axs[0][2].set_title(r'$\\textrm{vary } \\eta$')\n",
    "\n",
    "# # for ax in axs[1]:\n",
    "#     # Direct use of textcolor with HTML color definition in LaTeX\n",
    "#     # text_str = r'\\textcolor[HTML]{'+tb_c[2].lstrip('#')+'}{+}' + r'/\\textcolor[HTML]{'+tb_c[0].lstrip('#')+'}{-}'\n",
    "#     # ax.text(0.95, 0.95, text_str, transform=ax.transAxes, ha='right', va='top', fontsize=12)\n",
    "\n",
    "# for ax in axs[1]:\n",
    "#     # plus_color = hex_to_rgb_latex(tb_c[2])  # Convert color for '+'\n",
    "#     # minus_color = hex_to_rgb_latex(tb_c[0])  # Convert color for '-'\n",
    "#     # print(plus_color)\n",
    "#     # text_str = r'\\textcolor[rgb]' + plus_color + '{+}' + r'\\textcolor{black}{/}' + r'\\textcolor[rgb]' + minus_color + '{-}'\n",
    "#     # text_str = r'\\pluscolor{+}/\\minuscolor{-}'\n",
    "#     # ax.text(0.95, 0.95, text_str, transform=ax.transAxes, ha='right', va='top', fontsize=12)\n",
    "\n",
    "#     ax.set(xlim=(0, 4), xticks=np.arange(0, 4+1, 1), xlabel=r'$t\\,[\\,\\textrm{Gyr}\\,]$')\n",
    "#     ax.set(ylim=(0, 150), ylabel=r'$\\textrm{separation}\\,[\\,\\textrm{kpc}\\,]$')\n",
    "\n",
    "# fig.tight_layout()\n",
    "\n",
    "# fig.savefig('orbit_param.pdf')"
   ]
  },
  {
   "cell_type": "code",
   "execution_count": 8,
   "id": "cb47070e-87d7-461d-bcc2-4919a9b3fae4",
   "metadata": {},
   "outputs": [],
   "source": [
    "# orbit0 = get_orbit('142', '116', '04')\n",
    "# orbit1 = get_orbit('129', '116', '04')\n",
    "\n",
    "orbit0 = get_orbit('129', '142', '04')\n",
    "orbit1 = get_orbit('129', '129', '04')"
   ]
  },
  {
   "cell_type": "code",
   "execution_count": 9,
   "id": "144b1511-e68f-4841-aff3-c9ba221faa93",
   "metadata": {},
   "outputs": [
    {
     "data": {
      "image/png": "[encoded data removed]",
      "text/plain": [
       "<Figure size 335.224x569.881 with 3 Axes>"
      ]
     },
     "metadata": {},
     "output_type": "display_data"
    }
   ],
   "source": [
    "fig, axs = plt.subplots(3, 1, figsize=(columnwidth, 1.7*columnwidth),\n",
    "                              height_ratios=[2, 2, 2.8])\n",
    "\n",
    "axs[0].plot(orbit0['Orbit'][:,0], orbit0['Orbit'][:,1], c=tb_c[0])\n",
    "axs[0].plot(orbit1['Orbit'][:,0], orbit1['Orbit'][:,1], c=tb_c[1])\n",
    "axs[0].set(xlim=(-150, 75), ylim=(-50, 50))\n",
    "axs[0].set(xlabel=r'$x\\,[\\,\\textrm{kpc}\\,]$')\n",
    "axs[0].set(ylabel=r'$y\\,[\\,\\textrm{kpc}\\,]$')\n",
    "axs[0].set_aspect('equal')\n",
    "\n",
    "axs[1].plot(orbit0['Orbit'][:,0], orbit0['Orbit'][:,2], c=tb_c[0])\n",
    "axs[1].plot(orbit1['Orbit'][:,0], orbit1['Orbit'][:,2], c=tb_c[1])\n",
    "axs[1].set(xlim=(-150, 75), ylim=(-50, 50))\n",
    "axs[1].set(xlabel=r'$x\\,[\\,\\textrm{kpc}\\,]$')\n",
    "axs[1].set(ylabel=r'$z\\,[\\,\\textrm{kpc}\\,]$')\n",
    "axs[1].set_aspect('equal')\n",
    "\n",
    "axs[2].plot(orbit0['Time'], orbit0['Rsep'], c=tb_c[0], label=r'$\\textrm{bimodal}$')\n",
    "axs[2].plot(orbit1['Time'], orbit1['Rsep'], c=tb_c[1], label=r'$\\textrm{unimodal}$')\n",
    "axs[2].set(xlim=(0, 3), ylim=(0, 150))\n",
    "axs[2].set(xlabel=r'$t\\,[\\,\\textrm{Gyr}\\,]$')\n",
    "axs[2].set(ylabel=r'$r_{\\textrm{sep}}\\,[\\,\\textrm{kpc}\\,]$')\n",
    "axs[2].set_aspect('auto')\n",
    "axs[2].legend(frameon=False)\n",
    "\n",
    "fig.tight_layout()\n",
    "fig.savefig('orbit.pdf')\n",
    "plt.show()"
   ]
  },
  {
   "cell_type": "markdown",
   "id": "4db89a9f-1bc9-4093-ba59-8755ea8f3cd3",
   "metadata": {},
   "source": [
    "# get all orbits"
   ]
  },
  {
   "cell_type": "code",
   "execution_count": 13,
   "id": "bf0b78c9-c2ea-480d-8793-29ad969723e8",
   "metadata": {},
   "outputs": [],
   "source": [
    "from scipy.signal import argrelextrema"
   ]
  },
  {
   "cell_type": "code",
   "execution_count": 7,
   "id": "63e0191f-fdf6-4e6f-aa3e-98aa0f8d1217",
   "metadata": {},
   "outputs": [],
   "source": [
    "def get_orbit(Rs, Vv, ecc):\n",
    "    output_dir = basepath + 'runs/MW7_GSE4-eRVgrid-lvl4/lvl4-Rs'+Rs+'-Vv'+Vv+'-e'+ecc+'/output'\n",
    "    orbit = {}\n",
    "    orbit['Time'] = []\n",
    "    orbit['Orbit'] = []\n",
    "    for idx in tqdm(np.arange(320+1)):\n",
    "        fname = output_dir + '/fof_subhalo_tab_'+str(idx).zfill(3)+'.hdf5'\n",
    "        \n",
    "        if not os.path.exists(fname):\n",
    "            print('got to idx='+str(idx-1)+' for Rs,Vv,ecc='+Rs+','+Vv+','+ecc)\n",
    "            break\n",
    "        \n",
    "        t = h5.File(fname, mode='r')\n",
    "        orbit['Time'].append(t['Header'].attrs['Time'])\n",
    "        SubhaloPos = t['Subhalo/SubhaloPos'][:]\n",
    "        if len(SubhaloPos) > 1:\n",
    "            orbit['Orbit'].append(SubhaloPos[1] - SubhaloPos[0])\n",
    "        else:\n",
    "            orbit['Orbit'].append(np.array([0., 0., 0.]))\n",
    "        t.close()\n",
    "    \n",
    "    for k in orbit.keys():\n",
    "        orbit[k] = np.array(orbit[k])\n",
    "    \n",
    "    orbit['Rsep'] = np.linalg.norm(orbit['Orbit'], axis=1)\n",
    "        \n",
    "    return orbit"
   ]
  },
  {
   "cell_type": "code",
   "execution_count": 20,
   "id": "01bd1e2a-3583-433f-9f21-0d9d0ba2039f",
   "metadata": {},
   "outputs": [
    {
     "name": "stderr",
     "output_type": "stream",
     "text": [
      "100%|██████████| 321/321 [00:12<00:00, 26.23it/s]\n",
      "100%|██████████| 321/321 [00:12<00:00, 25.95it/s]\n",
      "100%|██████████| 321/321 [00:12<00:00, 26.23it/s]\n",
      "100%|██████████| 321/321 [00:12<00:00, 26.73it/s]\n",
      "100%|██████████| 321/321 [00:12<00:00, 26.14it/s]\n",
      "100%|██████████| 321/321 [00:12<00:00, 25.99it/s]\n",
      "100%|██████████| 321/321 [00:12<00:00, 26.15it/s]\n",
      "100%|██████████| 321/321 [00:12<00:00, 26.03it/s]\n",
      "100%|██████████| 321/321 [00:12<00:00, 25.50it/s]\n",
      "100%|██████████| 321/321 [00:11<00:00, 27.14it/s]\n",
      "100%|██████████| 321/321 [00:11<00:00, 27.09it/s]\n",
      "100%|██████████| 321/321 [00:11<00:00, 27.84it/s]\n",
      "100%|██████████| 321/321 [00:11<00:00, 26.75it/s]\n",
      "100%|██████████| 321/321 [00:00<00:00, 392.17it/s]\n",
      "100%|██████████| 321/321 [00:11<00:00, 26.98it/s]\n",
      "100%|██████████| 321/321 [00:11<00:00, 27.20it/s]\n",
      "100%|██████████| 321/321 [00:12<00:00, 26.28it/s]\n",
      "100%|██████████| 321/321 [00:12<00:00, 26.26it/s]\n",
      "100%|██████████| 321/321 [00:11<00:00, 28.80it/s]\n",
      "100%|██████████| 321/321 [00:11<00:00, 28.08it/s]\n",
      "100%|██████████| 321/321 [00:11<00:00, 28.12it/s]\n",
      "100%|██████████| 321/321 [00:11<00:00, 27.62it/s]\n",
      "100%|██████████| 321/321 [00:11<00:00, 28.16it/s]\n",
      "100%|██████████| 321/321 [00:11<00:00, 27.51it/s]\n",
      "100%|██████████| 321/321 [00:10<00:00, 29.85it/s]\n",
      "100%|██████████| 321/321 [00:10<00:00, 29.73it/s]\n",
      "100%|██████████| 321/321 [00:10<00:00, 29.96it/s]\n"
     ]
    }
   ],
   "source": [
    "allorbit = {}\n",
    "for Rs in ['116', '129', '142']:\n",
    "    allorbit[Rs] = {}\n",
    "    for Vv in ['116', '129', '142']:\n",
    "        allorbit[Rs][Vv] = {}\n",
    "        for ecc in ['04', '05', '06']:\n",
    "            allorbit[Rs][Vv][ecc] = get_orbit(Rs, Vv, ecc)"
   ]
  },
  {
   "cell_type": "code",
   "execution_count": 21,
   "id": "27952c1c-1f1b-4a4b-ab5d-54d543ccc8d1",
   "metadata": {},
   "outputs": [],
   "source": [
    "def get_tperi(orbit):\n",
    "    tperi = orbit['Time'][argrelextrema(orbit['Rsep'], np.less)[0][1]]\n",
    "    return tperi"
   ]
  },
  {
   "cell_type": "code",
   "execution_count": 24,
   "id": "970033c9-d5dc-499b-8a11-a3d4ceee5db3",
   "metadata": {},
   "outputs": [
    {
     "name": "stdout",
     "output_type": "stream",
     "text": [
      "116 116 04 1.125\n",
      "116 116 05 1.67578125\n",
      "116 116 06 1.3515625\n",
      "116 129 04 1.05078125\n",
      "116 129 05 1.275390625\n",
      "116 129 06 1.25\n",
      "116 142 04 1.1015625\n",
      "116 142 05 1.17578125\n",
      "116 142 06 1.375\n",
      "129 116 04 1.17578125\n",
      "129 116 05 1.42578125\n",
      "129 116 06 1.5\n",
      "129 129 04 1.92578125\n",
      "129 129 05 1.451171875\n",
      "129 129 06 1.5\n",
      "129 142 04 1.375\n",
      "129 142 05 1.30078125\n",
      "129 142 06 1.6015625\n",
      "142 116 04 1.275390625\n",
      "142 116 05 1.42578125\n",
      "142 116 06 1.67578125\n",
      "142 129 04 1.525390625\n",
      "142 129 05 2.4765625\n",
      "142 129 06 1.7265625\n",
      "142 142 04 1.451171875\n",
      "142 142 05 1.701171875\n",
      "142 142 06 2.076171875\n"
     ]
    }
   ],
   "source": [
    "alltperi = {}\n",
    "for Rs in ['116', '129', '142']:\n",
    "    alltperi[Rs] = {}\n",
    "    for Vv in ['116', '129', '142']:\n",
    "        alltperi[Rs][Vv] = {}\n",
    "        for ecc in ['04', '05', '06']:\n",
    "            alltperi[Rs][Vv][ecc] = get_tperi(allorbit[Rs][Vv][ecc])\n",
    "            print(Rs, Vv, ecc, alltperi[Rs][Vv][ecc])"
   ]
  },
  {
   "cell_type": "code",
   "execution_count": null,
   "id": "7579f193-e60f-4ec6-81de-2f44ee26e076",
   "metadata": {},
   "outputs": [],
   "source": []
  }
 ],
 "metadata": {
  "kernelspec": {
   "display_name": "note",
   "language": "python",
   "name": "note"
  },
  "language_info": {
   "codemirror_mode": {
    "name": "ipython",
    "version": 3
   },
   "file_extension": ".py",
   "mimetype": "text/x-python",
   "name": "python",
   "nbconvert_exporter": "python",
   "pygments_lexer": "ipython3",
   "version": "3.10.13"
  }
 },
 "nbformat": 4,
 "nbformat_minor": 5
}
