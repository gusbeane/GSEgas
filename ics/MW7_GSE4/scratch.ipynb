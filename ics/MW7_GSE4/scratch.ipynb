{
 "cells": [
  {
   "cell_type": "code",
   "execution_count": 1,
   "id": "17d6f439-70fd-4973-a80e-5979f4ffb081",
   "metadata": {},
   "outputs": [],
   "source": [
    "import h5py as h5\n",
    "import arepo\n",
    "import numpy as np\n",
    "import matplotlib.pyplot as plt\n",
    "import matplotlib as mpl\n",
    "from tqdm import tqdm\n",
    "from scipy.interpolate import interp1d\n",
    "from scipy.stats import binned_statistic_2d"
   ]
  },
  {
   "cell_type": "code",
   "execution_count": 2,
   "id": "053badfc-0576-458f-b749-2f6a25ff6c26",
   "metadata": {},
   "outputs": [],
   "source": [
    "ics = arepo.Snapshot('lvl5/MW_ICs-beta08-fbar008.dat')"
   ]
  },
  {
   "cell_type": "code",
   "execution_count": 3,
   "id": "bb2900a9-1211-4001-93a1-1c53e3b814b1",
   "metadata": {},
   "outputs": [
    {
     "data": {
      "text/plain": [
       "1290.0"
      ]
     },
     "execution_count": 3,
     "metadata": {},
     "output_type": "execute_result"
    }
   ],
   "source": [
    "ics.BoxSize"
   ]
  },
  {
   "cell_type": "code",
   "execution_count": 6,
   "id": "248c20a2-655b-4a43-9c33-f94bd7cd8e59",
   "metadata": {},
   "outputs": [],
   "source": [
    "ics = arepo.Snapshot('lvl5/MW.hdf5')"
   ]
  },
  {
   "cell_type": "code",
   "execution_count": 7,
   "id": "3a2dda9c-a1b5-4cc1-8440-96fb3d6115c6",
   "metadata": {},
   "outputs": [
    {
     "name": "stdout",
     "output_type": "stream",
     "text": [
      "1290.0\n"
     ]
    }
   ],
   "source": [
    "print(ics.BoxSize)"
   ]
  },
  {
   "cell_type": "code",
   "execution_count": null,
   "id": "a1e33ee7-b6d3-4960-a83f-6abbc368ba45",
   "metadata": {},
   "outputs": [],
   "source": []
  }
 ],
 "metadata": {
  "kernelspec": {
   "display_name": "Python [conda env:.conda-note]",
   "language": "python",
   "name": "conda-env-.conda-note-py"
  },
  "language_info": {
   "codemirror_mode": {
    "name": "ipython",
    "version": 3
   },
   "file_extension": ".py",
   "mimetype": "text/x-python",
   "name": "python",
   "nbconvert_exporter": "python",
   "pygments_lexer": "ipython3",
   "version": "3.10.12"
  }
 },
 "nbformat": 4,
 "nbformat_minor": 5
}
