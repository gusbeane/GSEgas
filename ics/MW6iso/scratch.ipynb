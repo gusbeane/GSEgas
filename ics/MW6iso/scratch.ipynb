{
 "cells": [
  {
   "cell_type": "code",
   "execution_count": 1,
   "id": "0b476a50-8779-4bc1-b3be-c77e9d4aaf64",
   "metadata": {},
   "outputs": [],
   "source": [
    "import numpy as np\n",
    "import arepo\n",
    "import matplotlib.pyplot as plt"
   ]
  },
  {
   "cell_type": "code",
   "execution_count": 12,
   "id": "dacb4dd7-f06d-46e8-a1d7-b094db500a6d",
   "metadata": {},
   "outputs": [],
   "source": [
    "sn = arepo.Snapshot('lvl5/MW-beta05.hdf5')"
   ]
  },
  {
   "cell_type": "code",
   "execution_count": 13,
   "id": "aff365c8-5e59-468a-b9da-ee95747bc144",
   "metadata": {},
   "outputs": [],
   "source": [
    "R200 = 129"
   ]
  },
  {
   "cell_type": "code",
   "execution_count": 18,
   "id": "810aa957-fa59-4e2c-bd80-093da664cd61",
   "metadata": {},
   "outputs": [
    {
     "name": "stdout",
     "output_type": "stream",
     "text": [
      "Menc0 = 4.563553\n",
      "Menc1 = 24.51072\n",
      "fbary = 0.15696189132495\n"
     ]
    }
   ],
   "source": [
    "center = np.array([1290]*3)/2\n",
    "# center = np.array([0]*3)/2\n",
    "r0 = np.linalg.norm(sn.part0.pos - center, axis=1)\n",
    "r1 = np.linalg.norm(sn.part1.pos - center, axis=1)\n",
    "\n",
    "Menc0 = np.sum(sn.part0.mass[r0 < R200])\n",
    "Menc1 = sn.MassTable[1]*np.sum(r1 < R200)\n",
    "\n",
    "print('Menc0 =', Menc0)\n",
    "print('Menc1 =', Menc1)\n",
    "print('fbary =', Menc0/(Menc0+Menc1))"
   ]
  },
  {
   "cell_type": "code",
   "execution_count": null,
   "id": "7db9f3cd-794f-4bbd-bd34-b85f83c5501b",
   "metadata": {},
   "outputs": [],
   "source": []
  }
 ],
 "metadata": {
  "kernelspec": {
   "display_name": "Python [conda env:.conda-note]",
   "language": "python",
   "name": "conda-env-.conda-note-py"
  },
  "language_info": {
   "codemirror_mode": {
    "name": "ipython",
    "version": 3
   },
   "file_extension": ".py",
   "mimetype": "text/x-python",
   "name": "python",
   "nbconvert_exporter": "python",
   "pygments_lexer": "ipython3",
   "version": "3.10.12"
  }
 },
 "nbformat": 4,
 "nbformat_minor": 5
}
