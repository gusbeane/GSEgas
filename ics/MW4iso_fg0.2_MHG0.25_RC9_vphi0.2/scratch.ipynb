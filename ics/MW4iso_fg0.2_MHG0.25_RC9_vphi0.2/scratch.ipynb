{
 "cells": [
  {
   "cell_type": "code",
   "execution_count": 24,
   "id": "012399db-c130-49ec-b00b-c5fd9f099be7",
   "metadata": {},
   "outputs": [],
   "source": [
    "import numpy as np\n",
    "import arepo\n",
    "import matplotlib.pyplot as plt\n",
    "from scipy.signal import savgol_filter\n",
    "from tqdm import tqdm\n",
    "import matplotlib as mpl\n",
    "from scipy.stats import binned_statistic_2d\n",
    "from numba import njit\n",
    "import h5py as h5\n",
    "import os"
   ]
  },
  {
   "cell_type": "code",
   "execution_count": 77,
   "id": "d70261e1-a9ec-4747-9916-79a481517b50",
   "metadata": {},
   "outputs": [],
   "source": [
    "fid = arepo.Snapshot('lvl4/MW.hdf5')\n",
    "new = arepo.Snapshot('lvl4-beta/MW.hdf5')\n",
    "new05 = arepo.Snapshot('lvl4-beta/MW-beta05.hdf5')"
   ]
  },
  {
   "cell_type": "code",
   "execution_count": 60,
   "id": "5bebdb47-131a-40a0-9de9-b4f814e2772b",
   "metadata": {},
   "outputs": [],
   "source": [
    "def gas_profile(sni, rmax=300, dr=1):\n",
    "    # center = np.array([sni.BoxSize, sni.BoxSize, sni.BoxSize])/2.\n",
    "    center = np.array([300, 300, 300])\n",
    "\n",
    "    # print(center)\n",
    "    pos = sni.part0.pos - center\n",
    "    r = np.linalg.norm(pos, axis=1)\n",
    "    \n",
    "    # print(np.min(r))\n",
    "    \n",
    "    rmin = 0\n",
    "    \n",
    "    out = {}\n",
    "    out['rlist'] = []\n",
    "    out['rholist'] = []\n",
    "    \n",
    "    while rmin < rmax:\n",
    "        key = np.logical_and(r >= rmin, r < rmin + dr)\n",
    "        \n",
    "        Menc = np.sum(sni.part0.mass[key])\n",
    "        vol = (4 * np.pi/3.) * ((rmin + dr)**3 - rmin**3)\n",
    "        \n",
    "        aver = np.mean(r[key])\n",
    "        \n",
    "        out['rlist'].append(aver)\n",
    "        out['rholist'].append(Menc/vol)\n",
    "        \n",
    "        rmin += dr\n",
    "    \n",
    "    out['rlist'] = np.array(out['rlist'])\n",
    "    out['rholist'] = np.array(out['rholist'])\n",
    "    \n",
    "    return out"
   ]
  },
  {
   "cell_type": "code",
   "execution_count": 61,
   "id": "2ad50e1d-771a-4d0c-babc-df5919915e9f",
   "metadata": {},
   "outputs": [],
   "source": [
    "out_fid = gas_profile(fid)\n",
    "out_new = gas_profile(new)\n",
    "out_new05 = gas_profile(new05)"
   ]
  },
  {
   "cell_type": "code",
   "execution_count": 67,
   "id": "6e783c28-1877-4331-8885-35c1c959190c",
   "metadata": {},
   "outputs": [],
   "source": [
    "def beta_analytic(r, RHO0, RC, beta):\n",
    "    rholist = RHO0 * (1 + (r/RC)**2)**(-1.5*beta)\n",
    "    return rholist"
   ]
  },
  {
   "cell_type": "code",
   "execution_count": 70,
   "id": "b54a5ae8-e30f-4327-99d6-490b4c5f9cf1",
   "metadata": {},
   "outputs": [
    {
     "name": "stdout",
     "output_type": "stream",
     "text": [
      "1.2244862337131457e-07\n"
     ]
    },
    {
     "data": {
      "image/png": "[encoded data removed]",
      "text/plain": [
       "<Figure size 640x480 with 1 Axes>"
      ]
     },
     "metadata": {},
     "output_type": "display_data"
    }
   ],
   "source": [
    "RC = 9\n",
    "rlist = np.logspace(-3, 3, 1000)\n",
    "\n",
    "l = plt.plot(out_new['rlist'], out_new['rholist'])\n",
    "RHO0 = 9.60835e-06\n",
    "beta = 2./3.\n",
    "rholist = beta_analytic(rlist, RHO0, RC, beta)\n",
    "plt.plot(rlist, rholist, c=l[0].get_color(), ls='dashed')\n",
    "\n",
    "l = plt.plot(out_new05['rlist'], out_new05['rholist'])\n",
    "# RHO0 = 1.19239e-06\n",
    "# beta = 1./2.\n",
    "RHO0 = 4.2446e-06\n",
    "beta = 0.6\n",
    "rholist = beta_analytic(rlist, RHO0, RC, beta)\n",
    "plt.plot(rlist, rholist, c=l[0].get_color(), ls='dashed')\n",
    "\n",
    "print(beta_analytic(63.895, RHO0, RC, beta))\n",
    "plt.scatter(63.895, beta_analytic(63.895, RHO0, RC, beta))\n",
    "\n",
    "plt.xlim(1, 300)\n",
    "plt.xscale('log')\n",
    "plt.yscale('log')"
   ]
  },
  {
   "cell_type": "code",
   "execution_count": 33,
   "id": "8cfe8a1d-467d-46b8-bb13-e17d41c5ab79",
   "metadata": {},
   "outputs": [
    {
     "name": "stdout",
     "output_type": "stream",
     "text": [
      "3.5990098\n",
      "3.5990098\n",
      "2.038558\n"
     ]
    }
   ],
   "source": [
    "print(np.sum(fid.part0.mass))\n",
    "print(np.sum(new.part0.mass))\n",
    "print(np.sum(new05.part0.mass))"
   ]
  },
  {
   "cell_type": "code",
   "execution_count": 34,
   "id": "33111ff3-fe4d-4ca7-abac-165f97d0bf96",
   "metadata": {},
   "outputs": [
    {
     "name": "stdout",
     "output_type": "stream",
     "text": [
      "[ 599682 1596839   99802  133070       0       0]\n",
      "[ 599682 1596839   99802  133070       0       0]\n",
      "[ 339673 1596839   99802  133070       0       0]\n"
     ]
    }
   ],
   "source": [
    "print(fid.NumPart_Total)\n",
    "print(new.NumPart_Total)\n",
    "print(new05.NumPart_Total)"
   ]
  },
  {
   "cell_type": "code",
   "execution_count": 40,
   "id": "0a58158b-0152-4a21-8c97-78641ee36c8e",
   "metadata": {},
   "outputs": [
    {
     "name": "stdout",
     "output_type": "stream",
     "text": [
      "0.3305044\n",
      "0.3305044\n",
      "0.0017404447\n"
     ]
    }
   ],
   "source": [
    "r = np.linalg.norm(fid.part0.pos - np.array([300, 300, 300]), axis=1)\n",
    "print(np.sum(fid.part0.mass[r<30]))\n",
    "\n",
    "r = np.linalg.norm(new.part0.pos - np.array([300, 300, 300]), axis=1)\n",
    "print(np.sum(new.part0.mass[r<30]))\n",
    "\n",
    "r = np.linalg.norm(new05.part0.pos - np.array([300, 300, 300]), axis=1)\n",
    "print(np.sum(new05.part0.mass[r<30]))"
   ]
  },
  {
   "cell_type": "code",
   "execution_count": 54,
   "id": "99e18b07-150d-4064-a4b8-e0062cf642fa",
   "metadata": {},
   "outputs": [
    {
     "name": "stdout",
     "output_type": "stream",
     "text": [
      "[299.92578 299.95374 300.00394]\n",
      "[299.92578 299.95374 300.00394]\n",
      "[299.93353 299.9922  300.0029 ]\n"
     ]
    }
   ],
   "source": [
    "print(np.median(fid.part0.pos, axis=0))\n",
    "print(np.median(new.part0.pos, axis=0))\n",
    "print(np.median(new05.part0.pos, axis=0))"
   ]
  },
  {
   "cell_type": "code",
   "execution_count": 41,
   "id": "19ed031f-8b59-4e61-a779-eaf0391c8fc7",
   "metadata": {},
   "outputs": [
    {
     "name": "stdout",
     "output_type": "stream",
     "text": [
      "5.333117332601769 258.2094918158452 678.4791444859537\n"
     ]
    }
   ],
   "source": [
    "print(np.min(r), np.median(r), np.max(r))"
   ]
  },
  {
   "cell_type": "code",
   "execution_count": 22,
   "id": "daa63eca-9242-4bca-8fd3-0d648bb62611",
   "metadata": {},
   "outputs": [
    {
     "name": "stdout",
     "output_type": "stream",
     "text": [
      "7.76056491191264e-07\n"
     ]
    }
   ],
   "source": [
    "r0 = 30\n",
    "dr = 2\n",
    "key = np.logical_and(r > r0-dr/2., r < r0+dr/2.)\n",
    "vol = (4*np.pi/3) * ((r0+dr/2.)**3 - (r0-dr/2.)**3)\n",
    "mass = np.sum(fid.part0.mass[key])\n",
    "print(mass/vol)"
   ]
  },
  {
   "cell_type": "code",
   "execution_count": 78,
   "id": "50bcce81-caa2-40e2-9c01-585caaa5434c",
   "metadata": {},
   "outputs": [
    {
     "data": {
      "text/plain": [
       "['Coordinates',\n",
       " 'GFM_Metallicity',\n",
       " 'GFM_Metals',\n",
       " 'InternalEnergy',\n",
       " 'Masses',\n",
       " 'ParticleIDs',\n",
       " 'PassiveScalars',\n",
       " 'Velocities',\n",
       " '__class__',\n",
       " '__contains__',\n",
       " '__delattr__',\n",
       " '__dict__',\n",
       " '__dir__',\n",
       " '__doc__',\n",
       " '__eq__',\n",
       " '__format__',\n",
       " '__ge__',\n",
       " '__getattr__',\n",
       " '__getattribute__',\n",
       " '__getitem__',\n",
       " '__gt__',\n",
       " '__hash__',\n",
       " '__init__',\n",
       " '__init_subclass__',\n",
       " '__le__',\n",
       " '__lt__',\n",
       " '__module__',\n",
       " '__ne__',\n",
       " '__new__',\n",
       " '__reduce__',\n",
       " '__reduce_ex__',\n",
       " '__repr__',\n",
       " '__setattr__',\n",
       " '__sizeof__',\n",
       " '__str__',\n",
       " '__subclasshook__',\n",
       " '__weakref__',\n",
       " '_num',\n",
       " '_parent',\n",
       " 'data',\n",
       " 'gmet',\n",
       " 'gz',\n",
       " 'id',\n",
       " 'mass',\n",
       " 'pos',\n",
       " 'u',\n",
       " 'vel']"
      ]
     },
     "execution_count": 78,
     "metadata": {},
     "output_type": "execute_result"
    }
   ],
   "source": [
    "dir(new05.part0)"
   ]
  },
  {
   "cell_type": "code",
   "execution_count": 76,
   "id": "de1cd056-307a-445c-92b7-9c9c22ae7ef5",
   "metadata": {},
   "outputs": [
    {
     "data": {
      "text/plain": [
       "['Coordinates',\n",
       " 'GFM_Metallicity',\n",
       " 'GFM_Metals',\n",
       " 'InternalEnergy',\n",
       " 'Masses',\n",
       " 'ParticleIDs',\n",
       " 'PassiveScalars',\n",
       " 'Velocities',\n",
       " '__class__',\n",
       " '__contains__',\n",
       " '__delattr__',\n",
       " '__dict__',\n",
       " '__dir__',\n",
       " '__doc__',\n",
       " '__eq__',\n",
       " '__format__',\n",
       " '__ge__',\n",
       " '__getattr__',\n",
       " '__getattribute__',\n",
       " '__getitem__',\n",
       " '__gt__',\n",
       " '__hash__',\n",
       " '__init__',\n",
       " '__init_subclass__',\n",
       " '__le__',\n",
       " '__lt__',\n",
       " '__module__',\n",
       " '__ne__',\n",
       " '__new__',\n",
       " '__reduce__',\n",
       " '__reduce_ex__',\n",
       " '__repr__',\n",
       " '__setattr__',\n",
       " '__sizeof__',\n",
       " '__str__',\n",
       " '__subclasshook__',\n",
       " '__weakref__',\n",
       " '_num',\n",
       " '_parent',\n",
       " 'data',\n",
       " 'gmet',\n",
       " 'gz',\n",
       " 'id',\n",
       " 'mass',\n",
       " 'pos',\n",
       " 'u',\n",
       " 'vel']"
      ]
     },
     "execution_count": 76,
     "metadata": {},
     "output_type": "execute_result"
    }
   ],
   "source": [
    "dir(fid.part0)"
   ]
  },
  {
   "cell_type": "code",
   "execution_count": null,
   "id": "520561ef-c8c5-4a86-9a73-c7d5035764e6",
   "metadata": {},
   "outputs": [],
   "source": []
  }
 ],
 "metadata": {
  "kernelspec": {
   "display_name": "Python [conda env:.conda-note]",
   "language": "python",
   "name": "conda-env-.conda-note-py"
  },
  "language_info": {
   "codemirror_mode": {
    "name": "ipython",
    "version": 3
   },
   "file_extension": ".py",
   "mimetype": "text/x-python",
   "name": "python",
   "nbconvert_exporter": "python",
   "pygments_lexer": "ipython3",
   "version": "3.10.12"
  }
 },
 "nbformat": 4,
 "nbformat_minor": 5
}
