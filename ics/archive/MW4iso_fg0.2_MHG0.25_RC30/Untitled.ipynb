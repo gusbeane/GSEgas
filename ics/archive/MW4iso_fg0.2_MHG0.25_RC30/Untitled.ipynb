{
 "cells": [
  {
   "cell_type": "code",
   "execution_count": 40,
   "id": "1f09d6ee-635b-4821-ade5-da71691cd1ea",
   "metadata": {},
   "outputs": [],
   "source": [
    "import numpy as np\n",
    "import arepo\n",
    "import matplotlib.pyplot as plt\n",
    "from tqdm import tqdm"
   ]
  },
  {
   "cell_type": "code",
   "execution_count": 44,
   "id": "dd82d57f-17f2-454c-95a5-830a7bf45b84",
   "metadata": {},
   "outputs": [],
   "source": [
    "basepath = '/n/holylfs05/LABS/hernquist_lab/Users/abeane/GSEgas/'"
   ]
  },
  {
   "cell_type": "code",
   "execution_count": 5,
   "id": "76cb2c86-a706-4383-b672-745bda50b229",
   "metadata": {},
   "outputs": [],
   "source": [
    "sn9 = arepo.Snapshot('../MW4iso_fg0.2_MHG0.25_RC9/lvl4/MW.hdf5')\n",
    "sn20 = arepo.Snapshot('lvl4/MW.hdf5')"
   ]
  },
  {
   "cell_type": "code",
   "execution_count": 16,
   "id": "f9802679-5f1d-4a54-9793-247828e2ce07",
   "metadata": {},
   "outputs": [],
   "source": [
    "R200 = 129\n",
    "center = np.array([200, 200, 200])"
   ]
  },
  {
   "cell_type": "code",
   "execution_count": 17,
   "id": "2c26be7f-3a53-42c8-b93b-ab7624351d35",
   "metadata": {},
   "outputs": [],
   "source": [
    "r9 = {}\n",
    "r20 = {}\n",
    "for ptype in [0, 1, 2, 3]:\n",
    "    part = getattr(sn9, 'part'+str(ptype))\n",
    "    r9[ptype] = np.linalg.norm(part.pos - center, axis=1)\n",
    "    \n",
    "    part = getattr(sn20, 'part'+str(ptype))\n",
    "    r20[ptype] = np.linalg.norm(part.pos - center, axis=1)"
   ]
  },
  {
   "cell_type": "code",
   "execution_count": 25,
   "id": "cb8cb1f9-6aea-472d-97e8-f666e2cd82cf",
   "metadata": {},
   "outputs": [],
   "source": [
    "M9 = {}\n",
    "M20 = {}\n",
    "for ptype in [0, 1, 2, 3]:\n",
    "    if ptype==0:\n",
    "        is_CGM = sn9.part0.GFM_Metallicity < 0.1\n",
    "        is_disk = np.logical_not(is_CGM)\n",
    "        in_R200 = r9[ptype] < R200\n",
    "        \n",
    "        M9[ptype] = np.sum(sn9.part0.mass[np.logical_and(is_disk, in_R200)])\n",
    "        M9[5] = np.sum(sn9.part0.mass[np.logical_and(is_CGM, in_R200)])\n",
    "        \n",
    "        is_CGM = sn20.part0.GFM_Metallicity < 0.1\n",
    "        is_disk = np.logical_not(is_CGM)\n",
    "        in_R200 = r20[ptype] < R200\n",
    "        \n",
    "        M20[ptype] = np.sum(sn20.part0.mass[np.logical_and(is_disk, in_R200)])\n",
    "        M20[5] = np.sum(sn20.part0.mass[np.logical_and(is_CGM, in_R200)])\n",
    "        \n",
    "    else:\n",
    "        M9[ptype] = sn9.MassTable[ptype] * len(np.where(r9[ptype] < R200)[0])\n",
    "        M20[ptype] = sn20.MassTable[ptype] * len(np.where(r20[ptype] < R200)[0])\n",
    "    "
   ]
  },
  {
   "cell_type": "code",
   "execution_count": 26,
   "id": "b2a1a919-1e22-49c2-88eb-06834958bf5f",
   "metadata": {},
   "outputs": [
    {
     "name": "stdout",
     "output_type": "stream",
     "text": [
      "{0: 0.14974424, 5: 1.1315107, 1: 20.80121724553969, 2: 0.5989770193023859, 3: 0.7950672396517584}\n",
      "{0: 0.14974424, 5: 1.0002873, 1: 20.80121724553969, 2: 0.5989770193023859, 3: 0.7950619852579097}\n"
     ]
    }
   ],
   "source": [
    "print(M9)\n",
    "print(M20)"
   ]
  },
  {
   "cell_type": "code",
   "execution_count": 30,
   "id": "954f900e-6190-4920-bca2-9d398dcd1591",
   "metadata": {},
   "outputs": [
    {
     "name": "stdout",
     "output_type": "stream",
     "text": [
      "0.0042910967\n",
      "0.00090022996\n"
     ]
    }
   ],
   "source": [
    "is_CGM = sn9.part0.GFM_Metallicity < 0.1\n",
    "is_disk = np.logical_not(is_CGM)\n",
    "in_R200 = r9[0] < 5\n",
    "        \n",
    "# M9[ptype] = np.sum(sn9.part0.mass[np.logical_and(is_disk, in_R200)])\n",
    "print(np.sum(sn9.part0.mass[np.logical_and(is_CGM, in_R200)]))\n",
    "        \n",
    "is_CGM = sn20.part0.GFM_Metallicity < 0.1\n",
    "is_disk = np.logical_not(is_CGM)\n",
    "in_R200 = r20[0] < 5\n",
    "        \n",
    "# M20[ptype] = np.sum(sn20.part0.mass[np.logical_and(is_disk, in_R200)])\n",
    "print(np.sum(sn20.part0.mass[np.logical_and(is_CGM, in_R200)]))"
   ]
  },
  {
   "cell_type": "code",
   "execution_count": 31,
   "id": "b010dd49-3891-4386-9d4b-d780840f56e4",
   "metadata": {},
   "outputs": [],
   "source": [
    "def get_CGM_dens_profile(sn, center=np.array([200, 200, 200])):\n",
    "    is_CGM = sn.part0.GFM_Metallicity < 0.1\n",
    "    r = np.linalg.norm(sn.part0.pos-center, axis=1)\n",
    "    \n",
    "    rmin = 0\n",
    "    dr = 1\n",
    "    rmax = 200\n",
    "    \n",
    "    rho = []\n",
    "    aver = []\n",
    "    \n",
    "    while rmin < rmax:\n",
    "        in_shell = np.logical_and(r > rmin, r < rmin + dr)\n",
    "        key = np.logical_and(in_shell, is_CGM)\n",
    "        Menc = np.sum(sn.part0.mass[key])\n",
    "        vol = (4 * np.pi/3.) * ((rmin+dr)**3 - rmin**3)\n",
    "        \n",
    "        rho.append(Menc/vol)\n",
    "        aver.append(np.mean(r[key]))\n",
    "        \n",
    "        rmin += dr\n",
    "    \n",
    "    return aver, rho\n",
    "    "
   ]
  },
  {
   "cell_type": "code",
   "execution_count": 32,
   "id": "43fa685d-15e8-4fba-a4e4-d4f89d93b809",
   "metadata": {},
   "outputs": [],
   "source": [
    "aver9, rho9 = get_CGM_dens_profile(sn9)\n",
    "aver20, rho20 = get_CGM_dens_profile(sn20)"
   ]
  },
  {
   "cell_type": "code",
   "execution_count": 37,
   "id": "0250421a-ffd3-4beb-acf2-ca1271373b00",
   "metadata": {},
   "outputs": [
    {
     "data": {
      "image/png": "[encoded data removed]",
      "text/plain": [
       "<Figure size 640x480 with 1 Axes>"
      ]
     },
     "metadata": {},
     "output_type": "display_data"
    }
   ],
   "source": [
    "plt.plot(aver9, rho9)\n",
    "plt.plot(aver20, rho20)\n",
    "plt.yscale('log')"
   ]
  },
  {
   "cell_type": "code",
   "execution_count": 47,
   "id": "8f50f785-5464-4dba-abbf-132c2452e15c",
   "metadata": {},
   "outputs": [],
   "source": [
    "def accretion_rate(sn, r0, dr, COM, COMV):\n",
    "    \n",
    "    pos = sn.part0.pos.value - COM\n",
    "    vel = sn.part0.vel.value - COMV\n",
    "    mass = sn.part0.mass.value\n",
    "    \n",
    "    r = np.linalg.norm(pos, axis=1)\n",
    "    R = np.linalg.norm(pos[:,:2], axis=1)\n",
    "    cphi = pos[:,0]/R\n",
    "    sphi = pos[:,1]/R\n",
    "    ctheta = pos[:,2]/r\n",
    "    stheta = np.sqrt(1 - ctheta**2)\n",
    "    \n",
    "    vr = stheta * cphi * vel[:,0] + stheta * sphi * vel[:,1] + ctheta * vel[:,2]\n",
    "    \n",
    "    key = np.logical_and(r > r0 - dr/2., r < r0 + dr/2.)\n",
    "    keyin = np.logical_and(key, vr < 0)\n",
    "    keyout = np.logical_and(key, vr > 0)\n",
    "    \n",
    "    Mdotin = np.sum(mass[keyin] * vr[keyin]) / dr\n",
    "    Mdotout = np.sum(mass[keyout] * vr[keyout]) / dr\n",
    "    \n",
    "    Time = sn.Time.value\n",
    "    \n",
    "    return Time, Mdotin, Mdotout"
   ]
  },
  {
   "cell_type": "code",
   "execution_count": 46,
   "id": "482468f6-b50d-4d38-acf6-bf83c9e4035e",
   "metadata": {},
   "outputs": [
    {
     "name": "stderr",
     "output_type": "stream",
     "text": [
      "100%|██████████| 13/13 [00:35<00:00,  2.74s/it]\n"
     ]
    }
   ],
   "source": [
    "sn9 = {}\n",
    "sn20 = {}\n",
    "num_list = [0, 25, 50, 75, 100, 125, 150, 175, 200, 225, 250, 275, 300]\n",
    "for num in tqdm(num_list):\n",
    "    try:\n",
    "        sn9[num] = arepo.Snapshot(basepath + 'runs/MW4iso_fg0.2_MHG0.25_RC9/lvl4/output', num, parttype=0,\n",
    "                                 fields = ['Coordinates', 'Velocities', 'Masses'],\n",
    "                                 combineFiles=True)\n",
    "    except:\n",
    "        pass\n",
    "    \n",
    "    try:\n",
    "        sn20[num] = arepo.Snapshot(basepath + 'runs/MW4iso_fg0.2_MHG0.25_RC20/lvl4/output', num, parttype=0,\n",
    "                                 fields = ['Coordinates', 'Velocities', 'Masses'],\n",
    "                                    combineFiles=True)\n",
    "    except:\n",
    "        pass"
   ]
  },
  {
   "cell_type": "code",
   "execution_count": 51,
   "id": "9bffe690-34ea-4694-9fbc-dd106bf2978b",
   "metadata": {},
   "outputs": [
    {
     "name": "stderr",
     "output_type": "stream",
     "text": [
      "/tmp/ipykernel_1142357/2771986783.py:9: RuntimeWarning: invalid value encountered in divide\n",
      "  cphi = pos[:,0]/R\n",
      "/tmp/ipykernel_1142357/2771986783.py:10: RuntimeWarning: invalid value encountered in divide\n",
      "  sphi = pos[:,1]/R\n",
      "/tmp/ipykernel_1142357/2771986783.py:11: RuntimeWarning: invalid value encountered in divide\n",
      "  ctheta = pos[:,2]/r\n"
     ]
    }
   ],
   "source": [
    "Mdotin = {}\n",
    "Mdotout = {}\n",
    "Time = {}\n",
    "\n",
    "Mdotin[9] = []\n",
    "Mdotout[9] = []\n",
    "Time[9] = []\n",
    "\n",
    "Mdotin[20] = []\n",
    "Mdotout[20] = []\n",
    "Time[20] = []\n",
    "\n",
    "center = np.array([200, 200, 200])\n",
    "r0 = 20\n",
    "dr = 2\n",
    "\n",
    "for num in num_list:\n",
    "    if num in sn9.keys():\n",
    "        Time_, Mdotin_, Mdotout_ = accretion_rate(sn9[num], r0, dr, center, np.array([0, 0, 0]))\n",
    "        Mdotin[9].append(Mdotin_)\n",
    "        Mdotout[9].append(Mdotout_)\n",
    "        Time[9].append(Time_)\n",
    "        \n",
    "    if num in sn20.keys():\n",
    "        Time_, Mdotin_, Mdotout_ = accretion_rate(sn20[num], r0, dr, center, np.array([0, 0, 0]))\n",
    "        Mdotin[20].append(Mdotin_)\n",
    "        Mdotout[20].append(Mdotout_)\n",
    "        Time[20].append(Time_)"
   ]
  },
  {
   "cell_type": "code",
   "execution_count": 57,
   "id": "64ea4f3c-1a44-4f98-97bf-b37f682f9e84",
   "metadata": {},
   "outputs": [
    {
     "data": {
      "text/plain": [
       "[<matplotlib.lines.Line2D at 0x14706f34a530>]"
      ]
     },
     "execution_count": 57,
     "metadata": {},
     "output_type": "execute_result"
    },
    {
     "data": {
      "image/png": "[encoded data removed]",
      "text/plain": [
       "<Figure size 640x480 with 1 Axes>"
      ]
     },
     "metadata": {},
     "output_type": "display_data"
    }
   ],
   "source": [
    "plt.plot(Time[9], Mdotin[9])\n",
    "plt.plot(Time[20], Mdotin[20])"
   ]
  },
  {
   "cell_type": "code",
   "execution_count": null,
   "id": "f502728d-36ad-471c-9c85-a27d0e28c984",
   "metadata": {},
   "outputs": [],
   "source": []
  }
 ],
 "metadata": {
  "kernelspec": {
   "display_name": "Python [conda env:.conda-note]",
   "language": "python",
   "name": "conda-env-.conda-note-py"
  },
  "language_info": {
   "codemirror_mode": {
    "name": "ipython",
    "version": 3
   },
   "file_extension": ".py",
   "mimetype": "text/x-python",
   "name": "python",
   "nbconvert_exporter": "python",
   "pygments_lexer": "ipython3",
   "version": "3.10.12"
  }
 },
 "nbformat": 4,
 "nbformat_minor": 5
}
