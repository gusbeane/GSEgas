{
 "cells": [
  {
   "cell_type": "code",
   "execution_count": 1,
   "id": "983cfdc9-23e6-492c-933b-38387a812e3a",
   "metadata": {},
   "outputs": [],
   "source": [
    "import numpy as np"
   ]
  },
  {
   "cell_type": "code",
   "execution_count": 3,
   "id": "b191151f-2ffd-4086-813b-b50a3438cd76",
   "metadata": {},
   "outputs": [],
   "source": [
    "def get_time(time, redshift=False, \n",
    "             Omega0=0.3089, \n",
    "             OmegaLambda=0.6911,\n",
    "             HubbleParam=0.6774):\n",
    "    HUBBLE = 3.2407789e-18\n",
    "    SEC_PER_MEGAYEAR = 3.15576e13\n",
    "    \n",
    "    if redshift:\n",
    "        a = 1./(1.+time)\n",
    "    else:\n",
    "        a = time\n",
    "    \n",
    "    fac = 2. / (3. * np.sqrt(OmegaLambda))\n",
    "    ans = fac * np.arcsinh(np.sqrt(a**3 * OmegaLambda/Omega0))\n",
    "\n",
    "    ans /= HUBBLE * HubbleParam\n",
    "    ans /= SEC_PER_MEGAYEAR * 1000\n",
    "    \n",
    "    return ans\n",
    "\n",
    "def get_scale_factor(time, Omega0=0.3089, OmegaLambda=0.6911, HubbleParam=0.6774):\n",
    "    HUBBLE = 3.2407789e-18\n",
    "    SEC_PER_MEGAYEAR = 3.15576e13\n",
    "    \n",
    "    ans = time * (HUBBLE * HubbleParam) * (SEC_PER_MEGAYEAR * 1000)\n",
    "    \n",
    "    fac = 2. / (3. * np.sqrt(OmegaLambda))\n",
    "    ans /= fac\n",
    "    \n",
    "    ans = np.sinh(ans)\n",
    "    ans = ans**2 * Omega0/OmegaLambda\n",
    "    ans = ans**(1./3.)\n",
    "    \n",
    "    return ans"
   ]
  },
  {
   "cell_type": "code",
   "execution_count": 10,
   "id": "6715d094-6795-465f-9ed6-a7c16de9902b",
   "metadata": {},
   "outputs": [
    {
     "name": "stdout",
     "output_type": "stream",
     "text": [
      "13.80271998548524\n"
     ]
    }
   ],
   "source": [
    "a0 = 1.0\n",
    "t0 = get_time(a0)\n",
    "print(t0)"
   ]
  },
  {
   "cell_type": "code",
   "execution_count": 13,
   "id": "b42e7317-206e-48b3-8617-3110ebc6df1c",
   "metadata": {},
   "outputs": [],
   "source": []
  },
  {
   "cell_type": "code",
   "execution_count": 52,
   "id": "e65097ac-52be-4321-8470-f269915bd85c",
   "metadata": {},
   "outputs": [
    {
     "name": "stdout",
     "output_type": "stream",
     "text": [
      "low time res starts at t= 1.7927199854854912 z= 3.5230982727042655\n"
     ]
    }
   ],
   "source": [
    "a0 = 1.0\n",
    "t0 = get_time(a0)\n",
    "\n",
    "snap_time = [a0]\n",
    "snap_full = [1]\n",
    "\n",
    "dt = 0.01\n",
    "Nfull = 20\n",
    "N = Nfull - 1\n",
    "t = t0\n",
    "while t > t0 - 12:\n",
    "    t -= dt\n",
    "    snap_time.append(get_scale_factor(t))\n",
    "    if N == 0:\n",
    "        snap_full.append(1)\n",
    "        N = Nfull - 1\n",
    "    else:\n",
    "        snap_full.append(3)\n",
    "        N -= 1\n",
    "\n",
    "print('low time res starts at t=', t, 'z=', 1./get_scale_factor(t)-1)\n",
    "        \n",
    "dt_early = 0.1\n",
    "Nfull = 5\n",
    "N = 0\n",
    "\n",
    "ai = 0.0078125\n",
    "ti = get_time(ai)\n",
    "\n",
    "t -= dt_early\n",
    "\n",
    "while t > ti:\n",
    "    snap_time.append(get_scale_factor(t))\n",
    "    if N == 0:\n",
    "        snap_full.append(1)\n",
    "        N = Nfull - 1\n",
    "    else:\n",
    "        snap_full.append(3)\n",
    "        N -= 1\n",
    "    t -= dt_early\n",
    "\n",
    "snap_time.append(ai)\n",
    "snap_full.append(1)"
   ]
  },
  {
   "cell_type": "code",
   "execution_count": 63,
   "id": "b159c1ff-a9dd-4e45-8a27-9ebebc690c40",
   "metadata": {},
   "outputs": [],
   "source": [
    "out_arr = np.column_stack((snap_time, snap_full))\n",
    "np.savetxt('tmp.txt', out_arr, fmt='%.16f %d')"
   ]
  },
  {
   "cell_type": "code",
   "execution_count": 54,
   "id": "21710cbc-5603-411c-8021-1e30027199e7",
   "metadata": {},
   "outputs": [
    {
     "name": "stdout",
     "output_type": "stream",
     "text": [
      "[  1.71445157   1.71939087   1.72435134   1.72933313   1.7343364\n",
      "   1.73936129   1.74440796   1.74947657   1.75456727   1.75968022\n",
      "   1.76481559   1.76997353   1.77515421   1.78035779   1.78558445\n",
      "   1.79083435   1.79610765   1.80140454   1.80672519   1.81206977\n",
      "   1.81743846   1.82283144   1.82824889   1.83369099   1.83915793\n",
      "   1.8446499    1.85016708   1.85570967   1.86127785   1.86687182\n",
      "   1.87249178   1.87813793   1.88381047   1.8895096    1.89523552\n",
      "   1.90098845   1.90676859   1.91257615   1.91841136   1.92427442\n",
      "   1.93016555   1.93608498   1.94203293   1.94800962   1.95401528\n",
      "   1.96005015   1.96611445   1.97220842   1.97833231   1.98448635\n",
      "   1.99067078   1.99688586   2.00313183   2.00940894   2.01571745\n",
      "   2.02205762   2.0284297    2.03483397   2.04127069   2.04774012\n",
      "   2.05424254   2.06077823   2.06734746   2.07395052   2.0805877\n",
      "   2.08725928   2.09396555   2.10070681   2.10748336   2.11429551\n",
      "   2.12114355   2.1280278    2.13494858   2.14190619   2.14890096\n",
      "   2.15593322   2.1630033    2.17011152   2.17725823   2.18444376\n",
      "   2.19166847   2.19893269   2.20623679   2.21358112   2.22096605\n",
      "   2.22839194   2.23585916   2.24336809   2.25091912   2.25851262\n",
      "   2.26614898   2.27382861   2.28155191   2.28931927   2.29713112\n",
      "   2.30498786   2.31288992   2.32083772   2.3288317    2.3368723\n",
      "   2.34495996   2.35309513   2.36127826   2.36950983   2.37779028\n",
      "   2.38612011   2.39449979   2.4029298    2.41141065   2.41994282\n",
      "   2.42852684   2.4371632    2.44585244   2.45459508   2.46339165\n",
      "   2.4722427    2.48114878   2.49011045   2.49912826   2.50820281\n",
      "   2.51733466   2.5265244    2.53577265   2.54507999   2.55444705\n",
      "   2.56387445   2.57336283   2.58291283   2.5925251    2.60220029\n",
      "   2.61193909   2.62174217   2.63161022   2.64154395   2.65154407\n",
      "   2.66161129   2.67174635   2.68195      2.692223     2.70256609\n",
      "   2.71298008   2.72346574   2.73402388   2.74465532   2.75536088\n",
      "   2.7661414    2.77699774   2.78793076   2.79894134   2.81003039\n",
      "   2.8211988    2.8324475    2.84377744   2.85518956   2.86668483\n",
      "   2.87826424   2.88992878   2.90167948   2.91351737   2.92544351\n",
      "   2.93745895   2.94956478   2.96176212   2.97405208   2.9864358\n",
      "   2.99891446   3.01148922   3.02416129   3.0369319    3.04980229\n",
      "   3.06277372   3.07584749   3.08902489   3.10230727   3.11569599\n",
      "   3.12919242   3.14279797   3.15651407   3.17034219   3.1842838\n",
      "   3.19834041   3.21251358   3.22680485   3.24121583   3.25574816\n",
      "   3.27040347   3.28518346   3.30008986   3.31512441   3.33028891\n",
      "   3.34558516   3.36101504   3.37658043   3.39228325   3.40812549\n",
      "   3.42410914   3.44023625   3.45650891   3.47292925   3.48949944\n",
      "   3.50622169   3.52309827   3.70088451   3.89697858   4.11461849\n",
      "   4.35788528   4.6320037    4.94378396   5.3022894    5.7198795\n",
      "   6.21390404   6.80958587   7.54521273   8.48217412   9.72621767\n",
      "  11.47833403  14.17988131  19.05870716  31.66997613 127.        ]\n"
     ]
    }
   ],
   "source": [
    "snap_time = np.array(snap_time)\n",
    "z = 1./snap_time - 1.\n",
    "print(z[1000:])"
   ]
  },
  {
   "cell_type": "code",
   "execution_count": null,
   "id": "c21dc5f0-7226-4e6b-a14a-c82a6851385a",
   "metadata": {},
   "outputs": [],
   "source": []
  }
 ],
 "metadata": {
  "kernelspec": {
   "display_name": "Python [conda env:.conda-note]",
   "language": "python",
   "name": "conda-env-.conda-note-py"
  },
  "language_info": {
   "codemirror_mode": {
    "name": "ipython",
    "version": 3
   },
   "file_extension": ".py",
   "mimetype": "text/x-python",
   "name": "python",
   "nbconvert_exporter": "python",
   "pygments_lexer": "ipython3",
   "version": "3.10.12"
  }
 },
 "nbformat": 4,
 "nbformat_minor": 5
}
