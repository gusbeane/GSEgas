{
 "cells": [
  {
   "cell_type": "code",
   "execution_count": 1,
   "id": "fcdc1e17-be83-47a2-8f5c-aafbd07156d7",
   "metadata": {},
   "outputs": [],
   "source": [
    "import numpy as np\n",
    "import arepo\n",
    "import matplotlib.pyplot as plt\n",
    "from scipy.signal import savgol_filter\n",
    "from tqdm import tqdm\n",
    "import matplotlib as mpl\n",
    "from scipy.stats import binned_statistic_2d, binned_statistic\n",
    "from numba import njit\n",
    "import h5py as h5\n",
    "\n",
    "import astropy.units as u\n",
    "\n",
    "from joblib import Parallel, delayed"
   ]
  },
  {
   "cell_type": "code",
   "execution_count": 21,
   "id": "3b327d3c-fd7d-4ae5-a84e-6adf3966fc7a",
   "metadata": {},
   "outputs": [],
   "source": [
    "import illustris_python as il\n",
    "TNGbase = '/n/holylfs05/LABS/hernquist_lab/IllustrisTNG/Runs/L35n2160TNG/output/'\n",
    "\n",
    "basepath = '/n/holylfs05/LABS/hernquist_lab/Users/abeane/GSEgas/'"
   ]
  },
  {
   "cell_type": "code",
   "execution_count": 13,
   "id": "249ab22c-d0bc-4588-b43f-d2ccac891d6d",
   "metadata": {},
   "outputs": [],
   "source": [
    "GFM_SOLAR_METALLICITY = 0.0127\n",
    "\n",
    "GFM_SOLAR_ABUNDANCE_HYDROGEN = 0.7388\n",
    "GFM_SOLAR_ABUNDANCE_HELIUM  =  (1.-GFM_SOLAR_ABUNDANCE_HYDROGEN -GFM_SOLAR_METALLICITY)\n",
    "GFM_SOLAR_ABUNDANCE_CARBON  =  0.0024\n",
    "GFM_SOLAR_ABUNDANCE_NITROGEN =  0.0007\n",
    "GFM_SOLAR_ABUNDANCE_OXYGEN  =  0.0057\n",
    "GFM_SOLAR_ABUNDANCE_NEON    =  0.0012\n",
    "GFM_SOLAR_ABUNDANCE_MAGNESIUM = 0.0007\n",
    "GFM_SOLAR_ABUNDANCE_SILICON =  0.0007\n",
    "GFM_SOLAR_ABUNDANCE_IRON   =   0.0013\n",
    "GFM_SOLAR_ABUNDANCE_OTHER  =   0\n",
    "\n",
    "HUBBLE = 3.2407789e-18\n",
    "SEC_PER_MEGAYEAR = 3.15576e13"
   ]
  },
  {
   "cell_type": "code",
   "execution_count": 3,
   "id": "0c96b3b3-87a4-47d5-96e0-a5fe12ad360d",
   "metadata": {},
   "outputs": [],
   "source": [
    "def get_time(time, redshift=False, \n",
    "             Omega0=0.3089, \n",
    "             OmegaLambda=0.6911,\n",
    "             HubbleParam=0.6774):\n",
    "    HUBBLE = 3.2407789e-18\n",
    "    SEC_PER_MEGAYEAR = 3.15576e13\n",
    "    \n",
    "    if redshift:\n",
    "        a = 1./(1.+time)\n",
    "    else:\n",
    "        a = time\n",
    "    \n",
    "    fac = 2. / (3. * np.sqrt(OmegaLambda))\n",
    "    ans = fac * np.arcsinh(np.sqrt(a**3 * OmegaLambda/Omega0))\n",
    "\n",
    "    ans /= HUBBLE * HubbleParam\n",
    "    ans /= SEC_PER_MEGAYEAR * 1000\n",
    "    \n",
    "    return ans"
   ]
  },
  {
   "cell_type": "code",
   "execution_count": 7,
   "id": "82122fe4-6703-4fd3-b5bb-92993f398f61",
   "metadata": {},
   "outputs": [],
   "source": [
    "@njit\n",
    "def rodrigues_formula(k, v, theta):\n",
    "    N = v.shape[0]\n",
    "    v_rot = np.zeros(np.shape(v))\n",
    "    \n",
    "    ctheta = np.cos(theta)\n",
    "    stheta = np.sin(theta)\n",
    "    \n",
    "    for i in range(N):\n",
    "        v_rot[i] = v[i] * ctheta + np.cross(k, v[i]) * stheta + k * (np.dot(k, v[i])) * (1-ctheta)\n",
    "    \n",
    "    return v_rot"
   ]
  },
  {
   "cell_type": "code",
   "execution_count": 8,
   "id": "339fd050-9944-4fc5-b165-b89aa424286c",
   "metadata": {},
   "outputs": [],
   "source": [
    "def get_rot_pos_vel(snap, subhalo, ptype=4, rhalf_fac=2, phys=True):\n",
    "    # get COM, COMV, and ang mom of stars\n",
    "    COM = subhalo['SubhaloPos']\n",
    "    pos = snap[4]['Coordinates'] - COM\n",
    "    r = np.linalg.norm(pos, axis=1)\n",
    "    \n",
    "    rhalf = subhalo['SubhaloHalfmassRadType'][4]\n",
    "    print(rhalf)\n",
    "\n",
    "    in_rhalf = r < 2 * rhalf\n",
    "    is_star = snap[4]['GFM_StellarFormationTime'] > 0\n",
    "    is_star_in_rhalf = np.logical_and(is_star, in_rhalf)\n",
    "    \n",
    "    vel_in_rhalf = snap[4]['Velocities'][is_star_in_rhalf]\n",
    "    mass_in_rhalf = snap[4]['Masses'][is_star_in_rhalf]\n",
    "    COMV = np.average(vel_in_rhalf, axis=0, weights=mass_in_rhalf)\n",
    "    print(COMV)\n",
    "    \n",
    "    vel = snap[4]['Velocities'] - COMV\n",
    "    \n",
    "    ang = np.cross(pos[is_star_in_rhalf], vel[is_star_in_rhalf])\n",
    "    ang *= mass_in_rhalf.reshape(-1, 1)\n",
    "    ang = np.sum(ang, axis=0)\n",
    "    \n",
    "    ang_mom = ang\n",
    "\n",
    "    angmom_dir = ang_mom/np.linalg.norm(ang_mom)\n",
    "    print(angmom_dir)\n",
    "    theta = np.arccos(np.dot(angmom_dir, np.array([0, 0, 1])))\n",
    "    k = np.cross(ang_mom, np.array([0, 0, 1.]))\n",
    "    k /= np.linalg.norm(k)\n",
    "\n",
    "    pos = snap[ptype]['Coordinates'] - COM\n",
    "    vel = snap[ptype]['Velocities'] - COMV\n",
    "    mass = snap[ptype]['Masses']\n",
    "    \n",
    "    pos_rot = rodrigues_formula(k, pos.astype(np.float64), theta)\n",
    "    vel_rot = rodrigues_formula(k, vel.astype(np.float64), theta)\n",
    "    \n",
    "    return pos_rot, vel_rot, mass"
   ]
  },
  {
   "cell_type": "code",
   "execution_count": 11,
   "id": "00d06a1f-e0fc-4a73-8091-4784370e6f25",
   "metadata": {},
   "outputs": [],
   "source": [
    "meta = {}\n",
    "meta['snap_list'] = np.arange(100)\n",
    "meta['header'] = []\n",
    "meta['redshift'] = []\n",
    "meta['scale_factor'] = []\n",
    "meta['time'] = []\n",
    "meta['time_lookback'] = []\n",
    "\n",
    "t0 = get_time(1.)\n",
    "\n",
    "for i in meta['snap_list']:\n",
    "    header = arepo.Snapshot(TNGbase, i, onlyHeader=True)\n",
    "    \n",
    "    meta['header'].append(header)\n",
    "    meta['redshift'].append(header.Redshift)\n",
    "    meta['scale_factor'].append(header.Time)\n",
    "    meta['time'].append(get_time(header.Time))\n",
    "    meta['time_lookback'].append(t0 - get_time(header.Time))\n",
    "\n",
    "meta['redshift'] = np.array(meta['redshift'])\n",
    "meta['scale_factor'] = np.array(meta['scale_factor'])\n",
    "meta['time'] = np.array(meta['time'])\n",
    "meta['time_lookback'] = np.array(meta['time_lookback'])"
   ]
  },
  {
   "cell_type": "code",
   "execution_count": 9,
   "id": "61a3c16d-3b34-433a-9830-6dda4072c04d",
   "metadata": {},
   "outputs": [],
   "source": [
    "subID = 523889\n",
    "\n",
    "subhalo = il.groupcat.loadSingle(TNGbase, 99, subhaloID=subID)"
   ]
  },
  {
   "cell_type": "code",
   "execution_count": 10,
   "id": "9d98859a-5dd6-4de7-b6fe-3c86e8df3f85",
   "metadata": {},
   "outputs": [],
   "source": [
    "snap = {}\n",
    "snap[4] = il.snapshot.loadSubhalo(TNGbase, 99, subID, 4)"
   ]
  },
  {
   "cell_type": "code",
   "execution_count": 16,
   "id": "5c78d1bb-6fbf-4e01-8c90-4b9a045c6d59",
   "metadata": {},
   "outputs": [
    {
     "name": "stdout",
     "output_type": "stream",
     "text": [
      "3.4344184\n",
      "[-198.0273  -127.60852  -84.05695]\n",
      "[ 0.36309068 -0.72906581  0.58019669]\n"
     ]
    }
   ],
   "source": [
    "pos, vel, mass = get_rot_pos_vel(snap, subhalo, rhalf_fac=1)\n",
    "\n",
    "pos *= meta['header'][99].Time/meta['header'][99].HubbleParam\n",
    "vel *= np.sqrt(meta['header'][99].Time)\n",
    "\n",
    "R = np.linalg.norm(pos[:,:2], axis=1)\n",
    "in_SN = np.logical_and(np.logical_and(R > 6, R < 10), np.abs(pos[:,2]) < 3)\n",
    "\n",
    "is_star = snap[4]['GFM_StellarFormationTime'] > 0\n",
    "is_star_in_SN = np.logical_and(is_star, in_SN)\n",
    "\n",
    "Z = snap[4]['GFM_Metallicity'] / GFM_SOLAR_METALLICITY\n",
    "logZ = np.log10(Z)\n",
    "\n",
    "FeH = snap[4]['GFM_Metals'][:,8] / GFM_SOLAR_ABUNDANCE_IRON\n",
    "logFeH = np.log10(FeH)\n",
    "\n",
    "MgH = snap[4]['GFM_Metals'][:,6] / GFM_SOLAR_ABUNDANCE_MAGNESIUM\n",
    "MgFe = MgH/FeH\n",
    "logMgFe = np.log10(MgFe)\n",
    "\n",
    "a_born = snap[4]['GFM_StellarFormationTime']\n",
    "t_born = get_time(a_born)"
   ]
  },
  {
   "cell_type": "code",
   "execution_count": 17,
   "id": "1a8c9e97-db47-48d8-9aa0-56fd7b161803",
   "metadata": {},
   "outputs": [
    {
     "name": "stdout",
     "output_type": "stream",
     "text": [
      "532\n",
      "576\n"
     ]
    }
   ],
   "source": [
    "t0 = meta['time'][48]-0.1\n",
    "t1 = meta['time'][48]+0.1\n",
    "high_time = np.logical_and(t_born > t0, t_born < t1)\n",
    "high_Fe = np.logical_and(logFeH > -0.25, logFeH < 0.0)\n",
    "key_high = np.logical_and(np.logical_and(is_star_in_SN, high_time), high_Fe)\n",
    "\n",
    "t0 = meta['time'][50]-0.1\n",
    "t1 = meta['time'][50]+0.1\n",
    "low_time = np.logical_and(t_born > t0, t_born < t1)\n",
    "low_Fe = np.logical_and(logFeH > -1, logFeH < -0.5)\n",
    "key_low = np.logical_and(np.logical_and(is_star_in_SN, low_time), low_Fe)\n",
    "\n",
    "print(len(np.where(key_high)[0]))\n",
    "print(len(np.where(key_low)[0]))"
   ]
  },
  {
   "cell_type": "code",
   "execution_count": 32,
   "id": "a03a008c-003a-461f-b3da-538ab100f822",
   "metadata": {},
   "outputs": [],
   "source": [
    "t = h5.File(basepath+'anlysTNG/tracer/subhalo'+str(subID)+'/props_subhalo'+str(subID)+'.h5', mode='r')"
   ]
  },
  {
   "cell_type": "code",
   "execution_count": 33,
   "id": "12a678d5-6aa4-4daf-b52b-c17e248de41a",
   "metadata": {},
   "outputs": [],
   "source": [
    "ParticleIDs_h = snap[4]['ParticleIDs'][key_high]\n",
    "ParticleIDs_l = snap[4]['ParticleIDs'][key_low]\n",
    "\n",
    "key_h = np.argwhere(np.isin(t['ParticleIDs'][99,:], ParticleIDs_h)).ravel()\n",
    "key_l = np.argwhere(np.isin(t['ParticleIDs'][99,:], ParticleIDs_l)).ravel()"
   ]
  },
  {
   "cell_type": "code",
   "execution_count": 55,
   "id": "3dc91e61-de0e-4546-9f84-b6f3a47de458",
   "metadata": {},
   "outputs": [
    {
     "name": "stdout",
     "output_type": "stream",
     "text": [
      "3.1289319094911066\n",
      "0.9835488991780372\n"
     ]
    }
   ],
   "source": [
    "print(meta['time'][32])\n",
    "print(meta['time'][32] - meta['time'][25])"
   ]
  },
  {
   "cell_type": "code",
   "execution_count": 45,
   "id": "8f1829cd-b00c-41b5-a4fb-9c517dbec4ad",
   "metadata": {},
   "outputs": [],
   "source": [
    "treeMPB = il.sublink.loadTree(TNGbase, 99, subID, onlyMPB=True)"
   ]
  },
  {
   "cell_type": "code",
   "execution_count": 73,
   "id": "d5ea52c6-9005-49ba-8d54-4377eb2e5e10",
   "metadata": {},
   "outputs": [],
   "source": [
    "pos = treeMPB['GroupPos'][treeMPB['SnapNum'] == 25]\n",
    "tracer_pos_h = t['Coordinates'][25,key_h] - pos\n",
    "tracer_h = np.linalg.norm(tracer_pos_h, axis=1)\n",
    "\n",
    "tracer_pos_l = t['Coordinates'][25,key_l] - pos\n",
    "tracer_l = np.linalg.norm(tracer_pos_l, axis=1)"
   ]
  },
  {
   "cell_type": "code",
   "execution_count": 74,
   "id": "d6cfe258-8000-48c1-82dc-60edbbfc633c",
   "metadata": {},
   "outputs": [
    {
     "data": {
      "image/png": "[encoded data removed]",
      "text/plain": [
       "<Figure size 640x480 with 1 Axes>"
      ]
     },
     "metadata": {},
     "output_type": "display_data"
    }
   ],
   "source": [
    "plt.hist(tracer_r, bins=np.linspace(0, 1000, 50), histtype='step', density=True);\n",
    "plt.hist(tracer_l, bins=np.linspace(0, 1000, 50), histtype='step', density=True);"
   ]
  },
  {
   "cell_type": "code",
   "execution_count": 72,
   "id": "2bead5a3-c53e-4488-a17e-99d5ae0c8805",
   "metadata": {},
   "outputs": [
    {
     "data": {
      "text/plain": [
       "<matplotlib.collections.PathCollection at 0x1512a9040970>"
      ]
     },
     "execution_count": 72,
     "metadata": {},
     "output_type": "execute_result"
    },
    {
     "data": {
      "image/png": "[encoded data removed]",
      "text/plain": [
       "<Figure size 640x480 with 1 Axes>"
      ]
     },
     "metadata": {},
     "output_type": "display_data"
    }
   ],
   "source": [
    "plt.scatter(tracer_pos_l[:,0], tracer_pos_l[:,1], s=1)"
   ]
  },
  {
   "cell_type": "code",
   "execution_count": 76,
   "id": "5390ed19-a366-4b60-8701-73f61805ef38",
   "metadata": {},
   "outputs": [
    {
     "data": {
      "text/plain": [
       "184892"
      ]
     },
     "execution_count": 76,
     "metadata": {},
     "output_type": "execute_result"
    }
   ],
   "source": [
    "key_l[np.argmax(tracer_l)]"
   ]
  },
  {
   "cell_type": "code",
   "execution_count": 77,
   "id": "1f0300bc-5a88-4616-8ea3-0ff851697d1d",
   "metadata": {},
   "outputs": [
    {
     "data": {
      "text/plain": [
       "array([32355.05661959, 34675.55303717,  8219.15230865])"
      ]
     },
     "execution_count": 77,
     "metadata": {},
     "output_type": "execute_result"
    }
   ],
   "source": [
    "t['Coordinates'][99,184892]"
   ]
  },
  {
   "cell_type": "code",
   "execution_count": null,
   "id": "42baac35-43f5-4f3b-9f62-c4973c60e930",
   "metadata": {},
   "outputs": [],
   "source": [
    "np.median(t['Coordinates'][99], axis=0"
   ]
  }
 ],
 "metadata": {
  "kernelspec": {
   "display_name": "Python [conda env:.conda-note]",
   "language": "python",
   "name": "conda-env-.conda-note-py"
  },
  "language_info": {
   "codemirror_mode": {
    "name": "ipython",
    "version": 3
   },
   "file_extension": ".py",
   "mimetype": "text/x-python",
   "name": "python",
   "nbconvert_exporter": "python",
   "pygments_lexer": "ipython3",
   "version": "3.10.12"
  }
 },
 "nbformat": 4,
 "nbformat_minor": 5
}
