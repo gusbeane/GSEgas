{
 "cells": [
  {
   "cell_type": "code",
   "execution_count": 1,
   "id": "2f6b97a1-d1b0-4fdd-8aa8-d69d6f504c9f",
   "metadata": {},
   "outputs": [],
   "source": [
    "import numpy as np\n",
    "import arepo\n",
    "import matplotlib.pyplot as plt\n",
    "from scipy.signal import savgol_filter\n",
    "from tqdm import tqdm\n",
    "import matplotlib as mpl\n",
    "from scipy.stats import binned_statistic_2d, binned_statistic\n",
    "from scipy.stats import multivariate_normal\n",
    "from numba import njit\n",
    "import h5py as h5\n",
    "\n",
    "import astropy.units as u\n",
    "\n",
    "from joblib import Parallel, delayed"
   ]
  },
  {
   "cell_type": "code",
   "execution_count": 2,
   "id": "e5fa4ff5-ad27-450d-800c-df1e308f5026",
   "metadata": {},
   "outputs": [],
   "source": [
    "import illustris_python as il\n",
    "TNGbase = '/n/holylfs05/LABS/hernquist_lab/IllustrisTNG/Runs/L35n2160TNG/output/'"
   ]
  },
  {
   "cell_type": "code",
   "execution_count": 3,
   "id": "102122a3-98b2-40da-9c88-cfb37a624cec",
   "metadata": {},
   "outputs": [],
   "source": [
    "subID = 523889"
   ]
  },
  {
   "cell_type": "code",
   "execution_count": 9,
   "id": "791a6154-238b-4de4-a46a-99c49d1b2808",
   "metadata": {},
   "outputs": [],
   "source": [
    "def get_time(time, redshift=False, \n",
    "             Omega0=0.3089, \n",
    "             OmegaLambda=0.6911,\n",
    "             HubbleParam=0.6774):\n",
    "    HUBBLE = 3.2407789e-18\n",
    "    SEC_PER_MEGAYEAR = 3.15576e13\n",
    "    \n",
    "    if redshift:\n",
    "        a = 1./(1.+time)\n",
    "    else:\n",
    "        a = time\n",
    "    \n",
    "    fac = 2. / (3. * np.sqrt(OmegaLambda))\n",
    "    ans = fac * np.arcsinh(np.sqrt(a**3 * OmegaLambda/Omega0))\n",
    "\n",
    "    ans /= HUBBLE * HubbleParam\n",
    "    ans /= SEC_PER_MEGAYEAR * 1000\n",
    "    \n",
    "    return ans\n",
    "\n",
    "meta = {}\n",
    "meta['snap_list'] = np.arange(100)\n",
    "meta['header'] = []\n",
    "meta['redshift'] = []\n",
    "meta['scale_factor'] = []\n",
    "meta['time'] = []\n",
    "meta['time_lookback'] = []\n",
    "\n",
    "t0 = get_time(1.)\n",
    "\n",
    "for i in meta['snap_list']:\n",
    "    header = arepo.Snapshot(TNGbase, i, onlyHeader=True)\n",
    "    \n",
    "    meta['header'].append(header)\n",
    "    meta['redshift'].append(header.Redshift)\n",
    "    meta['scale_factor'].append(header.Time)\n",
    "    meta['time'].append(get_time(header.Time))\n",
    "    meta['time_lookback'].append(t0 - get_time(header.Time))\n",
    "\n",
    "meta['redshift'] = np.array(meta['redshift'])\n",
    "meta['scale_factor'] = np.array(meta['scale_factor'])\n",
    "meta['time'] = np.array(meta['time'])\n",
    "meta['time_lookback'] = np.array(meta['time_lookback'])"
   ]
  },
  {
   "cell_type": "code",
   "execution_count": 5,
   "id": "51d10591-64c0-4c04-9d7d-8e41b890d2d7",
   "metadata": {},
   "outputs": [],
   "source": [
    "tree = il.sublink.loadTree(TNGbase, 99, subID, onlyMPB=True)"
   ]
  },
  {
   "cell_type": "code",
   "execution_count": 8,
   "id": "ba665301-b59a-43d5-994b-c77ef5565c99",
   "metadata": {},
   "outputs": [
    {
     "name": "stdout",
     "output_type": "stream",
     "text": [
      "count\n",
      "DescendantID\n",
      "FirstProgenitorID\n",
      "FirstSubhaloInFOFGroupID\n",
      "GroupBHMass\n",
      "GroupBHMdot\n",
      "GroupCM\n",
      "GroupFirstSub\n",
      "GroupGasMetalFractions\n",
      "GroupGasMetallicity\n",
      "GroupLen\n",
      "GroupLenType\n",
      "GroupMass\n",
      "GroupMassType\n",
      "GroupNsubs\n",
      "GroupPos\n",
      "GroupSFR\n",
      "GroupStarMetalFractions\n",
      "GroupStarMetallicity\n",
      "GroupVel\n",
      "GroupWindMass\n",
      "Group_M_Crit200\n",
      "Group_M_Crit500\n",
      "Group_M_Mean200\n",
      "Group_M_TopHat200\n",
      "Group_R_Crit200\n",
      "Group_R_Crit500\n",
      "Group_R_Mean200\n",
      "Group_R_TopHat200\n",
      "LastProgenitorID\n",
      "MainLeafProgenitorID\n",
      "Mass\n",
      "MassHistory\n",
      "NextProgenitorID\n",
      "NextSubhaloInFOFGroupID\n",
      "NumParticles\n",
      "RootDescendantID\n",
      "SnapNum\n",
      "SubfindID\n",
      "SubhaloBHMass\n",
      "SubhaloBHMdot\n",
      "SubhaloCM\n",
      "SubhaloGasMetalFractions\n",
      "SubhaloGasMetalFractionsHalfRad\n",
      "SubhaloGasMetalFractionsMaxRad\n",
      "SubhaloGasMetalFractionsSfr\n",
      "SubhaloGasMetalFractionsSfrWeighted\n",
      "SubhaloGasMetallicity\n",
      "SubhaloGasMetallicityHalfRad\n",
      "SubhaloGasMetallicityMaxRad\n",
      "SubhaloGasMetallicitySfr\n",
      "SubhaloGasMetallicitySfrWeighted\n",
      "SubhaloGrNr\n",
      "SubhaloHalfmassRad\n",
      "SubhaloHalfmassRadType\n",
      "SubhaloID\n",
      "SubhaloIDMostbound\n",
      "SubhaloIDRaw\n",
      "SubhaloLen\n",
      "SubhaloLenType\n",
      "SubhaloMass\n",
      "SubhaloMassInHalfRad\n",
      "SubhaloMassInHalfRadType\n",
      "SubhaloMassInMaxRad\n",
      "SubhaloMassInMaxRadType\n",
      "SubhaloMassInRad\n",
      "SubhaloMassInRadType\n",
      "SubhaloMassType\n",
      "SubhaloParent\n",
      "SubhaloPos\n",
      "SubhaloSFR\n",
      "SubhaloSFRinHalfRad\n",
      "SubhaloSFRinMaxRad\n",
      "SubhaloSFRinRad\n",
      "SubhaloSpin\n",
      "SubhaloStarMetalFractions\n",
      "SubhaloStarMetalFractionsHalfRad\n",
      "SubhaloStarMetalFractionsMaxRad\n",
      "SubhaloStarMetallicity\n",
      "SubhaloStarMetallicityHalfRad\n",
      "SubhaloStarMetallicityMaxRad\n",
      "SubhaloStellarPhotometrics\n",
      "SubhaloStellarPhotometricsMassInRad\n",
      "SubhaloStellarPhotometricsRad\n",
      "SubhaloVel\n",
      "SubhaloVelDisp\n",
      "SubhaloVmax\n",
      "SubhaloVmaxRad\n",
      "SubhaloWindMass\n",
      "TreeID\n"
     ]
    }
   ],
   "source": [
    "for k in tree.keys():\n",
    "    print(k)"
   ]
  },
  {
   "cell_type": "code",
   "execution_count": 12,
   "id": "7982f9c4-59b6-4957-9fa7-7d3283847927",
   "metadata": {},
   "outputs": [],
   "source": [
    "z = []\n",
    "time = []\n",
    "mass = []\n",
    "for snap in range(100):\n",
    "    if snap in tree['SnapNum']:\n",
    "        key = tree['SnapNum'] == snap\n",
    "        time.append(meta['time'][snap])\n",
    "        mass.append(tree['Group_M_Mean200'][key])\n",
    "        z.append(meta['redshift'][snap])"
   ]
  },
  {
   "cell_type": "code",
   "execution_count": 26,
   "id": "8cc4c743-f24f-44cd-aee1-3aa4737660cb",
   "metadata": {},
   "outputs": [
    {
     "data": {
      "text/plain": [
       "(0.0, 101.22474322728813)"
      ]
     },
     "execution_count": 26,
     "metadata": {},
     "output_type": "execute_result"
    },
    {
     "data": {
      "image/png": "[encoded data removed]",
      "text/plain": [
       "<Figure size 400x300 with 1 Axes>"
      ]
     },
     "metadata": {},
     "output_type": "display_data"
    }
   ],
   "source": [
    "fig, ax = plt.subplots(1, 1, figsize=(4,3))\n",
    "ax.plot(time, mass)\n",
    "\n",
    "ax.set_xlim(0, 14)\n",
    "ax.set_ylim(0, None)"
   ]
  },
  {
   "cell_type": "code",
   "execution_count": 22,
   "id": "8b2fbffc-f15e-450d-88fd-92ed4a975d19",
   "metadata": {},
   "outputs": [
    {
     "data": {
      "text/plain": [
       "2.0020281392528516"
      ]
     },
     "execution_count": 22,
     "metadata": {},
     "output_type": "execute_result"
    }
   ],
   "source": [
    "meta['redshift'][33]"
   ]
  },
  {
   "cell_type": "code",
   "execution_count": 23,
   "id": "760d40f8-19e1-4a74-9f0c-f0e072c68cb7",
   "metadata": {},
   "outputs": [
    {
     "data": {
      "text/plain": [
       "3.2844834161372742"
      ]
     },
     "execution_count": 23,
     "metadata": {},
     "output_type": "execute_result"
    }
   ],
   "source": [
    "meta['time'][33]"
   ]
  },
  {
   "cell_type": "code",
   "execution_count": null,
   "id": "5bc3ee71-ece5-4457-af02-429a1c0c9acf",
   "metadata": {},
   "outputs": [],
   "source": []
  }
 ],
 "metadata": {
  "kernelspec": {
   "display_name": "Python [conda env:.conda-note]",
   "language": "python",
   "name": "conda-env-.conda-note-py"
  },
  "language_info": {
   "codemirror_mode": {
    "name": "ipython",
    "version": 3
   },
   "file_extension": ".py",
   "mimetype": "text/x-python",
   "name": "python",
   "nbconvert_exporter": "python",
   "pygments_lexer": "ipython3",
   "version": "3.10.12"
  }
 },
 "nbformat": 4,
 "nbformat_minor": 5
}
