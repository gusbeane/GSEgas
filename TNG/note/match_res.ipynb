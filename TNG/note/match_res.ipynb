{
 "cells": [
  {
   "cell_type": "code",
   "execution_count": 1,
   "id": "344b1851-48c4-4440-bf72-1973b9d42157",
   "metadata": {},
   "outputs": [],
   "source": [
    "import numpy as np\n",
    "import arepo\n",
    "import matplotlib.pyplot as plt\n",
    "from scipy.signal import savgol_filter\n",
    "from tqdm import tqdm\n",
    "import matplotlib as mpl\n",
    "from scipy.stats import binned_statistic_2d, binned_statistic\n",
    "from scipy.stats import multivariate_normal\n",
    "from numba import njit\n",
    "import h5py as h5\n",
    "\n",
    "import astropy.units as u\n",
    "\n",
    "from joblib import Parallel, delayed"
   ]
  },
  {
   "cell_type": "code",
   "execution_count": 2,
   "id": "1a87ca9f-aec4-4843-8ecd-9e89d63f9a89",
   "metadata": {},
   "outputs": [],
   "source": [
    "import illustris_python as il\n",
    "TNGbase = '/n/holylfs05/LABS/hernquist_lab/IllustrisTNG/Runs/L35n2160TNG/output/'\n",
    "TNGbase2 = '/n/holylfs05/LABS/hernquist_lab/IllustrisTNG/Runs/L35n1080TNG/output/'\n",
    "TNGbase3 = '/n/holylfs05/LABS/hernquist_lab/IllustrisTNG/Runs/L35n540TNG/output/'\n",
    "TNGbase4 = '/n/holylfs05/LABS/hernquist_lab/IllustrisTNG/Runs/L35n270TNG/output/'"
   ]
  },
  {
   "cell_type": "code",
   "execution_count": 3,
   "id": "83f62e9e-9cd0-4b16-8cce-a2f74e985bff",
   "metadata": {},
   "outputs": [],
   "source": [
    "subID = 523889"
   ]
  },
  {
   "cell_type": "code",
   "execution_count": 17,
   "id": "7f3d5d6d-c7ad-410b-a043-2e4bc1f9465f",
   "metadata": {},
   "outputs": [],
   "source": [
    "subhalo1 = il.groupcat.loadSingle(TNGbase, 99, subhaloID=subID)\n",
    "haloID = subhalo1['SubhaloGrNr']\n",
    "halo1 = il.groupcat.loadSingle(TNGbase, 99, haloID=fofID)\n",
    "\n",
    "halo1_pos = halo1['GroupPos']"
   ]
  },
  {
   "cell_type": "code",
   "execution_count": 14,
   "id": "d27eee0e-f167-4096-b25d-a26c8fa018a8",
   "metadata": {},
   "outputs": [],
   "source": [
    "halos2 = il.groupcat.loadHalos(TNGbase2, 99)"
   ]
  },
  {
   "cell_type": "code",
   "execution_count": 15,
   "id": "65daa541-f575-4fcc-912c-a08e8014c456",
   "metadata": {},
   "outputs": [],
   "source": [
    "halos3 = il.groupcat.loadHalos(TNGbase3, 99)"
   ]
  },
  {
   "cell_type": "code",
   "execution_count": 16,
   "id": "20adc68e-2376-41e8-b45e-39989429e995",
   "metadata": {},
   "outputs": [],
   "source": [
    "halos4 = il.groupcat.loadHalos(TNGbase4, 99)"
   ]
  },
  {
   "cell_type": "code",
   "execution_count": 31,
   "id": "9b560599-24e7-417a-a0df-0e554b581b57",
   "metadata": {},
   "outputs": [],
   "source": [
    "halo2_pos = halos2['GroupPos']\n",
    "halo3_pos = halos3['GroupPos']\n",
    "halo4_pos = halos4['GroupPos']"
   ]
  },
  {
   "cell_type": "code",
   "execution_count": 32,
   "id": "6fc14679-1656-4bc3-849f-ed0baad4c609",
   "metadata": {},
   "outputs": [],
   "source": [
    "rel_pos2 = halo2_pos - halo1_pos\n",
    "rel_pos3 = halo3_pos - halo1_pos\n",
    "rel_pos4 = halo4_pos - halo1_pos"
   ]
  },
  {
   "cell_type": "code",
   "execution_count": 33,
   "id": "1e5e3924-5f2a-439c-a024-8dbaad2cbfc3",
   "metadata": {},
   "outputs": [],
   "source": [
    "rel_r2 = np.linalg.norm(rel_pos2, axis=1)\n",
    "rel_r3 = np.linalg.norm(rel_pos3, axis=1)\n",
    "rel_r4 = np.linalg.norm(rel_pos4, axis=1)"
   ]
  },
  {
   "cell_type": "code",
   "execution_count": 34,
   "id": "1fc97cb8-c0ae-44ff-be2c-821b4aa3a47f",
   "metadata": {},
   "outputs": [],
   "source": [
    "key2 = np.argmin(rel_r2)\n",
    "key3 = np.argmin(rel_r3)\n",
    "key4 = np.argmin(rel_r4)"
   ]
  },
  {
   "cell_type": "code",
   "execution_count": 35,
   "id": "089e91f4-4d78-4f7a-9e17-046d96087467",
   "metadata": {},
   "outputs": [
    {
     "name": "stdout",
     "output_type": "stream",
     "text": [
      "209 8.517544 [ 1.2070312 -8.042969   2.5302734]\n",
      "207 9.566694 [-0.07226562  8.0390625   5.185547  ]\n",
      "201 5.8714957 [4.9121094 1.9453125 2.5615234]\n"
     ]
    }
   ],
   "source": [
    "print(key2, rel_r2[key2], rel_pos2[key2])\n",
    "print(key3, rel_r3[key3], rel_pos3[key3])\n",
    "print(key4, rel_r4[key4], rel_pos4[key4])"
   ]
  },
  {
   "cell_type": "code",
   "execution_count": 50,
   "id": "1ed0d31c-2c48-4a48-9efb-ae6550cfdc8b",
   "metadata": {},
   "outputs": [
    {
     "name": "stdout",
     "output_type": "stream",
     "text": [
      "run    FoF_ID    GroupPos                   Group_M_Crit200   Group_R_Crit200\n",
      "TNG50-1 187 [32351.094 34673.91   8218.077] \t 71.78161 \t 145.62383\n",
      "TNG50-2 209 [32352.3   34665.867  8220.607] \t 65.14558 \t 140.98732\n",
      "TNG50-3 207 [32351.021 34681.95   8223.263] \t 66.1534 \t 141.71182\n",
      "TNG50-4 201 [32356.006 34675.855  8220.639] \t 75.64324 \t 148.18146\n"
     ]
    }
   ],
   "source": [
    "print('run    FoF_ID    GroupPos                   Group_M_Crit200   Group_R_Crit200')\n",
    "print('TNG50-1', haloID, halo1_pos, \"\\t\", halo1['Group_M_Crit200'], \"\\t\", halo1['Group_R_Crit200'])\n",
    "print('TNG50-2', key2, halo2_pos[key2], \"\\t\", halos2['Group_M_Crit200'][key2], \"\\t\", halos2['Group_R_Crit200'][key2])\n",
    "print('TNG50-3', key3, halo3_pos[key3], \"\\t\", halos3['Group_M_Crit200'][key3], \"\\t\", halos3['Group_R_Crit200'][key3])\n",
    "print('TNG50-4', key4, halo4_pos[key4], \"\\t\", halos4['Group_M_Crit200'][key4], \"\\t\", halos4['Group_R_Crit200'][key4])"
   ]
  },
  {
   "cell_type": "code",
   "execution_count": null,
   "id": "f0fccaa1-c2fb-4ff9-b284-13193170d6cd",
   "metadata": {},
   "outputs": [],
   "source": []
  }
 ],
 "metadata": {
  "kernelspec": {
   "display_name": "Python [conda env:.conda-note]",
   "language": "python",
   "name": "conda-env-.conda-note-py"
  },
  "language_info": {
   "codemirror_mode": {
    "name": "ipython",
    "version": 3
   },
   "file_extension": ".py",
   "mimetype": "text/x-python",
   "name": "python",
   "nbconvert_exporter": "python",
   "pygments_lexer": "ipython3",
   "version": "3.10.12"
  }
 },
 "nbformat": 4,
 "nbformat_minor": 5
}
