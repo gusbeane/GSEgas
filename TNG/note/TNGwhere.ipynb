{
 "cells": [
  {
   "cell_type": "code",
   "execution_count": 1,
   "id": "fd3d5bf2-afe0-49c1-9a49-b27a30255e9a",
   "metadata": {},
   "outputs": [],
   "source": [
    "import numpy as np\n",
    "import arepo\n",
    "import matplotlib.pyplot as plt\n",
    "from scipy.signal import savgol_filter\n",
    "from tqdm import tqdm\n",
    "import matplotlib as mpl\n",
    "from scipy.stats import binned_statistic_2d, binned_statistic\n",
    "from numba import njit\n",
    "import h5py as h5\n",
    "\n",
    "import astropy.units as u\n",
    "\n",
    "from joblib import Parallel, delayed"
   ]
  },
  {
   "cell_type": "code",
   "execution_count": 2,
   "id": "6b956ed1-d3c0-4cc9-b79f-339918967051",
   "metadata": {},
   "outputs": [],
   "source": [
    "@njit\n",
    "def rodrigues_formula(k, v, theta):\n",
    "    N = v.shape[0]\n",
    "    v_rot = np.zeros(np.shape(v))\n",
    "    \n",
    "    ctheta = np.cos(theta)\n",
    "    stheta = np.sin(theta)\n",
    "    \n",
    "    for i in range(N):\n",
    "        v_rot[i] = v[i] * ctheta + np.cross(k, v[i]) * stheta + k * (np.dot(k, v[i])) * (1-ctheta)\n",
    "    \n",
    "    return v_rot"
   ]
  },
  {
   "cell_type": "code",
   "execution_count": 3,
   "id": "debe8a84-cbfd-4eb7-978d-a8c62a9ac592",
   "metadata": {},
   "outputs": [],
   "source": [
    "GFM_SOLAR_METALLICITY = 0.0127\n",
    "\n",
    "GFM_SOLAR_ABUNDANCE_HYDROGEN = 0.7388\n",
    "GFM_SOLAR_ABUNDANCE_HELIUM  =  (1.-GFM_SOLAR_ABUNDANCE_HYDROGEN -GFM_SOLAR_METALLICITY)\n",
    "GFM_SOLAR_ABUNDANCE_CARBON  =  0.0024\n",
    "GFM_SOLAR_ABUNDANCE_NITROGEN =  0.0007\n",
    "GFM_SOLAR_ABUNDANCE_OXYGEN  =  0.0057\n",
    "GFM_SOLAR_ABUNDANCE_NEON    =  0.0012\n",
    "GFM_SOLAR_ABUNDANCE_MAGNESIUM = 0.0007\n",
    "GFM_SOLAR_ABUNDANCE_SILICON =  0.0007\n",
    "GFM_SOLAR_ABUNDANCE_IRON   =   0.0013\n",
    "GFM_SOLAR_ABUNDANCE_OTHER  =   0\n",
    "\n",
    "HUBBLE = 3.2407789e-18\n",
    "SEC_PER_MEGAYEAR = 3.15576e13"
   ]
  },
  {
   "cell_type": "code",
   "execution_count": 4,
   "id": "36c031eb-dcd6-4a01-9ecd-53c91b3b2f15",
   "metadata": {},
   "outputs": [],
   "source": [
    "def get_time(time, redshift=False, \n",
    "             Omega0=0.3089, \n",
    "             OmegaLambda=0.6911,\n",
    "             HubbleParam=0.6774):\n",
    "    HUBBLE = 3.2407789e-18\n",
    "    SEC_PER_MEGAYEAR = 3.15576e13\n",
    "    \n",
    "    if redshift:\n",
    "        a = 1./(1.+time)\n",
    "    else:\n",
    "        a = time\n",
    "    \n",
    "    fac = 2. / (3. * np.sqrt(OmegaLambda))\n",
    "    ans = fac * np.arcsinh(np.sqrt(a**3 * OmegaLambda/Omega0))\n",
    "\n",
    "    ans /= HUBBLE * HubbleParam\n",
    "    ans /= SEC_PER_MEGAYEAR * 1000\n",
    "    \n",
    "    return ans"
   ]
  },
  {
   "cell_type": "code",
   "execution_count": null,
   "id": "d46b9c3c-e648-40ee-afc4-6668917380cd",
   "metadata": {},
   "outputs": [],
   "source": []
  }
 ],
 "metadata": {
  "kernelspec": {
   "display_name": "Python [conda env:.conda-note]",
   "language": "python",
   "name": "conda-env-.conda-note-py"
  },
  "language_info": {
   "codemirror_mode": {
    "name": "ipython",
    "version": 3
   },
   "file_extension": ".py",
   "mimetype": "text/x-python",
   "name": "python",
   "nbconvert_exporter": "python",
   "pygments_lexer": "ipython3",
   "version": "3.10.12"
  }
 },
 "nbformat": 4,
 "nbformat_minor": 5
}
