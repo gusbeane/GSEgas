{
 "cells": [
  {
   "cell_type": "code",
   "execution_count": 12,
   "id": "3526dcc4-5608-45ce-92ff-a6395947a92b",
   "metadata": {},
   "outputs": [],
   "source": [
    "import numpy as np\n",
    "import arepo\n",
    "import pickle"
   ]
  },
  {
   "cell_type": "code",
   "execution_count": 13,
   "id": "e0a00919-f350-4ad8-a0f0-73c9c7157767",
   "metadata": {},
   "outputs": [],
   "source": [
    "basepath = '/n/holylfs05/LABS/hernquist_lab/Users/abeane/GSEgas/'"
   ]
  },
  {
   "cell_type": "code",
   "execution_count": 16,
   "id": "b40c4add-7c2f-4a7a-8b89-316e939fd431",
   "metadata": {},
   "outputs": [],
   "source": [
    "sim_list = ['Nbody', # 0\n",
    "            'fgGSE0.5_fgMW0.5', # 1\n",
    "           ]\n",
    "\n",
    "snap_basepath = basepath + 'runs/'\n",
    "\n",
    "def read_snap(idx, sim_idx, lvl='lvl4', parttype=[0], fields=['Coordinates', 'Masses', 'Velocities', 'ParticleIDs', 'Potential'],\n",
    "              basepath = basepath):\n",
    "    fname = snap_basepath + sim_list[sim_idx] + '/' + lvl + '/output'\n",
    "    \n",
    "    IDs = pickle.load(open(basepath + 'ics/' + sim_list[sim_idx] + '/' + lvl + '/IDs.p', 'rb'))\n",
    "    \n",
    "    return arepo.Snapshot(fname, idx, parttype=parttype, fields=fields, combineFiles=True), IDs"
   ]
  },
  {
   "cell_type": "code",
   "execution_count": 28,
   "id": "2975028a-d760-4825-9cd3-80e774da6f08",
   "metadata": {},
   "outputs": [],
   "source": [
    "sn0, IDs = read_snap(0, 1, parttype=None, fields=None)\n",
    "in_MW = np.logical_and(sn0.part2.id >= IDs['MW'][2][0], sn0.part2.id <= IDs['MW'][2][1])\n",
    "in_GSE = np.logical_and(sn0.part2.id >= IDs['GSE'][2][0], sn0.part2.id <= IDs['GSE'][2][1])"
   ]
  },
  {
   "cell_type": "code",
   "execution_count": 29,
   "id": "92e1227f-9323-47e7-862a-bb2af875595e",
   "metadata": {},
   "outputs": [],
   "source": [
    "def get_COM(pos, vel, rmin=1, rmax=20, rfac=0.9):\n",
    "    COM = np.mean(pos, axis=0)\n",
    "    r = np.linalg.norm(pos-COM, axis=1)\n",
    "    \n",
    "    rcut = rmax\n",
    "    while rcut > rmin:\n",
    "        COM = np.mean(pos[r<rcut], axis=0)\n",
    "        r = np.linalg.norm(pos-COM, axis=1)\n",
    "        rcut *= rfac\n",
    "    \n",
    "    COMV = np.mean(vel[r<rcut], axis=0)\n",
    "    \n",
    "    return COM, COMV"
   ]
  },
  {
   "cell_type": "code",
   "execution_count": 30,
   "id": "73b626c2-4dc0-4328-b4b8-d6ffa642ea35",
   "metadata": {},
   "outputs": [],
   "source": [
    "MW_pos = sn0.part2.pos.value[in_MW]\n",
    "MW_vel = sn0.part2.vel.value[in_MW]\n",
    "\n",
    "GSE_pos = sn0.part2.pos.value[in_GSE]\n",
    "GSE_vel = sn0.part2.vel.value[in_GSE]"
   ]
  },
  {
   "cell_type": "code",
   "execution_count": 32,
   "id": "d8c31abb-3ca8-4ed5-9fe3-e2d8c52a9f79",
   "metadata": {},
   "outputs": [
    {
     "name": "stdout",
     "output_type": "stream",
     "text": [
      "[199.99789078 200.00394858 199.99859732] [-1.0329416  -0.08861995  0.54572827]\n",
      "[ 75.3741768  200.00158034 233.4044706 ] [ 95.77688   46.266804 -71.60523 ]\n"
     ]
    }
   ],
   "source": [
    "MW_COM, MW_COMV = get_COM(MW_pos, MW_vel)\n",
    "print(MW_COM, MW_COMV)\n",
    "\n",
    "GSE_COM, GSE_COMV = get_COM(GSE_pos, GSE_vel)\n",
    "print(GSE_COM, GSE_COMV)"
   ]
  },
  {
   "cell_type": "code",
   "execution_count": null,
   "id": "784b252b-cb1f-45d4-b8ea-0d38639c7c60",
   "metadata": {},
   "outputs": [],
   "source": []
  }
 ],
 "metadata": {
  "kernelspec": {
   "display_name": "Python 3",
   "language": "python",
   "name": "python3"
  },
  "language_info": {
   "codemirror_mode": {
    "name": "ipython",
    "version": 3
   },
   "file_extension": ".py",
   "mimetype": "text/x-python",
   "name": "python",
   "nbconvert_exporter": "python",
   "pygments_lexer": "ipython3",
   "version": "3.8.8"
  }
 },
 "nbformat": 4,
 "nbformat_minor": 5
}
