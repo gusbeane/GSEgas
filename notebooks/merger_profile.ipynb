{
 "cells": [
  {
   "cell_type": "code",
   "execution_count": 31,
   "id": "c48226e2-f352-4dad-9c2a-1687f082ae57",
   "metadata": {},
   "outputs": [],
   "source": [
    "import numpy as np\n",
    "import arepo\n",
    "import matplotlib.pyplot as plt\n",
    "from scipy.signal import savgol_filter\n",
    "from tqdm import tqdm\n",
    "import matplotlib as mpl\n",
    "from scipy.stats import binned_statistic_2d, linregress\n",
    "from numba import njit"
   ]
  },
  {
   "cell_type": "code",
   "execution_count": 2,
   "id": "c60c0bdd-4c28-49cd-8345-033067fdc2ba",
   "metadata": {},
   "outputs": [],
   "source": [
    "basepath = '/n/holylfs05/LABS/hernquist_lab/Users/abeane/GSEgas/'"
   ]
  },
  {
   "cell_type": "code",
   "execution_count": 3,
   "id": "0c52f5b9-9c85-4dec-9441-9c9035580320",
   "metadata": {},
   "outputs": [],
   "source": [
    "@njit\n",
    "def rodrigues_formula(k, v, theta):\n",
    "    N = v.shape[0]\n",
    "    v_rot = np.zeros(np.shape(v))\n",
    "    \n",
    "    ctheta = np.cos(theta)\n",
    "    stheta = np.sin(theta)\n",
    "    \n",
    "    for i in range(N):\n",
    "        v_rot[i] = v[i] * ctheta + np.cross(k, v[i]) * stheta + k * (np.dot(k, v[i])) * (1-ctheta)\n",
    "    \n",
    "    return v_rot"
   ]
  },
  {
   "cell_type": "code",
   "execution_count": 4,
   "id": "aac6479e-acc5-4345-a0d0-8113abd7e500",
   "metadata": {},
   "outputs": [],
   "source": [
    "name = 'MW3_MHG0.25_GSE2_MHG0.18-lvl4'\n",
    "COM_fpath = basepath + 'anlys/COM/COM_' + name + '.npy'\n",
    "COM_file = np.load(COM_fpath, allow_pickle=True).item()"
   ]
  },
  {
   "cell_type": "code",
   "execution_count": 28,
   "id": "064e83b4-91ce-4278-8b9f-268e0b7e6785",
   "metadata": {},
   "outputs": [],
   "source": [
    "sn = {}\n",
    "sn_Rcut10 = {}\n",
    "sn_iso = {}\n",
    "num_list = [0, 200, 400, 600, 800]\n",
    "for num in num_list:\n",
    "    try:\n",
    "        sn[num] = arepo.Snapshot(basepath + 'runs/MW3_MHG0.25_GSE2_MHG0.18/lvl4/output', \n",
    "                             num, combineFiles=True)\n",
    "        sn_Rcut10[num] = arepo.Snapshot(basepath + 'runs/MW3_MHG0.25_GSE2_MHG0.18_Rcut10/lvl4/output', \n",
    "                             num, combineFiles=True)\n",
    "    except:\n",
    "        pass\n",
    "    \n",
    "    try:\n",
    "        sn_iso[num] = arepo.Snapshot(basepath + 'runs/MW3iso_fg0.7_MHG0.25_RC9/lvl4/output', num,\n",
    "                    combineFiles=True)\n",
    "    except:\n",
    "        pass"
   ]
  },
  {
   "cell_type": "code",
   "execution_count": 6,
   "id": "d824591f-83f7-43a0-8cda-187dbd7a4c9a",
   "metadata": {},
   "outputs": [],
   "source": [
    "def get_rotated_gas_pos(sn, COM_file, idx):\n",
    "    pos = sn.part0.pos.value - COM_file['MW_COM'][idx]\n",
    "    vel = sn.part0.vel.value - COM_file['MW_COMV'][idx]\n",
    "    \n",
    "    ang_mom = COM_file['MW_AngMom'][idx]\n",
    "\n",
    "    angmom_dir = ang_mom/np.linalg.norm(ang_mom)\n",
    "    theta = np.arccos(np.dot(angmom_dir, np.array([0, 0, 1])))\n",
    "    \n",
    "    k = np.cross(ang_mom, np.array([0, 0, 1.]))\n",
    "    k /= np.linalg.norm(k)\n",
    "\n",
    "    pos_rot = rodrigues_formula(k, pos, theta)\n",
    "    vel_rot = rodrigues_formula(k, vel.astype(np.float64), theta)\n",
    "\n",
    "    return pos_rot, vel_rot"
   ]
  },
  {
   "cell_type": "code",
   "execution_count": 25,
   "id": "70bfa04f-37d3-41ed-94e5-54237e95bd73",
   "metadata": {},
   "outputs": [],
   "source": [
    "def get_surfdens_profile(R, mass):\n",
    "    Rmin = 0\n",
    "    dR = 0.5\n",
    "    \n",
    "    ave_R = []\n",
    "    surfdens = []\n",
    "    \n",
    "    while Rmin < 30:\n",
    "        key = np.logical_and(R > Rmin, R < Rmin+dR)\n",
    "        \n",
    "        ave_R.append(np.mean(R[key]))\n",
    "        \n",
    "        mass_in_bin = np.sum(mass[key])\n",
    "        area = np.pi * ((Rmin+dR)**2 - Rmin**2)\n",
    "        surfdens.append(mass_in_bin/area)\n",
    "        \n",
    "        Rmin += dR\n",
    "    \n",
    "    return np.array(ave_R), np.array(surfdens)"
   ]
  },
  {
   "cell_type": "code",
   "execution_count": 52,
   "id": "3e228ba8-b9e5-43e8-a6f8-9d40e665c9a3",
   "metadata": {},
   "outputs": [
    {
     "ename": "IndexError",
     "evalue": "boolean index did not match indexed array along dimension 0; dimension is 829461 but corresponding boolean dimension is 608919",
     "output_type": "error",
     "traceback": [
      "\u001b[0;31m---------------------------------------------------------------------------\u001b[0m",
      "\u001b[0;31mIndexError\u001b[0m                                Traceback (most recent call last)",
      "\u001b[0;32m<ipython-input-52-88ad292ad12f>\u001b[0m in \u001b[0;36m<module>\u001b[0;34m\u001b[0m\n\u001b[1;32m     12\u001b[0m     \u001b[0mmass\u001b[0m\u001b[0;34m[\u001b[0m\u001b[0mnum\u001b[0m\u001b[0;34m]\u001b[0m \u001b[0;34m=\u001b[0m \u001b[0msn_Rcut10\u001b[0m\u001b[0;34m[\u001b[0m\u001b[0mnum\u001b[0m\u001b[0;34m]\u001b[0m\u001b[0;34m.\u001b[0m\u001b[0mpart0\u001b[0m\u001b[0;34m.\u001b[0m\u001b[0mmass\u001b[0m\u001b[0;34m.\u001b[0m\u001b[0mvalue\u001b[0m\u001b[0;34m\u001b[0m\u001b[0;34m\u001b[0m\u001b[0m\n\u001b[1;32m     13\u001b[0m \u001b[0;34m\u001b[0m\u001b[0m\n\u001b[0;32m---> 14\u001b[0;31m     \u001b[0maveR\u001b[0m\u001b[0;34m[\u001b[0m\u001b[0mnum\u001b[0m\u001b[0;34m]\u001b[0m\u001b[0;34m,\u001b[0m \u001b[0msurfdens\u001b[0m\u001b[0;34m[\u001b[0m\u001b[0mnum\u001b[0m\u001b[0;34m]\u001b[0m \u001b[0;34m=\u001b[0m \u001b[0mget_surfdens_profile\u001b[0m\u001b[0;34m(\u001b[0m\u001b[0mR\u001b[0m\u001b[0;34m[\u001b[0m\u001b[0mnum\u001b[0m\u001b[0;34m]\u001b[0m\u001b[0;34m[\u001b[0m\u001b[0mkey\u001b[0m\u001b[0;34m]\u001b[0m\u001b[0;34m,\u001b[0m \u001b[0mmass\u001b[0m\u001b[0;34m[\u001b[0m\u001b[0mnum\u001b[0m\u001b[0;34m]\u001b[0m\u001b[0;34m[\u001b[0m\u001b[0mkey\u001b[0m\u001b[0;34m]\u001b[0m\u001b[0;34m)\u001b[0m\u001b[0;34m\u001b[0m\u001b[0;34m\u001b[0m\u001b[0m\n\u001b[0m",
      "\u001b[0;31mIndexError\u001b[0m: boolean index did not match indexed array along dimension 0; dimension is 829461 but corresponding boolean dimension is 608919"
     ]
    }
   ],
   "source": [
    "pos_rot = {}\n",
    "vel_rot = {}\n",
    "R = {}\n",
    "mass = {}\n",
    "\n",
    "aveR = {}\n",
    "surfdens = {}\n",
    "for num in num_list:\n",
    "    pos_rot[num], vel_rot[num] = get_rotated_gas_pos(sn_iso[num], COM_file, num)\n",
    "    R[num] = np.linalg.norm(pos_rot[num][:,:2], axis=1)\n",
    "    key = np.abs(pos_rot[num][:,2]) < 3\n",
    "    mass[num] = sn_Rcut10[num].part0.mass.value\n",
    "    \n",
    "    aveR[num], surfdens[num] = get_surfdens_profile(R[num][key], mass[num][key])"
   ]
  },
  {
   "cell_type": "code",
   "execution_count": 44,
   "id": "37fb1153-67aa-40af-a969-17f0688dea83",
   "metadata": {},
   "outputs": [
    {
     "data": {
      "text/plain": [
       "[<matplotlib.lines.Line2D at 0x149884058400>]"
      ]
     },
     "execution_count": 44,
     "metadata": {},
     "output_type": "execute_result"
    },
    {
     "data": {
      "image/png": "[encoded data removed]",
      "text/plain": [
       "<Figure size 432x288 with 1 Axes>"
      ]
     },
     "metadata": {
      "needs_background": "light"
     },
     "output_type": "display_data"
    }
   ],
   "source": [
    "plt.plot(aveR[0], np.log10(surfdens[0]))\n",
    "plt.plot(aveR[800], np.log10(surfdens[800]))\n"
   ]
  },
  {
   "cell_type": "code",
   "execution_count": 50,
   "id": "b74e5e00-10cc-459a-adcc-2946edd6bdea",
   "metadata": {},
   "outputs": [
    {
     "name": "stdout",
     "output_type": "stream",
     "text": [
      "2.122103459979437\n"
     ]
    }
   ],
   "source": [
    "key = aveR[0] < 10\n",
    "ans = linregress(aveR[0][key], np.log(surfdens[0][key]))\n",
    "print(-1/ans.slope)"
   ]
  },
  {
   "cell_type": "code",
   "execution_count": 51,
   "id": "e53dc10e-7114-4236-a94f-22d65c85f16f",
   "metadata": {},
   "outputs": [
    {
     "name": "stdout",
     "output_type": "stream",
     "text": [
      "4.617968431757593\n"
     ]
    }
   ],
   "source": [
    "key = aveR[0] < 20\n",
    "ans = linregress(aveR[800][key], np.log(surfdens[800][key]))\n",
    "print(-1/ans.slope)"
   ]
  },
  {
   "cell_type": "code",
   "execution_count": 39,
   "id": "5957e086-a646-4095-be92-34bc43dbba71",
   "metadata": {},
   "outputs": [
    {
     "data": {
      "text/plain": [
       "-1.3220691005910854"
      ]
     },
     "execution_count": 39,
     "metadata": {},
     "output_type": "execute_result"
    }
   ],
   "source": [
    "ans.intercept"
   ]
  },
  {
   "cell_type": "code",
   "execution_count": 40,
   "id": "c48f148b-9979-4d1b-b713-09f8a7638be1",
   "metadata": {},
   "outputs": [
    {
     "data": {
      "text/plain": [
       "LinregressResult(slope=-0.1943237610084834, intercept=-1.3220691005910854, rvalue=-0.9995449332164493, pvalue=7.934319322175968e-29, stderr=0.0013822623693424377, intercept_stderr=0.00797213644296919)"
      ]
     },
     "execution_count": 40,
     "metadata": {},
     "output_type": "execute_result"
    }
   ],
   "source": [
    "ans"
   ]
  },
  {
   "cell_type": "code",
   "execution_count": 18,
   "id": "f27bf79f-4994-4d0b-8964-cb859f7bb145",
   "metadata": {},
   "outputs": [
    {
     "data": {
      "text/plain": [
       "array([[-3.73465419, -3.76281745, -3.72501751, ..., -4.45909742,\n",
       "        -4.46685309, -4.45534236],\n",
       "       [-3.34644957, -3.37461283, -3.33681288, ..., -4.07089279,\n",
       "        -4.07864846, -4.06713774],\n",
       "       [-3.22367084, -3.2518341 , -3.21403415, ..., -3.94811406,\n",
       "        -3.95586973, -3.94435901],\n",
       "       ...,\n",
       "       [-3.85026162, -3.87842488, -3.84062494, ..., -4.57470485,\n",
       "        -4.58246052, -4.57094979],\n",
       "       [-3.89259861, -3.92076186, -3.88296192, ..., -4.61704183,\n",
       "        -4.6247975 , -4.61328677],\n",
       "       [-3.95036935, -3.97853261, -3.94073266, ..., -4.67481258,\n",
       "        -4.68256825, -4.67105752]])"
      ]
     },
     "execution_count": 18,
     "metadata": {},
     "output_type": "execute_result"
    }
   ],
   "source": [
    "np.log10(surfdens[0])"
   ]
  },
  {
   "cell_type": "code",
   "execution_count": null,
   "id": "5d9e9296-004b-4d09-bb91-79efdd3a7468",
   "metadata": {},
   "outputs": [],
   "source": []
  }
 ],
 "metadata": {
  "kernelspec": {
   "display_name": "Python 3",
   "language": "python",
   "name": "python3"
  },
  "language_info": {
   "codemirror_mode": {
    "name": "ipython",
    "version": 3
   },
   "file_extension": ".py",
   "mimetype": "text/x-python",
   "name": "python",
   "nbconvert_exporter": "python",
   "pygments_lexer": "ipython3",
   "version": "3.8.8"
  }
 },
 "nbformat": 4,
 "nbformat_minor": 5
}
