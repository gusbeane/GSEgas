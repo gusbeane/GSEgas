{
 "cells": [
  {
   "cell_type": "code",
   "execution_count": 1,
   "id": "0d93f618-88bd-4cc2-9864-889a9f898420",
   "metadata": {},
   "outputs": [],
   "source": [
    "import numpy as np\n",
    "import arepo\n",
    "import matplotlib.pyplot as plt"
   ]
  },
  {
   "cell_type": "code",
   "execution_count": 2,
   "id": "42e459e5-fb32-4800-bba1-ca69bf9dfea3",
   "metadata": {},
   "outputs": [],
   "source": [
    "basepath = '/n/holylfs05/LABS/hernquist_lab/Users/abeane/GSEgas/'"
   ]
  },
  {
   "cell_type": "code",
   "execution_count": 18,
   "id": "e919fc0e-bc95-4fed-aac6-a6c9cf90f710",
   "metadata": {},
   "outputs": [],
   "source": [
    "prefix = 'fgGSE0.5_fgMW0.5'\n",
    "lvl = 'lvl3'\n",
    "name = prefix + '-' + lvl\n",
    "\n",
    "SFH = np.load(basepath + '/anlys/SFH/SFH_' + name + '.npy', allow_pickle=True).item()"
   ]
  },
  {
   "cell_type": "code",
   "execution_count": 19,
   "id": "cae840d2-4573-486f-b93d-95371079d60b",
   "metadata": {},
   "outputs": [
    {
     "data": {
      "text/plain": [
       "[<matplotlib.lines.Line2D at 0x2b58884e1f10>]"
      ]
     },
     "execution_count": 19,
     "metadata": {},
     "output_type": "execute_result"
    },
    {
     "data": {
      "image/png": "[encoded data removed]",
      "text/plain": [
       "<Figure size 432x288 with 1 Axes>"
      ]
     },
     "metadata": {
      "needs_background": "light"
     },
     "output_type": "display_data"
    }
   ],
   "source": [
    "plt.plot(SFH['Time'], SFH['SFR_MW'])\n",
    "plt.plot(SFH['Time'], SFH['SFR_GSE'])\n",
    "# plt.xlim(0, 1)"
   ]
  },
  {
   "cell_type": "code",
   "execution_count": 21,
   "id": "fb63e4fe-b2d1-4c66-a9ec-f50afd2952f3",
   "metadata": {},
   "outputs": [
    {
     "data": {
      "text/plain": [
       "array([0.        , 0.        , 0.        , 0.        , 0.        ,\n",
       "       0.00014261, 0.00046958, 0.00106953, 0.00247115, 0.00669272,\n",
       "       0.01074505, 0.01586377, 0.02270064, 0.02862563, 0.02970618,\n",
       "       0.03602125, 0.03511259, 0.03396732, 0.03143786, 0.02762193,\n",
       "       0.02110027, 0.01783491, 0.01315819, 0.01300286, 0.01534032,\n",
       "       0.01069349, 0.00986972, 0.00850535, 0.00693965, 0.0061899 ],\n",
       "      dtype=float32)"
      ]
     },
     "execution_count": 21,
     "metadata": {},
     "output_type": "execute_result"
    }
   ],
   "source": [
    "SFH['SFR_GSE']"
   ]
  },
  {
   "cell_type": "code",
   "execution_count": null,
   "id": "6578b5e7-6503-4d27-ba31-73c335e1cc61",
   "metadata": {},
   "outputs": [],
   "source": []
  }
 ],
 "metadata": {
  "kernelspec": {
   "display_name": "Python 3",
   "language": "python",
   "name": "python3"
  },
  "language_info": {
   "codemirror_mode": {
    "name": "ipython",
    "version": 3
   },
   "file_extension": ".py",
   "mimetype": "text/x-python",
   "name": "python",
   "nbconvert_exporter": "python",
   "pygments_lexer": "ipython3",
   "version": "3.8.8"
  }
 },
 "nbformat": 4,
 "nbformat_minor": 5
}
