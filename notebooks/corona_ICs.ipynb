{
 "cells": [
  {
   "cell_type": "code",
   "execution_count": 3,
   "id": "9fc77b28-8a86-4ceb-a15e-dee6038d3282",
   "metadata": {},
   "outputs": [],
   "source": [
    "import numpy as np\n",
    "import arepo\n",
    "import matplotlib.pyplot as plt\n",
    "from scipy.signal import savgol_filter\n",
    "from tqdm import tqdm\n",
    "import matplotlib as mpl\n",
    "from scipy.stats import binned_statistic_2d"
   ]
  },
  {
   "cell_type": "code",
   "execution_count": 4,
   "id": "c9472987-1b9c-4f4d-80fe-ac097af3136c",
   "metadata": {},
   "outputs": [],
   "source": [
    "basepath = '/n/holylfs05/LABS/hernquist_lab/Users/abeane/GSEgas/'"
   ]
  },
  {
   "cell_type": "code",
   "execution_count": 34,
   "id": "c674d4a8-a979-4a0a-a39c-fb27d809d728",
   "metadata": {},
   "outputs": [],
   "source": [
    "sn = arepo.Snapshot(basepath+'ics/MW3iso_fg0.7_MHG0.15_RC9/lvl4/MW.hdf5')"
   ]
  },
  {
   "cell_type": "code",
   "execution_count": 35,
   "id": "8b700dae-d89b-45ca-82ac-964f3840f41b",
   "metadata": {},
   "outputs": [
    {
     "data": {
      "text/plain": [
       "array([0.5011872 , 0.5011872 , 0.5011872 , ..., 0.05011872, 0.05011872,\n",
       "       0.05011872], dtype=float32)"
      ]
     },
     "execution_count": 35,
     "metadata": {},
     "output_type": "execute_result"
    }
   ],
   "source": [
    "sn.part0.GFM_Metallicity"
   ]
  },
  {
   "cell_type": "code",
   "execution_count": 36,
   "id": "00f61b60-f01e-41ee-aff7-acaf13520748",
   "metadata": {},
   "outputs": [
    {
     "data": {
      "text/plain": [
       "array([7.4937481e-01, 2.4426009e-01, 1.2028493e-03, 3.5083108e-04,\n",
       "       2.8567673e-03, 6.0142466e-04, 3.5083108e-04, 3.5083108e-04,\n",
       "       6.5154338e-04, 0.0000000e+00], dtype=float32)"
      ]
     },
     "execution_count": 36,
     "metadata": {},
     "output_type": "execute_result"
    }
   ],
   "source": [
    "sn.part0.GFM_Metals[0]"
   ]
  },
  {
   "cell_type": "code",
   "execution_count": 25,
   "id": "bf903b27-7f3f-4809-b1b5-0e521e63eb6c",
   "metadata": {},
   "outputs": [],
   "source": [
    "sn = arepo.Snapshot(basepath+'runs/MW3iso_fg0.7_MHG0.15_RC9/lvl4/output', 0, combineFiles=True)"
   ]
  },
  {
   "cell_type": "code",
   "execution_count": 29,
   "id": "2b3ecf8f-3843-41a3-9f7c-2568dfd6d95d",
   "metadata": {},
   "outputs": [
    {
     "data": {
      "text/plain": [
       "(array([   218,    219,    220, ..., 458266, 458267, 458268]),)"
      ]
     },
     "execution_count": 29,
     "metadata": {},
     "output_type": "execute_result"
    }
   ],
   "source": [
    "np.where(sn.part0.GFM_Metallicity > 0.0006366)"
   ]
  },
  {
   "cell_type": "code",
   "execution_count": 30,
   "id": "c222ab33-783f-43b5-a060-e7a08df7320f",
   "metadata": {},
   "outputs": [
    {
     "data": {
      "text/plain": [
       "0.006365078"
      ]
     },
     "execution_count": 30,
     "metadata": {},
     "output_type": "execute_result"
    }
   ],
   "source": [
    "sn.part0.GFM_Metallicity[218]"
   ]
  },
  {
   "cell_type": "code",
   "execution_count": 32,
   "id": "5c23b364-6baa-4525-81d1-f1095d545ecf",
   "metadata": {},
   "outputs": [
    {
     "data": {
      "text/plain": [
       "0.00636507744"
      ]
     },
     "execution_count": 32,
     "metadata": {},
     "output_type": "execute_result"
    }
   ],
   "source": [
    "0.5011872 * 0.0127"
   ]
  },
  {
   "cell_type": "code",
   "execution_count": 33,
   "id": "a8f67737-3290-461e-900f-f784c8b3b0ac",
   "metadata": {},
   "outputs": [
    {
     "data": {
      "text/plain": [
       "array([7.5893748e-01, 2.4042600e-01, 1.2028494e-04, 3.5083107e-05,\n",
       "       2.8567671e-04, 6.0142469e-05, 3.5083107e-05, 3.5083107e-05,\n",
       "       6.5154338e-05, 0.0000000e+00], dtype=float32)"
      ]
     },
     "execution_count": 33,
     "metadata": {},
     "output_type": "execute_result"
    }
   ],
   "source": [
    "sn.part0.GFM_Metals[0]"
   ]
  },
  {
   "cell_type": "code",
   "execution_count": 37,
   "id": "3b0e5730-7822-4609-8b0d-b4bff83a949f",
   "metadata": {},
   "outputs": [],
   "source": [
    "sn = arepo.Snapshot(basepath+'runs/MW3iso_fg0.7_MHG0.15_RC9-nometals/lvl4/output', 0, combineFiles=True)"
   ]
  },
  {
   "cell_type": "code",
   "execution_count": 38,
   "id": "7abc7388-41dd-44f0-806e-1a8802bb6104",
   "metadata": {},
   "outputs": [
    {
     "data": {
      "text/plain": [
       "array([0.0127, 0.0127, 0.0127, ..., 0.0127, 0.0127, 0.0127], dtype=float32)"
      ]
     },
     "execution_count": 38,
     "metadata": {},
     "output_type": "execute_result"
    }
   ],
   "source": [
    "sn.part0.GFM_Metallicity"
   ]
  },
  {
   "cell_type": "markdown",
   "id": "40eef0ad-01e9-422b-af55-bf93696142aa",
   "metadata": {},
   "source": [
    "## baryon fraction"
   ]
  },
  {
   "cell_type": "code",
   "execution_count": 25,
   "id": "8c870692-ff37-41cb-8aa9-f531392dfe11",
   "metadata": {},
   "outputs": [],
   "source": [
    "R200_MW = 129\n",
    "sn_MW = arepo.Snapshot(basepath+'ics/MW3iso_fg0.7_MHG0.25_RC9/lvl4/MW.hdf5')"
   ]
  },
  {
   "cell_type": "code",
   "execution_count": 24,
   "id": "553a48e3-ac1e-46a1-8f59-cbabb77f396d",
   "metadata": {},
   "outputs": [],
   "source": [
    "R200_GSE = 97.5\n",
    "sn_GSE = arepo.Snapshot(basepath+'ics/GSE2iso_fg0.7_MHG0.18_RC6.5/lvl4/GSE.hdf5')"
   ]
  },
  {
   "cell_type": "code",
   "execution_count": 28,
   "id": "26165348-b698-4823-95f7-48791b328f9a",
   "metadata": {},
   "outputs": [],
   "source": [
    "def print_bary_dm_frac(sn, R200):\n",
    "    center = np.array([200, 200, 200])\n",
    "    rpart0 = np.linalg.norm(sn.part0.pos - center, axis=1)\n",
    "    rpart1 = np.linalg.norm(sn.part1.pos - center, axis=1)\n",
    "    rpart2 = np.linalg.norm(sn.part2.pos - center, axis=1)\n",
    "    \n",
    "    key0 = rpart0 < R200\n",
    "    key1 = rpart1 < R200\n",
    "    key2 = rpart2 < R200\n",
    "    \n",
    "    mass0 = np.sum(sn.part0.mass[key0])\n",
    "    mass1 = sn.MassTable[1] * len(np.where(key1)[0])\n",
    "    mass2 = sn.MassTable[2] * len(np.where(key2)[0])\n",
    "    \n",
    "    mass3 = 0\n",
    "    if sn.NumPart_Total[3] > 0:\n",
    "        rpart3 = np.linalg.norm(sn.part3.pos - center, axis=1)\n",
    "        key3 = rpart3 < R200_MW\n",
    "        mass3 = sn.MassTable[3] * len(np.where(key3)[0])\n",
    "        \n",
    "    mass_bary = mass0 + mass2 + mass3\n",
    "    mass_dm = mass1\n",
    "\n",
    "    print('bary/dm=', mass_bary/mass_dm)\n",
    "    print('planck=', 0.022068/0.12029)\n",
    "    print('fb=', (mass_bary/mass_dm)/(0.022068/0.12029))\n",
    "    "
   ]
  },
  {
   "cell_type": "code",
   "execution_count": 29,
   "id": "099564a5-d390-4bb9-b6c6-597153d08440",
   "metadata": {},
   "outputs": [
    {
     "name": "stdout",
     "output_type": "stream",
     "text": [
      "bary/dm= 0.19539545578979162\n",
      "planck= 0.1834566464377754\n",
      "fb= 1.065077006387259\n"
     ]
    }
   ],
   "source": [
    "print_bary_dm_frac(sn_MW, R200_MW)"
   ]
  },
  {
   "cell_type": "code",
   "execution_count": 30,
   "id": "f70f5262-f4db-4ae5-b3f8-aa23ad72f924",
   "metadata": {},
   "outputs": [
    {
     "name": "stdout",
     "output_type": "stream",
     "text": [
      "bary/dm= 0.05050205165641609\n",
      "planck= 0.1834566464377754\n",
      "fb= 0.2752805779295944\n"
     ]
    }
   ],
   "source": [
    "print_bary_dm_frac(sn_GSE, R200_GSE)"
   ]
  },
  {
   "cell_type": "code",
   "execution_count": 34,
   "id": "eb60dda0-e65a-4c83-b726-f776725ea9ca",
   "metadata": {},
   "outputs": [
    {
     "data": {
      "text/plain": [
       "(785575, 10)"
      ]
     },
     "execution_count": 34,
     "metadata": {},
     "output_type": "execute_result"
    }
   ],
   "source": [
    "np.concatenate((sn_MW.part0.GFM_Metals, sn_GSE.part0.GFM_Metals)).shape"
   ]
  },
  {
   "cell_type": "code",
   "execution_count": 35,
   "id": "bd29d0c8-efcc-4e58-a55b-d49720b08904",
   "metadata": {},
   "outputs": [
    {
     "data": {
      "text/plain": [
       "226.5"
      ]
     },
     "execution_count": 35,
     "metadata": {},
     "output_type": "execute_result"
    }
   ],
   "source": [
    "97.5 + 129"
   ]
  },
  {
   "cell_type": "code",
   "execution_count": 36,
   "id": "7d0e1334-2f5b-4a2e-818f-69cfdf44408a",
   "metadata": {},
   "outputs": [],
   "source": [
    "def separate(pos, vel, Rstart, Vvir, e, pro):\n",
    "    vrad = np.sqrt(Vvir*Vvir - Vvir*e*Vvir*e)\n",
    "    vphi = Vvir * e / np.sqrt(2.)\n",
    "\n",
    "    pos[:,0] += Rstart\n",
    "\n",
    "    vel[:,0] += -vrad\n",
    "    vel[:,1] += pro * vphi\n",
    "    vel[:,2] += vphi\n",
    "\n",
    "    return pos, vel\n",
    "\n",
    "def rotate(pos, vel, angle):\n",
    "    theta = angle * np.pi/180.\n",
    "    phi = 0.\n",
    "\n",
    "    pos_rot = np.copy(pos)\n",
    "    vel_rot = np.copy(vel)\n",
    "\n",
    "    pos_rot[:,0] = np.cos(phi)*(np.cos(theta)*pos[:,0]+np.sin(theta)*pos[:,1])-np.sin(phi)*pos[:,1]\n",
    "    pos_rot[:,1] = np.sin(phi)*(np.cos(theta)*pos[:,0]+np.sin(theta)*pos[:,2])+np.cos(phi)*pos[:,1]\n",
    "    pos_rot[:,2] = -np.sin(theta)*pos[:,0]+np.cos(theta)*pos[:,2]\n",
    "\n",
    "    vel_rot[:,0] = np.cos(phi)*(np.cos(theta)*vel[:,0]+np.sin(theta)*vel[:,1])-np.sin(phi)*vel[:,1]\n",
    "    vel_rot[:,1] = np.sin(phi)*(np.cos(theta)*vel[:,0]+np.sin(theta)*vel[:,2])+np.cos(phi)*vel[:,1]\n",
    "    vel_rot[:,2] = -np.sin(theta)*vel[:,0]+np.cos(theta)*vel[:,2]\n",
    "\n",
    "    return pos_rot, vel_rot\n"
   ]
  },
  {
   "cell_type": "code",
   "execution_count": 37,
   "id": "7688fc19-a793-414f-aa89-bdef5d45ff48",
   "metadata": {},
   "outputs": [],
   "source": [
    "Rstart = 129.\n",
    "Vvir = 129.\n",
    "e = 0.5\n",
    "pro = 1.\n",
    "angle = -165"
   ]
  },
  {
   "cell_type": "code",
   "execution_count": 45,
   "id": "96a7d2a3-e5ac-492d-b91c-16228b83fb55",
   "metadata": {},
   "outputs": [],
   "source": [
    "pos, vel = separate(np.array([[0.,0.,0.]]), np.array([[0., 0., 0.]]), Rstart, Vvir, e, pro)\n",
    "pos, vel = rotate(pos, vel, angle)"
   ]
  },
  {
   "cell_type": "code",
   "execution_count": 51,
   "id": "3787202d-98fd-406f-8128-d19378efae6e",
   "metadata": {},
   "outputs": [],
   "source": [
    "def rt_eq1(sn_MW, sn_GSE, R_GSE=129.):\n",
    "    M_GSE = 0.0\n",
    "    M_MW = 0.0\n",
    "    \n",
    "    for i in range(6):\n",
    "        M_MW += sn_MW.MassTable[i] * sn_MW.NumPart_Total[i]\n",
    "        M_GSE += sn_GSE.MassTable[i] * sn_GSE.NumPart_Total[i]\n",
    "    \n",
    "    rt = R_GSE * (M_GSE / (2*M_MW))**(1./3.)\n",
    "    print(rt)\n",
    "    \n",
    "    return rt"
   ]
  },
  {
   "cell_type": "code",
   "execution_count": 52,
   "id": "c1bbafc4-1308-4796-8c74-238090b30438",
   "metadata": {},
   "outputs": [
    {
     "name": "stdout",
     "output_type": "stream",
     "text": [
      "80.55584819878273\n"
     ]
    },
    {
     "data": {
      "text/plain": [
       "80.55584819878273"
      ]
     },
     "execution_count": 52,
     "metadata": {},
     "output_type": "execute_result"
    }
   ],
   "source": [
    "rt_eq1(sn_MW, sn_GSE)"
   ]
  },
  {
   "cell_type": "code",
   "execution_count": 54,
   "id": "43d32b90-082c-4df4-9ce1-0c00e8551693",
   "metadata": {},
   "outputs": [],
   "source": [
    "def compute_rho0(M_HALOGAS, RC, R200):\n",
    "    rho0 = M_HALOGAS / ( 4 * np.pi * RC * RC * RC * (10*R200/RC - np.arctan(10*R200/RC) ) )\n",
    "    return rho0"
   ]
  },
  {
   "cell_type": "code",
   "execution_count": 58,
   "id": "bb36a691-8cf7-4caa-975c-b29e872a0b32",
   "metadata": {},
   "outputs": [
    {
     "name": "stdout",
     "output_type": "stream",
     "text": [
      "9.608356363277632e-06\n",
      "7.57281209259249e-06\n"
     ]
    }
   ],
   "source": [
    "M_HALOGAS = 0.25 * 49.9148\n",
    "rho0_MW = compute_rho0(M_HALOGAS, 9, 129)\n",
    "print(rho0_MW)\n",
    "\n",
    "M_HALOGAS = 0.18 * 21.5513\n",
    "rho0_GSE = compute_rho0(M_HALOGAS, 6.5, 97.5)\n",
    "print(rho0_GSE)"
   ]
  },
  {
   "cell_type": "code",
   "execution_count": 60,
   "id": "669ff735-d571-4789-a59c-34e7b75b058e",
   "metadata": {},
   "outputs": [],
   "source": [
    "def compute_rho(r, rho0, rc):\n",
    "    ans = rho0 * (1 + (r/rc)**2)**(-1)\n",
    "    return ans"
   ]
  },
  {
   "cell_type": "code",
   "execution_count": 62,
   "id": "e82a4c94-0fbf-4fd9-8f74-091cad239040",
   "metadata": {},
   "outputs": [
    {
     "data": {
      "text/plain": [
       "4.654209217949337e-08"
      ]
     },
     "execution_count": 62,
     "metadata": {},
     "output_type": "execute_result"
    }
   ],
   "source": [
    "compute_rho(129, rho0_MW, 9)"
   ]
  },
  {
   "cell_type": "code",
   "execution_count": 68,
   "id": "80a7caa4-b2cf-447f-ad45-690ae084df17",
   "metadata": {},
   "outputs": [
    {
     "data": {
      "text/plain": [
       "4.966452883884244e-08"
      ]
     },
     "execution_count": 68,
     "metadata": {},
     "output_type": "execute_result"
    }
   ],
   "source": [
    "compute_rho(80, rho0_GSE, 6.5)"
   ]
  },
  {
   "cell_type": "code",
   "execution_count": 72,
   "id": "7c90dbe2-c765-4cea-aeb6-ab53e29b2ac7",
   "metadata": {},
   "outputs": [
    {
     "data": {
      "text/plain": [
       "65.0"
      ]
     },
     "execution_count": 72,
     "metadata": {},
     "output_type": "execute_result"
    }
   ],
   "source": [
    "6.5*10"
   ]
  },
  {
   "cell_type": "code",
   "execution_count": null,
   "id": "12ecfc1b-2989-4654-82aa-99441659e155",
   "metadata": {},
   "outputs": [],
   "source": []
  }
 ],
 "metadata": {
  "kernelspec": {
   "display_name": "Python 3",
   "language": "python",
   "name": "python3"
  },
  "language_info": {
   "codemirror_mode": {
    "name": "ipython",
    "version": 3
   },
   "file_extension": ".py",
   "mimetype": "text/x-python",
   "name": "python",
   "nbconvert_exporter": "python",
   "pygments_lexer": "ipython3",
   "version": "3.8.8"
  }
 },
 "nbformat": 4,
 "nbformat_minor": 5
}
