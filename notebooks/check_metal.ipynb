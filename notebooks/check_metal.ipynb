{
 "cells": [
  {
   "cell_type": "code",
   "execution_count": 1,
   "id": "1b29d909-23d1-43de-9b5c-83d226e05d9e",
   "metadata": {},
   "outputs": [],
   "source": [
    "import numpy as np\n",
    "import arepo\n",
    "import matplotlib.pyplot as plt\n",
    "from scipy.signal import savgol_filter\n",
    "from tqdm import tqdm\n",
    "import matplotlib as mpl\n",
    "from scipy.stats import binned_statistic_2d\n",
    "from numba import njit\n",
    "import h5py as h5"
   ]
  },
  {
   "cell_type": "code",
   "execution_count": 2,
   "id": "f675376d-2748-4b73-adcb-682ab84177d2",
   "metadata": {},
   "outputs": [],
   "source": [
    "basepath = '/n/holylfs05/LABS/hernquist_lab/Users/abeane/GSEgas/'"
   ]
  },
  {
   "cell_type": "code",
   "execution_count": 3,
   "id": "bcfd6f9c-d54f-4f11-8a50-bbfe7f888ff8",
   "metadata": {},
   "outputs": [],
   "source": [
    "ics = arepo.Snapshot(basepath+'ics/MW3iso_fg0.7_MHG0.25_RC9/lvl4/MW.hdf5')"
   ]
  },
  {
   "cell_type": "code",
   "execution_count": 4,
   "id": "c6d70979-3430-4a61-9867-7ffd4c418c91",
   "metadata": {},
   "outputs": [
    {
     "data": {
      "text/plain": [
       "array([0.5011872 , 0.5011872 , 0.5011872 , ..., 0.05011872, 0.05011872,\n",
       "       0.05011872], dtype=float32)"
      ]
     },
     "execution_count": 4,
     "metadata": {},
     "output_type": "execute_result"
    }
   ],
   "source": [
    "ics.part0.GFM_Metallicity"
   ]
  },
  {
   "cell_type": "code",
   "execution_count": 5,
   "id": "c13d5de4-840a-43cc-b411-e00e5cedca64",
   "metadata": {},
   "outputs": [],
   "source": [
    "sn0 = arepo.Snapshot(basepath+'runs/MW3iso_fg0.7_MHG0.25_RC9/lvl4/output', 0, combineFiles=True)"
   ]
  },
  {
   "cell_type": "code",
   "execution_count": 8,
   "id": "5ef53b6d-d9b4-4f9b-b366-6a50851374f4",
   "metadata": {},
   "outputs": [
    {
     "data": {
      "text/plain": [
       "array([0.00063651, 0.00063651, 0.00063651, ..., 0.00063651, 0.00063651,\n",
       "       0.00063651], dtype=float32)"
      ]
     },
     "execution_count": 8,
     "metadata": {},
     "output_type": "execute_result"
    }
   ],
   "source": [
    "sn0.part0.GFM_Metallicity"
   ]
  },
  {
   "cell_type": "code",
   "execution_count": 16,
   "id": "1785ca06-fcb2-4c5e-a29b-33fe031a0eef",
   "metadata": {},
   "outputs": [
    {
     "data": {
      "text/plain": [
       "0.006365078"
      ]
     },
     "execution_count": 16,
     "metadata": {},
     "output_type": "execute_result"
    }
   ],
   "source": [
    "np.sum(ics.part0.GFM_Metals[0][2:])"
   ]
  },
  {
   "cell_type": "code",
   "execution_count": null,
   "id": "c9201590-288f-407b-a845-271dd3c839e7",
   "metadata": {},
   "outputs": [],
   "source": []
  }
 ],
 "metadata": {
  "kernelspec": {
   "display_name": "Python 3",
   "language": "python",
   "name": "python3"
  },
  "language_info": {
   "codemirror_mode": {
    "name": "ipython",
    "version": 3
   },
   "file_extension": ".py",
   "mimetype": "text/x-python",
   "name": "python",
   "nbconvert_exporter": "python",
   "pygments_lexer": "ipython3",
   "version": "3.8.8"
  }
 },
 "nbformat": 4,
 "nbformat_minor": 5
}
