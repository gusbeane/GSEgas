{
 "cells": [
  {
   "cell_type": "code",
   "execution_count": 1,
   "id": "4c9b91e3-832c-430e-ae13-3805f21942fd",
   "metadata": {},
   "outputs": [],
   "source": [
    "import numpy as np\n",
    "import arepo\n",
    "import matplotlib.pyplot as plt"
   ]
  },
  {
   "cell_type": "code",
   "execution_count": 2,
   "id": "8f50a6b0-9a54-4f26-932a-2fea9a7f2e86",
   "metadata": {},
   "outputs": [],
   "source": [
    "basepath = '/n/holylfs05/LABS/hernquist_lab/Users/abeane/GSEgas'"
   ]
  },
  {
   "cell_type": "code",
   "execution_count": 3,
   "id": "0932d9b5-554b-4dcd-ad30-447343fd1188",
   "metadata": {},
   "outputs": [],
   "source": [
    "sn = arepo.Snapshot(basepath + '/FIRE/m12i_res7100/output/', 172, combineFiles=True)"
   ]
  },
  {
   "cell_type": "code",
   "execution_count": 4,
   "id": "57d01eb6-791f-4be2-bead-2591bc74cc0c",
   "metadata": {},
   "outputs": [],
   "source": [
    "def compute_T(sn):\n",
    "    u = sn.part0.InternalEnergy\n",
    "    xe = sn.part0.ElectronAbundance\n",
    "    \n",
    "    gamma=5/3\n",
    "    \n",
    "    XH = 0.76\n",
    "    mp = 1.672621911E-24\n",
    "    mu = 4 * mp / (1 + 3*XH + 4*XH*xe)\n",
    "    \n",
    "    kB = 1.381E-16\n",
    "    \n",
    "    T = (gamma - 1.) * (u/kB) * 1E10 * mu\n",
    "    return T\n",
    "\n",
    "def compute_n(sn):\n",
    "    rho = np.copy(sn.part0.Density)\n",
    "    xe  = sn.part0.ElectronAbundance\n",
    "    # print(rho[rho>0])\n",
    "    \n",
    "    #convert rho to cgs\n",
    "    UnitMass   = 1.989e43\n",
    "    UnitLength = 3.085678e21\n",
    "    rho *= UnitMass/UnitLength**3\n",
    "    # print(UnitMass/UnitLength**3)\n",
    "    \n",
    "    XH = 0.76\n",
    "    mp = 1.672621911E-24\n",
    "    mu = 4 * mp / (1 + 3*XH + 4*XH*xe)\n",
    "    \n",
    "    # print(np.median(mu))\n",
    "    # print(np.where(np.isnan(rho[rho>0]))[0])\n",
    "    # print(rho[:10])\n",
    "    \n",
    "    n = rho / mu\n",
    "    \n",
    "    return n"
   ]
  },
  {
   "cell_type": "code",
   "execution_count": 5,
   "id": "59ceea6d-c03c-4d6f-a8bb-faffe2c6744f",
   "metadata": {},
   "outputs": [],
   "source": [
    "def Jeans(sn):\n",
    "    gamma = 5./3.\n",
    "    \n",
    "    # P = sn.part0.Pressure\n",
    "    P = (gamma-1)*sn.part0.rho * sn.part0.u\n",
    "    rho = sn.part0.rho\n",
    "    \n",
    "    cssq = gamma * P / rho\n",
    "    G = 43018.7\n",
    "    \n",
    "    LJ = np.sqrt(np.pi * cssq / (G * rho))\n",
    "    \n",
    "    # cell_volume = sn.part0.mass.value / sn.part0.rho.value\n",
    "    # cell_size = (3/(4*np.pi) * cell_volume)**(1./3.)\n",
    "    cell_size = sn.part0.SmoothingLength\n",
    "    \n",
    "    return LJ, cell_size"
   ]
  },
  {
   "cell_type": "code",
   "execution_count": 29,
   "id": "faef7aab-6ebd-4ba9-b38e-d00df2cae130",
   "metadata": {},
   "outputs": [],
   "source": [
    "n = compute_n(sn)\n",
    "T = compute_T(sn)"
   ]
  },
  {
   "cell_type": "code",
   "execution_count": 30,
   "id": "7a30a51f-6de9-4621-baa9-d0d6d07aae42",
   "metadata": {},
   "outputs": [
    {
     "name": "stdout",
     "output_type": "stream",
     "text": [
      "3.1198332\n"
     ]
    }
   ],
   "source": [
    "print(np.max(np.log10(n)))"
   ]
  },
  {
   "cell_type": "code",
   "execution_count": 23,
   "id": "4cef363f-f77d-4c96-8e91-ffa2879cabe6",
   "metadata": {},
   "outputs": [],
   "source": [
    "LJ, size = Jeans(sn)"
   ]
  },
  {
   "cell_type": "code",
   "execution_count": 32,
   "id": "d50b227d-29e5-426e-b1e0-4ab4cff8bb00",
   "metadata": {},
   "outputs": [
    {
     "data": {
      "text/plain": [
       "<matplotlib.lines.Line2D at 0x2b633c438610>"
      ]
     },
     "execution_count": 32,
     "metadata": {},
     "output_type": "execute_result"
    },
    {
     "data": {
      "image/png": "[encoded data removed]",
      "text/plain": [
       "<Figure size 432x288 with 1 Axes>"
      ]
     },
     "metadata": {
      "needs_background": "light"
     },
     "output_type": "display_data"
    }
   ],
   "source": [
    "key = sn.part0.sfr > 0\n",
    "\n",
    "plt.hist(np.log10(size/LJ), bins=np.linspace(-2, 0.75, 128));\n",
    "plt.hist(np.log10(size[key]/LJ[key]), bins=np.linspace(-2, 0.75, 128), alpha=0.8);\n",
    "plt.yscale('log')\n",
    "plt.axvline(np.log10(0.25), c='r')"
   ]
  },
  {
   "cell_type": "code",
   "execution_count": 42,
   "id": "ff1940d7-1daf-4c8d-80bd-fc604de18981",
   "metadata": {},
   "outputs": [],
   "source": [
    "UnitMass_in_g = 1.989e+43\n",
    "UnitVelocity_in_cm_per_s = 100000\n",
    "UnitTime_in_s = 3.08568e+16\n",
    "SOLAR_MASS = 1.989e33\n",
    "SEC_PER_YEAR = 3.15576e7"
   ]
  },
  {
   "cell_type": "code",
   "execution_count": 41,
   "id": "84071501-8a07-4309-99e3-dd53988c5eb0",
   "metadata": {},
   "outputs": [
    {
     "name": "stdout",
     "output_type": "stream",
     "text": [
      "171\n",
      "0.22983384\n",
      "892303.2146412879\n"
     ]
    }
   ],
   "source": [
    "np.argmax(sn.part0.rho)\n",
    "pos_nmax = sn.part0.pos[np.argmax(sn.part0.rho)]\n",
    "rdiff = np.linalg.norm(sn.part0.pos - pos_nmax, axis=1)\n",
    "key = rdiff < 0.1\n",
    "print(len(np.where(key)[0]))\n",
    "\n",
    "print(np.sum(sn.part0.sfr[key]))\n",
    "print(np.sum(sn.part0.mass[key])*1E10)\n"
   ]
  },
  {
   "cell_type": "code",
   "execution_count": 43,
   "id": "37c85fb3-5c0a-4970-9fe0-10bbccd2c47f",
   "metadata": {},
   "outputs": [
    {
     "name": "stdout",
     "output_type": "stream",
     "text": [
      "0.22983384\n",
      "892303.2146412879\n",
      "0.003970558173716877\n"
     ]
    }
   ],
   "source": [
    "Mg = np.sum(sn.part0.mass[key])\n",
    "sfr = np.sum(sn.part0.sfr[key])\n",
    "sfr_cu = sfr / ((UnitMass_in_g / SOLAR_MASS) / (UnitTime_in_s / SEC_PER_YEAR))\n",
    "\n",
    "print(sfr)\n",
    "print(Mg*1E10)\n",
    "print(Mg/sfr_cu)"
   ]
  },
  {
   "cell_type": "code",
   "execution_count": 44,
   "id": "dfb5847c-c348-45e9-861b-f62f60c90016",
   "metadata": {},
   "outputs": [],
   "source": [
    "rdiff4 = np.linalg.norm(sn.part4.pos - pos_nmax, axis=1)\n",
    "key4 = rdiff4 < 0.1"
   ]
  },
  {
   "cell_type": "code",
   "execution_count": 50,
   "id": "3cfae1a8-957b-460d-8240-91cb4e307e7d",
   "metadata": {},
   "outputs": [
    {
     "name": "stdout",
     "output_type": "stream",
     "text": [
      "0.17268185\n"
     ]
    }
   ],
   "source": [
    "print(np.sum(sn.part4.mass[key4])/Mg)"
   ]
  },
  {
   "cell_type": "markdown",
   "id": "871373f9-6f40-440c-8e3c-ab9b7f7f399a",
   "metadata": {},
   "source": [
    "### comparing across snapshots"
   ]
  },
  {
   "cell_type": "code",
   "execution_count": 8,
   "id": "1a41381a-9377-4743-9550-dd85aee3f04d",
   "metadata": {},
   "outputs": [],
   "source": [
    "sn172 = arepo.Snapshot(basepath + '/FIRE/m12i_res7100/output/', 172, combineFiles=True)"
   ]
  },
  {
   "cell_type": "code",
   "execution_count": 9,
   "id": "ce5f26f9-eede-4df9-a444-b4c2b8b00577",
   "metadata": {},
   "outputs": [],
   "source": [
    "sn214 = arepo.Snapshot(basepath + '/FIRE/m12i_res7100/output/', 214, combineFiles=True)"
   ]
  },
  {
   "cell_type": "code",
   "execution_count": 25,
   "id": "2dc752f0-b61a-4414-ac09-024dd7bbb958",
   "metadata": {},
   "outputs": [],
   "source": [
    "def get_pos_mass(sn):\n",
    "    pos = []\n",
    "    vel = []\n",
    "    mass = []\n",
    "    \n",
    "    for i in [0, 1, 2, 3, 4]:\n",
    "        if sn.NumPart_Total[i] > 0:\n",
    "            part = getattr(sn, 'part'+str(i))\n",
    "            pos.append(part.pos)\n",
    "            vel.append(part.vel)\n",
    "            if sn.MassTable[i] > 0:\n",
    "                mass.append(np.full(sn.NumPart_Total[i], sn.MassTable[i]))\n",
    "            else:\n",
    "                mass.append(part.mass)\n",
    "    \n",
    "    pos = np.concatenate(pos)\n",
    "    vel = np.concatenate(vel)\n",
    "    mass = np.concatenate(mass)\n",
    "    \n",
    "    return pos, vel, mass\n",
    "            "
   ]
  },
  {
   "cell_type": "code",
   "execution_count": 26,
   "id": "7d89fe06-10a5-4c9a-a79a-438ed64e6b87",
   "metadata": {},
   "outputs": [],
   "source": [
    "pos172, vel172, mass172 = get_pos_mass(sn172)\n",
    "pos214, vel214, mass214 = get_pos_mass(sn214)"
   ]
  },
  {
   "cell_type": "code",
   "execution_count": 27,
   "id": "eae55951-44d2-42b6-b13d-719e84fc888b",
   "metadata": {},
   "outputs": [
    {
     "name": "stdout",
     "output_type": "stream",
     "text": [
      "-20027739589.600594\n"
     ]
    }
   ],
   "source": [
    "Lz172 = mass172*np.cross(pos172, vel172)[:,2]\n",
    "print(np.sum(Lz172))"
   ]
  },
  {
   "cell_type": "code",
   "execution_count": 28,
   "id": "cf49e493-8f92-4458-be92-5c40b95dd321",
   "metadata": {},
   "outputs": [
    {
     "name": "stdout",
     "output_type": "stream",
     "text": [
      "-12474245400.026144\n"
     ]
    }
   ],
   "source": [
    "Lz214 = mass214*np.cross(pos214, vel214)[:,2]\n",
    "print(np.sum(Lz214))"
   ]
  },
  {
   "cell_type": "code",
   "execution_count": null,
   "id": "72b7b74d-d098-428b-9b6d-2a08ed806896",
   "metadata": {},
   "outputs": [],
   "source": []
  }
 ],
 "metadata": {
  "kernelspec": {
   "display_name": "Python 3",
   "language": "python",
   "name": "python3"
  },
  "language_info": {
   "codemirror_mode": {
    "name": "ipython",
    "version": 3
   },
   "file_extension": ".py",
   "mimetype": "text/x-python",
   "name": "python",
   "nbconvert_exporter": "python",
   "pygments_lexer": "ipython3",
   "version": "3.8.8"
  }
 },
 "nbformat": 4,
 "nbformat_minor": 5
}
