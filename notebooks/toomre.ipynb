{
 "cells": [
  {
   "cell_type": "code",
   "execution_count": 1,
   "id": "89685435-696e-4b2f-8f92-79eacbdd2291",
   "metadata": {},
   "outputs": [],
   "source": [
    "import numpy as np\n",
    "import matplotlib.pyplot as plt"
   ]
  },
  {
   "cell_type": "code",
   "execution_count": 2,
   "id": "e22946eb-a49f-4a65-a1da-786d30472841",
   "metadata": {},
   "outputs": [],
   "source": [
    "basepath = '/n/holylfs05/LABS/hernquist_lab/Users/abeane/GSEgas/'"
   ]
  },
  {
   "cell_type": "code",
   "execution_count": 6,
   "id": "e28f706b-6201-4c82-b7fa-43539426c1b4",
   "metadata": {},
   "outputs": [],
   "source": [
    "toomre_GSE_fname = basepath + 'ics/fgGSE0.5_fgMW0.5-COM/lvl4/GSE_ICs.vci'\n",
    "toomre_MW_fname = basepath + 'ics/fgGSE0.5_fgMW0.5-COM/lvl4/MW_ICs.vci'"
   ]
  },
  {
   "cell_type": "code",
   "execution_count": 14,
   "id": "fdb88f45-12e1-457b-93b2-6fcde4ec74bd",
   "metadata": {},
   "outputs": [],
   "source": [
    "toomre_GSE = np.genfromtxt(toomre_GSE_fname, names=True)\n",
    "toomre_MW = np.genfromtxt(toomre_MW_fname, names=True)"
   ]
  },
  {
   "cell_type": "code",
   "execution_count": 15,
   "id": "ecd4632b-a4e0-42e0-90dd-4e22929fabe4",
   "metadata": {},
   "outputs": [
    {
     "data": {
      "text/plain": [
       "(0.0, 10.0)"
      ]
     },
     "execution_count": 15,
     "metadata": {},
     "output_type": "execute_result"
    },
    {
     "data": {
      "image/png": "[encoded data removed]",
      "text/plain": [
       "<Figure size 432x288 with 1 Axes>"
      ]
     },
     "metadata": {
      "needs_background": "light"
     },
     "output_type": "display_data"
    }
   ],
   "source": [
    "plt.plot(toomre_GSE['R'], toomre_GSE['Q'])\n",
    "plt.plot(toomre_MW['R'], toomre_MW['Q'])\n",
    "plt.xlim(0, 15)\n",
    "plt.ylim(0, 10)"
   ]
  },
  {
   "cell_type": "code",
   "execution_count": null,
   "id": "c020edf9-fee8-474d-aa61-7aa68bc49e87",
   "metadata": {},
   "outputs": [],
   "source": []
  }
 ],
 "metadata": {
  "kernelspec": {
   "display_name": "Python 3",
   "language": "python",
   "name": "python3"
  },
  "language_info": {
   "codemirror_mode": {
    "name": "ipython",
    "version": 3
   },
   "file_extension": ".py",
   "mimetype": "text/x-python",
   "name": "python",
   "nbconvert_exporter": "python",
   "pygments_lexer": "ipython3",
   "version": "3.8.8"
  }
 },
 "nbformat": 4,
 "nbformat_minor": 5
}
