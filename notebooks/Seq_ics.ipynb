{
 "cells": [
  {
   "cell_type": "code",
   "execution_count": 3,
   "id": "dc9a6bf8-6ca0-4067-a435-e643861d21ef",
   "metadata": {},
   "outputs": [],
   "source": [
    "import numpy as np\n",
    "import arepo\n",
    "import matplotlib.pyplot as plt\n",
    "from scipy.signal import savgol_filter\n",
    "from tqdm import tqdm\n",
    "import matplotlib as mpl\n",
    "from scipy.stats import binned_statistic_2d"
   ]
  },
  {
   "cell_type": "code",
   "execution_count": 1,
   "id": "7f9f0c9f-680d-4df2-8442-43250c019dfb",
   "metadata": {},
   "outputs": [],
   "source": [
    "basepath = '/n/holylfs05/LABS/hernquist_lab/Users/abeane/GSEgas/'"
   ]
  },
  {
   "cell_type": "code",
   "execution_count": 6,
   "id": "ca8e3eba-5f28-4036-948a-fffeb4618f78",
   "metadata": {},
   "outputs": [],
   "source": [
    "G = 43018.7\n",
    "H0 = 0.1"
   ]
  },
  {
   "cell_type": "code",
   "execution_count": 14,
   "id": "49dacc4b-2d64-44ac-b6c4-98acc50a757a",
   "metadata": {},
   "outputs": [
    {
     "name": "stdout",
     "output_type": "stream",
     "text": [
      "21.545499399098528\n"
     ]
    }
   ],
   "source": [
    "# GSE2 structural parameters\n",
    "V200 = 97.5\n",
    "MD = 0.007747\n",
    "MB = 0.0\n",
    "LAMBDA = 0.008\n",
    "JD = 0.00955\n",
    "\n",
    "M200 = V200**3 / (10 * G * H0)\n",
    "R200 = V200 / (10 * H0)\n",
    "\n",
    "print(M200)"
   ]
  },
  {
   "cell_type": "code",
   "execution_count": 9,
   "id": "0ba895ce-505a-4ef8-b897-b5c67559e83f",
   "metadata": {},
   "outputs": [
    {
     "data": {
      "text/plain": [
       "0.4641588833612779"
      ]
     },
     "execution_count": 9,
     "metadata": {},
     "output_type": "execute_result"
    }
   ],
   "source": [
    "(1/10)**(1/3)"
   ]
  },
  {
   "cell_type": "code",
   "execution_count": 10,
   "id": "2ff07602-709f-4b6b-b65c-cddcce0346e9",
   "metadata": {},
   "outputs": [
    {
     "name": "stdout",
     "output_type": "stream",
     "text": [
      "V200 =  45.255491127724596\n"
     ]
    }
   ],
   "source": [
    "print('V200 = ', V200*(1/10)**(1/3))"
   ]
  },
  {
   "cell_type": "code",
   "execution_count": 11,
   "id": "8cd06501-65a0-49fe-9634-8728f0dc4696",
   "metadata": {},
   "outputs": [
    {
     "name": "stdout",
     "output_type": "stream",
     "text": [
      "49.90129873752577\n"
     ]
    }
   ],
   "source": [
    "# GSE2 structural parameters\n",
    "V200 = 129\n",
    "MD = 0.007747\n",
    "MB = 0.0\n",
    "LAMBDA = 0.008\n",
    "JD = 0.00955\n",
    "\n",
    "M200 = V200**3 / (10 * G * H0)\n",
    "R200 = V200 / (10 * H0)\n",
    "\n",
    "print(M200)"
   ]
  },
  {
   "cell_type": "code",
   "execution_count": 12,
   "id": "ff0de0c3-5756-4613-97da-9eb6f8e92576",
   "metadata": {},
   "outputs": [
    {
     "data": {
      "text/plain": [
       "2.315545243619489"
      ]
     },
     "execution_count": 12,
     "metadata": {},
     "output_type": "execute_result"
    }
   ],
   "source": [
    "49.9/21.55"
   ]
  },
  {
   "cell_type": "code",
   "execution_count": 6,
   "id": "b76c2117-ee95-418c-88e2-4f6aff7c6251",
   "metadata": {},
   "outputs": [],
   "source": [
    "sn = arepo.Snapshot(basepath + 'ics/Seq1iso_fg0.7/lvl4/Seq_ICs.dat')"
   ]
  },
  {
   "cell_type": "code",
   "execution_count": 9,
   "id": "ed040251-749f-49ba-9950-b4651bbd9db2",
   "metadata": {},
   "outputs": [
    {
     "name": "stdout",
     "output_type": "stream",
     "text": [
      "Num gas: 1953.595899354108\n",
      "Num halo: 71491.68865078875\n",
      "Num disk: 837.2553854374751\n"
     ]
    }
   ],
   "source": [
    "mbar = 7.5E3 * 8 / 1E10\n",
    "mdm = 3.75E4 * 8 / 1E10\n",
    "\n",
    "print('Num gas:', sn.MassTable[0] * sn.NumPart_Total[0]/mbar)\n",
    "print('Num halo:', sn.MassTable[1] * sn.NumPart_Total[1]/mdm)\n",
    "print('Num disk:', sn.MassTable[2] * sn.NumPart_Total[2]/mbar)"
   ]
  },
  {
   "cell_type": "code",
   "execution_count": null,
   "id": "8734b1b0-6206-4999-895a-03855b5df234",
   "metadata": {},
   "outputs": [],
   "source": []
  }
 ],
 "metadata": {
  "kernelspec": {
   "display_name": "Python 3",
   "language": "python",
   "name": "python3"
  },
  "language_info": {
   "codemirror_mode": {
    "name": "ipython",
    "version": 3
   },
   "file_extension": ".py",
   "mimetype": "text/x-python",
   "name": "python",
   "nbconvert_exporter": "python",
   "pygments_lexer": "ipython3",
   "version": "3.8.8"
  }
 },
 "nbformat": 4,
 "nbformat_minor": 5
}
