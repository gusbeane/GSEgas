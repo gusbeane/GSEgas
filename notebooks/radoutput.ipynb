{
 "cells": [
  {
   "cell_type": "code",
   "execution_count": 1,
   "id": "bd897c20-7438-4859-9326-c5024e515778",
   "metadata": {},
   "outputs": [],
   "source": [
    "import numpy as np\n",
    "import arepo\n",
    "import matplotlib.pyplot as plt"
   ]
  },
  {
   "cell_type": "code",
   "execution_count": 2,
   "id": "cb54c200-ee3c-4670-a11f-9ac497994445",
   "metadata": {},
   "outputs": [],
   "source": [
    "basepath = '/n/holylfs05/LABS/hernquist_lab/Users/abeane/GSEgas/'"
   ]
  },
  {
   "cell_type": "code",
   "execution_count": 3,
   "id": "b6b245c2-2f81-4ab1-a9ae-9e87b6e05e1e",
   "metadata": {},
   "outputs": [],
   "source": [
    "sn = arepo.Snapshot(basepath + 'runs/MW3iso_fg0.5/lvl3/output', 50, combineFiles=True)\n",
    "center = sn.part1.pos.value[np.argmin(sn.part1.pot)]"
   ]
  },
  {
   "cell_type": "code",
   "execution_count": 5,
   "id": "1f2b8080-358f-464d-b0aa-a0251932f8e3",
   "metadata": {},
   "outputs": [
    {
     "data": {
      "text/plain": [
       "['Acceleration',\n",
       " 'BirthDensity',\n",
       " 'BirthPos',\n",
       " 'BirthVel',\n",
       " 'ColumnDensity',\n",
       " 'Coordinates',\n",
       " 'CumFeedbackMomentum',\n",
       " 'CumInjFeedbackMomentum',\n",
       " 'CumInjFeedbackMomentumAGB',\n",
       " 'CumSNIINumber',\n",
       " 'CumSNIaNumber',\n",
       " 'Cum_RadMomentumRealInjected',\n",
       " 'Cum_RadiationMomentumReleased',\n",
       " 'FeedbackEnergy',\n",
       " 'FeedbackMomentum',\n",
       " 'FeedbackMomentumAGB',\n",
       " 'GFM_InitialMass',\n",
       " 'GFM_Metallicity',\n",
       " 'GFM_Metals',\n",
       " 'GFM_StellarFormationTime',\n",
       " 'LocISMDens',\n",
       " 'MassReleased',\n",
       " 'Masses',\n",
       " 'NormSphRadFeedback',\n",
       " 'ParticleIDs',\n",
       " 'Potential',\n",
       " 'RadCoolShutoffTime',\n",
       " 'RadFeedTau',\n",
       " 'RadFeed_NumNgb',\n",
       " 'RadiationMomentumReleased',\n",
       " 'SNIINumber',\n",
       " 'SNIaNumber',\n",
       " 'Softenings',\n",
       " 'StarsHsml',\n",
       " 'StarsMaxRadius',\n",
       " 'StromgrenRadius',\n",
       " 'Velocities',\n",
       " '__class__',\n",
       " '__contains__',\n",
       " '__delattr__',\n",
       " '__dict__',\n",
       " '__dir__',\n",
       " '__doc__',\n",
       " '__eq__',\n",
       " '__format__',\n",
       " '__ge__',\n",
       " '__getattr__',\n",
       " '__getattribute__',\n",
       " '__getitem__',\n",
       " '__gt__',\n",
       " '__hash__',\n",
       " '__init__',\n",
       " '__init_subclass__',\n",
       " '__le__',\n",
       " '__lt__',\n",
       " '__module__',\n",
       " '__ne__',\n",
       " '__new__',\n",
       " '__reduce__',\n",
       " '__reduce_ex__',\n",
       " '__repr__',\n",
       " '__setattr__',\n",
       " '__sizeof__',\n",
       " '__str__',\n",
       " '__subclasshook__',\n",
       " '__weakref__',\n",
       " '_num',\n",
       " '_parent',\n",
       " 'acce',\n",
       " 'birp',\n",
       " 'birv',\n",
       " 'data',\n",
       " 'ferg',\n",
       " 'gage',\n",
       " 'gima',\n",
       " 'gmet',\n",
       " 'gz',\n",
       " 'id',\n",
       " 'mass',\n",
       " 'mrel',\n",
       " 'pos',\n",
       " 'pot',\n",
       " 'rade',\n",
       " 'rfcd',\n",
       " 'rfnn',\n",
       " 'rfns',\n",
       " 'snii',\n",
       " 'soft',\n",
       " 'ssml',\n",
       " 'strm',\n",
       " 'taud',\n",
       " 'vel']"
      ]
     },
     "execution_count": 5,
     "metadata": {},
     "output_type": "execute_result"
    }
   ],
   "source": [
    "dir(sn.part4)"
   ]
  },
  {
   "cell_type": "code",
   "execution_count": 66,
   "id": "3bc8a10e-4a61-4074-8d36-ab5585d507a1",
   "metadata": {},
   "outputs": [],
   "source": [
    "snoutl4 = arepo.Snapshot(basepath + 'runs/MW3iso_fg0.5/lvl4-radoutput/output', 10, combineFiles=True)\n",
    "snoutl3 = arepo.Snapshot(basepath + 'runs/MW3iso_fg0.5/lvl3-radoutput/output', 10, combineFiles=True)\n",
    "snoutl2 = arepo.Snapshot(basepath + 'runs/MW3iso_fg0.5/lvl2-radoutput/output', 10, combineFiles=True)\n"
   ]
  },
  {
   "cell_type": "code",
   "execution_count": 67,
   "id": "12e7010e-b956-41b9-a18d-ebd3562b18de",
   "metadata": {},
   "outputs": [
    {
     "name": "stdout",
     "output_type": "stream",
     "text": [
      "[1.6831237  0.64001334 6.0067935  1.489678   0.9922383  1.1279852\n",
      " 3.796039   2.4410088  0.5597569 ]\n",
      "[0.25563988 1.0313649  0.29954228 0.6580477  0.8050854  0.85718775\n",
      " 1.0097865  1.0180628  0.36856404 0.5162946  0.7811236  1.8388983\n",
      " 0.38909072 0.13142394 1.2344168  0.29848468 1.4930079  0.51620466\n",
      " 1.0302144  0.81509155 0.6124059  0.6503344  0.6025259  0.89182043\n",
      " 0.8445326  2.283946   0.19569781 0.4997435  0.3077721  0.04146619\n",
      " 0.48633012 0.6472441  0.78524446 0.55836564 3.5803468  0.33216006\n",
      " 0.8682569 ]\n",
      "[ 2.1244748   3.6684544   0.8481174   0.31201115 15.858271    2.7644215\n",
      "  0.457762    1.1677576   0.4637719   0.9675403   0.14112508  0.3653622\n",
      "  0.43224034  1.66355     0.4917576   0.109056    0.5892823   1.1560199\n",
      "  0.33372584  1.5562911   1.4162923   0.0530144   0.07219151  0.7749811\n",
      "  0.3240269   4.7743163   0.18226655  0.45096946  2.086406    1.3701972\n",
      "  0.18575135  3.4353354   0.6201862   0.89458096  0.7389905   0.17704119\n",
      "  0.17920384  0.88072574  1.8300143   0.5774949   0.89211196  1.2880304\n",
      "  1.1866332   2.2076092   1.2411532   0.20305488  0.8060233   0.1371057\n",
      "  1.8009142   2.309187    1.5183523   0.7399931   0.7817662   0.6703066\n",
      "  2.0537467   1.6390796   1.3182539  15.861146    1.9438955   0.11300337\n",
      "  1.0335851   1.141158    1.2239177   0.42925075  1.9778318   0.06271487\n",
      "  4.185092    1.3455961   0.7986938   1.3362262   2.2761402  10.151615\n",
      "  2.0678916   1.6509725   1.0520843   0.99882835  3.69077     0.9847034\n",
      "  1.25795     0.80928063  0.43005225  2.7869515   1.983537    0.5678772\n",
      "  8.742517    3.321725    1.4893156   0.03487925  2.0683804   1.1209033\n",
      "  0.41429335  4.825214    0.88220584  0.11412828  0.65659845  7.085243\n",
      "  0.18864298  0.55483735  0.7579755   0.5808622   1.2974046   1.4020895\n",
      "  1.7351147   1.3710022   1.2124641   0.5566809   2.717382    0.12196771\n",
      "  1.4976232   2.767597    0.16408783  0.55185467  0.5124841   0.24128412\n",
      "  1.9494743   0.11227645  0.36531147  4.051143    0.5645264   4.6156507\n",
      "  1.2946801 ]\n"
     ]
    }
   ],
   "source": [
    "print(snoutl4.part4.RadFeedTau[snoutl4.part4.RadFeedTau > 0])\n",
    "print(snoutl3.part4.RadFeedTau[snoutl3.part4.RadFeedTau > 0])\n",
    "print(snoutl2.part4.RadFeedTau[snoutl2.part4.RadFeedTau > 0])"
   ]
  },
  {
   "cell_type": "code",
   "execution_count": 68,
   "id": "2d381a75-548e-42f8-b1ff-ad6fa9608291",
   "metadata": {},
   "outputs": [],
   "source": [
    "act_moml4 = np.linalg.norm(snoutl4.part0.RadFeedLinearMomentum, axis=1)\n",
    "cum_moml4 = snoutl4.part0.RadFeedCumMomentum\n",
    "\n",
    "act_moml3 = np.linalg.norm(snoutl3.part0.RadFeedLinearMomentum, axis=1)\n",
    "cum_moml3 = snoutl3.part0.RadFeedCumMomentum\n",
    "\n",
    "act_moml2 = np.linalg.norm(snoutl2.part0.RadFeedLinearMomentum, axis=1)\n",
    "cum_moml2 = snoutl2.part0.RadFeedCumMomentum"
   ]
  },
  {
   "cell_type": "code",
   "execution_count": 69,
   "id": "546dd563-6483-47b7-9704-6f7819faf8c3",
   "metadata": {},
   "outputs": [
    {
     "data": {
      "text/plain": [
       "(0.0, 2.0)"
      ]
     },
     "execution_count": 69,
     "metadata": {},
     "output_type": "execute_result"
    },
    {
     "data": {
      "image/png": "[encoded data removed]",
      "text/plain": [
       "<Figure size 432x288 with 1 Axes>"
      ]
     },
     "metadata": {
      "needs_background": "light"
     },
     "output_type": "display_data"
    }
   ],
   "source": [
    "key = cum_moml4 > 0\n",
    "plt.hist(act_moml4[key]/cum_moml4[key], bins=np.linspace(0, 1, 256), density=True);\n",
    "\n",
    "key = cum_moml3 > 0\n",
    "plt.hist(act_moml3[key]/cum_moml3[key], bins=np.linspace(0, 1, 256), alpha=0.5, density=True);\n",
    "\n",
    "key = cum_moml2 > 0\n",
    "plt.hist(act_moml2[key]/cum_moml2[key], bins=np.linspace(0, 1, 256), alpha=0.5, density=True);\n",
    "\n",
    "# plt.yscale('log')\n",
    "plt.ylim(0, 2)"
   ]
  },
  {
   "cell_type": "code",
   "execution_count": 72,
   "id": "e2929e80-5c03-4adc-9063-3ee9da5f6bf3",
   "metadata": {},
   "outputs": [
    {
     "name": "stdout",
     "output_type": "stream",
     "text": [
      "lvl4 fraction < 0.5 :  0.02513607730414042\n",
      "lvl3 fraction < 0.5 :  0.0385811182125462\n",
      "lvl2 fraction < 0.5 :  0.03840449677572659\n"
     ]
    }
   ],
   "source": [
    "key = cum_moml4 > 0\n",
    "ratiol4 = act_moml4[key]/cum_moml4[key]\n",
    "less5l4 = len(np.where(ratiol4 < 0.5)[0])\n",
    "print('lvl4 fraction < 0.5 : ', less5l4/len(ratiol4))\n",
    "\n",
    "key = cum_moml3 > 0\n",
    "ratiol3 = act_moml3[key]/cum_moml3[key]\n",
    "less5l3 = len(np.where(ratiol3 < 0.5)[0])\n",
    "print('lvl3 fraction < 0.5 : ', less5l3/len(ratiol3))\n",
    "\n",
    "key = cum_moml2 > 0\n",
    "ratiol2 = act_moml2[key]/cum_moml2[key]\n",
    "less5l2 = len(np.where(ratiol2 < 0.5)[0])\n",
    "print('lvl2 fraction < 0.5 : ', less5l2/len(ratiol2))"
   ]
  },
  {
   "cell_type": "code",
   "execution_count": 73,
   "id": "91536d81-9d90-460e-ab46-97d298a697c7",
   "metadata": {},
   "outputs": [
    {
     "name": "stdout",
     "output_type": "stream",
     "text": [
      "0.8909726\n",
      "0.8510264\n",
      "0.8477757\n"
     ]
    }
   ],
   "source": [
    "print(np.sum(act_moml4)/np.sum(cum_moml4))\n",
    "print(np.sum(act_moml3)/np.sum(cum_moml3))\n",
    "print(np.sum(act_moml2)/np.sum(cum_moml2))"
   ]
  },
  {
   "cell_type": "code",
   "execution_count": null,
   "id": "0e6451d4-4faa-4901-9b53-41cfa48e67c4",
   "metadata": {},
   "outputs": [],
   "source": []
  }
 ],
 "metadata": {
  "kernelspec": {
   "display_name": "Python 3",
   "language": "python",
   "name": "python3"
  },
  "language_info": {
   "codemirror_mode": {
    "name": "ipython",
    "version": 3
   },
   "file_extension": ".py",
   "mimetype": "text/x-python",
   "name": "python",
   "nbconvert_exporter": "python",
   "pygments_lexer": "ipython3",
   "version": "3.8.8"
  }
 },
 "nbformat": 4,
 "nbformat_minor": 5
}
