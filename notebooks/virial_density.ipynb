{
 "cells": [
  {
   "cell_type": "code",
   "execution_count": 2,
   "id": "d92c5c78-a936-4c23-82d3-9b6953eeebe7",
   "metadata": {},
   "outputs": [],
   "source": [
    "import arepo\n",
    "import numpy as np\n",
    "from scipy.spatial import KDTree\n",
    "import matplotlib.pyplot as plt"
   ]
  },
  {
   "cell_type": "code",
   "execution_count": 3,
   "id": "9d707796-598c-474d-b422-7023d2aac063",
   "metadata": {},
   "outputs": [],
   "source": [
    "basepath = '/n/holylfs05/LABS/hernquist_lab/Users/abeane/GSEgas'"
   ]
  },
  {
   "cell_type": "code",
   "execution_count": 4,
   "id": "94e97598-556f-4292-a071-43e4039950e9",
   "metadata": {},
   "outputs": [],
   "source": [
    "# sn = arepo.Snapshot(basepath + '/runs/MW2iso_fg0.5/lvl3/output', 50, combineFiles=True)\n",
    "sn4 = arepo.Snapshot(basepath + '/runs/MW3iso_fg0.5/lvl4/output', 40, combineFiles=True)\n",
    "sn3 = arepo.Snapshot(basepath + '/runs/MW3iso_fg0.5/lvl3/output', 40, combineFiles=True)\n",
    "sn2 = arepo.Snapshot(basepath + '/runs/MW3iso_fg0.5/lvl2/output', 40, combineFiles=True)\n",
    "# sn = arepo.Snapshot(basepath + '/runs/MWiso_fg0.5_Z0-newSMUGGLE/lvl3/output', 50, combineFiles=True)"
   ]
  },
  {
   "cell_type": "code",
   "execution_count": 5,
   "id": "74dfe1e1-f12c-442c-bfc3-e28996aa40bb",
   "metadata": {},
   "outputs": [],
   "source": [
    "def construct_pos_vel_mass(sn):\n",
    "\n",
    "    ptypes = [1, 2, 3, 4]\n",
    "\n",
    "    pos = []\n",
    "    vel = []\n",
    "    mass = []\n",
    "    \n",
    "    for pt in ptypes:\n",
    "        part = getattr(sn, 'part'+str(pt))\n",
    "        pos.append(part.pos.value)\n",
    "        vel.append(part.vel.value)\n",
    "    \n",
    "        if sn.MassTable[pt] > 0:\n",
    "            mass.append(np.full(sn.NumPart_Total[pt], sn.MassTable[pt].value))\n",
    "        else:\n",
    "            mass.append(part.mass.value)\n",
    "    \n",
    "    pos = np.concatenate(pos)\n",
    "    vel = np.concatenate(vel)\n",
    "    mass = np.concatenate(mass)\n",
    "    \n",
    "    return pos, vel, mass"
   ]
  },
  {
   "cell_type": "code",
   "execution_count": 6,
   "id": "f6bd9cee-dea2-4d42-8668-c9c36348dfbb",
   "metadata": {},
   "outputs": [],
   "source": [
    "pos4, vel4, mass4 = construct_pos_vel_mass(sn4)\n",
    "pos3, vel3, mass3 = construct_pos_vel_mass(sn3)\n",
    "pos2, vel2, mass2 = construct_pos_vel_mass(sn2)"
   ]
  },
  {
   "cell_type": "code",
   "execution_count": 7,
   "id": "85dc3893-a4a1-4d99-8a82-466eb622a28f",
   "metadata": {},
   "outputs": [],
   "source": [
    "tree4 = KDTree(pos4)\n",
    "tree3 = KDTree(pos3)\n",
    "tree2 = KDTree(pos2)"
   ]
  },
  {
   "cell_type": "code",
   "execution_count": 8,
   "id": "c8a3ef38-972f-42ba-8f54-b8eca86f403a",
   "metadata": {},
   "outputs": [],
   "source": [
    "def get_gas_coord(sn):\n",
    "    pos_gas = sn.part0.pos.value\n",
    "    vel_gas = sn.part0.vel.value\n",
    "    dens_gas = sn.part0.rho.value\n",
    "    mass_gas = sn.part0.mass.value\n",
    "    return pos_gas, vel_gas, dens_gas, mass_gas"
   ]
  },
  {
   "cell_type": "code",
   "execution_count": 9,
   "id": "dc3fce9f-88c6-409d-b3a0-c4f960259372",
   "metadata": {},
   "outputs": [],
   "source": [
    "pos_gas4, vel_gas4, dens_gas4, mass_gas4 = get_gas_coord(sn4)\n",
    "pos_gas3, vel_gas3, dens_gas3, mass_gas3 = get_gas_coord(sn3)\n",
    "pos_gas2, vel_gas2, dens_gas2, mass_gas2 = get_gas_coord(sn2)"
   ]
  },
  {
   "cell_type": "code",
   "execution_count": 11,
   "id": "7138a091-d6c9-4035-bf64-de11a760f5b3",
   "metadata": {},
   "outputs": [],
   "source": [
    "r4, treekey4 = tree4.query(pos_gas4, k=64)\n",
    "r3, treekey3 = tree3.query(pos_gas3, k=64)\n",
    "r2, treekey2 = tree2.query(pos_gas2, k=64)"
   ]
  },
  {
   "cell_type": "code",
   "execution_count": 12,
   "id": "4f7ce506-0f27-43a8-9984-2a12efd1a5d6",
   "metadata": {},
   "outputs": [],
   "source": [
    "def avg_dens(mass, r, treekey):\n",
    "    mass_in_ball = np.sum(mass[treekey], axis=1)\n",
    "    volume_ball = (4*np.pi/3.) * r[:,-1]**3\n",
    "    avg_dens = mass_in_ball / volume_ball\n",
    "    return avg_dens"
   ]
  },
  {
   "cell_type": "code",
   "execution_count": 13,
   "id": "b86794ab-8618-4a3a-a53b-35cbc38c5a94",
   "metadata": {},
   "outputs": [],
   "source": [
    "avg_dens4 = avg_dens(mass4, r4, treekey4)\n",
    "avg_dens3 = avg_dens(mass3, r3, treekey3)\n",
    "avg_dens2 = avg_dens(mass2, r2, treekey2)"
   ]
  },
  {
   "cell_type": "code",
   "execution_count": 20,
   "id": "a328f727-b466-4f79-8e23-6151a93a7c38",
   "metadata": {},
   "outputs": [],
   "source": [
    "def compute_n(sn):\n",
    "    rho = np.copy(sn.part0.Density.value)\n",
    "    xe  = sn.part0.ElectronAbundance\n",
    "    # print(rho[rho>0])\n",
    "    \n",
    "    #convert rho to cgs\n",
    "    UnitMass   = sn.parameters.UnitMass_in_g\n",
    "    UnitLength = sn.parameters.UnitLength_in_cm\n",
    "    rho *= UnitMass/UnitLength**3\n",
    "    # print(UnitMass/UnitLength**3)\n",
    "    \n",
    "    XH = 0.76\n",
    "    mp = 1.672621911E-24\n",
    "    mu = 4 * mp / (1 + 3*XH + 4*XH*xe)\n",
    "    \n",
    "    # print(np.median(mu))\n",
    "    # print(np.where(np.isnan(rho[rho>0]))[0])\n",
    "    # print(rho[:10])\n",
    "    \n",
    "    n = rho / mu\n",
    "    \n",
    "    return n"
   ]
  },
  {
   "cell_type": "code",
   "execution_count": 21,
   "id": "8f641a86-7d2f-4f92-879f-871b0dd5dee3",
   "metadata": {},
   "outputs": [],
   "source": [
    "n4 = compute_n(sn4)\n",
    "n3 = compute_n(sn3)\n",
    "n2 = compute_n(sn2)"
   ]
  },
  {
   "cell_type": "code",
   "execution_count": 23,
   "id": "869e9417-2729-44b2-bbc5-cbe9f49c54f6",
   "metadata": {},
   "outputs": [],
   "source": [
    "vir4 = sn4.part0.VirialParameter\n",
    "vir3 = sn3.part0.VirialParameter\n",
    "vir2 = sn2.part0.VirialParameter"
   ]
  },
  {
   "cell_type": "code",
   "execution_count": 25,
   "id": "0fc661ce-46ff-4d94-aff7-9a37e4eb00bd",
   "metadata": {},
   "outputs": [
    {
     "data": {
      "image/png": "[encoded data removed]",
      "text/plain": [
       "<Figure size 432x288 with 1 Axes>"
      ]
     },
     "metadata": {
      "needs_background": "light"
     },
     "output_type": "display_data"
    }
   ],
   "source": [
    "plt.hist(np.log10(avg_dens4/dens_gas4), density=True, alpha=0.5, bins=np.linspace(0, 10, 100));\n",
    "plt.hist(np.log10(avg_dens3/dens_gas3), density=True, alpha=0.5, bins=np.linspace(0, 10, 100));\n",
    "plt.hist(np.log10(avg_dens2/dens_gas2), density=True, alpha=0.5, bins=np.linspace(0, 10, 100));\n",
    "plt.axvline(1, c='r')\n",
    "plt.yscale('log')"
   ]
  },
  {
   "cell_type": "code",
   "execution_count": 40,
   "id": "ff57fcd6-fefb-4487-a826-4ff848e1f4a1",
   "metadata": {},
   "outputs": [
    {
     "name": "stdout",
     "output_type": "stream",
     "text": [
      "lvl4 should be SF 0.13380281690140844\n",
      "lvl3 should be SF 0.029107243121841663\n",
      "lvl2 should be SF 0.013392857142857142\n"
     ]
    }
   ],
   "source": [
    "should_be_SF4 = np.logical_and(n4 > 100, np.logical_and(vir4 > 1, (dens_gas4/(dens_gas4+avg_dens4))*vir4 < 1))\n",
    "should_be_SF3 = np.logical_and(n3 > 100, np.logical_and(vir3 > 1, (dens_gas3/(dens_gas3+avg_dens3))*vir3 < 1))\n",
    "should_be_SF2 = np.logical_and(n2 > 100, np.logical_and(vir2 > 1, (dens_gas2/(dens_gas2+avg_dens2))*vir2 < 1))\n",
    "\n",
    "should_be_SF4 = np.logical_and(should_be_SF4, n4<500)\n",
    "should_be_SF3 = np.logical_and(should_be_SF3, n3<500)\n",
    "should_be_SF2 = np.logical_and(should_be_SF2, n2<500)\n",
    "\n",
    "print('lvl4 should be SF', len(np.where(should_be_SF4)[0])/len(n4[np.logical_and(n4>100, n4<500)]))\n",
    "print('lvl3 should be SF', len(np.where(should_be_SF3)[0])/len(n3[np.logical_and(n3>100, n3<500)]))\n",
    "print('lvl2 should be SF', len(np.where(should_be_SF2)[0])/len(n2[np.logical_and(n2>100, n2<500)]))\n"
   ]
  },
  {
   "cell_type": "code",
   "execution_count": 31,
   "id": "ad1c3552-dccd-4694-bf53-9a2673def9cf",
   "metadata": {},
   "outputs": [],
   "source": [
    "n = n4\n",
    "\n",
    "lognbin = np.linspace(2, 8, 10)\n",
    "\n",
    "avg_n = []\n",
    "should_be_sf = []\n",
    "\n",
    "for i in range(len(nbin)-1):\n",
    "    key = np.logical_and(np.log10(n) > lognbin[i], np.log10(n) < lognbin[i+1])\n",
    "    avg_n.append(np.log10(np.mean(n[key])))\n",
    "    \n",
    "    should_be_\n",
    "    "
   ]
  },
  {
   "cell_type": "code",
   "execution_count": null,
   "id": "aea7bf29-56df-4ff0-88ce-52e7d344afdd",
   "metadata": {},
   "outputs": [],
   "source": []
  },
  {
   "cell_type": "code",
   "execution_count": null,
   "id": "df421182-c586-4c81-a381-6fa97b559100",
   "metadata": {},
   "outputs": [],
   "source": []
  },
  {
   "cell_type": "code",
   "execution_count": null,
   "id": "8bfdf375-37d2-41f1-a161-ec3798878168",
   "metadata": {},
   "outputs": [],
   "source": []
  },
  {
   "cell_type": "code",
   "execution_count": 195,
   "id": "58eff943-7d52-4651-8195-08989765ba32",
   "metadata": {},
   "outputs": [
    {
     "data": {
      "text/plain": [
       "[Text(0.5, 1.0, 'density corrected')]"
      ]
     },
     "execution_count": 195,
     "metadata": {},
     "output_type": "execute_result"
    },
    {
     "data": {
      "image/png": "[encoded data removed]",
      "text/plain": [
       "<Figure size 288x576 with 2 Axes>"
      ]
     },
     "metadata": {
      "needs_background": "light"
     },
     "output_type": "display_data"
    }
   ],
   "source": [
    "fig, ax = plt.subplots(2, 1, figsize=(4, 8))\n",
    "\n",
    "vir = sn.part0.VirialParameter\n",
    "ax[0].hist(vir, bins=np.linspace(0, 10, 100), density=True);\n",
    "ax[0].axvline(1, c='r')\n",
    "ax[0].set(title='naive')\n",
    "\n",
    "vircorrected = (dens_gas / (dens_gas + avg_dens)) * sn.part0.VirialParameter\n",
    "ax[1].hist(vircorrected, bins=np.linspace(0, 10, 100), density=True);\n",
    "ax[1].axvline(1, c='r')\n",
    "ax[1].set(title='density corrected')"
   ]
  },
  {
   "cell_type": "code",
   "execution_count": 196,
   "id": "a9030484-fbbc-4580-b9ea-e71f6b53a9a3",
   "metadata": {},
   "outputs": [
    {
     "name": "stdout",
     "output_type": "stream",
     "text": [
      "0.09496570470919552\n",
      "0.11432627462724387\n"
     ]
    }
   ],
   "source": [
    "print(len(vir[vir < 1])/len(vir))\n",
    "print(len(vircorrected[vircorrected < 1])/len(vircorrected))"
   ]
  },
  {
   "cell_type": "code",
   "execution_count": 197,
   "id": "912add59-2fad-4036-9c33-824d7866ea33",
   "metadata": {},
   "outputs": [
    {
     "data": {
      "text/plain": [
       "(0.0, 400.0)"
      ]
     },
     "execution_count": 197,
     "metadata": {},
     "output_type": "execute_result"
    },
    {
     "data": {
      "image/png": "[encoded data removed]",
      "text/plain": [
       "<Figure size 432x288 with 1 Axes>"
      ]
     },
     "metadata": {
      "needs_background": "light"
     },
     "output_type": "display_data"
    }
   ],
   "source": [
    "key = np.logical_and(dens_gas > 0.301302, vir < 1)\n",
    "plt.hist(dens_gas[key], bins=np.linspace(0, 1, 100));\n",
    "plt.ylim(0, 400)"
   ]
  },
  {
   "cell_type": "code",
   "execution_count": 198,
   "id": "50eaf4e2-f4e4-4ed9-b1a4-0831d284db6f",
   "metadata": {},
   "outputs": [
    {
     "data": {
      "text/plain": [
       "Text(0.5, 0, 'log(star forming density)')"
      ]
     },
     "execution_count": 198,
     "metadata": {},
     "output_type": "execute_result"
    },
    {
     "data": {
      "image/png": "[encoded data removed]",
      "text/plain": [
       "<Figure size 432x288 with 1 Axes>"
      ]
     },
     "metadata": {
      "needs_background": "light"
     },
     "output_type": "display_data"
    }
   ],
   "source": [
    "key = np.logical_and(dens_gas > 0.301302, vir < 1)\n",
    "plt.hist(np.log10(dens_gas[key]), bins=np.linspace(-0.6, 4, 100), label='naive');\n",
    "\n",
    "key = np.logical_and(dens_gas > 0.301302, vircorrected < 1)\n",
    "plt.hist(np.log10(dens_gas[key]), bins=np.linspace(-0.6, 4, 100), alpha=0.5, label='dens corrected');\n",
    "# plt.ylim(0, 600)\n",
    "# plt.yscale('log')\n",
    "plt.legend(frameon=False)\n",
    "plt.xlabel('log(star forming density)')"
   ]
  },
  {
   "cell_type": "code",
   "execution_count": null,
   "id": "765fb347-d56f-4086-8473-d04aced411fe",
   "metadata": {},
   "outputs": [],
   "source": []
  },
  {
   "cell_type": "code",
   "execution_count": 199,
   "id": "162d9ec1-e4f2-4be7-be33-95680f0b46e3",
   "metadata": {},
   "outputs": [],
   "source": [
    "bool0 = vir >= 1\n",
    "bool1 = vircorrected < 1\n",
    "bool2 = dens_gas > 0.301302\n",
    "bool3 = dens_gas < 1\n",
    "\n",
    "key_newsf = np.logical_and(np.logical_and(bool0, bool1), np.logical_and(bool2, bool3))"
   ]
  },
  {
   "cell_type": "code",
   "execution_count": 200,
   "id": "ca276f7a-c7b2-4658-8d73-d949a91238af",
   "metadata": {},
   "outputs": [
    {
     "data": {
      "text/plain": [
       "Text(0, 0.5, 'kpc')"
      ]
     },
     "execution_count": 200,
     "metadata": {},
     "output_type": "execute_result"
    },
    {
     "data": {
      "image/png": "[encoded data removed]",
      "text/plain": [
       "<Figure size 576x576 with 1 Axes>"
      ]
     },
     "metadata": {
      "needs_background": "light"
     },
     "output_type": "display_data"
    }
   ],
   "source": [
    "fig, ax = plt.subplots(1, 1, figsize=(8, 8))\n",
    "plt.scatter(pos_gas[:,0][key_newsf], pos_gas[:,1][key_newsf], s=4)\n",
    "plt.xlim(48, 52)\n",
    "plt.ylim(48, 52)\n",
    "plt.xlabel('kpc')\n",
    "plt.ylabel('kpc')"
   ]
  },
  {
   "cell_type": "code",
   "execution_count": 208,
   "id": "346a6bd8-7497-4dbc-8ef7-904ba269a3b1",
   "metadata": {},
   "outputs": [
    {
     "name": "stdout",
     "output_type": "stream",
     "text": [
      "0.026573811182971568\n",
      "0.02686032515736672\n"
     ]
    },
    {
     "data": {
      "text/plain": [
       "Text(0.5, 0, 'log(star forming density)')"
      ]
     },
     "execution_count": 208,
     "metadata": {},
     "output_type": "execute_result"
    },
    {
     "data": {
      "image/png": "[encoded data removed]",
      "text/plain": [
       "<Figure size 432x288 with 1 Axes>"
      ]
     },
     "metadata": {
      "needs_background": "light"
     },
     "output_type": "display_data"
    }
   ],
   "source": [
    "r = np.linalg.norm(pos_gas - np.array([50, 50, 50]), axis=1)\n",
    "\n",
    "key = np.logical_and(dens_gas > 0.301302, vir < 1)\n",
    "key = np.logical_and(key, r > 0.8)\n",
    "plt.hist(np.log10(dens_gas[key]), bins=np.linspace(-0.6, 4, 100), label='naive');\n",
    "\n",
    "print(len(np.where(key)[0])/len(key))\n",
    "\n",
    "key = np.logical_and(dens_gas > 0.301302, vircorrected < 1)\n",
    "key = np.logical_and(key, r > 0.8)\n",
    "plt.hist(np.log10(dens_gas[key]), bins=np.linspace(-0.6, 4, 100), alpha=0.5, label='dens corrected');\n",
    "\n",
    "print(len(np.where(key)[0])/len(key))\n",
    "\n",
    "# plt.ylim(0, 600)\n",
    "# plt.yscale('log')\n",
    "plt.legend(frameon=False)\n",
    "plt.xlabel('log(star forming density)')"
   ]
  },
  {
   "cell_type": "markdown",
   "id": "7182e777-beca-4fa2-be57-c3fe32211c23",
   "metadata": {},
   "source": [
    "### redo analysis for MW3"
   ]
  },
  {
   "cell_type": "code",
   "execution_count": null,
   "id": "0e23aee3-c32f-4172-9bfe-39986fcab994",
   "metadata": {},
   "outputs": [],
   "source": [
    "sn = arepo.Snapshot(basepath + '/runs/MW2iso_fg0.5/lvl3/output', 20, combineFiles=True)"
   ]
  }
 ],
 "metadata": {
  "kernelspec": {
   "display_name": "Python 3",
   "language": "python",
   "name": "python3"
  },
  "language_info": {
   "codemirror_mode": {
    "name": "ipython",
    "version": 3
   },
   "file_extension": ".py",
   "mimetype": "text/x-python",
   "name": "python",
   "nbconvert_exporter": "python",
   "pygments_lexer": "ipython3",
   "version": "3.8.8"
  }
 },
 "nbformat": 4,
 "nbformat_minor": 5
}
