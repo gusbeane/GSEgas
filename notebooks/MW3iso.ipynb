{
 "cells": [
  {
   "cell_type": "code",
   "execution_count": 2,
   "id": "8f22c2e5-388a-4c2d-affc-fc7c1beb6569",
   "metadata": {},
   "outputs": [],
   "source": [
    "import numpy as np\n",
    "import arepo\n",
    "import matplotlib.pyplot as plt"
   ]
  },
  {
   "cell_type": "code",
   "execution_count": 3,
   "id": "732b42ff-1aaf-4904-8f5e-3ba6b54e906e",
   "metadata": {},
   "outputs": [],
   "source": [
    "basepath = '/n/holylfs05/LABS/hernquist_lab/Users/abeane/GSEgas/'"
   ]
  },
  {
   "cell_type": "code",
   "execution_count": 4,
   "id": "4bd0ffaf-dc6b-4c3a-a0a7-759baf5df479",
   "metadata": {},
   "outputs": [],
   "source": [
    "def Jeans(rho, T):\n",
    "    gamma = 5./3.\n",
    "    \n",
    "    XH = 0.76\n",
    "    mp = 1.672621911E-24\n",
    "    xe = 0\n",
    "    mu = 4 * mp / (1 + 3*XH + 4*XH*xe)\n",
    "    UnitEnergy_in_cgs         = 1.989e+53\n",
    "    UnitMass_in_g             = 1.989e+43\n",
    "    \n",
    "    kB = 1.381E-16\n",
    "    G = 43018.7\n",
    "    \n",
    "    Jeans_length = np.sqrt((5*  kB*T)/(2*np.pi*(gamma-1)*mu*rho*G) / (UnitEnergy_in_cgs/UnitMass_in_g))\n",
    "    Jeans_mass = (4*np.pi/3.) * rho * Jeans_length**3\n",
    "    \n",
    "    return Jeans_length, Jeans_mass\n",
    "\n",
    "def compute_n(sn):\n",
    "    rho = np.copy(sn.part0.Density.value)\n",
    "    xe  = sn.part0.ElectronAbundance\n",
    "    # print(rho[rho>0])\n",
    "    \n",
    "    #convert rho to cgs\n",
    "    UnitMass   = sn.parameters.UnitMass_in_g\n",
    "    UnitLength = sn.parameters.UnitLength_in_cm\n",
    "    rho *= UnitMass/UnitLength**3\n",
    "    # print(UnitMass/UnitLength**3)\n",
    "    \n",
    "    XH = 0.76\n",
    "    mp = 1.672621911E-24\n",
    "    mu = 4 * mp / (1 + 3*XH + 4*XH*xe)\n",
    "    \n",
    "    # print(np.median(mu))\n",
    "    # print(np.where(np.isnan(rho[rho>0]))[0])\n",
    "    # print(rho[:10])\n",
    "    \n",
    "    n = rho / mu\n",
    "    \n",
    "    return n"
   ]
  },
  {
   "cell_type": "code",
   "execution_count": 5,
   "id": "62477ab1-6290-4d54-9546-1497f475938f",
   "metadata": {},
   "outputs": [],
   "source": [
    "def compute_T(sn):\n",
    "    u = sn.part0.InternalEnergy.value\n",
    "    xe = sn.part0.ElectronAbundance\n",
    "    \n",
    "    gamma=5/3\n",
    "    \n",
    "    XH = 0.76\n",
    "    mp = 1.672621911E-24\n",
    "    mu = 4 * mp / (1 + 3*XH + 4*XH*xe)\n",
    "    \n",
    "    kB = 1.381E-16\n",
    "    \n",
    "    T = (gamma - 1.) * (u/kB) * 1E10 * mu\n",
    "    return T"
   ]
  },
  {
   "cell_type": "code",
   "execution_count": 7,
   "id": "b40542ed-6e07-4e36-9bf2-4c7a39a7aa59",
   "metadata": {},
   "outputs": [],
   "source": [
    "sn = arepo.Snapshot(basepath + 'runs/MW3iso_fg0.5/lvl3/output', 50, combineFiles=True)\n",
    "center = sn.part1.pos.value[np.argmin(sn.part1.pot)]"
   ]
  },
  {
   "cell_type": "code",
   "execution_count": 29,
   "id": "fdc10fb0-9cb6-42c2-aa53-43de04817705",
   "metadata": {},
   "outputs": [
    {
     "data": {
      "text/plain": [
       "<matplotlib.lines.Line2D at 0x2b2e4d4354c0>"
      ]
     },
     "execution_count": 29,
     "metadata": {},
     "output_type": "execute_result"
    },
    {
     "data": {
      "image/png": "[encoded data removed]",
      "text/plain": [
       "<Figure size 432x288 with 1 Axes>"
      ]
     },
     "metadata": {
      "needs_background": "light"
     },
     "output_type": "display_data"
    }
   ],
   "source": [
    "pos = sn.part0.pos.value - center\n",
    "vel = sn.part0.vel.value\n",
    "acc = sn.part0.acce\n",
    "mass = sn.part0.mass.value\n",
    "\n",
    "r = np.linalg.norm(pos, axis=1)\n",
    "R = np.linalg.norm(pos[:,:2], axis=1)\n",
    "phi = np.arctan2(pos[:,1], pos[:,0])\n",
    "\n",
    "key = r < 0.1\n",
    "\n",
    "T = compute_T(sn)\n",
    "L, M = Jeans(sn.part0.rho.value, T)\n",
    "\n",
    "cell_volume = sn.part0.mass.value / sn.part0.rho.value\n",
    "cell_size = (cell_volume * (3/(4*np.pi)))**(1/3.)\n",
    "\n",
    "plt.hist(np.log10(cell_size/L), bins=np.linspace(-2, 0.75, 128));\n",
    "# plt.yscale('log')\n",
    "plt.xlabel('log(cell size/Jeans length)')\n",
    "plt.axvline(np.log10(0.25), c='r')\n",
    "# plt.title('0 Myr')"
   ]
  },
  {
   "cell_type": "code",
   "execution_count": 32,
   "id": "0364251d-5e29-4d16-a711-2c1af3ca9940",
   "metadata": {},
   "outputs": [
    {
     "data": {
      "text/plain": [
       "<matplotlib.lines.Line2D at 0x2b2e4b65e130>"
      ]
     },
     "execution_count": 32,
     "metadata": {},
     "output_type": "execute_result"
    },
    {
     "data": {
      "image/png": "[encoded data removed]",
      "text/plain": [
       "<Figure size 432x288 with 1 Axes>"
      ]
     },
     "metadata": {
      "needs_background": "light"
     },
     "output_type": "display_data"
    }
   ],
   "source": [
    "pos = sn.part0.pos.value - center\n",
    "vel = sn.part0.vel.value\n",
    "acc = sn.part0.acce\n",
    "mass = sn.part0.mass.value\n",
    "sfr = sn.part0.sfr.value\n",
    "\n",
    "r = np.linalg.norm(pos, axis=1)\n",
    "R = np.linalg.norm(pos[:,:2], axis=1)\n",
    "phi = np.arctan2(pos[:,1], pos[:,0])\n",
    "\n",
    "key = sfr > 0\n",
    "\n",
    "T = compute_T(sn)\n",
    "L, M = Jeans(sn.part0.rho.value, T)\n",
    "\n",
    "cell_volume = sn.part0.mass.value / sn.part0.rho.value\n",
    "cell_size = (cell_volume * (3/(4*np.pi)))**(1/3.)\n",
    "\n",
    "plt.hist(np.log10(cell_size/L), bins=np.linspace(-2, 0.75, 128),);\n",
    "plt.hist(np.log10(cell_size[key]/L[key]), bins=np.linspace(-2, 0.75, 128), alpha=0.8);\n",
    "# plt.yscale('log')\n",
    "plt.xlabel('log(cell size/Jeans length)')\n",
    "plt.axvline(np.log10(0.25), c='r')\n",
    "# plt.title('0 Myr')"
   ]
  },
  {
   "cell_type": "code",
   "execution_count": 37,
   "id": "dcfe6395-0518-4569-a541-3a011d3371d9",
   "metadata": {},
   "outputs": [
    {
     "data": {
      "image/png": "[encoded data removed]",
      "text/plain": [
       "<Figure size 432x288 with 1 Axes>"
      ]
     },
     "metadata": {
      "needs_background": "light"
     },
     "output_type": "display_data"
    }
   ],
   "source": [
    "rho = sn.part0.rho.value\n",
    "key = cell_size/L > 0.25\n",
    "keySF = np.logical_and(key, sfr > 0)\n",
    "\n",
    "plt.hist(np.log10(rho[key]), bins=np.linspace(-3, 3, 128));\n",
    "plt.hist(np.log10(rho[keySF]), bins=np.linspace(-3, 3, 128));\n"
   ]
  },
  {
   "cell_type": "code",
   "execution_count": 38,
   "id": "4e11efdc-d3c2-4ffb-970f-0e8b85226438",
   "metadata": {},
   "outputs": [],
   "source": [
    "def gaussian(x, mu, sigma):\n",
    "    prefactor = 1./(sigma * np.sqrt(2*np.pi))\n",
    "    in_exp = -0.5 * (x-mu)**2/sigma**2\n",
    "    return prefactor*np.exp(in_exp)\n",
    "    "
   ]
  },
  {
   "cell_type": "code",
   "execution_count": 48,
   "id": "063413f0-c80e-45d6-ba51-23ab0d578211",
   "metadata": {},
   "outputs": [
    {
     "data": {
      "text/plain": [
       "Text(0.5, 0, 'derivative of pattern speed')"
      ]
     },
     "execution_count": 48,
     "metadata": {},
     "output_type": "execute_result"
    },
    {
     "data": {
      "image/png": "[encoded data removed]",
      "text/plain": [
       "<Figure size 432x288 with 1 Axes>"
      ]
     },
     "metadata": {
      "needs_background": "light"
     },
     "output_type": "display_data"
    }
   ],
   "source": [
    "xlist = np.linspace(-6, 2, 1000)\n",
    "gauss_locked = gaussian(xlist, 0, 0.2)\n",
    "gauss_unlocked = gaussian(xlist, -3, 0.5)\n",
    "\n",
    "plt.plot(xlist, gauss_locked)\n",
    "plt.plot(xlist, gauss_unlocked)\n",
    "\n",
    "plt.ylim(0, 2.5)\n",
    "plt.xlim(-6, 2)\n",
    "\n",
    "plt.xlabel('derivative of pattern speed')\n"
   ]
  },
  {
   "cell_type": "markdown",
   "id": "4ba67483-6ec6-4462-bc07-79a525f91388",
   "metadata": {},
   "source": [
    "### SFE=1"
   ]
  },
  {
   "cell_type": "code",
   "execution_count": 7,
   "id": "3d036bb0-5579-4873-98fc-66c69d2c9274",
   "metadata": {},
   "outputs": [],
   "source": [
    "sn = arepo.Snapshot(basepath + 'runs/MW3iso_fg0.5/lvl3-SFE1/output', 20, combineFiles=True)\n",
    "center = sn.part1.pos.value[np.argmin(sn.part1.pot)]"
   ]
  },
  {
   "cell_type": "code",
   "execution_count": 8,
   "id": "7d6f7f36-48d9-488e-8a70-5daace90c93d",
   "metadata": {},
   "outputs": [
    {
     "data": {
      "text/plain": [
       "<matplotlib.lines.Line2D at 0x2ac4e51cc940>"
      ]
     },
     "execution_count": 8,
     "metadata": {},
     "output_type": "execute_result"
    },
    {
     "data": {
      "image/png": "[encoded data removed]",
      "text/plain": [
       "<Figure size 432x288 with 1 Axes>"
      ]
     },
     "metadata": {
      "needs_background": "light"
     },
     "output_type": "display_data"
    }
   ],
   "source": [
    "pos = sn.part0.pos.value - center\n",
    "vel = sn.part0.vel.value\n",
    "acc = sn.part0.acce\n",
    "mass = sn.part0.mass.value\n",
    "sfr = sn.part0.sfr.value\n",
    "\n",
    "r = np.linalg.norm(pos, axis=1)\n",
    "R = np.linalg.norm(pos[:,:2], axis=1)\n",
    "phi = np.arctan2(pos[:,1], pos[:,0])\n",
    "\n",
    "key = sfr > 0\n",
    "\n",
    "T = compute_T(sn)\n",
    "L, M = Jeans(sn.part0.rho.value, T)\n",
    "\n",
    "cell_volume = sn.part0.mass.value / sn.part0.rho.value\n",
    "cell_size = (cell_volume * (3/(4*np.pi)))**(1/3.)\n",
    "\n",
    "plt.hist(np.log10(cell_size/L), bins=np.linspace(-2, 0.75, 128),);\n",
    "plt.hist(np.log10(cell_size[key]/L[key]), bins=np.linspace(-2, 0.75, 128), alpha=0.8);\n",
    "# plt.yscale('log')\n",
    "plt.xlabel('log(cell size/Jeans length)')\n",
    "plt.axvline(np.log10(0.25), c='r')\n",
    "# plt.title('0 Myr')"
   ]
  },
  {
   "cell_type": "code",
   "execution_count": 9,
   "id": "5108c915-2ac5-4bfb-beb8-856d5f1cf7f1",
   "metadata": {},
   "outputs": [],
   "source": [
    "sn = arepo.Snapshot(basepath + 'runs/MW3iso_fg0.5/lvl3-novirial/output', 20, combineFiles=True)\n",
    "center = sn.part1.pos.value[np.argmin(sn.part1.pot)]"
   ]
  },
  {
   "cell_type": "code",
   "execution_count": 107,
   "id": "aa60d862-9b35-4108-903c-5a1bdfd1464d",
   "metadata": {},
   "outputs": [
    {
     "data": {
      "text/plain": [
       "<matplotlib.lines.Line2D at 0x2ac4e3805be0>"
      ]
     },
     "execution_count": 107,
     "metadata": {},
     "output_type": "execute_result"
    },
    {
     "data": {
      "image/png": "[encoded data removed]",
      "text/plain": [
       "<Figure size 432x288 with 1 Axes>"
      ]
     },
     "metadata": {
      "needs_background": "light"
     },
     "output_type": "display_data"
    }
   ],
   "source": [
    "pos = sn.part0.pos.value - center\n",
    "vel = sn.part0.vel.value\n",
    "acc = sn.part0.acce\n",
    "mass = sn.part0.mass.value\n",
    "sfr = sn.part0.sfr.value\n",
    "\n",
    "r = np.linalg.norm(pos, axis=1)\n",
    "R = np.linalg.norm(pos[:,:2], axis=1)\n",
    "phi = np.arctan2(pos[:,1], pos[:,0])\n",
    "\n",
    "key = sfr > 0\n",
    "\n",
    "T = compute_T(sn)\n",
    "L, M = Jeans(sn.part0.rho.value, T)\n",
    "\n",
    "cell_volume = sn.part0.mass.value / sn.part0.rho.value\n",
    "cell_size = (cell_volume * (3/(4*np.pi)))**(1/3.)\n",
    "\n",
    "plt.hist(np.log10(cell_size/L), bins=np.linspace(-2, 0.75, 128),);\n",
    "plt.hist(np.log10(cell_size[key]/L[key]), bins=np.linspace(-2, 0.75, 128), alpha=0.8);\n",
    "# plt.yscale('log')\n",
    "plt.xlabel('log(cell size/Jeans length)')\n",
    "plt.axvline(np.log10(0.25), c='r')\n",
    "# plt.title('0 Myr')"
   ]
  },
  {
   "cell_type": "code",
   "execution_count": 108,
   "id": "df27d39a-cb2b-442d-9770-ac9dea9202aa",
   "metadata": {},
   "outputs": [
    {
     "data": {
      "text/plain": [
       "0.0410197681048885"
      ]
     },
     "execution_count": 108,
     "metadata": {},
     "output_type": "execute_result"
    }
   ],
   "source": [
    "np.min(L)*1E3"
   ]
  },
  {
   "cell_type": "code",
   "execution_count": 18,
   "id": "1e66056a-fd4a-407c-983c-cd4f61461aed",
   "metadata": {},
   "outputs": [
    {
     "data": {
      "text/plain": [
       "<matplotlib.lines.Line2D at 0x2ac4a83ab280>"
      ]
     },
     "execution_count": 18,
     "metadata": {},
     "output_type": "execute_result"
    },
    {
     "data": {
      "image/png": "[encoded data removed]",
      "text/plain": [
       "<Figure size 432x288 with 1 Axes>"
      ]
     },
     "metadata": {
      "needs_background": "light"
     },
     "output_type": "display_data"
    }
   ],
   "source": [
    "alpha_vir = sn.part0.VirialParameter\n",
    "\n",
    "plt.hist(np.log10(alpha_vir), bins=np.linspace(-3, 3, 100));\n",
    "# plt.yscale('log')\n",
    "plt.xlabel('log10(alpha)')\n",
    "plt.axvline(np.log10(1), c='r')\n",
    "# plt.title('0 Myr')"
   ]
  },
  {
   "cell_type": "markdown",
   "id": "a1794735-a71c-43a5-9eee-c83e4469f525",
   "metadata": {},
   "source": [
    "### Comparing densities at lvl4/3"
   ]
  },
  {
   "cell_type": "code",
   "execution_count": 6,
   "id": "aa8ec361-9a13-49af-bde1-2f0aaf6f2a63",
   "metadata": {},
   "outputs": [],
   "source": [
    "sn4 = arepo.Snapshot(basepath + 'runs/MW3iso_fg0.5/lvl4/output', 40, combineFiles=True)\n",
    "sn3 = arepo.Snapshot(basepath + 'runs/MW3iso_fg0.5/lvl3/output', 40, combineFiles=True)\n",
    "sn2 = arepo.Snapshot(basepath + 'runs/MW3iso_fg0.5/lvl2/output', 40, combineFiles=True)\n"
   ]
  },
  {
   "cell_type": "code",
   "execution_count": 10,
   "id": "55feceb2-e312-4861-a959-e5b456dce8a1",
   "metadata": {},
   "outputs": [
    {
     "data": {
      "text/plain": [
       "<matplotlib.lines.Line2D at 0x2b21824332e0>"
      ]
     },
     "execution_count": 10,
     "metadata": {},
     "output_type": "execute_result"
    },
    {
     "data": {
      "image/png": "[encoded data removed]",
      "text/plain": [
       "<Figure size 432x288 with 1 Axes>"
      ]
     },
     "metadata": {
      "needs_background": "light"
     },
     "output_type": "display_data"
    }
   ],
   "source": [
    "# rho4 = sn4.part0.rho.value\n",
    "# rho3 = sn3.part0.rho.value\n",
    "# rho2 = sn2.part0.rho.value\n",
    "\n",
    "n4 = compute_n(sn4)\n",
    "n3 = compute_n(sn3)\n",
    "n2 = compute_n(sn2)\n",
    "\n",
    "plt.hist(np.log10(n4), bins=np.linspace(-3, 8, 128), alpha=0.5, density=True, label='lvl 4');\n",
    "plt.hist(np.log10(n3), bins=np.linspace(-3, 8, 128), alpha=0.5, density=True, label='lvl 3');\n",
    "plt.hist(np.log10(n2), bins=np.linspace(-3, 8, 128), alpha=0.5, density=True, label='lvl 2');\n",
    "plt.legend(frameon=False)\n",
    "plt.xlabel('log10(n) [cm^-3]')\n",
    "plt.yscale('log')\n",
    "plt.axvline(2, c='r')"
   ]
  },
  {
   "cell_type": "code",
   "execution_count": 11,
   "id": "f9cb983a-6d7b-4d81-941c-af9dade5cbb2",
   "metadata": {},
   "outputs": [
    {
     "name": "stdout",
     "output_type": "stream",
     "text": [
      "lvl4 mean n at sfr: 3500.3738 max n: 5.509075\n",
      "lvl3 mean n at sfr: 12041.446 max n: 6.3378177\n",
      "lvl2 mean n at sfr: 110157.516 max n: 7.5795846\n"
     ]
    }
   ],
   "source": [
    "n4 = compute_n(sn4)\n",
    "n3 = compute_n(sn3)\n",
    "n2 = compute_n(sn2)\n",
    "\n",
    "print('lvl4 mean n at sfr:', np.mean(n4[sn4.part0.sfr > 0]), 'max n:', np.max(np.log10(n4)))\n",
    "print('lvl3 mean n at sfr:', np.mean(n3[sn3.part0.sfr > 0]), 'max n:', np.max(np.log10(n3)))\n",
    "print('lvl2 mean n at sfr:', np.mean(n2[sn2.part0.sfr > 0]), 'max n:', np.max(np.log10(n2)))\n",
    "# print(np.mean(n3[sn3.part0.sfr > 0]))\n"
   ]
  },
  {
   "cell_type": "code",
   "execution_count": 30,
   "id": "9baf7e86-8584-41a5-974a-7c93e77dc39f",
   "metadata": {},
   "outputs": [],
   "source": [
    "snz04 = arepo.Snapshot('/n/holystore01/LABS/hernquist_lab/Users/abeane/starbar_runs/runs/phantom-vacuum-Sg20-Rc3.5/lvl4/output', 50, combineFiles=True)\n",
    "snz03 = arepo.Snapshot('/n/holystore01/LABS/hernquist_lab/Users/abeane/starbar_runs/runs/phantom-vacuum-Sg20-Rc3.5/lvl3/output', 50, combineFiles=True)"
   ]
  },
  {
   "cell_type": "code",
   "execution_count": 34,
   "id": "7c61e9ce-ccd6-461a-bf56-bd67ec10c683",
   "metadata": {},
   "outputs": [
    {
     "data": {
      "image/png": "[encoded data removed]",
      "text/plain": [
       "<Figure size 432x288 with 1 Axes>"
      ]
     },
     "metadata": {
      "needs_background": "light"
     },
     "output_type": "display_data"
    }
   ],
   "source": [
    "rho4 = snz04.part0.rho.value\n",
    "rho3 = snz03.part0.rho.value\n",
    "\n",
    "plt.hist(np.log10(rho4), bins=np.linspace(-3, 4, 128), density=True);\n",
    "plt.hist(np.log10(rho3), bins=np.linspace(-3, 4, 128), alpha=0.5, density=True);\n",
    "plt.yscale('log')"
   ]
  },
  {
   "cell_type": "code",
   "execution_count": 115,
   "id": "c404a131-20cf-4d49-90a4-70fc6e07c587",
   "metadata": {},
   "outputs": [],
   "source": [
    "sn4 = arepo.Snapshot(basepath + 'runs/MW3iso_fg0.5/lvl4-hydrosoft/output', 20, combineFiles=True)\n",
    "sn3 = arepo.Snapshot(basepath + 'runs/MW3iso_fg0.5/lvl3-hydrosoft/output', 10, combineFiles=True)"
   ]
  },
  {
   "cell_type": "code",
   "execution_count": 119,
   "id": "dd7c66a8-b0ae-4f7b-afbe-bac94c8d73af",
   "metadata": {},
   "outputs": [
    {
     "data": {
      "image/png": "[encoded data removed]",
      "text/plain": [
       "<Figure size 432x288 with 1 Axes>"
      ]
     },
     "metadata": {
      "needs_background": "light"
     },
     "output_type": "display_data"
    }
   ],
   "source": [
    "rho4 = sn4.part0.rho.value\n",
    "rho3 = sn3.part0.rho.value\n",
    "\n",
    "plt.hist(np.log10(rho4), bins=np.linspace(-3, 8, 128), density=True);\n",
    "plt.hist(np.log10(rho3), bins=np.linspace(-3, 8, 128), alpha=0.5, density=True);\n",
    "plt.yscale('log')"
   ]
  },
  {
   "cell_type": "code",
   "execution_count": 50,
   "id": "0449d3a4-71bb-47cc-84af-7fa56027e7ac",
   "metadata": {},
   "outputs": [
    {
     "data": {
      "image/png": "[encoded data removed]",
      "text/plain": [
       "<Figure size 432x288 with 1 Axes>"
      ]
     },
     "metadata": {
      "needs_background": "light"
     },
     "output_type": "display_data"
    }
   ],
   "source": [
    "plt.hist(np.log10(sn3.part0.Softenings/2.8), bins=np.linspace(np.log10(0.005), np.log10(0.1), 100));"
   ]
  },
  {
   "cell_type": "code",
   "execution_count": 51,
   "id": "0ea34c59-4817-4954-8248-c223dc950a7e",
   "metadata": {},
   "outputs": [
    {
     "data": {
      "image/png": "[encoded data removed]",
      "text/plain": [
       "<Figure size 432x288 with 1 Axes>"
      ]
     },
     "metadata": {
      "needs_background": "light"
     },
     "output_type": "display_data"
    }
   ],
   "source": [
    "plt.hist(np.log10(sn4.part0.Softenings/2.8), bins=np.linspace(np.log10(0.01), np.log10(0.2), 100));"
   ]
  },
  {
   "cell_type": "code",
   "execution_count": 53,
   "id": "0c06e4b0-577b-4097-97f2-822674d52fc8",
   "metadata": {},
   "outputs": [],
   "source": [
    "cell_volume = sn3.part0.mass.value / sn3.part0.rho.value\n",
    "cell_size = (3/(4*np.pi) * cell_volume)**(1./3.)"
   ]
  },
  {
   "cell_type": "code",
   "execution_count": 102,
   "id": "6602cbda-9cb0-40f3-8a69-e03f41c52398",
   "metadata": {},
   "outputs": [
    {
     "data": {
      "text/plain": [
       "<matplotlib.lines.Line2D at 0x2ac5aceafb80>"
      ]
     },
     "execution_count": 102,
     "metadata": {},
     "output_type": "execute_result"
    },
    {
     "data": {
      "image/png": "[encoded data removed]",
      "text/plain": [
       "<Figure size 432x288 with 1 Axes>"
      ]
     },
     "metadata": {
      "needs_background": "light"
     },
     "output_type": "display_data"
    }
   ],
   "source": [
    "plt.hist(np.log10(2.5*cell_size/2.8), bins=np.linspace(np.log10(0.0001), np.log10(0.1), 100));\n",
    "plt.yscale('log')\n",
    "plt.axvline(np.log10(0.005), c='r')\n",
    "plt.axvline(np.log10(0.0025))"
   ]
  },
  {
   "cell_type": "code",
   "execution_count": 67,
   "id": "e279bf87-11b9-40d9-9c5b-9be5f9378aa6",
   "metadata": {},
   "outputs": [],
   "source": [
    "cell_volume = sn4.part0.mass.value / sn4.part0.rho.value\n",
    "cell_size = (3/(4*np.pi) * cell_volume)**(1./3.)"
   ]
  },
  {
   "cell_type": "code",
   "execution_count": 70,
   "id": "49026700-5b7f-404f-926d-0c163a319c17",
   "metadata": {},
   "outputs": [
    {
     "data": {
      "text/plain": [
       "<matplotlib.lines.Line2D at 0x2ac4dcbaeca0>"
      ]
     },
     "execution_count": 70,
     "metadata": {},
     "output_type": "execute_result"
    },
    {
     "data": {
      "image/png": "[encoded data removed]",
      "text/plain": [
       "<Figure size 432x288 with 1 Axes>"
      ]
     },
     "metadata": {
      "needs_background": "light"
     },
     "output_type": "display_data"
    }
   ],
   "source": [
    "plt.hist(np.log10(2.5*cell_size), bins=np.linspace(np.log10(0.0001), np.log10(0.1), 100));\n",
    "plt.yscale('log')\n",
    "plt.axvline(np.log10(0.01), c='r')\n",
    "plt.axvline(np.log10(0.00038*2))"
   ]
  },
  {
   "cell_type": "markdown",
   "id": "e0fc64f0-8f1f-4e22-b575-aa4138ddc6cf",
   "metadata": {},
   "source": [
    "### Jeans enforced"
   ]
  },
  {
   "cell_type": "code",
   "execution_count": 128,
   "id": "4c238b5a-08cb-48f9-a163-ccdbd9746ad7",
   "metadata": {},
   "outputs": [],
   "source": [
    "def Jeans(sn):\n",
    "    gamma = 5./3.\n",
    "    \n",
    "    P = sn.part0.Pressure.value\n",
    "    rho = sn.part0.rho.value\n",
    "    \n",
    "    cssq = gamma * P / rho\n",
    "    G = 43018.7\n",
    "    \n",
    "    LJ = np.sqrt(np.pi * cssq / (G * rho))\n",
    "    \n",
    "    cell_volume = sn.part0.mass.value / sn.part0.rho.value\n",
    "    cell_size = (3/(4*np.pi) * cell_volume)**(1./3.)\n",
    "    \n",
    "    return LJ, cell_size"
   ]
  },
  {
   "cell_type": "code",
   "execution_count": 126,
   "id": "c01d9462-ef79-446a-989f-cbeb040c7fb8",
   "metadata": {},
   "outputs": [],
   "source": [
    "sn4J = arepo.Snapshot(basepath + 'runs/MW3iso_fg0.5/lvl4-Jeans/output', 20, combineFiles=True)\n",
    "sn3J = arepo.Snapshot(basepath + 'runs/MW3iso_fg0.5/lvl3-Jeans/output', 6, combineFiles=True)"
   ]
  },
  {
   "cell_type": "code",
   "execution_count": 94,
   "id": "5326cfe5-a1d9-44dc-85a2-9d6e621cf097",
   "metadata": {},
   "outputs": [
    {
     "data": {
      "text/plain": [
       "<matplotlib.lines.Line2D at 0x2ac4e445a3a0>"
      ]
     },
     "execution_count": 94,
     "metadata": {},
     "output_type": "execute_result"
    },
    {
     "data": {
      "image/png": "[encoded data removed]",
      "text/plain": [
       "<Figure size 432x288 with 1 Axes>"
      ]
     },
     "metadata": {
      "needs_background": "light"
     },
     "output_type": "display_data"
    }
   ],
   "source": [
    "LJ, cell_size = Jeans(sn4J)\n",
    "plt.hist(np.log10(cell_size/LJ), bins=np.linspace(-2, 0.75, 128));\n",
    "plt.axvline(np.log10(0.25), c='r')"
   ]
  },
  {
   "cell_type": "code",
   "execution_count": 95,
   "id": "ed125fb3-fbec-4cfe-a7a2-faa08ce7aed1",
   "metadata": {},
   "outputs": [
    {
     "data": {
      "text/plain": [
       "<matplotlib.lines.Line2D at 0x2ac4dca91880>"
      ]
     },
     "execution_count": 95,
     "metadata": {},
     "output_type": "execute_result"
    },
    {
     "data": {
      "image/png": "[encoded data removed]",
      "text/plain": [
       "<Figure size 432x288 with 1 Axes>"
      ]
     },
     "metadata": {
      "needs_background": "light"
     },
     "output_type": "display_data"
    }
   ],
   "source": [
    "LJ, cell_size = Jeans(sn3J)\n",
    "plt.hist(np.log10(cell_size/LJ), bins=np.linspace(-2, 0.75, 128));\n",
    "plt.axvline(np.log10(0.25), c='r')"
   ]
  },
  {
   "cell_type": "code",
   "execution_count": 130,
   "id": "3889d12a-f6d9-43bf-a9e5-1c2752012b02",
   "metadata": {},
   "outputs": [
    {
     "data": {
      "text/plain": [
       "<matplotlib.lines.Line2D at 0x2ac521db1730>"
      ]
     },
     "execution_count": 130,
     "metadata": {},
     "output_type": "execute_result"
    },
    {
     "data": {
      "image/png": "[encoded data removed]",
      "text/plain": [
       "<Figure size 432x288 with 1 Axes>"
      ]
     },
     "metadata": {
      "needs_background": "light"
     },
     "output_type": "display_data"
    }
   ],
   "source": [
    "LJ, cell_size = Jeans(sn3J)\n",
    "plt.hist(np.log10(cell_size/LJ)[sn3J.part0.sfr == 0], bins=np.linspace(-2, 0.75, 128));\n",
    "plt.axvline(np.log10(0.25), c='r')"
   ]
  },
  {
   "cell_type": "code",
   "execution_count": 98,
   "id": "70d7b53d-dd93-462b-84d8-3acd0bffab16",
   "metadata": {},
   "outputs": [
    {
     "data": {
      "text/plain": [
       "<matplotlib.lines.Line2D at 0x2ac5ac6028e0>"
      ]
     },
     "execution_count": 98,
     "metadata": {},
     "output_type": "execute_result"
    },
    {
     "data": {
      "image/png": "[encoded data removed]",
      "text/plain": [
       "<Figure size 432x288 with 1 Axes>"
      ]
     },
     "metadata": {
      "needs_background": "light"
     },
     "output_type": "display_data"
    }
   ],
   "source": [
    "LJ, cell_size = Jeans(snz03)\n",
    "plt.hist(np.log10(cell_size/LJ), bins=np.linspace(-2, 0.75, 128));\n",
    "plt.axvline(np.log10(0.25), c='r')"
   ]
  },
  {
   "cell_type": "code",
   "execution_count": 109,
   "id": "1e481763-8c76-4131-bacc-a915d6bca133",
   "metadata": {},
   "outputs": [],
   "source": [
    "sn = arepo.Snapshot(basepath + 'runs/MW3iso_fg0.5/lvl4/output', 50, combineFiles=True)\n",
    "center = sn.part1.pos.value[np.argmin(sn.part1.pot)]"
   ]
  },
  {
   "cell_type": "code",
   "execution_count": 110,
   "id": "f592dccb-0aee-410c-b716-39c637ae7cda",
   "metadata": {},
   "outputs": [
    {
     "data": {
      "text/plain": [
       "<matplotlib.lines.Line2D at 0x2ac5b1680400>"
      ]
     },
     "execution_count": 110,
     "metadata": {},
     "output_type": "execute_result"
    },
    {
     "data": {
      "image/png": "[encoded data removed]",
      "text/plain": [
       "<Figure size 432x288 with 1 Axes>"
      ]
     },
     "metadata": {
      "needs_background": "light"
     },
     "output_type": "display_data"
    }
   ],
   "source": [
    "pos = sn.part0.pos.value - center\n",
    "vel = sn.part0.vel.value\n",
    "acc = sn.part0.acce\n",
    "mass = sn.part0.mass.value\n",
    "sfr = sn.part0.sfr.value\n",
    "\n",
    "r = np.linalg.norm(pos, axis=1)\n",
    "R = np.linalg.norm(pos[:,:2], axis=1)\n",
    "phi = np.arctan2(pos[:,1], pos[:,0])\n",
    "\n",
    "key = sfr > 0\n",
    "\n",
    "T = compute_T(sn)\n",
    "L, M = Jeans(sn.part0.rho.value, T)\n",
    "\n",
    "cell_volume = sn.part0.mass.value / sn.part0.rho.value\n",
    "cell_size = (cell_volume * (3/(4*np.pi)))**(1/3.)\n",
    "\n",
    "plt.hist(np.log10(cell_size/L), bins=np.linspace(-2, 0.75, 128),);\n",
    "plt.hist(np.log10(cell_size[key]/L[key]), bins=np.linspace(-2, 0.75, 128), alpha=0.8);\n",
    "# plt.yscale('log')\n",
    "plt.xlabel('log(cell size/Jeans length)')\n",
    "plt.axvline(np.log10(0.25), c='r')\n",
    "# plt.title('0 Myr')"
   ]
  },
  {
   "cell_type": "code",
   "execution_count": 111,
   "id": "c5d90e25-e416-4e01-b129-59f6ddba54e1",
   "metadata": {},
   "outputs": [],
   "source": [
    "sn = arepo.Snapshot(basepath + 'runs/MW3iso_fg0.5/lvl3/output', 50, combineFiles=True)\n",
    "center = sn.part1.pos.value[np.argmin(sn.part1.pot)]"
   ]
  },
  {
   "cell_type": "code",
   "execution_count": 112,
   "id": "9567fdca-4616-45d2-ac60-2ef059911d19",
   "metadata": {},
   "outputs": [
    {
     "data": {
      "text/plain": [
       "<matplotlib.lines.Line2D at 0x2ac5ad431f70>"
      ]
     },
     "execution_count": 112,
     "metadata": {},
     "output_type": "execute_result"
    },
    {
     "data": {
      "image/png": "[encoded data removed]",
      "text/plain": [
       "<Figure size 432x288 with 1 Axes>"
      ]
     },
     "metadata": {
      "needs_background": "light"
     },
     "output_type": "display_data"
    }
   ],
   "source": [
    "pos = sn.part0.pos.value - center\n",
    "vel = sn.part0.vel.value\n",
    "acc = sn.part0.acce\n",
    "mass = sn.part0.mass.value\n",
    "sfr = sn.part0.sfr.value\n",
    "\n",
    "r = np.linalg.norm(pos, axis=1)\n",
    "R = np.linalg.norm(pos[:,:2], axis=1)\n",
    "phi = np.arctan2(pos[:,1], pos[:,0])\n",
    "\n",
    "key = sfr > 0\n",
    "\n",
    "T = compute_T(sn)\n",
    "L, M = Jeans(sn.part0.rho.value, T)\n",
    "\n",
    "cell_volume = sn.part0.mass.value / sn.part0.rho.value\n",
    "cell_size = (cell_volume * (3/(4*np.pi)))**(1/3.)\n",
    "\n",
    "plt.hist(np.log10(cell_size/L), bins=np.linspace(-2, 0.75, 128),);\n",
    "plt.hist(np.log10(cell_size[key]/L[key]), bins=np.linspace(-2, 0.75, 128), alpha=0.8);\n",
    "# plt.yscale('log')\n",
    "plt.xlabel('log(cell size/Jeans length)')\n",
    "plt.axvline(np.log10(0.25), c='r')\n",
    "# plt.title('0 Myr')"
   ]
  },
  {
   "cell_type": "code",
   "execution_count": 142,
   "id": "fe60d739-f375-4d21-b542-73e0d9ca46ff",
   "metadata": {},
   "outputs": [],
   "source": [
    "snSFE = arepo.Snapshot(basepath + 'runs/MW3iso_fg0.5/lvl3-SFE1/output', 20, combineFiles=True)\n",
    "center = sn.part1.pos.value[np.argmin(sn.part1.pot)]"
   ]
  },
  {
   "cell_type": "code",
   "execution_count": 143,
   "id": "664bdad8-e090-46bb-9000-42673bc2ba3f",
   "metadata": {},
   "outputs": [
    {
     "name": "stdout",
     "output_type": "stream",
     "text": [
      "4.7194424\n"
     ]
    }
   ],
   "source": [
    "n = compute_n(snSFE)\n",
    "T = compute_T(snSFE)\n",
    "print(np.log10(np.max(n)))"
   ]
  },
  {
   "cell_type": "code",
   "execution_count": 148,
   "id": "4bf71df8-4924-4b3d-b9c8-a9919744185f",
   "metadata": {},
   "outputs": [],
   "source": [
    "sn = arepo.Snapshot(basepath + 'runs/MW3iso_fg0.5/lvl3/output', 50, combineFiles=True)\n",
    "center = sn.part1.pos.value[np.argmin(sn.part1.pot)]"
   ]
  },
  {
   "cell_type": "code",
   "execution_count": 149,
   "id": "03e7a419-d6f0-4b8c-b180-caa80c8242a0",
   "metadata": {},
   "outputs": [
    {
     "name": "stdout",
     "output_type": "stream",
     "text": [
      "7.040558\n"
     ]
    }
   ],
   "source": [
    "n = compute_n(sn)\n",
    "T = compute_T(sn)\n",
    "print(np.log10(np.max(n)))"
   ]
  },
  {
   "cell_type": "code",
   "execution_count": 150,
   "id": "dd384655-8c44-49ae-b99b-50aa1908b96c",
   "metadata": {},
   "outputs": [
    {
     "name": "stdout",
     "output_type": "stream",
     "text": [
      "[50.15698182 50.57048942 50.03444616]\n"
     ]
    }
   ],
   "source": [
    "print(sn.part0.pos.value[np.argmax(n)])"
   ]
  },
  {
   "cell_type": "code",
   "execution_count": 218,
   "id": "fdebbb83-46fa-4a84-90ec-6f60a4ef1635",
   "metadata": {},
   "outputs": [
    {
     "name": "stdout",
     "output_type": "stream",
     "text": [
      "2734\n"
     ]
    }
   ],
   "source": [
    "pos_nmax = sn.part0.pos.value[np.argmax(n)]\n",
    "rdiff = np.linalg.norm(sn.part0.pos.value - pos_nmax, axis=1)\n",
    "key = rdiff < 0.1\n",
    "print(len(np.where(key)[0]))"
   ]
  },
  {
   "cell_type": "code",
   "execution_count": 219,
   "id": "42e5ba76-e745-4a6c-8baf-ea516b40aa43",
   "metadata": {},
   "outputs": [],
   "source": [
    "UnitMass_in_g = 1.989e+43\n",
    "UnitVelocity_in_cm_per_s = 100000\n",
    "UnitTime_in_s = 3.08568e+16\n",
    "SOLAR_MASS = 1.989e33\n",
    "SEC_PER_YEAR = 3.15576e7"
   ]
  },
  {
   "cell_type": "code",
   "execution_count": 220,
   "id": "bedabba8-a6fc-4df1-b96b-92a0430b7c30",
   "metadata": {},
   "outputs": [
    {
     "name": "stdout",
     "output_type": "stream",
     "text": [
      "1.0005031\n",
      "22929324.76848364\n",
      "0.023438290055941037\n"
     ]
    }
   ],
   "source": [
    "Mg = np.sum(sn.part0.mass[key])\n",
    "sfr = np.sum(sn.part0.sfr[key])\n",
    "sfr_cu = sfr / ((UnitMass_in_g / SOLAR_MASS) / (UnitTime_in_s / SEC_PER_YEAR))\n",
    "\n",
    "print(sfr)\n",
    "print(Mg*1E10)\n",
    "print(Mg/sfr_cu)"
   ]
  },
  {
   "cell_type": "code",
   "execution_count": 221,
   "id": "01781b73-1307-4412-bbb8-53a9c991ba79",
   "metadata": {},
   "outputs": [
    {
     "name": "stdout",
     "output_type": "stream",
     "text": [
      "833\n",
      "57.997298426926136\n"
     ]
    }
   ],
   "source": [
    "rdiff4 = np.linalg.norm(sn.part4.pos.value - pos_nmax, axis=1)\n",
    "key4 = rdiff4 < 0.1\n",
    "print(len(np.where(key4)[0]))\n",
    "print(np.sum(sn.part4.mass[key4])*1E10/1E5)"
   ]
  },
  {
   "cell_type": "code",
   "execution_count": 222,
   "id": "f2c808b5-fe97-48e1-b4af-efa30d5e6173",
   "metadata": {},
   "outputs": [
    {
     "name": "stdout",
     "output_type": "stream",
     "text": [
      "0.2529394\n"
     ]
    }
   ],
   "source": [
    "print(np.sum(sn.part4.mass[key4])/Mg)"
   ]
  },
  {
   "cell_type": "code",
   "execution_count": 216,
   "id": "7b269920-f8e4-4905-8664-becf6ea66491",
   "metadata": {},
   "outputs": [
    {
     "name": "stderr",
     "output_type": "stream",
     "text": [
      "<ipython-input-216-0e4d8e020221>:3: RuntimeWarning: divide by zero encountered in true_divide\n",
      "  plt.hist(sn.part0.mass[key]/sfr_cu, bins=np.linspace(0, 0.02, 64));\n"
     ]
    },
    {
     "data": {
      "image/png": "[encoded data removed]",
      "text/plain": [
       "<Figure size 432x288 with 1 Axes>"
      ]
     },
     "metadata": {
      "needs_background": "light"
     },
     "output_type": "display_data"
    }
   ],
   "source": [
    "sfr_cu = sn.part0.sfr[key] / ((UnitMass_in_g / SOLAR_MASS) / (UnitTime_in_s / SEC_PER_YEAR))\n",
    "prob = 1-np.exp(sfr_cu * 0.001/sn.part0.mass[key])\n",
    "plt.hist(sn.part0.mass[key]/sfr_cu, bins=np.linspace(0, 0.02, 64));\n",
    "# plt.yscale('log')"
   ]
  },
  {
   "cell_type": "code",
   "execution_count": 204,
   "id": "dce168b9-5702-4e11-86ea-be074ab0ab20",
   "metadata": {},
   "outputs": [
    {
     "data": {
      "text/plain": [
       "['Acceleration',\n",
       " 'CoolingHeatingEnergy',\n",
       " 'Coordinates',\n",
       " 'Density',\n",
       " 'ElectronAbundance',\n",
       " 'GFM_CoolingRate',\n",
       " 'GFM_Metallicity',\n",
       " 'GFM_Metals',\n",
       " 'GasRadCoolShutoffTime',\n",
       " 'InternalEnergy',\n",
       " 'Masses',\n",
       " 'MolecularHFrac',\n",
       " 'NeutralHydrogenAbundance',\n",
       " 'ParticleIDs',\n",
       " 'Potential',\n",
       " 'Pressure',\n",
       " 'Softenings',\n",
       " 'StarFormationRate',\n",
       " 'Velocities',\n",
       " 'VirialParameter',\n",
       " '__class__',\n",
       " '__contains__',\n",
       " '__delattr__',\n",
       " '__dict__',\n",
       " '__dir__',\n",
       " '__doc__',\n",
       " '__eq__',\n",
       " '__format__',\n",
       " '__ge__',\n",
       " '__getattr__',\n",
       " '__getattribute__',\n",
       " '__getitem__',\n",
       " '__gt__',\n",
       " '__hash__',\n",
       " '__init__',\n",
       " '__init_subclass__',\n",
       " '__le__',\n",
       " '__lt__',\n",
       " '__module__',\n",
       " '__ne__',\n",
       " '__new__',\n",
       " '__reduce__',\n",
       " '__reduce_ex__',\n",
       " '__repr__',\n",
       " '__setattr__',\n",
       " '__sizeof__',\n",
       " '__str__',\n",
       " '__subclasshook__',\n",
       " '__weakref__',\n",
       " '_num',\n",
       " '_parent',\n",
       " 'acce',\n",
       " 'cohe',\n",
       " 'data',\n",
       " 'gcol',\n",
       " 'gmet',\n",
       " 'gz',\n",
       " 'hmol',\n",
       " 'id',\n",
       " 'mass',\n",
       " 'ne',\n",
       " 'nh',\n",
       " 'pos',\n",
       " 'pot',\n",
       " 'pres',\n",
       " 'rfcg',\n",
       " 'rho',\n",
       " 'sfr',\n",
       " 'soft',\n",
       " 'u',\n",
       " 'vel']"
      ]
     },
     "execution_count": 204,
     "metadata": {},
     "output_type": "execute_result"
    }
   ],
   "source": [
    "dir(sn.part0)"
   ]
  },
  {
   "cell_type": "markdown",
   "id": "469c14f6-d7ce-424e-9276-999687e5ce9b",
   "metadata": {},
   "source": [
    "### Softening neighbor"
   ]
  },
  {
   "cell_type": "code",
   "execution_count": 14,
   "id": "4f0d37bb-6fa5-4b9c-bd9a-b8ccd161d3dd",
   "metadata": {},
   "outputs": [],
   "source": [
    "from scipy.spatial import KDTree"
   ]
  },
  {
   "cell_type": "code",
   "execution_count": 12,
   "id": "dbeb9ca2-a736-4242-b9b4-339cab5206e4",
   "metadata": {},
   "outputs": [],
   "source": [
    "sn4 = arepo.Snapshot(basepath + 'runs/MW3iso_fg0.5/lvl4/output', 40, combineFiles=True)\n",
    "sn3 = arepo.Snapshot(basepath + 'runs/MW3iso_fg0.5/lvl3/output', 40, combineFiles=True)\n",
    "sn2 = arepo.Snapshot(basepath + 'runs/MW3iso_fg0.5/lvl2/output', 40, combineFiles=True)"
   ]
  },
  {
   "cell_type": "code",
   "execution_count": 13,
   "id": "7ef39468-9323-4002-b90a-9c5d9296595e",
   "metadata": {},
   "outputs": [],
   "source": [
    "V4 = sn4.part0.mass.value / sn4.part0.rho.value\n",
    "dx4 = (V4 * (3/(4*np.pi)))**(1/3.)\n",
    "\n",
    "V3 = sn3.part0.mass.value / sn3.part0.rho.value\n",
    "dx3 = (V3 * (3/(4*np.pi)))**(1/3.)\n",
    "\n",
    "V2 = sn2.part0.mass.value / sn2.part0.rho.value\n",
    "dx2 = (V2 * (3/(4*np.pi)))**(1/3.)"
   ]
  },
  {
   "cell_type": "code",
   "execution_count": 15,
   "id": "d7d42abb-7008-421a-b8c7-1f26f34c22cf",
   "metadata": {},
   "outputs": [],
   "source": [
    "tree4 = KDTree(sn4.part0.pos.value)\n",
    "tree3 = KDTree(sn3.part0.pos.value)\n",
    "tree2 = KDTree(sn2.part0.pos.value)"
   ]
  },
  {
   "cell_type": "code",
   "execution_count": 16,
   "id": "f4e94bef-17b2-4ab4-9efa-bedb0753d148",
   "metadata": {},
   "outputs": [
    {
     "name": "stdout",
     "output_type": "stream",
     "text": [
      "CPU times: user 570 ms, sys: 6.22 ms, total: 577 ms\n",
      "Wall time: 576 ms\n",
      "CPU times: user 4.39 s, sys: 88.6 ms, total: 4.48 s\n",
      "Wall time: 4.49 s\n",
      "CPU times: user 4.85 s, sys: 111 ms, total: 4.96 s\n",
      "Wall time: 4.97 s\n"
     ]
    }
   ],
   "source": [
    "%time r4, treekey4 = tree4.query(sn4.part0.pos.value, k=32)\n",
    "%time r3, treekey3 = tree3.query(sn3.part0.pos.value, k=32)\n",
    "%time r2, treekey2 = tree2.query(sn2.part0.pos.value, k=32)"
   ]
  },
  {
   "cell_type": "code",
   "execution_count": 26,
   "id": "215f01bd-1574-4a61-9ed2-1fffd0b8a386",
   "metadata": {},
   "outputs": [
    {
     "data": {
      "text/plain": [
       "<matplotlib.lines.Line2D at 0x2b217c6f60a0>"
      ]
     },
     "execution_count": 26,
     "metadata": {},
     "output_type": "execute_result"
    },
    {
     "data": {
      "image/png": "[encoded data removed]",
      "text/plain": [
       "<Figure size 432x288 with 1 Axes>"
      ]
     },
     "metadata": {
      "needs_background": "light"
     },
     "output_type": "display_data"
    }
   ],
   "source": [
    "plt.hist(r4[:,-1]/(3.5*dx4), bins=np.linspace(0, 2, 128), alpha=0.5, density=True, label='lvl 4');\n",
    "plt.hist(r3[:,-1]/(3.5*dx3), bins=np.linspace(0, 2, 128), alpha=0.5, density=True, label='lvl 3');\n",
    "plt.hist(r2[:,-1]/(3.5*dx2), bins=np.linspace(0, 2, 128), alpha=0.5, density=True, label='lvl 2');\n",
    "\n",
    "plt.axvline(1, c='r')"
   ]
  },
  {
   "cell_type": "code",
   "execution_count": 28,
   "id": "d5d7e559-8d5e-4d6d-b2ce-4a902a848ccc",
   "metadata": {},
   "outputs": [
    {
     "name": "stdout",
     "output_type": "stream",
     "text": [
      "0.015709337312728167\n",
      "0.00804977142252028\n",
      "0.0058397866087034345\n"
     ]
    }
   ],
   "source": [
    "n4 = compute_n(sn4)\n",
    "n3 = compute_n(sn3)\n",
    "n2 = compute_n(sn2)\n",
    "\n",
    "key4 = np.argmin(np.abs(n4 - 3400))\n",
    "key3 = np.argmin(np.abs(n3 - 3400))\n",
    "key2 = np.argmin(np.abs(n2 - 3400))\n",
    "\n",
    "print(2.5*dx4[key4])\n",
    "print(2.5*dx3[key3])\n",
    "print(2.5*dx2[key2])\n"
   ]
  },
  {
   "cell_type": "markdown",
   "id": "1b4c5889-1272-4c05-b885-a0cbc87d4d72",
   "metadata": {},
   "source": [
    "### dev"
   ]
  },
  {
   "cell_type": "code",
   "execution_count": 29,
   "id": "281760eb-61c6-48d0-a0b0-fcb6dbe37548",
   "metadata": {},
   "outputs": [],
   "source": [
    "sn4 = arepo.Snapshot(basepath + 'runs/MW3iso_fg0.5/lvl4/output', 50, combineFiles=True)\n",
    "sn3 = arepo.Snapshot(basepath + 'runs/MW3iso_fg0.5/lvl3/output', 50, combineFiles=True)\n",
    "\n",
    "sn4dev = arepo.Snapshot(basepath + 'runs/MW3iso_fg0.5/lvl4-raddev/output', 50, combineFiles=True)\n",
    "sn3dev = arepo.Snapshot(basepath + 'runs/MW3iso_fg0.5/lvl3-raddev/output', 50, combineFiles=True)"
   ]
  },
  {
   "cell_type": "code",
   "execution_count": 34,
   "id": "4907d9ec-cb92-4f01-ba55-1cfc1655da26",
   "metadata": {},
   "outputs": [
    {
     "data": {
      "text/plain": [
       "['Acceleration',\n",
       " 'BirthDensity',\n",
       " 'BirthPos',\n",
       " 'BirthVel',\n",
       " 'ColumnDensity',\n",
       " 'Coordinates',\n",
       " 'CumFeedbackMomentum',\n",
       " 'CumInjFeedbackMomentum',\n",
       " 'CumInjFeedbackMomentumAGB',\n",
       " 'CumSNIINumber',\n",
       " 'CumSNIaNumber',\n",
       " 'Cum_RadMomentumRealInjected',\n",
       " 'Cum_RadiationMomentumReleased',\n",
       " 'FeedbackEnergy',\n",
       " 'FeedbackMomentum',\n",
       " 'FeedbackMomentumAGB',\n",
       " 'GFM_InitialMass',\n",
       " 'GFM_Metallicity',\n",
       " 'GFM_Metals',\n",
       " 'GFM_StellarFormationTime',\n",
       " 'LocISMDens',\n",
       " 'MassReleased',\n",
       " 'Masses',\n",
       " 'NormSphRadFeedback',\n",
       " 'ParticleIDs',\n",
       " 'Potential',\n",
       " 'RadCoolShutoffTime',\n",
       " 'RadFeedTau',\n",
       " 'RadFeed_NumNgb',\n",
       " 'RadiationMomentumReleased',\n",
       " 'SNIINumber',\n",
       " 'SNIaNumber',\n",
       " 'Softenings',\n",
       " 'StarsHsml',\n",
       " 'StarsMaxRadius',\n",
       " 'StromgrenRadius',\n",
       " 'Velocities',\n",
       " '__class__',\n",
       " '__contains__',\n",
       " '__delattr__',\n",
       " '__dict__',\n",
       " '__dir__',\n",
       " '__doc__',\n",
       " '__eq__',\n",
       " '__format__',\n",
       " '__ge__',\n",
       " '__getattr__',\n",
       " '__getattribute__',\n",
       " '__getitem__',\n",
       " '__gt__',\n",
       " '__hash__',\n",
       " '__init__',\n",
       " '__init_subclass__',\n",
       " '__le__',\n",
       " '__lt__',\n",
       " '__module__',\n",
       " '__ne__',\n",
       " '__new__',\n",
       " '__reduce__',\n",
       " '__reduce_ex__',\n",
       " '__repr__',\n",
       " '__setattr__',\n",
       " '__sizeof__',\n",
       " '__str__',\n",
       " '__subclasshook__',\n",
       " '__weakref__',\n",
       " '_num',\n",
       " '_parent',\n",
       " 'acce',\n",
       " 'birp',\n",
       " 'birv',\n",
       " 'data',\n",
       " 'ferg',\n",
       " 'gage',\n",
       " 'gima',\n",
       " 'gmet',\n",
       " 'gz',\n",
       " 'id',\n",
       " 'mass',\n",
       " 'mrel',\n",
       " 'pos',\n",
       " 'pot',\n",
       " 'rade',\n",
       " 'rfcd',\n",
       " 'rfnn',\n",
       " 'rfns',\n",
       " 'snii',\n",
       " 'soft',\n",
       " 'ssml',\n",
       " 'strm',\n",
       " 'taud',\n",
       " 'vel']"
      ]
     },
     "execution_count": 34,
     "metadata": {},
     "output_type": "execute_result"
    }
   ],
   "source": [
    "dir(sn.part4)"
   ]
  },
  {
   "cell_type": "code",
   "execution_count": 44,
   "id": "76a1800f-70c0-422c-874c-10f878117a46",
   "metadata": {},
   "outputs": [],
   "source": [
    "def print_feedback(sn):\n",
    "    for key in ['CumFeedbackMomentum',\n",
    "                'CumInjFeedbackMomentum',\n",
    "                'CumInjFeedbackMomentumAGB',\n",
    "                'CumSNIINumber',\n",
    "                'CumSNIaNumber',\n",
    "                'Cum_RadMomentumRealInjected',\n",
    "                'Cum_RadiationMomentumReleased',\n",
    "                'FeedbackEnergy',\n",
    "                'FeedbackMomentum',\n",
    "                'FeedbackMomentumAGB',\n",
    "                'RadiationMomentumReleased']:\n",
    "    \n",
    "        val = getattr(sn.part4, key)\n",
    "        print(key, np.sum(val))\n",
    "    "
   ]
  },
  {
   "cell_type": "code",
   "execution_count": 45,
   "id": "4103aa6c-dc11-49f6-837c-ddae8fe50d53",
   "metadata": {},
   "outputs": [
    {
     "name": "stdout",
     "output_type": "stream",
     "text": [
      "CumFeedbackMomentum 0.0\n",
      "CumInjFeedbackMomentum 0.0\n",
      "CumInjFeedbackMomentumAGB 0.0\n",
      "CumSNIINumber 9935045.0\n",
      "CumSNIaNumber 228014.0\n",
      "Cum_RadMomentumRealInjected 0.0\n",
      "Cum_RadiationMomentumReleased 8.93371\n",
      "FeedbackEnergy 0.0\n",
      "FeedbackMomentum 0.0\n",
      "FeedbackMomentumAGB 0.0\n",
      "RadiationMomentumReleased 0.0014058695\n"
     ]
    }
   ],
   "source": [
    "print_feedback(sn4)"
   ]
  },
  {
   "cell_type": "code",
   "execution_count": 46,
   "id": "eef2c5bd-141d-40af-b4b7-463f76ca9e3a",
   "metadata": {},
   "outputs": [
    {
     "name": "stdout",
     "output_type": "stream",
     "text": [
      "CumFeedbackMomentum 0.0\n",
      "CumInjFeedbackMomentum 0.0\n",
      "CumInjFeedbackMomentumAGB 0.0\n",
      "CumSNIINumber 9754344.0\n",
      "CumSNIaNumber 224360.0\n",
      "Cum_RadMomentumRealInjected 0.0\n",
      "Cum_RadiationMomentumReleased 8.759188\n",
      "FeedbackEnergy 0.0\n",
      "FeedbackMomentum 0.0\n",
      "FeedbackMomentumAGB 0.0\n",
      "RadiationMomentumReleased 0.0015767568\n"
     ]
    }
   ],
   "source": [
    "print_feedback(sn4dev)"
   ]
  },
  {
   "cell_type": "code",
   "execution_count": 47,
   "id": "011fe6ab-f731-4903-a45c-e90f957d4466",
   "metadata": {},
   "outputs": [
    {
     "name": "stdout",
     "output_type": "stream",
     "text": [
      "CumFeedbackMomentum 0.0\n",
      "CumInjFeedbackMomentum 0.0\n",
      "CumInjFeedbackMomentumAGB 0.0\n",
      "CumSNIINumber 16223952.0\n",
      "CumSNIaNumber 353359.0\n",
      "Cum_RadMomentumRealInjected 0.0\n",
      "Cum_RadiationMomentumReleased 14.93961\n",
      "FeedbackEnergy 0.0\n",
      "FeedbackMomentum 0.0\n",
      "FeedbackMomentumAGB 0.0\n",
      "RadiationMomentumReleased 0.010303579\n"
     ]
    }
   ],
   "source": [
    "print_feedback(sn3)"
   ]
  },
  {
   "cell_type": "code",
   "execution_count": 48,
   "id": "6543052c-9c6b-4493-b603-6e05db969308",
   "metadata": {},
   "outputs": [
    {
     "name": "stdout",
     "output_type": "stream",
     "text": [
      "CumFeedbackMomentum 0.0\n",
      "CumInjFeedbackMomentum 0.0\n",
      "CumInjFeedbackMomentumAGB 0.0\n",
      "CumSNIINumber 17168928.0\n",
      "CumSNIaNumber 373433.0\n",
      "Cum_RadMomentumRealInjected 0.0\n",
      "Cum_RadiationMomentumReleased 15.749003\n",
      "FeedbackEnergy 0.0\n",
      "FeedbackMomentum 0.0\n",
      "FeedbackMomentumAGB 0.0\n",
      "RadiationMomentumReleased 0.011782921\n"
     ]
    }
   ],
   "source": [
    "print_feedback(sn3dev)"
   ]
  },
  {
   "cell_type": "code",
   "execution_count": 49,
   "id": "ee579cc2-4202-4efd-bd48-cf81ecf1abbd",
   "metadata": {},
   "outputs": [
    {
     "data": {
      "text/plain": [
       "snapshot /n/holylfs05/LABS/hernquist_lab/Users/abeane/GSEgas/runs/MW3iso_fg0.5/lvl3/output/snapdir_050/snapshot_050.0.hdf5"
      ]
     },
     "execution_count": 49,
     "metadata": {},
     "output_type": "execute_result"
    }
   ],
   "source": [
    "sn3"
   ]
  },
  {
   "cell_type": "code",
   "execution_count": 53,
   "id": "b745b478-0476-4596-a530-c62618f76c29",
   "metadata": {},
   "outputs": [],
   "source": [
    "from scipy.stats import binned_statistic_2d\n",
    "import matplotlib as mpl"
   ]
  },
  {
   "cell_type": "code",
   "execution_count": 58,
   "id": "5988f93f-516a-4b77-bdd9-0ddb6c6107e8",
   "metadata": {},
   "outputs": [],
   "source": [
    "from numba import njit\n",
    "from scipy.spatial import KDTree"
   ]
  },
  {
   "cell_type": "code",
   "execution_count": 59,
   "id": "41b4c47d-f7a4-4afb-9edb-007a24a3ef21",
   "metadata": {},
   "outputs": [],
   "source": [
    "nres = 1024\n",
    "\n",
    "@njit\n",
    "def create_plot_pos(x, y, nres):\n",
    "    plot_pos = np.zeros((nres*nres, 3))\n",
    "    for i in range(len(x)):\n",
    "        for j in range(len(y)):\n",
    "            plot_pos[i*nres + j][0]=x[i][0]\n",
    "            plot_pos[i*nres + j][2]=y[0][j]\n",
    "\n",
    "    return plot_pos\n",
    "\n",
    "x, z = np.meshgrid(np.linspace(-8, 8, nres), np.linspace(-8, 8, nres), indexing='ij')\n",
    "plot_pos = create_plot_pos(x, z, nres)"
   ]
  },
  {
   "cell_type": "code",
   "execution_count": 61,
   "id": "51a883b4-28b7-4e6c-8ee8-640837c86cab",
   "metadata": {},
   "outputs": [],
   "source": [
    "pos = sn3.part0.pos.value\n",
    "sfrmass = sn3.part0.mass.value * sn3.part0.sfr\n",
    "\n",
    "tree = KDTree(pos)\n",
    "_, key = tree.query(plot_pos)"
   ]
  },
  {
   "cell_type": "code",
   "execution_count": 69,
   "id": "cfd338b0-89fd-4c55-8483-618625c1fb99",
   "metadata": {},
   "outputs": [
    {
     "data": {
      "text/plain": [
       "<matplotlib.collections.PathCollection at 0x2b21fa036670>"
      ]
     },
     "execution_count": 69,
     "metadata": {},
     "output_type": "execute_result"
    },
    {
     "data": {
      "image/png": "[encoded data removed]",
      "text/plain": [
       "<Figure size 864x864 with 1 Axes>"
      ]
     },
     "metadata": {
      "needs_background": "light"
     },
     "output_type": "display_data"
    }
   ],
   "source": [
    "pos = sn3.part0.pos.value\n",
    "sfrmass = sn3.part0.mass.value * sn3.part0.sfr\n",
    "\n",
    "key = sfrmass > 0\n",
    "fig, ax = plt.subplots(1, 1, figsize=(12, 12))\n",
    "ax.scatter(pos[:,0][key], pos[:,1][key], s=0.1)"
   ]
  },
  {
   "cell_type": "code",
   "execution_count": 70,
   "id": "97ec1e86-8492-472f-88a6-f9d909565038",
   "metadata": {},
   "outputs": [
    {
     "data": {
      "text/plain": [
       "<matplotlib.collections.PathCollection at 0x2b21f9e615b0>"
      ]
     },
     "execution_count": 70,
     "metadata": {},
     "output_type": "execute_result"
    },
    {
     "data": {
      "image/png": "[encoded data removed]",
      "text/plain": [
       "<Figure size 864x864 with 1 Axes>"
      ]
     },
     "metadata": {
      "needs_background": "light"
     },
     "output_type": "display_data"
    }
   ],
   "source": [
    "pos = sn2.part0.pos.value\n",
    "sfrmass = sn2.part0.mass.value * sn2.part0.sfr\n",
    "\n",
    "key = sfrmass > 0\n",
    "fig, ax = plt.subplots(1, 1, figsize=(12, 12))\n",
    "ax.scatter(pos[:,0][key], pos[:,1][key], s=0.1)"
   ]
  },
  {
   "cell_type": "code",
   "execution_count": null,
   "id": "fc96f4e1-aed8-4d05-b840-6b37942fa29f",
   "metadata": {},
   "outputs": [],
   "source": []
  }
 ],
 "metadata": {
  "kernelspec": {
   "display_name": "Python 3",
   "language": "python",
   "name": "python3"
  },
  "language_info": {
   "codemirror_mode": {
    "name": "ipython",
    "version": 3
   },
   "file_extension": ".py",
   "mimetype": "text/x-python",
   "name": "python",
   "nbconvert_exporter": "python",
   "pygments_lexer": "ipython3",
   "version": "3.8.8"
  }
 },
 "nbformat": 4,
 "nbformat_minor": 5
}
