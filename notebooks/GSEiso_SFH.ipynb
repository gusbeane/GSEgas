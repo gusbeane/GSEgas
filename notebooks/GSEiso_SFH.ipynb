{
 "cells": [
  {
   "cell_type": "code",
   "execution_count": 7,
   "id": "c607953b-6cb9-4df1-9c44-8e1ff7931b25",
   "metadata": {},
   "outputs": [],
   "source": [
    "import numpy as np\n",
    "import arepo\n",
    "import matplotlib.pyplot as plt"
   ]
  },
  {
   "cell_type": "code",
   "execution_count": 2,
   "id": "c5579ec5-3219-48d7-8591-cb73a7def90e",
   "metadata": {},
   "outputs": [],
   "source": [
    "basepath = '/n/holylfs05/LABS/hernquist_lab/Users/abeane/GSEgas/'"
   ]
  },
  {
   "cell_type": "code",
   "execution_count": 3,
   "id": "66f8388c-4f90-4047-a52e-1b12c32bda43",
   "metadata": {},
   "outputs": [],
   "source": [
    "sn = arepo.Snapshot(basepath + 'runs/GSEiso_fg0.5_Z-1.2/lvl4/output', 0, combineFiles=True)\n",
    "ics = arepo.Snapshot(basepath + 'ics/GSEiso_fg0.5_Z-1.2_metals-in-ics/lvl4/ics-with-grid.hdf5')\n",
    "ics_no_grid = arepo.Snapshot(basepath + 'ics/GSEiso_fg0.5_Z-1.2_metals-in-ics/lvl4/ics.hdf5')\n"
   ]
  },
  {
   "cell_type": "code",
   "execution_count": 6,
   "id": "0f9a5c18-7226-4f78-93a8-3e895527b660",
   "metadata": {},
   "outputs": [
    {
     "name": "stdout",
     "output_type": "stream",
     "text": [
      "11.959152560564124\n",
      "0.050185006267604346\n"
     ]
    }
   ],
   "source": [
    "print(0.299488509651193/0.025042619711932654)\n",
    "print(sn.MassTable[2] * sn.NumPart_Total[2] + np.sum(sn.part0.mass.value))"
   ]
  },
  {
   "cell_type": "code",
   "execution_count": 5,
   "id": "da3d4745-3496-403a-baac-544132c7961e",
   "metadata": {},
   "outputs": [
    {
     "ename": "AttributeError",
     "evalue": "unknown field 'mass' for particle group 4",
     "output_type": "error",
     "traceback": [
      "\u001b[0;31m---------------------------------------------------------------------------\u001b[0m",
      "\u001b[0;31mAttributeError\u001b[0m                            Traceback (most recent call last)",
      "\u001b[0;32m<ipython-input-5-14fcfefbae3a>\u001b[0m in \u001b[0;36m<module>\u001b[0;34m\u001b[0m\n\u001b[0;32m----> 1\u001b[0;31m \u001b[0mnp\u001b[0m\u001b[0;34m.\u001b[0m\u001b[0msum\u001b[0m\u001b[0;34m(\u001b[0m\u001b[0msn\u001b[0m\u001b[0;34m.\u001b[0m\u001b[0mpart4\u001b[0m\u001b[0;34m.\u001b[0m\u001b[0mmass\u001b[0m\u001b[0;34m)\u001b[0m\u001b[0;34m.\u001b[0m\u001b[0mvalue\u001b[0m \u001b[0;34m*\u001b[0m \u001b[0;36m1E10\u001b[0m \u001b[0;34m/\u001b[0m \u001b[0;34m(\u001b[0m\u001b[0msn\u001b[0m\u001b[0;34m.\u001b[0m\u001b[0mTime\u001b[0m\u001b[0;34m.\u001b[0m\u001b[0mvalue\u001b[0m \u001b[0;34m*\u001b[0m \u001b[0;36m0.9785\u001b[0m \u001b[0;34m*\u001b[0m \u001b[0;36m1E9\u001b[0m\u001b[0;34m)\u001b[0m\u001b[0;34m\u001b[0m\u001b[0;34m\u001b[0m\u001b[0m\n\u001b[0m",
      "\u001b[0;32m~/.local/lib/python3.8/site-packages/gadget/loader.py\u001b[0m in \u001b[0;36m__getattr__\u001b[0;34m(self, attr)\u001b[0m\n\u001b[1;32m    932\u001b[0m             \u001b[0;32mreturn\u001b[0m \u001b[0mdata\u001b[0m\u001b[0;34m\u001b[0m\u001b[0;34m\u001b[0m\u001b[0m\n\u001b[1;32m    933\u001b[0m         \u001b[0;32melse\u001b[0m\u001b[0;34m:\u001b[0m\u001b[0;34m\u001b[0m\u001b[0;34m\u001b[0m\u001b[0m\n\u001b[0;32m--> 934\u001b[0;31m             \u001b[0;32mreturn\u001b[0m \u001b[0mself\u001b[0m\u001b[0;34m.\u001b[0m\u001b[0m__getitem__\u001b[0m\u001b[0;34m(\u001b[0m\u001b[0mattr\u001b[0m\u001b[0;34m)\u001b[0m\u001b[0;34m\u001b[0m\u001b[0;34m\u001b[0m\u001b[0m\n\u001b[0m\u001b[1;32m    935\u001b[0m \u001b[0;34m\u001b[0m\u001b[0m\n\u001b[1;32m    936\u001b[0m     \u001b[0;32mdef\u001b[0m \u001b[0m__dir__\u001b[0m\u001b[0;34m(\u001b[0m\u001b[0mself\u001b[0m\u001b[0;34m)\u001b[0m\u001b[0;34m:\u001b[0m\u001b[0;34m\u001b[0m\u001b[0;34m\u001b[0m\u001b[0m\n",
      "\u001b[0;32m~/.local/lib/python3.8/site-packages/gadget/loader.py\u001b[0m in \u001b[0;36m__getitem__\u001b[0;34m(self, item_original)\u001b[0m\n\u001b[1;32m    860\u001b[0m                 \u001b[0;32mreturn\u001b[0m \u001b[0mf\u001b[0m\u001b[0;34m[\u001b[0m\u001b[0mtmp\u001b[0m\u001b[0;34m:\u001b[0m\u001b[0mtmp\u001b[0m\u001b[0;34m+\u001b[0m\u001b[0mparent\u001b[0m\u001b[0;34m.\u001b[0m\u001b[0mnpart_loaded\u001b[0m\u001b[0;34m[\u001b[0m\u001b[0mnum\u001b[0m\u001b[0;34m]\u001b[0m\u001b[0;34m]\u001b[0m\u001b[0;34m\u001b[0m\u001b[0;34m\u001b[0m\u001b[0m\n\u001b[1;32m    861\u001b[0m \u001b[0;34m\u001b[0m\u001b[0m\n\u001b[0;32m--> 862\u001b[0;31m         \u001b[0;32mraise\u001b[0m \u001b[0mAttributeError\u001b[0m\u001b[0;34m(\u001b[0m\u001b[0;34m\"unknown field '%s' for particle group %d\"\u001b[0m\u001b[0;34m%\u001b[0m\u001b[0;34m(\u001b[0m\u001b[0mitem_original\u001b[0m\u001b[0;34m,\u001b[0m\u001b[0mnum\u001b[0m\u001b[0;34m)\u001b[0m\u001b[0;34m)\u001b[0m\u001b[0;34m\u001b[0m\u001b[0;34m\u001b[0m\u001b[0m\n\u001b[0m\u001b[1;32m    863\u001b[0m \u001b[0;34m\u001b[0m\u001b[0m\n\u001b[1;32m    864\u001b[0m     \u001b[0;32mdef\u001b[0m \u001b[0m__contains__\u001b[0m\u001b[0;34m(\u001b[0m\u001b[0mself\u001b[0m\u001b[0;34m,\u001b[0m \u001b[0mitem\u001b[0m\u001b[0;34m)\u001b[0m\u001b[0;34m:\u001b[0m\u001b[0;34m\u001b[0m\u001b[0;34m\u001b[0m\u001b[0m\n",
      "\u001b[0;31mAttributeError\u001b[0m: unknown field 'mass' for particle group 4"
     ]
    }
   ],
   "source": [
    "np.sum(sn.part4.mass).value * 1E10 / (sn.Time.value * 0.9785 * 1E9)"
   ]
  },
  {
   "cell_type": "code",
   "execution_count": null,
   "id": "05138e4c-3945-4f57-a0b1-74fe7bd13b90",
   "metadata": {},
   "outputs": [],
   "source": [
    "snp = arepo.Snapshot(basepath + 'runs/fgGSE0.5_fgMW0.5/lvl4/output', 50, combineFiles=True)"
   ]
  },
  {
   "cell_type": "code",
   "execution_count": null,
   "id": "7b78eac0-e375-4ac5-b4d5-ed9e632e3bc2",
   "metadata": {},
   "outputs": [],
   "source": [
    "np.sum(snp.part4.mass).value * 1E10 / (snp.Time.value * 0.9785 * 1E9)"
   ]
  },
  {
   "cell_type": "code",
   "execution_count": null,
   "id": "1f5157f2-94c5-427e-a1c4-65e322613e62",
   "metadata": {},
   "outputs": [],
   "source": [
    "np.sum(sn.part0.sfr.value) / (sn.MassTable[2].value * sn.NumPart_Total[2] * 1E10)"
   ]
  },
  {
   "cell_type": "code",
   "execution_count": null,
   "id": "d59d7ef6-4e1d-4bc6-855e-21312e677d84",
   "metadata": {},
   "outputs": [],
   "source": [
    "np.log10(sn.MassTable[2].value * sn.NumPart_Total[2]*1E10)"
   ]
  },
  {
   "cell_type": "code",
   "execution_count": 6,
   "id": "d2717232-4d43-4955-a13c-0e35cd84c273",
   "metadata": {},
   "outputs": [],
   "source": [
    "sfh_file = np.genfromtxt(basepath+'runs/GSEiso_fg0.5_Z-1.2/lvl4/output/sfr.txt')\n",
    "sfh_file_Z0 = np.genfromtxt(basepath+'runs/GSEiso_fg0.5_Z0/lvl4/output/sfr.txt')"
   ]
  },
  {
   "cell_type": "code",
   "execution_count": 7,
   "id": "8e653527-7398-4531-9581-68dcdfb3b3dc",
   "metadata": {},
   "outputs": [
    {
     "data": {
      "text/plain": [
       "[<matplotlib.lines.Line2D at 0x2ba7bc971400>]"
      ]
     },
     "execution_count": 7,
     "metadata": {},
     "output_type": "execute_result"
    },
    {
     "data": {
      "image/png": "[encoded data removed]",
      "text/plain": [
       "<Figure size 432x288 with 1 Axes>"
      ]
     },
     "metadata": {
      "needs_background": "light"
     },
     "output_type": "display_data"
    }
   ],
   "source": [
    "time, sfr = sfh_file[:,0], sfh_file[:,2]\n",
    "time_Z0, sfr_Z0 = sfh_file_Z0[:,0], sfh_file_Z0[:,2]\n",
    "plt.plot(time, sfr)\n",
    "plt.plot(time_Z0, sfr_Z0)"
   ]
  },
  {
   "cell_type": "code",
   "execution_count": 8,
   "id": "d2afc5a0-44d6-4497-97e4-9f28b0ecb75f",
   "metadata": {},
   "outputs": [
    {
     "data": {
      "text/plain": [
       "-1.6989700043360187"
      ]
     },
     "execution_count": 8,
     "metadata": {},
     "output_type": "execute_result"
    }
   ],
   "source": [
    "np.log10(0.02)"
   ]
  },
  {
   "cell_type": "code",
   "execution_count": 12,
   "id": "776fb879-79e6-494a-9101-0a6662eb0ada",
   "metadata": {},
   "outputs": [],
   "source": [
    "sfh_file_Z0_SFE01 = np.genfromtxt(basepath+'runs/GSEiso_fg0.5_Z0/lvl4-SFE0.1/output/sfr.txt')"
   ]
  },
  {
   "cell_type": "code",
   "execution_count": 26,
   "id": "3a49681f-5533-43f7-882f-8576c368ab47",
   "metadata": {},
   "outputs": [
    {
     "data": {
      "text/plain": [
       "(0.0, 0.0175)"
      ]
     },
     "execution_count": 26,
     "metadata": {},
     "output_type": "execute_result"
    },
    {
     "data": {
      "image/png": "[encoded data removed]",
      "text/plain": [
       "<Figure size 432x288 with 1 Axes>"
      ]
     },
     "metadata": {
      "needs_background": "light"
     },
     "output_type": "display_data"
    }
   ],
   "source": [
    "time_Z0, sfr_Z0 = sfh_file_Z0[:,0], sfh_file_Z0[:,2]\n",
    "time_SFE01, sfr_SFE01 = sfh_file_Z0_SFE01[:,0], sfh_file_Z0_SFE01[:,2]\n",
    "\n",
    "plt.plot(time, sfr)\n",
    "plt.plot(time_Z0, sfr_Z0)\n",
    "plt.xlim(0, 0.07)\n",
    "plt.ylim(0, 0.0175)"
   ]
  },
  {
   "cell_type": "code",
   "execution_count": 30,
   "id": "d965846f-70e9-4fed-89dd-240b0a1c1b5c",
   "metadata": {},
   "outputs": [],
   "source": [
    "sfh_file_Z0_lvl3 = np.genfromtxt(basepath+'runs/GSEiso_fg0.5_Z0/lvl3/output/sfr.txt')"
   ]
  },
  {
   "cell_type": "code",
   "execution_count": 31,
   "id": "3118e017-7cf3-4c27-b5d2-f9050bcd25ae",
   "metadata": {},
   "outputs": [
    {
     "data": {
      "text/plain": [
       "[<matplotlib.lines.Line2D at 0x2ba7bcdcfaf0>]"
      ]
     },
     "execution_count": 31,
     "metadata": {},
     "output_type": "execute_result"
    },
    {
     "data": {
      "image/png": "[encoded data removed]",
      "text/plain": [
       "<Figure size 432x288 with 1 Axes>"
      ]
     },
     "metadata": {
      "needs_background": "light"
     },
     "output_type": "display_data"
    }
   ],
   "source": [
    "# time_Z0, sfr_Z0 = sfh_file_Z0[:,0], sfh_file_Z0[:,2]\n",
    "time_lvl3, sfr_lvl3 = sfh_file_Z0_lvl3[:,0], sfh_file_Z0_lvl3[:,2]\n",
    "\n",
    "# plt.plot(time, sfr)\n",
    "# plt.plot(time_Z0, sfr_Z0)\n",
    "plt.plot(time_lvl3, sfr_lvl3)"
   ]
  },
  {
   "cell_type": "code",
   "execution_count": 32,
   "id": "d734d856-1760-47b8-9c82-92bb18755562",
   "metadata": {},
   "outputs": [
    {
     "data": {
      "text/plain": [
       "0.010211614561821914"
      ]
     },
     "execution_count": 32,
     "metadata": {},
     "output_type": "execute_result"
    }
   ],
   "source": [
    "np.average(sfh_file_Z0_lvl3[:,2])"
   ]
  },
  {
   "cell_type": "code",
   "execution_count": 43,
   "id": "4cacb2db-06c6-4420-99ab-bb79d0efd0a0",
   "metadata": {},
   "outputs": [],
   "source": [
    "sfh_file_Z0_GFM = np.genfromtxt(basepath+'runs/GSEiso_fg0.5_Z0_GFM/lvl4/output/sfr.txt')"
   ]
  },
  {
   "cell_type": "code",
   "execution_count": 44,
   "id": "ee6d46bf-8e29-4f5c-8548-8d1b9102e71a",
   "metadata": {},
   "outputs": [
    {
     "data": {
      "text/plain": [
       "[<matplotlib.lines.Line2D at 0x2ba7bd4f8ca0>]"
      ]
     },
     "execution_count": 44,
     "metadata": {},
     "output_type": "execute_result"
    },
    {
     "data": {
      "image/png": "[encoded data removed]",
      "text/plain": [
       "<Figure size 432x288 with 1 Axes>"
      ]
     },
     "metadata": {
      "needs_background": "light"
     },
     "output_type": "display_data"
    }
   ],
   "source": [
    "# time_Z0, sfr_Z0 = sfh_file_Z0[:,0], sfh_file_Z0[:,2]\n",
    "time_GFM, sfr_GFM = sfh_file_Z0_GFM[:,0], sfh_file_Z0_GFM[:,2]\n",
    "\n",
    "# plt.plot(time, sfr)\n",
    "# plt.plot(time_Z0, sfr_Z0)\n",
    "plt.plot(time_GFM, sfr_GFM)"
   ]
  },
  {
   "cell_type": "code",
   "execution_count": 45,
   "id": "b169b1be-a22c-4819-b5c2-2e7bc6e3956e",
   "metadata": {},
   "outputs": [
    {
     "data": {
      "text/plain": [
       "0.01597789300094162"
      ]
     },
     "execution_count": 45,
     "metadata": {},
     "output_type": "execute_result"
    }
   ],
   "source": [
    "np.average(sfr_GFM[time_GFM>0.05])"
   ]
  },
  {
   "cell_type": "code",
   "execution_count": 42,
   "id": "2866c4f7-741f-464d-914e-92d12f671d9c",
   "metadata": {},
   "outputs": [
    {
     "data": {
      "text/plain": [
       "8.398679758521043"
      ]
     },
     "execution_count": 42,
     "metadata": {},
     "output_type": "execute_result"
    }
   ],
   "source": [
    "np.log10(ics.MassTable[2].value * ics.NumPart_Total[2] * 1E10)"
   ]
  },
  {
   "cell_type": "code",
   "execution_count": 117,
   "id": "12c0ed36-8311-4c2d-b1db-a3b671d34e62",
   "metadata": {},
   "outputs": [
    {
     "data": {
      "text/plain": [
       "array([7.5866234e-01, 2.4053632e-01, 1.5142976e-04, 4.4167013e-05,\n",
       "       3.5964570e-04, 7.5714881e-05, 4.4167013e-05, 4.4167013e-05,\n",
       "       8.2024453e-05, 0.0000000e+00], dtype=float32)"
      ]
     },
     "execution_count": 117,
     "metadata": {},
     "output_type": "execute_result"
    }
   ],
   "source": [
    "ics_no_grid.part0.GFM_Metals[0]"
   ]
  },
  {
   "cell_type": "code",
   "execution_count": 128,
   "id": "20cd391e-8900-4acd-bc88-9ca988eefc14",
   "metadata": {},
   "outputs": [
    {
     "data": {
      "text/plain": [
       "-1.2000000028816549"
      ]
     },
     "execution_count": 128,
     "metadata": {},
     "output_type": "execute_result"
    }
   ],
   "source": [
    "np.log10(sn.part0.GFM_Metallicity[50]/0.0127)"
   ]
  },
  {
   "cell_type": "code",
   "execution_count": 129,
   "id": "690cc48e-a637-429c-b642-c11e76503f7e",
   "metadata": {},
   "outputs": [
    {
     "data": {
      "text/plain": [
       "array([7.5866234e-01, 2.4053632e-01, 1.5142976e-04, 4.4167013e-05,\n",
       "       3.5964570e-04, 7.5714881e-05, 4.4167013e-05, 4.4167013e-05,\n",
       "       8.2024453e-05, 0.0000000e+00], dtype=float32)"
      ]
     },
     "execution_count": 129,
     "metadata": {},
     "output_type": "execute_result"
    }
   ],
   "source": [
    "sn.part0.GFM_Metals[50]"
   ]
  },
  {
   "cell_type": "code",
   "execution_count": null,
   "id": "89b3d829-f4f9-4dfc-b02c-54098ab546f5",
   "metadata": {},
   "outputs": [],
   "source": []
  }
 ],
 "metadata": {
  "kernelspec": {
   "display_name": "Python 3",
   "language": "python",
   "name": "python3"
  },
  "language_info": {
   "codemirror_mode": {
    "name": "ipython",
    "version": 3
   },
   "file_extension": ".py",
   "mimetype": "text/x-python",
   "name": "python",
   "nbconvert_exporter": "python",
   "pygments_lexer": "ipython3",
   "version": "3.8.8"
  }
 },
 "nbformat": 4,
 "nbformat_minor": 5
}
