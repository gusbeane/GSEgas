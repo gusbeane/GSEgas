{
 "cells": [
  {
   "cell_type": "code",
   "execution_count": 2,
   "id": "cce97ebe-a571-4bca-954c-262959418f88",
   "metadata": {},
   "outputs": [],
   "source": [
    "import numpy as np\n",
    "import arepo\n",
    "import matplotlib.pyplot as plt\n",
    "\n",
    "from scipy.signal import savgol_filter\n",
    "from tqdm import tqdm\n",
    "import matplotlib as mpl\n",
    "from scipy.stats import binned_statistic_2d"
   ]
  },
  {
   "cell_type": "code",
   "execution_count": 3,
   "id": "fa51f80e-0d41-455f-ad9b-c4a04577316d",
   "metadata": {},
   "outputs": [],
   "source": [
    "basepath = '/n/holylfs05/LABS/hernquist_lab/Users/abeane/GSEgas/'"
   ]
  },
  {
   "cell_type": "code",
   "execution_count": 4,
   "id": "334afdcc-5454-4dec-80eb-a968fd3c8ecc",
   "metadata": {},
   "outputs": [],
   "source": [
    "snMW = arepo.Snapshot(basepath+'ics/MW3_MHG0.25_GSE2_MHG0.18_Rcut10/lvl4/MW.hdf5')\n",
    "snGSE = arepo.Snapshot(basepath+'ics/MW3_MHG0.25_GSE2_MHG0.18_Rcut10/lvl4/GSE.hdf5')"
   ]
  },
  {
   "cell_type": "code",
   "execution_count": 5,
   "id": "43e488bf-0651-41d4-80d7-e44b5d7cedb6",
   "metadata": {},
   "outputs": [
    {
     "name": "stdout",
     "output_type": "stream",
     "text": [
      "MW part2 mass: 0.598977019302386\n",
      "GSE part2 mass: 0.05008739455464947\n"
     ]
    }
   ],
   "source": [
    "print('MW part2 mass:', snMW.MassTable[2]*snMW.NumPart_Total[2])\n",
    "print('GSE part2 mass:', snGSE.MassTable[2]*snGSE.NumPart_Total[2])"
   ]
  },
  {
   "cell_type": "code",
   "execution_count": 6,
   "id": "1d56e691-ecb2-44f4-8287-8ef64e8c3edd",
   "metadata": {},
   "outputs": [
    {
     "data": {
      "text/plain": [
       "12.0"
      ]
     },
     "execution_count": 6,
     "metadata": {},
     "output_type": "execute_result"
    }
   ],
   "source": [
    "6/0.5"
   ]
  },
  {
   "cell_type": "code",
   "execution_count": 7,
   "id": "cbcfd89a-f04b-4265-a382-7812f232cd21",
   "metadata": {},
   "outputs": [
    {
     "data": {
      "text/plain": [
       "array([0.00000000e+00, 2.31344168e-05, 5.99992747e-06, 0.00000000e+00,\n",
       "       0.00000000e+00, 0.00000000e+00])"
      ]
     },
     "execution_count": 7,
     "metadata": {},
     "output_type": "execute_result"
    }
   ],
   "source": [
    "snGSE.MassTable"
   ]
  },
  {
   "cell_type": "code",
   "execution_count": null,
   "id": "781e8d77-7b48-4c40-a8f9-da89ba7591e2",
   "metadata": {},
   "outputs": [],
   "source": []
  }
 ],
 "metadata": {
  "kernelspec": {
   "display_name": "Python 3",
   "language": "python",
   "name": "python3"
  },
  "language_info": {
   "codemirror_mode": {
    "name": "ipython",
    "version": 3
   },
   "file_extension": ".py",
   "mimetype": "text/x-python",
   "name": "python",
   "nbconvert_exporter": "python",
   "pygments_lexer": "ipython3",
   "version": "3.8.8"
  }
 },
 "nbformat": 4,
 "nbformat_minor": 5
}
