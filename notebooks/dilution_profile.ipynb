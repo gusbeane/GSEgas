{
 "cells": [
  {
   "cell_type": "code",
   "execution_count": 1,
   "id": "5eb02767-7622-4f92-aecd-d8361bfc437a",
   "metadata": {},
   "outputs": [],
   "source": [
    "import numpy as np\n",
    "import arepo\n",
    "import matplotlib.pyplot as plt\n",
    "from scipy.signal import savgol_filter\n",
    "from tqdm import tqdm\n",
    "import matplotlib as mpl\n",
    "from scipy.stats import binned_statistic_2d\n",
    "from numba import njit\n",
    "import h5py as h5\n",
    "import os"
   ]
  },
  {
   "cell_type": "code",
   "execution_count": 5,
   "id": "ed2454e4-23d1-4321-aa97-bc79a7ea3d2c",
   "metadata": {},
   "outputs": [],
   "source": [
    "basepath = '/n/holylfs05/LABS/hernquist_lab/Users/abeane/GSEgas/'"
   ]
  },
  {
   "cell_type": "code",
   "execution_count": 24,
   "id": "4e410c90-6c2d-4864-b2a0-b6034ac64920",
   "metadata": {},
   "outputs": [],
   "source": [
    "def get_rough_metallicity(MW_mass, MW_metal_frac, GSE_mass, GSE_metal_frac):\n",
    "    MW_metal = MW_mass * MW_metal_frac\n",
    "    GSE_metal = GSE_mass * GSE_metal_frac\n",
    "    \n",
    "    return (MW_metal + GSE_metal) / (MW_mass + GSE_mass)"
   ]
  },
  {
   "cell_type": "code",
   "execution_count": 58,
   "id": "310c32e5-0207-4a82-a046-938295959ef3",
   "metadata": {},
   "outputs": [],
   "source": [
    "def get_dilution_profile(snap, name):\n",
    "\n",
    "    fname = basepath + 'anlys/MC/'+name+'/MC_Prop_'+str(snap).zfill(3)+'.h5'\n",
    "    f = h5.File(fname, mode='r')\n",
    "\n",
    "    pos = f['PartType5/RotatedCoordinates'][:]\n",
    "    ptype = f['PartType5/PartType'][:]\n",
    "    mass = f['PartType5/Masses'][:]\n",
    "    memb = f['PartType5/Membership'][:]\n",
    "    R = np.linalg.norm(pos[:,:2], axis=1)\n",
    "    z = pos[:,2]\n",
    "\n",
    "    Rmin = 0.\n",
    "    dR = 0.5\n",
    "\n",
    "    metallicity = []\n",
    "    dilution = []\n",
    "    aveR = []\n",
    "\n",
    "    while Rmin < 15:\n",
    "        in_annulus = np.logical_and(R > Rmin, R < Rmin+dR)\n",
    "        in_annulus = np.logical_and(in_annulus, np.abs(z) < 3)\n",
    "        gas_in_annulus = np.logical_and(ptype==0, in_annulus)\n",
    "    \n",
    "        memb0_key = np.logical_and(gas_in_annulus, memb==0)\n",
    "        memb1_key = np.logical_and(gas_in_annulus, memb==1)\n",
    "        memb2_key = np.logical_and(gas_in_annulus, memb==2)\n",
    "        memb3_key = np.logical_and(gas_in_annulus, memb==3)\n",
    "    \n",
    "        mass0 = np.sum(mass[memb0_key])\n",
    "        mass1 = np.sum(mass[memb1_key])\n",
    "        mass2 = np.sum(mass[memb2_key])\n",
    "        mass3 = np.sum(mass[memb3_key])\n",
    "    \n",
    "        metal_annulus = get_rough_metallicity((0.3/0.7)*(mass0 + mass1), 10.**(-0.3)*0.0127, mass2+mass3, 10.**(-1.2)*0.0127)\n",
    "    \n",
    "        metallicity.append(metal_annulus)\n",
    "        dilution.append((mass2+mass3) / (mass0 + mass1 + mass2+mass3))\n",
    "        aveR.append(np.mean(R[gas_in_annulus]))\n",
    "\n",
    "        # print(np.mean(R[gas_in_annulus]), mass0 + mass1, mass2)\n",
    "        \n",
    "        Rmin += dR\n",
    "    \n",
    "    metallicity = np.array(metallicity)\n",
    "    dilution = np.array(dilution)\n",
    "    aveR = np.array(aveR)\n",
    "    time = f['Header'].attrs['Time']\n",
    "\n",
    "    f.close()\n",
    "    \n",
    "    return time, aveR, dilution, metallicity"
   ]
  },
  {
   "cell_type": "code",
   "execution_count": 59,
   "id": "3e2862c7-0ce9-4471-876d-33dd9f474e76",
   "metadata": {},
   "outputs": [],
   "source": [
    "time, aveR, dilution, metallicity = get_dilution_profile(800, 'MW3_MHG0.25_GSE2_MHG0.18_Rcut10-lvl4')"
   ]
  },
  {
   "cell_type": "code",
   "execution_count": 60,
   "id": "b126d262-05bb-4fad-9591-b4c53adb4b4b",
   "metadata": {},
   "outputs": [
    {
     "data": {
      "text/plain": [
       "(0.0, 0.2)"
      ]
     },
     "execution_count": 60,
     "metadata": {},
     "output_type": "execute_result"
    },
    {
     "data": {
      "image/png": "[encoded data removed]",
      "text/plain": [
       "<Figure size 432x288 with 1 Axes>"
      ]
     },
     "metadata": {
      "needs_background": "light"
     },
     "output_type": "display_data"
    }
   ],
   "source": [
    "plt.plot(aveR, dilution)\n",
    "plt.ylim(0, 0.2)"
   ]
  },
  {
   "cell_type": "code",
   "execution_count": 61,
   "id": "06adbace-37c6-4cc7-8aca-9e6e7d7c7eba",
   "metadata": {},
   "outputs": [
    {
     "data": {
      "text/plain": [
       "(-0.8, -0.25)"
      ]
     },
     "execution_count": 61,
     "metadata": {},
     "output_type": "execute_result"
    },
    {
     "data": {
      "image/png": "[encoded data removed]",
      "text/plain": [
       "<Figure size 432x288 with 1 Axes>"
      ]
     },
     "metadata": {
      "needs_background": "light"
     },
     "output_type": "display_data"
    }
   ],
   "source": [
    "plt.plot(aveR, np.log10(metallicity/0.0127))\n",
    "plt.axhline(-0.3)\n",
    "plt.axhline(-0.6, ls='dashed')\n",
    "plt.ylim(-0.8, -0.25)"
   ]
  },
  {
   "cell_type": "code",
   "execution_count": 62,
   "id": "ee24b6b6-f934-414a-8f5d-5315a8c70a74",
   "metadata": {},
   "outputs": [],
   "source": [
    "dil = np.load(basepath+'anlys/dilution/dil_MW3_MHG0.25_GSE2_MHG0.18_Rcut10-lvl4.npy', allow_pickle=True).item()"
   ]
  },
  {
   "cell_type": "code",
   "execution_count": 66,
   "id": "ec5be642-d6cb-43bb-8de8-9f2cab5b077a",
   "metadata": {},
   "outputs": [
    {
     "data": {
      "text/plain": [
       "array([ 0.19182924,  0.75027614,  1.28600756,  1.73036373,  2.27459404,\n",
       "        2.71759567,  3.25334874,  3.76095904,  4.24281398,  4.74631437,\n",
       "        5.26427603,  5.71947392,  6.24460961,  6.76019901,  7.24474623,\n",
       "        7.75443382,  8.24736953,  8.74435643,  9.23286696,  9.75192416,\n",
       "       10.25773423, 10.73739106, 11.26231659, 11.74866767, 12.2440286 ,\n",
       "       12.75030551, 13.25381647, 13.75090618, 14.26326074, 14.7489677 ])"
      ]
     },
     "execution_count": 66,
     "metadata": {},
     "output_type": "execute_result"
    }
   ],
   "source": [
    "dil['aveR'][800]"
   ]
  },
  {
   "cell_type": "code",
   "execution_count": 68,
   "id": "3ccc9f67-575e-450f-8f05-162476e8f27b",
   "metadata": {},
   "outputs": [
    {
     "data": {
      "text/plain": [
       "dict_keys(['Time', 'aveR', 'dilution', 'metallicity'])"
      ]
     },
     "execution_count": 68,
     "metadata": {},
     "output_type": "execute_result"
    }
   ],
   "source": [
    "dil.keys()"
   ]
  },
  {
   "cell_type": "code",
   "execution_count": null,
   "id": "e53318e4-5f00-4203-b2d6-39f73960bcd6",
   "metadata": {},
   "outputs": [],
   "source": []
  }
 ],
 "metadata": {
  "kernelspec": {
   "display_name": "Python 3",
   "language": "python",
   "name": "python3"
  },
  "language_info": {
   "codemirror_mode": {
    "name": "ipython",
    "version": 3
   },
   "file_extension": ".py",
   "mimetype": "text/x-python",
   "name": "python",
   "nbconvert_exporter": "python",
   "pygments_lexer": "ipython3",
   "version": "3.8.8"
  }
 },
 "nbformat": 4,
 "nbformat_minor": 5
}
