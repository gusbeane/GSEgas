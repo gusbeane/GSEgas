{
 "cells": [
  {
   "cell_type": "code",
   "execution_count": 1,
   "id": "5eb02767-7622-4f92-aecd-d8361bfc437a",
   "metadata": {},
   "outputs": [],
   "source": [
    "import numpy as np\n",
    "import arepo\n",
    "import matplotlib.pyplot as plt\n",
    "from scipy.signal import savgol_filter\n",
    "from tqdm import tqdm\n",
    "import matplotlib as mpl\n",
    "from scipy.stats import binned_statistic_2d\n",
    "from numba import njit\n",
    "import h5py as h5\n",
    "import os"
   ]
  },
  {
   "cell_type": "code",
   "execution_count": 5,
   "id": "ed2454e4-23d1-4321-aa97-bc79a7ea3d2c",
   "metadata": {},
   "outputs": [],
   "source": [
    "basepath = '/n/holylfs05/LABS/hernquist_lab/Users/abeane/GSEgas/'"
   ]
  },
  {
   "cell_type": "code",
   "execution_count": 24,
   "id": "4e410c90-6c2d-4864-b2a0-b6034ac64920",
   "metadata": {},
   "outputs": [],
   "source": [
    "def get_rough_metallicity(MW_mass, MW_metal_frac, GSE_mass, GSE_metal_frac):\n",
    "    MW_metal = MW_mass * MW_metal_frac\n",
    "    GSE_metal = GSE_mass * GSE_metal_frac\n",
    "    \n",
    "    return (MW_metal + GSE_metal) / (MW_mass + GSE_mass)"
   ]
  },
  {
   "cell_type": "code",
   "execution_count": 58,
   "id": "310c32e5-0207-4a82-a046-938295959ef3",
   "metadata": {},
   "outputs": [],
   "source": [
    "def get_dilution_profile(snap, name):\n",
    "\n",
    "    fname = basepath + 'anlys/MC/'+name+'/MC_Prop_'+str(snap).zfill(3)+'.h5'\n",
    "    f = h5.File(fname, mode='r')\n",
    "\n",
    "    pos = f['PartType5/RotatedCoordinates'][:]\n",
    "    ptype = f['PartType5/PartType'][:]\n",
    "    mass = f['PartType5/Masses'][:]\n",
    "    memb = f['PartType5/Membership'][:]\n",
    "    R = np.linalg.norm(pos[:,:2], axis=1)\n",
    "    z = pos[:,2]\n",
    "\n",
    "    Rmin = 0.\n",
    "    dR = 0.5\n",
    "\n",
    "    metallicity = []\n",
    "    dilution = []\n",
    "    aveR = []\n",
    "\n",
    "    while Rmin < 15:\n",
    "        in_annulus = np.logical_and(R > Rmin, R < Rmin+dR)\n",
    "        in_annulus = np.logical_and(in_annulus, np.abs(z) < 3)\n",
    "        gas_in_annulus = np.logical_and(ptype==0, in_annulus)\n",
    "    \n",
    "        memb0_key = np.logical_and(gas_in_annulus, memb==0)\n",
    "        memb1_key = np.logical_and(gas_in_annulus, memb==1)\n",
    "        memb2_key = np.logical_and(gas_in_annulus, memb==2)\n",
    "        memb3_key = np.logical_and(gas_in_annulus, memb==3)\n",
    "    \n",
    "        mass0 = np.sum(mass[memb0_key])\n",
    "        mass1 = np.sum(mass[memb1_key])\n",
    "        mass2 = np.sum(mass[memb2_key])\n",
    "        mass3 = np.sum(mass[memb3_key])\n",
    "    \n",
    "        metal_annulus = get_rough_metallicity((0.3/0.7)*(mass0 + mass1), 10.**(-0.3)*0.0127, mass2+mass3, 10.**(-1.2)*0.0127)\n",
    "    \n",
    "        metallicity.append(metal_annulus)\n",
    "        dilution.append((mass2+mass3) / (mass0 + mass1 + mass2+mass3))\n",
    "        aveR.append(np.mean(R[gas_in_annulus]))\n",
    "\n",
    "        # print(np.mean(R[gas_in_annulus]), mass0 + mass1, mass2)\n",
    "        \n",
    "        Rmin += dR\n",
    "    \n",
    "    metallicity = np.array(metallicity)\n",
    "    dilution = np.array(dilution)\n",
    "    aveR = np.array(aveR)\n",
    "    time = f['Header'].attrs['Time']\n",
    "\n",
    "    f.close()\n",
    "    \n",
    "    return time, aveR, dilution, metallicity"
   ]
  },
  {
   "cell_type": "code",
   "execution_count": 59,
   "id": "3e2862c7-0ce9-4471-876d-33dd9f474e76",
   "metadata": {},
   "outputs": [],
   "source": [
    "time, aveR, dilution, metallicity = get_dilution_profile(800, 'MW3_MHG0.25_GSE2_MHG0.18_Rcut10-lvl4')"
   ]
  },
  {
   "cell_type": "code",
   "execution_count": 60,
   "id": "b126d262-05bb-4fad-9591-b4c53adb4b4b",
   "metadata": {},
   "outputs": [
    {
     "data": {
      "text/plain": [
       "(0.0, 0.2)"
      ]
     },
     "execution_count": 60,
     "metadata": {},
     "output_type": "execute_result"
    },
    {
     "data": {
      "image/png": "[encoded data removed]",
      "text/plain": [
       "<Figure size 432x288 with 1 Axes>"
      ]
     },
     "metadata": {
      "needs_background": "light"
     },
     "output_type": "display_data"
    }
   ],
   "source": [
    "plt.plot(aveR, dilution)\n",
    "plt.ylim(0, 0.2)"
   ]
  },
  {
   "cell_type": "code",
   "execution_count": 61,
   "id": "06adbace-37c6-4cc7-8aca-9e6e7d7c7eba",
   "metadata": {},
   "outputs": [
    {
     "data": {
      "text/plain": [
       "(-0.8, -0.25)"
      ]
     },
     "execution_count": 61,
     "metadata": {},
     "output_type": "execute_result"
    },
    {
     "data": {
      "image/png": "[encoded data removed]",
      "text/plain": [
       "<Figure size 432x288 with 1 Axes>"
      ]
     },
     "metadata": {
      "needs_background": "light"
     },
     "output_type": "display_data"
    }
   ],
   "source": [
    "plt.plot(aveR, np.log10(metallicity/0.0127))\n",
    "plt.axhline(-0.3)\n",
    "plt.axhline(-0.6, ls='dashed')\n",
    "plt.ylim(-0.8, -0.25)"
   ]
  },
  {
   "cell_type": "code",
   "execution_count": 62,
   "id": "ee24b6b6-f934-414a-8f5d-5315a8c70a74",
   "metadata": {},
   "outputs": [],
   "source": [
    "dil = np.load(basepath+'anlys/dilution/dil_MW3_MHG0.25_GSE2_MHG0.18_Rcut10-lvl4.npy', allow_pickle=True).item()"
   ]
  },
  {
   "cell_type": "code",
   "execution_count": 66,
   "id": "ec5be642-d6cb-43bb-8de8-9f2cab5b077a",
   "metadata": {},
   "outputs": [
    {
     "data": {
      "text/plain": [
       "array([ 0.19182924,  0.75027614,  1.28600756,  1.73036373,  2.27459404,\n",
       "        2.71759567,  3.25334874,  3.76095904,  4.24281398,  4.74631437,\n",
       "        5.26427603,  5.71947392,  6.24460961,  6.76019901,  7.24474623,\n",
       "        7.75443382,  8.24736953,  8.74435643,  9.23286696,  9.75192416,\n",
       "       10.25773423, 10.73739106, 11.26231659, 11.74866767, 12.2440286 ,\n",
       "       12.75030551, 13.25381647, 13.75090618, 14.26326074, 14.7489677 ])"
      ]
     },
     "execution_count": 66,
     "metadata": {},
     "output_type": "execute_result"
    }
   ],
   "source": [
    "dil['aveR'][800]"
   ]
  },
  {
   "cell_type": "code",
   "execution_count": 68,
   "id": "3ccc9f67-575e-450f-8f05-162476e8f27b",
   "metadata": {},
   "outputs": [
    {
     "data": {
      "text/plain": [
       "dict_keys(['Time', 'aveR', 'dilution', 'metallicity'])"
      ]
     },
     "execution_count": 68,
     "metadata": {},
     "output_type": "execute_result"
    }
   ],
   "source": [
    "dil.keys()"
   ]
  },
  {
   "cell_type": "markdown",
   "id": "ef0ed743-0867-4c3c-aa98-749c56ce01ac",
   "metadata": {},
   "source": [
    "# What if gas is not all mixed?"
   ]
  },
  {
   "cell_type": "code",
   "execution_count": 69,
   "id": "5e47689c-c7ab-4a2d-937a-6eed19e938b3",
   "metadata": {},
   "outputs": [],
   "source": [
    "name = 'MW3_MHG0.25_GSE2_MHG0.18_Rcut10-lvl4'\n",
    "snap = 1000\n",
    "fname = basepath + 'anlys/MC/'+name+'/MC_Prop_'+str(snap).zfill(3)+'.h5'\n",
    "f = h5.File(fname, mode='r')"
   ]
  },
  {
   "cell_type": "code",
   "execution_count": 70,
   "id": "a686490b-c001-4e3c-9cf9-8a490e564aeb",
   "metadata": {},
   "outputs": [
    {
     "data": {
      "text/plain": [
       "<KeysViewHDF5 ['Coordinates', 'GFM_Metallicity', 'Masses', 'Membership', 'PartType', 'RotatedCoordinates', 'RotatedVelocities', 'TracerID', 'Velocities']>"
      ]
     },
     "execution_count": 70,
     "metadata": {},
     "output_type": "execute_result"
    }
   ],
   "source": [
    "f['PartType5'].keys()"
   ]
  },
  {
   "cell_type": "code",
   "execution_count": 86,
   "id": "d2df06bf-9ce3-4482-821c-aca370328ac1",
   "metadata": {},
   "outputs": [],
   "source": [
    "pos = f['PartType5']['RotatedCoordinates'][:]\n",
    "R = np.linalg.norm(pos[:,:2], axis=1)\n",
    "z = pos[:,2]\n",
    "memb = f['PartType5']['Membership'][:]"
   ]
  },
  {
   "cell_type": "code",
   "execution_count": 130,
   "id": "ecf081f5-0eb8-43a7-8379-a27be752b30f",
   "metadata": {},
   "outputs": [],
   "source": [
    "zsort = np.sort(z)\n",
    "zuniq = np.unique(zsort)\n",
    "num_memb = np.zeros((len(zuniq), 4), dtype=int)\n",
    "memb_sort = memb[np.argsort(z)]\n",
    "\n",
    "i=j=0\n",
    "while i < len(z):\n",
    "    if zsort[i] == zuniq[j]:\n",
    "        num_memb[j][memb_sort[i]] += 1\n",
    "        i += 1\n",
    "    else:\n",
    "        j += 1\n",
    "        "
   ]
  },
  {
   "cell_type": "code",
   "execution_count": 135,
   "id": "33ac7a86-afbe-494b-aab2-07eac3ed391b",
   "metadata": {},
   "outputs": [
    {
     "name": "stdout",
     "output_type": "stream",
     "text": [
      "0.009703658966454797\n"
     ]
    },
    {
     "data": {
      "image/png": "[encoded data removed]",
      "text/plain": [
       "<Figure size 432x288 with 1 Axes>"
      ]
     },
     "metadata": {
      "needs_background": "light"
     },
     "output_type": "display_data"
    }
   ],
   "source": [
    "num_MW = num_memb[:,0] + num_memb[:,1]\n",
    "num_GSE = num_memb[:,2] + num_memb[:,3]\n",
    "Rsort = R[np.argsort(z)]\n",
    "Runiq = np.unique(Rsort)\n",
    "in_disk = np.logical_and(Runiq < 15, np.abs(zuniq) < 3)\n",
    "\n",
    "plt.hist(num_GSE[in_disk]/(num_GSE[in_disk]+num_MW[in_disk]), bins=np.linspace(0, 1, 100));\n",
    "print(len(np.where(num_MW[in_disk] == 0)[0])/len(np.where(in_disk)[0]))"
   ]
  },
  {
   "cell_type": "code",
   "execution_count": 99,
   "id": "91a75a21-1ecf-45b6-b8d1-d8e2a2fb7a27",
   "metadata": {},
   "outputs": [
    {
     "data": {
      "text/plain": [
       "array([0., 1.])"
      ]
     },
     "execution_count": 99,
     "metadata": {},
     "output_type": "execute_result"
    }
   ],
   "source": [
    "np.unique(num_GSE/(num_GSE+num_MW))"
   ]
  },
  {
   "cell_type": "code",
   "execution_count": 103,
   "id": "4ee647c4-3be8-459b-9df9-491f412c2707",
   "metadata": {},
   "outputs": [
    {
     "data": {
      "text/plain": [
       "(array([   0., 1177., 2938., 4880., 5068., 3831., 2196., 1099.,  430.,\n",
       "         209.]),\n",
       " array([ 0.,  1.,  2.,  3.,  4.,  5.,  6.,  7.,  8.,  9., 10.]),\n",
       " <BarContainer object of 10 artists>)"
      ]
     },
     "execution_count": 103,
     "metadata": {},
     "output_type": "execute_result"
    },
    {
     "data": {
      "image/png": "[encoded data removed]",
      "text/plain": [
       "<Figure size 432x288 with 1 Axes>"
      ]
     },
     "metadata": {
      "needs_background": "light"
     },
     "output_type": "display_data"
    }
   ],
   "source": [
    "plt.hist(num_GSE[num_GSE>0], bins=np.linspace(0, 10, 11))"
   ]
  },
  {
   "cell_type": "code",
   "execution_count": 113,
   "id": "2bba263d-7ce2-4d39-9846-3f7ee989c0d8",
   "metadata": {},
   "outputs": [
    {
     "name": "stdout",
     "output_type": "stream",
     "text": [
      "937549 937549 937549\n"
     ]
    },
    {
     "data": {
      "text/plain": [
       "array([0, 0, 0, ..., 0, 0, 0])"
      ]
     },
     "execution_count": 113,
     "metadata": {},
     "output_type": "execute_result"
    }
   ],
   "source": [
    "Rsort = R[np.argsort(z)]\n",
    "Runiq = np.unique(Rsort)\n",
    "print(len(Runiq), len(zuniq), len(num_GSE))\n",
    "in_disk = np.logical_and(Runiq < 15, np.abs(zuniq) < 3)\n",
    "\n",
    "num_GSE[in_disk][:10000]"
   ]
  },
  {
   "cell_type": "code",
   "execution_count": 115,
   "id": "46cbbcab-2f27-4146-9063-85f92af0722f",
   "metadata": {},
   "outputs": [
    {
     "data": {
      "text/plain": [
       "array([306.7658567 , 306.76851203, 306.76962372, ..., 543.06902182,\n",
       "       544.98084927, 552.22067253])"
      ]
     },
     "execution_count": 115,
     "metadata": {},
     "output_type": "execute_result"
    }
   ],
   "source": [
    "Runiq[np.where(num_GSE>0)]"
   ]
  },
  {
   "cell_type": "code",
   "execution_count": 128,
   "id": "6655cbed-e5c8-42b4-be73-902cc51abf16",
   "metadata": {},
   "outputs": [
    {
     "data": {
      "image/png": "[encoded data removed]",
      "text/plain": [
       "<Figure size 432x288 with 1 Axes>"
      ]
     },
     "metadata": {
      "needs_background": "light"
     },
     "output_type": "display_data"
    }
   ],
   "source": [
    "plt.hist(Runiq[num_GSE>0], bins=np.linspace(0, 600, 100));"
   ]
  },
  {
   "cell_type": "code",
   "execution_count": 129,
   "id": "8b9ad26e-6995-45cc-a43c-6c15bfd665c9",
   "metadata": {},
   "outputs": [
    {
     "data": {
      "image/png": "[encoded data removed]",
      "text/plain": [
       "<Figure size 432x288 with 1 Axes>"
      ]
     },
     "metadata": {
      "needs_background": "light"
     },
     "output_type": "display_data"
    }
   ],
   "source": [
    "pos = f['PartType5/RotatedCoordinates'][:]\n",
    "R = np.linalg.norm(pos[:,:2], axis=1)\n",
    "memb = f['PartType5/Membership'][:]\n",
    "plt.hist(R[memb==2]);"
   ]
  },
  {
   "cell_type": "code",
   "execution_count": null,
   "id": "d12d48b7-476d-47fd-b762-a3f684ba236d",
   "metadata": {},
   "outputs": [],
   "source": []
  }
 ],
 "metadata": {
  "kernelspec": {
   "display_name": "Python 3",
   "language": "python",
   "name": "python3"
  },
  "language_info": {
   "codemirror_mode": {
    "name": "ipython",
    "version": 3
   },
   "file_extension": ".py",
   "mimetype": "text/x-python",
   "name": "python",
   "nbconvert_exporter": "python",
   "pygments_lexer": "ipython3",
   "version": "3.8.8"
  }
 },
 "nbformat": 4,
 "nbformat_minor": 5
}
